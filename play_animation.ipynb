{
 "cells": [
  {
   "attachments": {},
   "cell_type": "markdown",
   "metadata": {},
   "source": [
    "## Play Animation V1\n",
    "\n",
    "This is a file that allows us to see the animated play results from our joined data\n",
    "\n",
    "The code in this file is from:\n",
    "https://www.kaggle.com/code/huntingdata11/animated-and-interactive-nfl-plays-in-plotly\n",
    "\n",
    "It has been repurposed to fit the 2024 Big Data Bowl data"
   ]
  },
  {
   "cell_type": "code",
   "execution_count": 12,
   "metadata": {},
   "outputs": [],
   "source": [
    "import pandas as pd\n",
    "import numpy as np\n",
    "\n",
    "# Read In csvs\n",
    "games = pd.read_csv(\"nfl-big-data-bowl-2024/games.csv\")\n",
    "plays = pd.read_csv(\"nfl-big-data-bowl-2024/plays.csv\")\n",
    "players = pd.read_csv(\"nfl-big-data-bowl-2024/players.csv\")\n",
    "week1 = pd.read_csv(\"nfl-big-data-bowl-2024/tracking_week_1.csv\")\n",
    "#pffScoutingData = pd.read_csv(\"pffScoutingData.csv\")\n",
    "joined_all = pd.merge(games,plays,how=\"inner\",on = \"gameId\")\n",
    "joined_all = pd.merge(joined_all,week1,how=\"inner\",on=[\"gameId\",\"playId\"])\n",
    "# left join on players to keep football records\n",
    "joined_all = pd.merge(joined_all,players,how=\"left\",on = \"nflId\")\n",
    "play_focus = 2184\n",
    "focused_df = joined_all[(joined_all.playId==play_focus)]"
   ]
  },
  {
   "cell_type": "code",
   "execution_count": 76,
   "metadata": {},
   "outputs": [
    {
     "data": {
      "text/plain": [
       "playId\n",
       "2648    1863\n",
       "2839    1840\n",
       "1385    1748\n",
       "3576    1702\n",
       "2072    1679\n",
       "        ... \n",
       "1563     299\n",
       "364      276\n",
       "569      276\n",
       "2232     253\n",
       "2979     253\n",
       "Length: 91, dtype: int64"
      ]
     },
     "execution_count": 76,
     "metadata": {},
     "output_type": "execute_result"
    }
   ],
   "source": [
    "joined_all.query('gameId == 2022090800').value_counts(\"playId\")"
   ]
  },
  {
   "cell_type": "code",
   "execution_count": 35,
   "metadata": {},
   "outputs": [
    {
     "data": {
      "application/vnd.plotly.v1+json": {
       "config": {
        "plotlyServerURL": "https://plot.ly"
       },
       "data": [
        {
         "marker": {
          "color": "#003594"
         },
         "mode": "markers",
         "name": "BUF",
         "type": "scatter",
         "x": [
          37.19,
          36.22,
          27.63,
          37.99,
          25.06,
          38.04,
          36.3,
          23.99,
          36.27,
          22.24,
          34.54
         ],
         "y": [
          22.05,
          24.66,
          11.16,
          20.56,
          40.04,
          22.96,
          29.73,
          19.08,
          26.02,
          43.9,
          27.65
         ]
        },
        {
         "marker": {
          "color": "#D50A0A"
         },
         "mode": "markers",
         "name": "LA",
         "type": "scatter",
         "x": [
          25.6,
          36.63,
          22.63,
          22.44,
          34.78,
          21.59,
          18.24,
          35.72,
          14.61,
          29.57,
          37.79
         ],
         "y": [
          18.48,
          22.03,
          8.9,
          38.88,
          24.69,
          14.97,
          42.8,
          25.58,
          28.48,
          30.91,
          19.87
         ]
        },
        {
         "marker": {
          "color": "#CBB67C"
         },
         "mode": "markers",
         "name": "football",
         "type": "scatter",
         "x": [
          28.0200004577637
         ],
         "y": [
          12.039999961853
         ]
        }
       ],
       "layout": {
        "template": {
         "data": {
          "bar": [
           {
            "error_x": {
             "color": "#2a3f5f"
            },
            "error_y": {
             "color": "#2a3f5f"
            },
            "marker": {
             "line": {
              "color": "#E5ECF6",
              "width": 0.5
             },
             "pattern": {
              "fillmode": "overlay",
              "size": 10,
              "solidity": 0.2
             }
            },
            "type": "bar"
           }
          ],
          "barpolar": [
           {
            "marker": {
             "line": {
              "color": "#E5ECF6",
              "width": 0.5
             },
             "pattern": {
              "fillmode": "overlay",
              "size": 10,
              "solidity": 0.2
             }
            },
            "type": "barpolar"
           }
          ],
          "carpet": [
           {
            "aaxis": {
             "endlinecolor": "#2a3f5f",
             "gridcolor": "white",
             "linecolor": "white",
             "minorgridcolor": "white",
             "startlinecolor": "#2a3f5f"
            },
            "baxis": {
             "endlinecolor": "#2a3f5f",
             "gridcolor": "white",
             "linecolor": "white",
             "minorgridcolor": "white",
             "startlinecolor": "#2a3f5f"
            },
            "type": "carpet"
           }
          ],
          "choropleth": [
           {
            "colorbar": {
             "outlinewidth": 0,
             "ticks": ""
            },
            "type": "choropleth"
           }
          ],
          "contour": [
           {
            "colorbar": {
             "outlinewidth": 0,
             "ticks": ""
            },
            "colorscale": [
             [
              0,
              "#0d0887"
             ],
             [
              0.1111111111111111,
              "#46039f"
             ],
             [
              0.2222222222222222,
              "#7201a8"
             ],
             [
              0.3333333333333333,
              "#9c179e"
             ],
             [
              0.4444444444444444,
              "#bd3786"
             ],
             [
              0.5555555555555556,
              "#d8576b"
             ],
             [
              0.6666666666666666,
              "#ed7953"
             ],
             [
              0.7777777777777778,
              "#fb9f3a"
             ],
             [
              0.8888888888888888,
              "#fdca26"
             ],
             [
              1,
              "#f0f921"
             ]
            ],
            "type": "contour"
           }
          ],
          "contourcarpet": [
           {
            "colorbar": {
             "outlinewidth": 0,
             "ticks": ""
            },
            "type": "contourcarpet"
           }
          ],
          "heatmap": [
           {
            "colorbar": {
             "outlinewidth": 0,
             "ticks": ""
            },
            "colorscale": [
             [
              0,
              "#0d0887"
             ],
             [
              0.1111111111111111,
              "#46039f"
             ],
             [
              0.2222222222222222,
              "#7201a8"
             ],
             [
              0.3333333333333333,
              "#9c179e"
             ],
             [
              0.4444444444444444,
              "#bd3786"
             ],
             [
              0.5555555555555556,
              "#d8576b"
             ],
             [
              0.6666666666666666,
              "#ed7953"
             ],
             [
              0.7777777777777778,
              "#fb9f3a"
             ],
             [
              0.8888888888888888,
              "#fdca26"
             ],
             [
              1,
              "#f0f921"
             ]
            ],
            "type": "heatmap"
           }
          ],
          "heatmapgl": [
           {
            "colorbar": {
             "outlinewidth": 0,
             "ticks": ""
            },
            "colorscale": [
             [
              0,
              "#0d0887"
             ],
             [
              0.1111111111111111,
              "#46039f"
             ],
             [
              0.2222222222222222,
              "#7201a8"
             ],
             [
              0.3333333333333333,
              "#9c179e"
             ],
             [
              0.4444444444444444,
              "#bd3786"
             ],
             [
              0.5555555555555556,
              "#d8576b"
             ],
             [
              0.6666666666666666,
              "#ed7953"
             ],
             [
              0.7777777777777778,
              "#fb9f3a"
             ],
             [
              0.8888888888888888,
              "#fdca26"
             ],
             [
              1,
              "#f0f921"
             ]
            ],
            "type": "heatmapgl"
           }
          ],
          "histogram": [
           {
            "marker": {
             "pattern": {
              "fillmode": "overlay",
              "size": 10,
              "solidity": 0.2
             }
            },
            "type": "histogram"
           }
          ],
          "histogram2d": [
           {
            "colorbar": {
             "outlinewidth": 0,
             "ticks": ""
            },
            "colorscale": [
             [
              0,
              "#0d0887"
             ],
             [
              0.1111111111111111,
              "#46039f"
             ],
             [
              0.2222222222222222,
              "#7201a8"
             ],
             [
              0.3333333333333333,
              "#9c179e"
             ],
             [
              0.4444444444444444,
              "#bd3786"
             ],
             [
              0.5555555555555556,
              "#d8576b"
             ],
             [
              0.6666666666666666,
              "#ed7953"
             ],
             [
              0.7777777777777778,
              "#fb9f3a"
             ],
             [
              0.8888888888888888,
              "#fdca26"
             ],
             [
              1,
              "#f0f921"
             ]
            ],
            "type": "histogram2d"
           }
          ],
          "histogram2dcontour": [
           {
            "colorbar": {
             "outlinewidth": 0,
             "ticks": ""
            },
            "colorscale": [
             [
              0,
              "#0d0887"
             ],
             [
              0.1111111111111111,
              "#46039f"
             ],
             [
              0.2222222222222222,
              "#7201a8"
             ],
             [
              0.3333333333333333,
              "#9c179e"
             ],
             [
              0.4444444444444444,
              "#bd3786"
             ],
             [
              0.5555555555555556,
              "#d8576b"
             ],
             [
              0.6666666666666666,
              "#ed7953"
             ],
             [
              0.7777777777777778,
              "#fb9f3a"
             ],
             [
              0.8888888888888888,
              "#fdca26"
             ],
             [
              1,
              "#f0f921"
             ]
            ],
            "type": "histogram2dcontour"
           }
          ],
          "mesh3d": [
           {
            "colorbar": {
             "outlinewidth": 0,
             "ticks": ""
            },
            "type": "mesh3d"
           }
          ],
          "parcoords": [
           {
            "line": {
             "colorbar": {
              "outlinewidth": 0,
              "ticks": ""
             }
            },
            "type": "parcoords"
           }
          ],
          "pie": [
           {
            "automargin": true,
            "type": "pie"
           }
          ],
          "scatter": [
           {
            "fillpattern": {
             "fillmode": "overlay",
             "size": 10,
             "solidity": 0.2
            },
            "type": "scatter"
           }
          ],
          "scatter3d": [
           {
            "line": {
             "colorbar": {
              "outlinewidth": 0,
              "ticks": ""
             }
            },
            "marker": {
             "colorbar": {
              "outlinewidth": 0,
              "ticks": ""
             }
            },
            "type": "scatter3d"
           }
          ],
          "scattercarpet": [
           {
            "marker": {
             "colorbar": {
              "outlinewidth": 0,
              "ticks": ""
             }
            },
            "type": "scattercarpet"
           }
          ],
          "scattergeo": [
           {
            "marker": {
             "colorbar": {
              "outlinewidth": 0,
              "ticks": ""
             }
            },
            "type": "scattergeo"
           }
          ],
          "scattergl": [
           {
            "marker": {
             "colorbar": {
              "outlinewidth": 0,
              "ticks": ""
             }
            },
            "type": "scattergl"
           }
          ],
          "scattermapbox": [
           {
            "marker": {
             "colorbar": {
              "outlinewidth": 0,
              "ticks": ""
             }
            },
            "type": "scattermapbox"
           }
          ],
          "scatterpolar": [
           {
            "marker": {
             "colorbar": {
              "outlinewidth": 0,
              "ticks": ""
             }
            },
            "type": "scatterpolar"
           }
          ],
          "scatterpolargl": [
           {
            "marker": {
             "colorbar": {
              "outlinewidth": 0,
              "ticks": ""
             }
            },
            "type": "scatterpolargl"
           }
          ],
          "scatterternary": [
           {
            "marker": {
             "colorbar": {
              "outlinewidth": 0,
              "ticks": ""
             }
            },
            "type": "scatterternary"
           }
          ],
          "surface": [
           {
            "colorbar": {
             "outlinewidth": 0,
             "ticks": ""
            },
            "colorscale": [
             [
              0,
              "#0d0887"
             ],
             [
              0.1111111111111111,
              "#46039f"
             ],
             [
              0.2222222222222222,
              "#7201a8"
             ],
             [
              0.3333333333333333,
              "#9c179e"
             ],
             [
              0.4444444444444444,
              "#bd3786"
             ],
             [
              0.5555555555555556,
              "#d8576b"
             ],
             [
              0.6666666666666666,
              "#ed7953"
             ],
             [
              0.7777777777777778,
              "#fb9f3a"
             ],
             [
              0.8888888888888888,
              "#fdca26"
             ],
             [
              1,
              "#f0f921"
             ]
            ],
            "type": "surface"
           }
          ],
          "table": [
           {
            "cells": {
             "fill": {
              "color": "#EBF0F8"
             },
             "line": {
              "color": "white"
             }
            },
            "header": {
             "fill": {
              "color": "#C8D4E3"
             },
             "line": {
              "color": "white"
             }
            },
            "type": "table"
           }
          ]
         },
         "layout": {
          "annotationdefaults": {
           "arrowcolor": "#2a3f5f",
           "arrowhead": 0,
           "arrowwidth": 1
          },
          "autotypenumbers": "strict",
          "coloraxis": {
           "colorbar": {
            "outlinewidth": 0,
            "ticks": ""
           }
          },
          "colorscale": {
           "diverging": [
            [
             0,
             "#8e0152"
            ],
            [
             0.1,
             "#c51b7d"
            ],
            [
             0.2,
             "#de77ae"
            ],
            [
             0.3,
             "#f1b6da"
            ],
            [
             0.4,
             "#fde0ef"
            ],
            [
             0.5,
             "#f7f7f7"
            ],
            [
             0.6,
             "#e6f5d0"
            ],
            [
             0.7,
             "#b8e186"
            ],
            [
             0.8,
             "#7fbc41"
            ],
            [
             0.9,
             "#4d9221"
            ],
            [
             1,
             "#276419"
            ]
           ],
           "sequential": [
            [
             0,
             "#0d0887"
            ],
            [
             0.1111111111111111,
             "#46039f"
            ],
            [
             0.2222222222222222,
             "#7201a8"
            ],
            [
             0.3333333333333333,
             "#9c179e"
            ],
            [
             0.4444444444444444,
             "#bd3786"
            ],
            [
             0.5555555555555556,
             "#d8576b"
            ],
            [
             0.6666666666666666,
             "#ed7953"
            ],
            [
             0.7777777777777778,
             "#fb9f3a"
            ],
            [
             0.8888888888888888,
             "#fdca26"
            ],
            [
             1,
             "#f0f921"
            ]
           ],
           "sequentialminus": [
            [
             0,
             "#0d0887"
            ],
            [
             0.1111111111111111,
             "#46039f"
            ],
            [
             0.2222222222222222,
             "#7201a8"
            ],
            [
             0.3333333333333333,
             "#9c179e"
            ],
            [
             0.4444444444444444,
             "#bd3786"
            ],
            [
             0.5555555555555556,
             "#d8576b"
            ],
            [
             0.6666666666666666,
             "#ed7953"
            ],
            [
             0.7777777777777778,
             "#fb9f3a"
            ],
            [
             0.8888888888888888,
             "#fdca26"
            ],
            [
             1,
             "#f0f921"
            ]
           ]
          },
          "colorway": [
           "#636efa",
           "#EF553B",
           "#00cc96",
           "#ab63fa",
           "#FFA15A",
           "#19d3f3",
           "#FF6692",
           "#B6E880",
           "#FF97FF",
           "#FECB52"
          ],
          "font": {
           "color": "#2a3f5f"
          },
          "geo": {
           "bgcolor": "white",
           "lakecolor": "white",
           "landcolor": "#E5ECF6",
           "showlakes": true,
           "showland": true,
           "subunitcolor": "white"
          },
          "hoverlabel": {
           "align": "left"
          },
          "hovermode": "closest",
          "mapbox": {
           "style": "light"
          },
          "paper_bgcolor": "white",
          "plot_bgcolor": "#E5ECF6",
          "polar": {
           "angularaxis": {
            "gridcolor": "white",
            "linecolor": "white",
            "ticks": ""
           },
           "bgcolor": "#E5ECF6",
           "radialaxis": {
            "gridcolor": "white",
            "linecolor": "white",
            "ticks": ""
           }
          },
          "scene": {
           "xaxis": {
            "backgroundcolor": "#E5ECF6",
            "gridcolor": "white",
            "gridwidth": 2,
            "linecolor": "white",
            "showbackground": true,
            "ticks": "",
            "zerolinecolor": "white"
           },
           "yaxis": {
            "backgroundcolor": "#E5ECF6",
            "gridcolor": "white",
            "gridwidth": 2,
            "linecolor": "white",
            "showbackground": true,
            "ticks": "",
            "zerolinecolor": "white"
           },
           "zaxis": {
            "backgroundcolor": "#E5ECF6",
            "gridcolor": "white",
            "gridwidth": 2,
            "linecolor": "white",
            "showbackground": true,
            "ticks": "",
            "zerolinecolor": "white"
           }
          },
          "shapedefaults": {
           "line": {
            "color": "#2a3f5f"
           }
          },
          "ternary": {
           "aaxis": {
            "gridcolor": "white",
            "linecolor": "white",
            "ticks": ""
           },
           "baxis": {
            "gridcolor": "white",
            "linecolor": "white",
            "ticks": ""
           },
           "bgcolor": "#E5ECF6",
           "caxis": {
            "gridcolor": "white",
            "linecolor": "white",
            "ticks": ""
           }
          },
          "title": {
           "x": 0.05
          },
          "xaxis": {
           "automargin": true,
           "gridcolor": "white",
           "linecolor": "white",
           "ticks": "",
           "title": {
            "standoff": 15
           },
           "zerolinecolor": "white",
           "zerolinewidth": 2
          },
          "yaxis": {
           "automargin": true,
           "gridcolor": "white",
           "linecolor": "white",
           "ticks": "",
           "title": {
            "standoff": 15
           },
           "zerolinecolor": "white",
           "zerolinewidth": 2
          }
         }
        },
        "xaxis": {
         "range": [
          0,
          120
         ]
        },
        "yaxis": {
         "range": [
          0,
          53.3
         ]
        }
       }
      }
     },
     "metadata": {},
     "output_type": "display_data"
    }
   ],
   "source": [
    "import plotly.graph_objects as go\n",
    "fig = go.Figure( layout_yaxis_range=[0,53.3], layout_xaxis_range=[0,120])\n",
    "\n",
    "colors = {\"LA\":'#D50A0A',\n",
    "          \"BUF\":'#003594',\n",
    "          \"football\":'#CBB67C'\n",
    "        }\n",
    "for team in focused_df.club.unique():\n",
    "    plot_df = focused_df[(focused_df.club==team)&(focused_df.frameId==1)]\n",
    "    fig.add_trace(go.Scatter(x=plot_df[\"x\"], y=plot_df[\"y\"],mode = 'markers',marker_color=colors[team],name=team))\n",
    "fig.show()"
   ]
  },
  {
   "cell_type": "code",
   "execution_count": 52,
   "metadata": {},
   "outputs": [],
   "source": [
    "def animate_play(tracking_df, play_df,players, gameId,playId):\n",
    "    selected_play_df = play_df[(play_df.playId==playId)&(play_df.gameId==gameId)].copy()\n",
    "    \n",
    "    tracking_players_df = pd.merge(tracking_df,players,how=\"left\",on = \"nflId\")\n",
    "    # tracking_players_df = pd.merge(tracking_players_df,pffScoutingData,how=\"left\",on = [\"nflId\",\"playId\",\"gameId\"])\n",
    "    selected_tracking_df = tracking_players_df[(tracking_players_df.playId==playId)&(tracking_players_df.gameId==gameId)].copy()\n",
    "\n",
    "    sorted_frame_list = selected_tracking_df.frameId.unique()\n",
    "    sorted_frame_list.sort()\n",
    "\n",
    "    # get play General information \n",
    "    line_of_scrimmage = selected_play_df.absoluteYardlineNumber.values[0]\n",
    "    first_down_marker = line_of_scrimmage - selected_play_df.yardsToGo.values[0]\n",
    "    down = selected_play_df.down.values[0]\n",
    "    quarter = selected_play_df.quarter.values[0]\n",
    "    gameClock = selected_play_df.gameClock.values[0]\n",
    "    playDescription = selected_play_df.playDescription.values[0]\n",
    "    # Handle case where we have a really long Play Description and want to split it into two lines\n",
    "    if len(playDescription.split(\" \"))>15 and len(playDescription)>115:\n",
    "        playDescription = \" \".join(playDescription.split(\" \")[0:16]) + \"<br>\" + \" \".join(playDescription.split(\" \")[16:])\n",
    "\n",
    "    # initialize plotly start and stop buttons for animation\n",
    "    updatemenus_dict = [\n",
    "        {\n",
    "            \"buttons\": [\n",
    "                {\n",
    "                    \"args\": [None, {\"frame\": {\"duration\": 100, \"redraw\": False},\n",
    "                                \"fromcurrent\": True, \"transition\": {\"duration\": 0}}],\n",
    "                    \"label\": \"Play\",\n",
    "                    \"method\": \"animate\"\n",
    "                },\n",
    "                {\n",
    "                    \"args\": [[None], {\"frame\": {\"duration\": 0, \"redraw\": False},\n",
    "                                      \"mode\": \"immediate\",\n",
    "                                      \"transition\": {\"duration\": 0}}],\n",
    "                    \"label\": \"Pause\",\n",
    "                    \"method\": \"animate\"\n",
    "                }\n",
    "            ],\n",
    "            \"direction\": \"left\",\n",
    "            \"pad\": {\"r\": 10, \"t\": 87},\n",
    "            \"showactive\": False,\n",
    "            \"type\": \"buttons\",\n",
    "            \"x\": 0.1,\n",
    "            \"xanchor\": \"right\",\n",
    "            \"y\": 0,\n",
    "            \"yanchor\": \"top\"\n",
    "        }\n",
    "    ]\n",
    "    # initialize plotly slider to show frame position in animation\n",
    "    sliders_dict = {\n",
    "        \"active\": 0,\n",
    "        \"yanchor\": \"top\",\n",
    "        \"xanchor\": \"left\",\n",
    "        \"currentvalue\": {\n",
    "            \"font\": {\"size\": 20},\n",
    "            \"prefix\": \"Frame:\",\n",
    "            \"visible\": True,\n",
    "            \"xanchor\": \"right\"\n",
    "        },\n",
    "        \"transition\": {\"duration\": 300, \"easing\": \"cubic-in-out\"},\n",
    "        \"pad\": {\"b\": 10, \"t\": 50},\n",
    "        \"len\": 0.9,\n",
    "        \"x\": 0.1,\n",
    "        \"y\": 0,\n",
    "        \"steps\": []\n",
    "    }\n",
    "\n",
    "\n",
    "    frames = []\n",
    "    for frameId in sorted_frame_list:\n",
    "        data = []\n",
    "        # Add Numbers to Field \n",
    "        data.append(\n",
    "            go.Scatter(\n",
    "                x=np.arange(20,110,10), \n",
    "                y=[5]*len(np.arange(20,110,10)),\n",
    "                mode='text',\n",
    "                text=list(map(str,list(np.arange(20, 61, 10)-10)+list(np.arange(40, 9, -10)))),\n",
    "                textfont_size = 30,\n",
    "                textfont_family = \"Courier New, monospace\",\n",
    "                textfont_color = \"#ffffff\",\n",
    "                showlegend=False,\n",
    "                hoverinfo='none'\n",
    "            )\n",
    "        )\n",
    "        data.append(\n",
    "            go.Scatter(\n",
    "                x=np.arange(20,110,10), \n",
    "                y=[53.5-5]*len(np.arange(20,110,10)),\n",
    "                mode='text',\n",
    "                text=list(map(str,list(np.arange(20, 61, 10)-10)+list(np.arange(40, 9, -10)))),\n",
    "                textfont_size = 30,\n",
    "                textfont_family = \"Courier New, monospace\",\n",
    "                textfont_color = \"#ffffff\",\n",
    "                showlegend=False,\n",
    "                hoverinfo='none'\n",
    "            )\n",
    "        )\n",
    "        # Add line of scrimage \n",
    "        data.append(\n",
    "            go.Scatter(\n",
    "                x=[line_of_scrimmage,line_of_scrimmage], \n",
    "                y=[0,53.5],\n",
    "                line_dash='dash',\n",
    "                line_color='blue',\n",
    "                showlegend=False,\n",
    "                hoverinfo='none'\n",
    "            )\n",
    "        )\n",
    "        # Add First down line \n",
    "        data.append(\n",
    "            go.Scatter(\n",
    "                x=[first_down_marker,first_down_marker], \n",
    "                y=[0,53.5],\n",
    "                line_dash='dash',\n",
    "                line_color='yellow',\n",
    "                showlegend=False,\n",
    "                hoverinfo='none'\n",
    "            )\n",
    "        )\n",
    "        # Plot Players\n",
    "        for team in selected_tracking_df.club.unique():\n",
    "            plot_df = selected_tracking_df[(selected_tracking_df.club==team)&(selected_tracking_df.frameId==frameId)].copy()\n",
    "            if team != \"football\":\n",
    "                hover_text_array=[]\n",
    "                for nflId in plot_df.nflId:\n",
    "                    selected_player_df = plot_df[plot_df.nflId==nflId]\n",
    "                    hover_text_array.append(\"nflId:{}<br>displayName:{}\".format(selected_player_df[\"nflId\"].values[0],\n",
    "                                                                                      selected_player_df[\"displayName_x\"].values[0])) #,\n",
    "                                                                                    #   selected_player_df[\"pff_positionLinedUp\"].values[0],\n",
    "                                                                                    #   selected_player_df[\"pff_role\"].values[0]))\n",
    "                data.append(go.Scatter(x=plot_df[\"x\"], y=plot_df[\"y\"],mode = 'markers',marker_color=colors[team],name=team,hovertext=hover_text_array,hoverinfo=\"text\"))\n",
    "            else:\n",
    "                data.append(go.Scatter(x=plot_df[\"x\"], y=plot_df[\"y\"],mode = 'markers',marker_color=colors[team],name=team,hoverinfo='none'))\n",
    "        # add frame to slider\n",
    "        slider_step = {\"args\": [\n",
    "            [frameId],\n",
    "            {\"frame\": {\"duration\": 100, \"redraw\": False},\n",
    "             \"mode\": \"immediate\",\n",
    "             \"transition\": {\"duration\": 0}}\n",
    "        ],\n",
    "            \"label\": str(frameId),\n",
    "            \"method\": \"animate\"}\n",
    "        sliders_dict[\"steps\"].append(slider_step)\n",
    "        frames.append(go.Frame(data=data, name=str(frameId)))\n",
    "\n",
    "    scale=10\n",
    "    layout = go.Layout(\n",
    "        autosize=False,\n",
    "        width=120*scale,\n",
    "        height=60*scale,\n",
    "        xaxis=dict(range=[0, 120], autorange=False, tickmode='array',tickvals=np.arange(10, 111, 5).tolist(),showticklabels=False),\n",
    "        yaxis=dict(range=[0, 53.3], autorange=False,showgrid=False,showticklabels=False),\n",
    "\n",
    "        plot_bgcolor='#00B140',\n",
    "        # Create title and add play description at the bottom of the chart for better visual appeal\n",
    "        title=f\"GameId: {gameId}, PlayId: {playId}<br>{gameClock} {quarter}Q\"+\"<br>\"*19+f\"{playDescription}\",\n",
    "        updatemenus=updatemenus_dict,\n",
    "        sliders = [sliders_dict]\n",
    "    )\n",
    "\n",
    "    fig = go.Figure(\n",
    "        data=frames[0][\"data\"],\n",
    "        layout= layout,\n",
    "        frames=frames[1:]\n",
    "    )\n",
    "    # Create First Down Markers \n",
    "    for y_val in [0,53]:\n",
    "        fig.add_annotation(\n",
    "                x=first_down_marker,\n",
    "                y=y_val,\n",
    "                text=str(down),\n",
    "                showarrow=False,\n",
    "                font=dict(\n",
    "                    family=\"Courier New, monospace\",\n",
    "                    size=16,\n",
    "                    color=\"black\"\n",
    "                    ),\n",
    "                align=\"center\",\n",
    "                bordercolor=\"black\",\n",
    "                borderwidth=2,\n",
    "                borderpad=4,\n",
    "                bgcolor=\"#ff7f0e\",\n",
    "                opacity=1\n",
    "                )\n",
    "\n",
    "    return fig"
   ]
  },
  {
   "cell_type": "code",
   "execution_count": 79,
   "metadata": {},
   "outputs": [
    {
     "data": {
      "application/vnd.plotly.v1+json": {
       "config": {
        "plotlyServerURL": "https://plot.ly"
       },
       "data": [
        {
         "hoverinfo": "none",
         "mode": "text",
         "showlegend": false,
         "text": [
          "10",
          "20",
          "30",
          "40",
          "50",
          "40",
          "30",
          "20",
          "10"
         ],
         "textfont": {
          "color": "#ffffff",
          "family": "Courier New, monospace",
          "size": 30
         },
         "type": "scatter",
         "x": [
          20,
          30,
          40,
          50,
          60,
          70,
          80,
          90,
          100
         ],
         "y": [
          5,
          5,
          5,
          5,
          5,
          5,
          5,
          5,
          5
         ]
        },
        {
         "hoverinfo": "none",
         "mode": "text",
         "showlegend": false,
         "text": [
          "10",
          "20",
          "30",
          "40",
          "50",
          "40",
          "30",
          "20",
          "10"
         ],
         "textfont": {
          "color": "#ffffff",
          "family": "Courier New, monospace",
          "size": 30
         },
         "type": "scatter",
         "x": [
          20,
          30,
          40,
          50,
          60,
          70,
          80,
          90,
          100
         ],
         "y": [
          48.5,
          48.5,
          48.5,
          48.5,
          48.5,
          48.5,
          48.5,
          48.5,
          48.5
         ]
        },
        {
         "hoverinfo": "none",
         "line": {
          "color": "blue",
          "dash": "dash"
         },
         "showlegend": false,
         "type": "scatter",
         "x": [
          35,
          35
         ],
         "y": [
          0,
          53.5
         ]
        },
        {
         "hoverinfo": "none",
         "line": {
          "color": "yellow",
          "dash": "dash"
         },
         "showlegend": false,
         "type": "scatter",
         "x": [
          25,
          25
         ],
         "y": [
          0,
          53.5
         ]
        },
        {
         "hoverinfo": "text",
         "hovertext": [
          "nflId:34452.0<br>displayName:Matthew Stafford",
          "nflId:41290.0<br>displayName:Allen Robinson",
          "nflId:42400.0<br>displayName:Rob Havenstein",
          "nflId:43399.0<br>displayName:Tyler Higbee",
          "nflId:44881.0<br>displayName:Cooper Kupp",
          "nflId:46158.0<br>displayName:Joseph Noteboom",
          "nflId:46180.0<br>displayName:Brian Allen",
          "nflId:46376.0<br>displayName:Coleman Shelton",
          "nflId:47853.0<br>displayName:Darrell Henderson",
          "nflId:47952.0<br>displayName:David Edwards",
          "nflId:53678.0<br>displayName:Ben Skowronek"
         ],
         "marker": {
          "color": "#D50A0A"
         },
         "mode": "markers",
         "name": "LA",
         "type": "scatter",
         "x": [
          36.63,
          35.58,
          36.25,
          36.02,
          36.63,
          36.08,
          35.57,
          36.22,
          42.41,
          36.02,
          36.78
         ],
         "y": [
          29.51,
          36.97,
          32.39,
          25.26,
          34.41,
          26.48,
          29.8,
          30.97,
          29.51,
          27.95,
          19.9
         ]
        },
        {
         "hoverinfo": "text",
         "hovertext": [
          "nflId:37075.0<br>displayName:Von Miller",
          "nflId:40107.0<br>displayName:Micah Hyde",
          "nflId:40166.0<br>displayName:Jordan Poyer",
          "nflId:41341.0<br>displayName:DaQuan Jones",
          "nflId:44976.0<br>displayName:Matt Milano",
          "nflId:46085.0<br>displayName:Tremaine Edmunds",
          "nflId:46190.0<br>displayName:Taron Johnson",
          "nflId:46232.0<br>displayName:Tim Settle",
          "nflId:52647.0<br>displayName:Dane Jackson",
          "nflId:53459.0<br>displayName:Gregory Rousseau",
          "nflId:54488.0<br>displayName:Kaiir Elam"
         ],
         "marker": {
          "color": "#003594"
         },
         "mode": "markers",
         "name": "BUF",
         "type": "scatter",
         "x": [
          34.36,
          22.26,
          22.43,
          34.51,
          29.98,
          29.73,
          31.68,
          34.5,
          34.15,
          34.42,
          34.88
         ],
         "y": [
          34.03,
          35,
          22.78,
          27.16,
          26.17,
          30.17,
          34.39,
          30.57,
          37.36,
          25.1,
          19.62
         ]
        },
        {
         "hoverinfo": "none",
         "marker": {
          "color": "#CBB67C"
         },
         "mode": "markers",
         "name": "football",
         "type": "scatter",
         "x": [
          34.9900016784668
         ],
         "y": [
          29.7299995422363
         ]
        }
       ],
       "frames": [
        {
         "data": [
          {
           "hoverinfo": "none",
           "mode": "text",
           "showlegend": false,
           "text": [
            "10",
            "20",
            "30",
            "40",
            "50",
            "40",
            "30",
            "20",
            "10"
           ],
           "textfont": {
            "color": "#ffffff",
            "family": "Courier New, monospace",
            "size": 30
           },
           "type": "scatter",
           "x": [
            20,
            30,
            40,
            50,
            60,
            70,
            80,
            90,
            100
           ],
           "y": [
            5,
            5,
            5,
            5,
            5,
            5,
            5,
            5,
            5
           ]
          },
          {
           "hoverinfo": "none",
           "mode": "text",
           "showlegend": false,
           "text": [
            "10",
            "20",
            "30",
            "40",
            "50",
            "40",
            "30",
            "20",
            "10"
           ],
           "textfont": {
            "color": "#ffffff",
            "family": "Courier New, monospace",
            "size": 30
           },
           "type": "scatter",
           "x": [
            20,
            30,
            40,
            50,
            60,
            70,
            80,
            90,
            100
           ],
           "y": [
            48.5,
            48.5,
            48.5,
            48.5,
            48.5,
            48.5,
            48.5,
            48.5,
            48.5
           ]
          },
          {
           "hoverinfo": "none",
           "line": {
            "color": "blue",
            "dash": "dash"
           },
           "showlegend": false,
           "type": "scatter",
           "x": [
            35,
            35
           ],
           "y": [
            0,
            53.5
           ]
          },
          {
           "hoverinfo": "none",
           "line": {
            "color": "yellow",
            "dash": "dash"
           },
           "showlegend": false,
           "type": "scatter",
           "x": [
            25,
            25
           ],
           "y": [
            0,
            53.5
           ]
          },
          {
           "hoverinfo": "text",
           "hovertext": [
            "nflId:34452.0<br>displayName:Matthew Stafford",
            "nflId:41290.0<br>displayName:Allen Robinson",
            "nflId:42400.0<br>displayName:Rob Havenstein",
            "nflId:43399.0<br>displayName:Tyler Higbee",
            "nflId:44881.0<br>displayName:Cooper Kupp",
            "nflId:46158.0<br>displayName:Joseph Noteboom",
            "nflId:46180.0<br>displayName:Brian Allen",
            "nflId:46376.0<br>displayName:Coleman Shelton",
            "nflId:47853.0<br>displayName:Darrell Henderson",
            "nflId:47952.0<br>displayName:David Edwards",
            "nflId:53678.0<br>displayName:Ben Skowronek"
           ],
           "marker": {
            "color": "#D50A0A"
           },
           "mode": "markers",
           "name": "LA",
           "type": "scatter",
           "x": [
            36.63,
            35.58,
            36.25,
            36.02,
            36.63,
            36.08,
            35.57,
            36.22,
            42.41,
            36.02,
            36.78
           ],
           "y": [
            29.51,
            36.97,
            32.39,
            25.26,
            34.4,
            26.48,
            29.79,
            30.97,
            29.51,
            27.94,
            19.9
           ]
          },
          {
           "hoverinfo": "text",
           "hovertext": [
            "nflId:37075.0<br>displayName:Von Miller",
            "nflId:40107.0<br>displayName:Micah Hyde",
            "nflId:40166.0<br>displayName:Jordan Poyer",
            "nflId:41341.0<br>displayName:DaQuan Jones",
            "nflId:44976.0<br>displayName:Matt Milano",
            "nflId:46085.0<br>displayName:Tremaine Edmunds",
            "nflId:46190.0<br>displayName:Taron Johnson",
            "nflId:46232.0<br>displayName:Tim Settle",
            "nflId:52647.0<br>displayName:Dane Jackson",
            "nflId:53459.0<br>displayName:Gregory Rousseau",
            "nflId:54488.0<br>displayName:Kaiir Elam"
           ],
           "marker": {
            "color": "#003594"
           },
           "mode": "markers",
           "name": "BUF",
           "type": "scatter",
           "x": [
            34.35,
            22.24,
            22.44,
            34.52,
            29.98,
            29.73,
            31.67,
            34.49,
            34.14,
            34.43,
            34.88
           ],
           "y": [
            34.02,
            35,
            22.8,
            27.16,
            26.18,
            30.18,
            34.4,
            30.57,
            37.35,
            25.1,
            19.63
           ]
          },
          {
           "hoverinfo": "none",
           "marker": {
            "color": "#CBB67C"
           },
           "mode": "markers",
           "name": "football",
           "type": "scatter",
           "x": [
            34.9900016784668
           ],
           "y": [
            29.7299995422363
           ]
          }
         ],
         "name": "2"
        },
        {
         "data": [
          {
           "hoverinfo": "none",
           "mode": "text",
           "showlegend": false,
           "text": [
            "10",
            "20",
            "30",
            "40",
            "50",
            "40",
            "30",
            "20",
            "10"
           ],
           "textfont": {
            "color": "#ffffff",
            "family": "Courier New, monospace",
            "size": 30
           },
           "type": "scatter",
           "x": [
            20,
            30,
            40,
            50,
            60,
            70,
            80,
            90,
            100
           ],
           "y": [
            5,
            5,
            5,
            5,
            5,
            5,
            5,
            5,
            5
           ]
          },
          {
           "hoverinfo": "none",
           "mode": "text",
           "showlegend": false,
           "text": [
            "10",
            "20",
            "30",
            "40",
            "50",
            "40",
            "30",
            "20",
            "10"
           ],
           "textfont": {
            "color": "#ffffff",
            "family": "Courier New, monospace",
            "size": 30
           },
           "type": "scatter",
           "x": [
            20,
            30,
            40,
            50,
            60,
            70,
            80,
            90,
            100
           ],
           "y": [
            48.5,
            48.5,
            48.5,
            48.5,
            48.5,
            48.5,
            48.5,
            48.5,
            48.5
           ]
          },
          {
           "hoverinfo": "none",
           "line": {
            "color": "blue",
            "dash": "dash"
           },
           "showlegend": false,
           "type": "scatter",
           "x": [
            35,
            35
           ],
           "y": [
            0,
            53.5
           ]
          },
          {
           "hoverinfo": "none",
           "line": {
            "color": "yellow",
            "dash": "dash"
           },
           "showlegend": false,
           "type": "scatter",
           "x": [
            25,
            25
           ],
           "y": [
            0,
            53.5
           ]
          },
          {
           "hoverinfo": "text",
           "hovertext": [
            "nflId:34452.0<br>displayName:Matthew Stafford",
            "nflId:41290.0<br>displayName:Allen Robinson",
            "nflId:42400.0<br>displayName:Rob Havenstein",
            "nflId:43399.0<br>displayName:Tyler Higbee",
            "nflId:44881.0<br>displayName:Cooper Kupp",
            "nflId:46158.0<br>displayName:Joseph Noteboom",
            "nflId:46180.0<br>displayName:Brian Allen",
            "nflId:46376.0<br>displayName:Coleman Shelton",
            "nflId:47853.0<br>displayName:Darrell Henderson",
            "nflId:47952.0<br>displayName:David Edwards",
            "nflId:53678.0<br>displayName:Ben Skowronek"
           ],
           "marker": {
            "color": "#D50A0A"
           },
           "mode": "markers",
           "name": "LA",
           "type": "scatter",
           "x": [
            36.63,
            35.58,
            36.25,
            36.03,
            36.63,
            36.08,
            35.57,
            36.22,
            42.41,
            36.02,
            36.78
           ],
           "y": [
            29.51,
            36.97,
            32.39,
            25.26,
            34.4,
            26.47,
            29.78,
            30.97,
            29.52,
            27.94,
            19.9
           ]
          },
          {
           "hoverinfo": "text",
           "hovertext": [
            "nflId:37075.0<br>displayName:Von Miller",
            "nflId:40107.0<br>displayName:Micah Hyde",
            "nflId:40166.0<br>displayName:Jordan Poyer",
            "nflId:41341.0<br>displayName:DaQuan Jones",
            "nflId:44976.0<br>displayName:Matt Milano",
            "nflId:46085.0<br>displayName:Tremaine Edmunds",
            "nflId:46190.0<br>displayName:Taron Johnson",
            "nflId:46232.0<br>displayName:Tim Settle",
            "nflId:52647.0<br>displayName:Dane Jackson",
            "nflId:53459.0<br>displayName:Gregory Rousseau",
            "nflId:54488.0<br>displayName:Kaiir Elam"
           ],
           "marker": {
            "color": "#003594"
           },
           "mode": "markers",
           "name": "BUF",
           "type": "scatter",
           "x": [
            34.36,
            22.22,
            22.44,
            34.52,
            29.98,
            29.72,
            31.68,
            34.49,
            34.14,
            34.43,
            34.88
           ],
           "y": [
            34,
            34.99,
            22.8,
            27.16,
            26.18,
            30.17,
            34.41,
            30.58,
            37.36,
            25.1,
            19.62
           ]
          },
          {
           "hoverinfo": "none",
           "marker": {
            "color": "#CBB67C"
           },
           "mode": "markers",
           "name": "football",
           "type": "scatter",
           "x": [
            34.9900016784668
           ],
           "y": [
            29.7299995422363
           ]
          }
         ],
         "name": "3"
        },
        {
         "data": [
          {
           "hoverinfo": "none",
           "mode": "text",
           "showlegend": false,
           "text": [
            "10",
            "20",
            "30",
            "40",
            "50",
            "40",
            "30",
            "20",
            "10"
           ],
           "textfont": {
            "color": "#ffffff",
            "family": "Courier New, monospace",
            "size": 30
           },
           "type": "scatter",
           "x": [
            20,
            30,
            40,
            50,
            60,
            70,
            80,
            90,
            100
           ],
           "y": [
            5,
            5,
            5,
            5,
            5,
            5,
            5,
            5,
            5
           ]
          },
          {
           "hoverinfo": "none",
           "mode": "text",
           "showlegend": false,
           "text": [
            "10",
            "20",
            "30",
            "40",
            "50",
            "40",
            "30",
            "20",
            "10"
           ],
           "textfont": {
            "color": "#ffffff",
            "family": "Courier New, monospace",
            "size": 30
           },
           "type": "scatter",
           "x": [
            20,
            30,
            40,
            50,
            60,
            70,
            80,
            90,
            100
           ],
           "y": [
            48.5,
            48.5,
            48.5,
            48.5,
            48.5,
            48.5,
            48.5,
            48.5,
            48.5
           ]
          },
          {
           "hoverinfo": "none",
           "line": {
            "color": "blue",
            "dash": "dash"
           },
           "showlegend": false,
           "type": "scatter",
           "x": [
            35,
            35
           ],
           "y": [
            0,
            53.5
           ]
          },
          {
           "hoverinfo": "none",
           "line": {
            "color": "yellow",
            "dash": "dash"
           },
           "showlegend": false,
           "type": "scatter",
           "x": [
            25,
            25
           ],
           "y": [
            0,
            53.5
           ]
          },
          {
           "hoverinfo": "text",
           "hovertext": [
            "nflId:34452.0<br>displayName:Matthew Stafford",
            "nflId:41290.0<br>displayName:Allen Robinson",
            "nflId:42400.0<br>displayName:Rob Havenstein",
            "nflId:43399.0<br>displayName:Tyler Higbee",
            "nflId:44881.0<br>displayName:Cooper Kupp",
            "nflId:46158.0<br>displayName:Joseph Noteboom",
            "nflId:46180.0<br>displayName:Brian Allen",
            "nflId:46376.0<br>displayName:Coleman Shelton",
            "nflId:47853.0<br>displayName:Darrell Henderson",
            "nflId:47952.0<br>displayName:David Edwards",
            "nflId:53678.0<br>displayName:Ben Skowronek"
           ],
           "marker": {
            "color": "#D50A0A"
           },
           "mode": "markers",
           "name": "LA",
           "type": "scatter",
           "x": [
            36.63,
            35.58,
            36.24,
            36.03,
            36.64,
            36.08,
            35.56,
            36.21,
            42.41,
            36.03,
            36.78
           ],
           "y": [
            29.51,
            36.97,
            32.38,
            25.26,
            34.4,
            26.45,
            29.76,
            30.96,
            29.52,
            27.91,
            19.91
           ]
          },
          {
           "hoverinfo": "text",
           "hovertext": [
            "nflId:37075.0<br>displayName:Von Miller",
            "nflId:40107.0<br>displayName:Micah Hyde",
            "nflId:40166.0<br>displayName:Jordan Poyer",
            "nflId:41341.0<br>displayName:DaQuan Jones",
            "nflId:44976.0<br>displayName:Matt Milano",
            "nflId:46085.0<br>displayName:Tremaine Edmunds",
            "nflId:46190.0<br>displayName:Taron Johnson",
            "nflId:46232.0<br>displayName:Tim Settle",
            "nflId:52647.0<br>displayName:Dane Jackson",
            "nflId:53459.0<br>displayName:Gregory Rousseau",
            "nflId:54488.0<br>displayName:Kaiir Elam"
           ],
           "marker": {
            "color": "#003594"
           },
           "mode": "markers",
           "name": "BUF",
           "type": "scatter",
           "x": [
            34.38,
            22.23,
            22.44,
            34.56,
            29.99,
            29.71,
            31.69,
            34.49,
            34.13,
            34.44,
            34.87
           ],
           "y": [
            33.98,
            34.97,
            22.81,
            27.16,
            26.17,
            30.17,
            34.41,
            30.57,
            37.36,
            25.1,
            19.63
           ]
          },
          {
           "hoverinfo": "none",
           "marker": {
            "color": "#CBB67C"
           },
           "mode": "markers",
           "name": "football",
           "type": "scatter",
           "x": [
            34.9900016784668
           ],
           "y": [
            29.7299995422363
           ]
          }
         ],
         "name": "4"
        },
        {
         "data": [
          {
           "hoverinfo": "none",
           "mode": "text",
           "showlegend": false,
           "text": [
            "10",
            "20",
            "30",
            "40",
            "50",
            "40",
            "30",
            "20",
            "10"
           ],
           "textfont": {
            "color": "#ffffff",
            "family": "Courier New, monospace",
            "size": 30
           },
           "type": "scatter",
           "x": [
            20,
            30,
            40,
            50,
            60,
            70,
            80,
            90,
            100
           ],
           "y": [
            5,
            5,
            5,
            5,
            5,
            5,
            5,
            5,
            5
           ]
          },
          {
           "hoverinfo": "none",
           "mode": "text",
           "showlegend": false,
           "text": [
            "10",
            "20",
            "30",
            "40",
            "50",
            "40",
            "30",
            "20",
            "10"
           ],
           "textfont": {
            "color": "#ffffff",
            "family": "Courier New, monospace",
            "size": 30
           },
           "type": "scatter",
           "x": [
            20,
            30,
            40,
            50,
            60,
            70,
            80,
            90,
            100
           ],
           "y": [
            48.5,
            48.5,
            48.5,
            48.5,
            48.5,
            48.5,
            48.5,
            48.5,
            48.5
           ]
          },
          {
           "hoverinfo": "none",
           "line": {
            "color": "blue",
            "dash": "dash"
           },
           "showlegend": false,
           "type": "scatter",
           "x": [
            35,
            35
           ],
           "y": [
            0,
            53.5
           ]
          },
          {
           "hoverinfo": "none",
           "line": {
            "color": "yellow",
            "dash": "dash"
           },
           "showlegend": false,
           "type": "scatter",
           "x": [
            25,
            25
           ],
           "y": [
            0,
            53.5
           ]
          },
          {
           "hoverinfo": "text",
           "hovertext": [
            "nflId:34452.0<br>displayName:Matthew Stafford",
            "nflId:41290.0<br>displayName:Allen Robinson",
            "nflId:42400.0<br>displayName:Rob Havenstein",
            "nflId:43399.0<br>displayName:Tyler Higbee",
            "nflId:44881.0<br>displayName:Cooper Kupp",
            "nflId:46158.0<br>displayName:Joseph Noteboom",
            "nflId:46180.0<br>displayName:Brian Allen",
            "nflId:46376.0<br>displayName:Coleman Shelton",
            "nflId:47853.0<br>displayName:Darrell Henderson",
            "nflId:47952.0<br>displayName:David Edwards",
            "nflId:53678.0<br>displayName:Ben Skowronek"
           ],
           "marker": {
            "color": "#D50A0A"
           },
           "mode": "markers",
           "name": "LA",
           "type": "scatter",
           "x": [
            36.64,
            35.58,
            36.23,
            36.02,
            36.64,
            36.08,
            35.54,
            36.2,
            42.41,
            36.04,
            36.78
           ],
           "y": [
            29.5,
            36.98,
            32.37,
            25.26,
            34.39,
            26.42,
            29.67,
            30.94,
            29.52,
            27.87,
            19.91
           ]
          },
          {
           "hoverinfo": "text",
           "hovertext": [
            "nflId:37075.0<br>displayName:Von Miller",
            "nflId:40107.0<br>displayName:Micah Hyde",
            "nflId:40166.0<br>displayName:Jordan Poyer",
            "nflId:41341.0<br>displayName:DaQuan Jones",
            "nflId:44976.0<br>displayName:Matt Milano",
            "nflId:46085.0<br>displayName:Tremaine Edmunds",
            "nflId:46190.0<br>displayName:Taron Johnson",
            "nflId:46232.0<br>displayName:Tim Settle",
            "nflId:52647.0<br>displayName:Dane Jackson",
            "nflId:53459.0<br>displayName:Gregory Rousseau",
            "nflId:54488.0<br>displayName:Kaiir Elam"
           ],
           "marker": {
            "color": "#003594"
           },
           "mode": "markers",
           "name": "BUF",
           "type": "scatter",
           "x": [
            34.41,
            22.24,
            22.43,
            34.58,
            29.99,
            29.71,
            31.69,
            34.5,
            34.14,
            34.45,
            34.87
           ],
           "y": [
            33.95,
            34.96,
            22.82,
            27.16,
            26.17,
            30.17,
            34.39,
            30.56,
            37.36,
            25.1,
            19.63
           ]
          },
          {
           "hoverinfo": "none",
           "marker": {
            "color": "#CBB67C"
           },
           "mode": "markers",
           "name": "football",
           "type": "scatter",
           "x": [
            34.9900016784668
           ],
           "y": [
            29.7299995422363
           ]
          }
         ],
         "name": "5"
        },
        {
         "data": [
          {
           "hoverinfo": "none",
           "mode": "text",
           "showlegend": false,
           "text": [
            "10",
            "20",
            "30",
            "40",
            "50",
            "40",
            "30",
            "20",
            "10"
           ],
           "textfont": {
            "color": "#ffffff",
            "family": "Courier New, monospace",
            "size": 30
           },
           "type": "scatter",
           "x": [
            20,
            30,
            40,
            50,
            60,
            70,
            80,
            90,
            100
           ],
           "y": [
            5,
            5,
            5,
            5,
            5,
            5,
            5,
            5,
            5
           ]
          },
          {
           "hoverinfo": "none",
           "mode": "text",
           "showlegend": false,
           "text": [
            "10",
            "20",
            "30",
            "40",
            "50",
            "40",
            "30",
            "20",
            "10"
           ],
           "textfont": {
            "color": "#ffffff",
            "family": "Courier New, monospace",
            "size": 30
           },
           "type": "scatter",
           "x": [
            20,
            30,
            40,
            50,
            60,
            70,
            80,
            90,
            100
           ],
           "y": [
            48.5,
            48.5,
            48.5,
            48.5,
            48.5,
            48.5,
            48.5,
            48.5,
            48.5
           ]
          },
          {
           "hoverinfo": "none",
           "line": {
            "color": "blue",
            "dash": "dash"
           },
           "showlegend": false,
           "type": "scatter",
           "x": [
            35,
            35
           ],
           "y": [
            0,
            53.5
           ]
          },
          {
           "hoverinfo": "none",
           "line": {
            "color": "yellow",
            "dash": "dash"
           },
           "showlegend": false,
           "type": "scatter",
           "x": [
            25,
            25
           ],
           "y": [
            0,
            53.5
           ]
          },
          {
           "hoverinfo": "text",
           "hovertext": [
            "nflId:34452.0<br>displayName:Matthew Stafford",
            "nflId:41290.0<br>displayName:Allen Robinson",
            "nflId:42400.0<br>displayName:Rob Havenstein",
            "nflId:43399.0<br>displayName:Tyler Higbee",
            "nflId:44881.0<br>displayName:Cooper Kupp",
            "nflId:46158.0<br>displayName:Joseph Noteboom",
            "nflId:46180.0<br>displayName:Brian Allen",
            "nflId:46376.0<br>displayName:Coleman Shelton",
            "nflId:47853.0<br>displayName:Darrell Henderson",
            "nflId:47952.0<br>displayName:David Edwards",
            "nflId:53678.0<br>displayName:Ben Skowronek"
           ],
           "marker": {
            "color": "#D50A0A"
           },
           "mode": "markers",
           "name": "LA",
           "type": "scatter",
           "x": [
            36.64,
            35.57,
            36.21,
            36.02,
            36.64,
            36.09,
            35.51,
            36.2,
            42.4,
            36.05,
            36.77
           ],
           "y": [
            29.5,
            36.98,
            32.35,
            25.24,
            34.37,
            26.37,
            29.57,
            30.92,
            29.52,
            27.78,
            19.9
           ]
          },
          {
           "hoverinfo": "text",
           "hovertext": [
            "nflId:37075.0<br>displayName:Von Miller",
            "nflId:40107.0<br>displayName:Micah Hyde",
            "nflId:40166.0<br>displayName:Jordan Poyer",
            "nflId:41341.0<br>displayName:DaQuan Jones",
            "nflId:44976.0<br>displayName:Matt Milano",
            "nflId:46085.0<br>displayName:Tremaine Edmunds",
            "nflId:46190.0<br>displayName:Taron Johnson",
            "nflId:46232.0<br>displayName:Tim Settle",
            "nflId:52647.0<br>displayName:Dane Jackson",
            "nflId:53459.0<br>displayName:Gregory Rousseau",
            "nflId:54488.0<br>displayName:Kaiir Elam"
           ],
           "marker": {
            "color": "#003594"
           },
           "mode": "markers",
           "name": "BUF",
           "type": "scatter",
           "x": [
            34.44,
            22.25,
            22.41,
            34.62,
            30,
            29.71,
            31.71,
            34.52,
            34.14,
            34.46,
            34.84
           ],
           "y": [
            33.93,
            34.94,
            22.83,
            27.17,
            26.15,
            30.16,
            34.41,
            30.54,
            37.37,
            25.1,
            19.63
           ]
          },
          {
           "hoverinfo": "none",
           "marker": {
            "color": "#CBB67C"
           },
           "mode": "markers",
           "name": "football",
           "type": "scatter",
           "x": [
            34.9900016784668
           ],
           "y": [
            29.7299995422363
           ]
          }
         ],
         "name": "6"
        },
        {
         "data": [
          {
           "hoverinfo": "none",
           "mode": "text",
           "showlegend": false,
           "text": [
            "10",
            "20",
            "30",
            "40",
            "50",
            "40",
            "30",
            "20",
            "10"
           ],
           "textfont": {
            "color": "#ffffff",
            "family": "Courier New, monospace",
            "size": 30
           },
           "type": "scatter",
           "x": [
            20,
            30,
            40,
            50,
            60,
            70,
            80,
            90,
            100
           ],
           "y": [
            5,
            5,
            5,
            5,
            5,
            5,
            5,
            5,
            5
           ]
          },
          {
           "hoverinfo": "none",
           "mode": "text",
           "showlegend": false,
           "text": [
            "10",
            "20",
            "30",
            "40",
            "50",
            "40",
            "30",
            "20",
            "10"
           ],
           "textfont": {
            "color": "#ffffff",
            "family": "Courier New, monospace",
            "size": 30
           },
           "type": "scatter",
           "x": [
            20,
            30,
            40,
            50,
            60,
            70,
            80,
            90,
            100
           ],
           "y": [
            48.5,
            48.5,
            48.5,
            48.5,
            48.5,
            48.5,
            48.5,
            48.5,
            48.5
           ]
          },
          {
           "hoverinfo": "none",
           "line": {
            "color": "blue",
            "dash": "dash"
           },
           "showlegend": false,
           "type": "scatter",
           "x": [
            35,
            35
           ],
           "y": [
            0,
            53.5
           ]
          },
          {
           "hoverinfo": "none",
           "line": {
            "color": "yellow",
            "dash": "dash"
           },
           "showlegend": false,
           "type": "scatter",
           "x": [
            25,
            25
           ],
           "y": [
            0,
            53.5
           ]
          },
          {
           "hoverinfo": "text",
           "hovertext": [
            "nflId:34452.0<br>displayName:Matthew Stafford",
            "nflId:41290.0<br>displayName:Allen Robinson",
            "nflId:42400.0<br>displayName:Rob Havenstein",
            "nflId:43399.0<br>displayName:Tyler Higbee",
            "nflId:44881.0<br>displayName:Cooper Kupp",
            "nflId:46158.0<br>displayName:Joseph Noteboom",
            "nflId:46180.0<br>displayName:Brian Allen",
            "nflId:46376.0<br>displayName:Coleman Shelton",
            "nflId:47853.0<br>displayName:Darrell Henderson",
            "nflId:47952.0<br>displayName:David Edwards",
            "nflId:53678.0<br>displayName:Ben Skowronek"
           ],
           "marker": {
            "color": "#D50A0A"
           },
           "mode": "markers",
           "name": "LA",
           "type": "scatter",
           "x": [
            36.66,
            35.57,
            36.17,
            36.01,
            36.65,
            36.1,
            35.46,
            36.17,
            42.4,
            36.08,
            36.77
           ],
           "y": [
            29.49,
            36.98,
            32.31,
            25.22,
            34.36,
            26.28,
            29.43,
            30.87,
            29.51,
            27.68,
            19.91
           ]
          },
          {
           "hoverinfo": "text",
           "hovertext": [
            "nflId:37075.0<br>displayName:Von Miller",
            "nflId:40107.0<br>displayName:Micah Hyde",
            "nflId:40166.0<br>displayName:Jordan Poyer",
            "nflId:41341.0<br>displayName:DaQuan Jones",
            "nflId:44976.0<br>displayName:Matt Milano",
            "nflId:46085.0<br>displayName:Tremaine Edmunds",
            "nflId:46190.0<br>displayName:Taron Johnson",
            "nflId:46232.0<br>displayName:Tim Settle",
            "nflId:52647.0<br>displayName:Dane Jackson",
            "nflId:53459.0<br>displayName:Gregory Rousseau",
            "nflId:54488.0<br>displayName:Kaiir Elam"
           ],
           "marker": {
            "color": "#003594"
           },
           "mode": "markers",
           "name": "BUF",
           "type": "scatter",
           "x": [
            34.5,
            22.26,
            22.38,
            34.7,
            30.01,
            29.71,
            31.72,
            34.55,
            34.14,
            34.47,
            34.82
           ],
           "y": [
            33.87,
            34.92,
            22.83,
            27.17,
            26.14,
            30.16,
            34.41,
            30.51,
            37.38,
            25.09,
            19.62
           ]
          },
          {
           "hoverinfo": "none",
           "marker": {
            "color": "#CBB67C"
           },
           "mode": "markers",
           "name": "football",
           "type": "scatter",
           "x": [
            35.9000015258789
           ],
           "y": [
            29.4500007629395
           ]
          }
         ],
         "name": "7"
        },
        {
         "data": [
          {
           "hoverinfo": "none",
           "mode": "text",
           "showlegend": false,
           "text": [
            "10",
            "20",
            "30",
            "40",
            "50",
            "40",
            "30",
            "20",
            "10"
           ],
           "textfont": {
            "color": "#ffffff",
            "family": "Courier New, monospace",
            "size": 30
           },
           "type": "scatter",
           "x": [
            20,
            30,
            40,
            50,
            60,
            70,
            80,
            90,
            100
           ],
           "y": [
            5,
            5,
            5,
            5,
            5,
            5,
            5,
            5,
            5
           ]
          },
          {
           "hoverinfo": "none",
           "mode": "text",
           "showlegend": false,
           "text": [
            "10",
            "20",
            "30",
            "40",
            "50",
            "40",
            "30",
            "20",
            "10"
           ],
           "textfont": {
            "color": "#ffffff",
            "family": "Courier New, monospace",
            "size": 30
           },
           "type": "scatter",
           "x": [
            20,
            30,
            40,
            50,
            60,
            70,
            80,
            90,
            100
           ],
           "y": [
            48.5,
            48.5,
            48.5,
            48.5,
            48.5,
            48.5,
            48.5,
            48.5,
            48.5
           ]
          },
          {
           "hoverinfo": "none",
           "line": {
            "color": "blue",
            "dash": "dash"
           },
           "showlegend": false,
           "type": "scatter",
           "x": [
            35,
            35
           ],
           "y": [
            0,
            53.5
           ]
          },
          {
           "hoverinfo": "none",
           "line": {
            "color": "yellow",
            "dash": "dash"
           },
           "showlegend": false,
           "type": "scatter",
           "x": [
            25,
            25
           ],
           "y": [
            0,
            53.5
           ]
          },
          {
           "hoverinfo": "text",
           "hovertext": [
            "nflId:34452.0<br>displayName:Matthew Stafford",
            "nflId:41290.0<br>displayName:Allen Robinson",
            "nflId:42400.0<br>displayName:Rob Havenstein",
            "nflId:43399.0<br>displayName:Tyler Higbee",
            "nflId:44881.0<br>displayName:Cooper Kupp",
            "nflId:46158.0<br>displayName:Joseph Noteboom",
            "nflId:46180.0<br>displayName:Brian Allen",
            "nflId:46376.0<br>displayName:Coleman Shelton",
            "nflId:47853.0<br>displayName:Darrell Henderson",
            "nflId:47952.0<br>displayName:David Edwards",
            "nflId:53678.0<br>displayName:Ben Skowronek"
           ],
           "marker": {
            "color": "#D50A0A"
           },
           "mode": "markers",
           "name": "LA",
           "type": "scatter",
           "x": [
            36.7,
            35.56,
            36.11,
            35.99,
            36.66,
            36.1,
            35.41,
            36.11,
            42.4,
            36.12,
            36.75
           ],
           "y": [
            29.46,
            36.98,
            32.25,
            25.18,
            34.3,
            26.11,
            29.27,
            30.74,
            29.5,
            27.54,
            19.9
           ]
          },
          {
           "hoverinfo": "text",
           "hovertext": [
            "nflId:37075.0<br>displayName:Von Miller",
            "nflId:40107.0<br>displayName:Micah Hyde",
            "nflId:40166.0<br>displayName:Jordan Poyer",
            "nflId:41341.0<br>displayName:DaQuan Jones",
            "nflId:44976.0<br>displayName:Matt Milano",
            "nflId:46085.0<br>displayName:Tremaine Edmunds",
            "nflId:46190.0<br>displayName:Taron Johnson",
            "nflId:46232.0<br>displayName:Tim Settle",
            "nflId:52647.0<br>displayName:Dane Jackson",
            "nflId:53459.0<br>displayName:Gregory Rousseau",
            "nflId:54488.0<br>displayName:Kaiir Elam"
           ],
           "marker": {
            "color": "#003594"
           },
           "mode": "markers",
           "name": "BUF",
           "type": "scatter",
           "x": [
            34.57,
            22.26,
            22.36,
            34.81,
            30.02,
            29.72,
            31.72,
            34.6,
            34.14,
            34.49,
            34.8
           ],
           "y": [
            33.8,
            34.91,
            22.83,
            27.18,
            26.13,
            30.16,
            34.41,
            30.46,
            37.39,
            25.07,
            19.6
           ]
          },
          {
           "hoverinfo": "none",
           "marker": {
            "color": "#CBB67C"
           },
           "mode": "markers",
           "name": "football",
           "type": "scatter",
           "x": [
            36.2000007629395
           ],
           "y": [
            29.4400005340576
           ]
          }
         ],
         "name": "8"
        },
        {
         "data": [
          {
           "hoverinfo": "none",
           "mode": "text",
           "showlegend": false,
           "text": [
            "10",
            "20",
            "30",
            "40",
            "50",
            "40",
            "30",
            "20",
            "10"
           ],
           "textfont": {
            "color": "#ffffff",
            "family": "Courier New, monospace",
            "size": 30
           },
           "type": "scatter",
           "x": [
            20,
            30,
            40,
            50,
            60,
            70,
            80,
            90,
            100
           ],
           "y": [
            5,
            5,
            5,
            5,
            5,
            5,
            5,
            5,
            5
           ]
          },
          {
           "hoverinfo": "none",
           "mode": "text",
           "showlegend": false,
           "text": [
            "10",
            "20",
            "30",
            "40",
            "50",
            "40",
            "30",
            "20",
            "10"
           ],
           "textfont": {
            "color": "#ffffff",
            "family": "Courier New, monospace",
            "size": 30
           },
           "type": "scatter",
           "x": [
            20,
            30,
            40,
            50,
            60,
            70,
            80,
            90,
            100
           ],
           "y": [
            48.5,
            48.5,
            48.5,
            48.5,
            48.5,
            48.5,
            48.5,
            48.5,
            48.5
           ]
          },
          {
           "hoverinfo": "none",
           "line": {
            "color": "blue",
            "dash": "dash"
           },
           "showlegend": false,
           "type": "scatter",
           "x": [
            35,
            35
           ],
           "y": [
            0,
            53.5
           ]
          },
          {
           "hoverinfo": "none",
           "line": {
            "color": "yellow",
            "dash": "dash"
           },
           "showlegend": false,
           "type": "scatter",
           "x": [
            25,
            25
           ],
           "y": [
            0,
            53.5
           ]
          },
          {
           "hoverinfo": "text",
           "hovertext": [
            "nflId:34452.0<br>displayName:Matthew Stafford",
            "nflId:41290.0<br>displayName:Allen Robinson",
            "nflId:42400.0<br>displayName:Rob Havenstein",
            "nflId:43399.0<br>displayName:Tyler Higbee",
            "nflId:44881.0<br>displayName:Cooper Kupp",
            "nflId:46158.0<br>displayName:Joseph Noteboom",
            "nflId:46180.0<br>displayName:Brian Allen",
            "nflId:46376.0<br>displayName:Coleman Shelton",
            "nflId:47853.0<br>displayName:Darrell Henderson",
            "nflId:47952.0<br>displayName:David Edwards",
            "nflId:53678.0<br>displayName:Ben Skowronek"
           ],
           "marker": {
            "color": "#D50A0A"
           },
           "mode": "markers",
           "name": "LA",
           "type": "scatter",
           "x": [
            36.8,
            35.54,
            36.03,
            35.96,
            36.66,
            36.11,
            35.34,
            36.04,
            42.38,
            36.16,
            36.72
           ],
           "y": [
            29.41,
            36.98,
            32.18,
            25.08,
            34.21,
            25.93,
            29.07,
            30.55,
            29.43,
            27.37,
            19.9
           ]
          },
          {
           "hoverinfo": "text",
           "hovertext": [
            "nflId:37075.0<br>displayName:Von Miller",
            "nflId:40107.0<br>displayName:Micah Hyde",
            "nflId:40166.0<br>displayName:Jordan Poyer",
            "nflId:41341.0<br>displayName:DaQuan Jones",
            "nflId:44976.0<br>displayName:Matt Milano",
            "nflId:46085.0<br>displayName:Tremaine Edmunds",
            "nflId:46190.0<br>displayName:Taron Johnson",
            "nflId:46232.0<br>displayName:Tim Settle",
            "nflId:52647.0<br>displayName:Dane Jackson",
            "nflId:53459.0<br>displayName:Gregory Rousseau",
            "nflId:54488.0<br>displayName:Kaiir Elam"
           ],
           "marker": {
            "color": "#003594"
           },
           "mode": "markers",
           "name": "BUF",
           "type": "scatter",
           "x": [
            34.66,
            22.25,
            22.34,
            34.95,
            30.03,
            29.74,
            31.71,
            34.68,
            34.13,
            34.52,
            34.8
           ],
           "y": [
            33.7,
            34.9,
            22.83,
            27.19,
            26.1,
            30.13,
            34.34,
            30.36,
            37.41,
            25.06,
            19.6
           ]
          },
          {
           "hoverinfo": "none",
           "marker": {
            "color": "#CBB67C"
           },
           "mode": "markers",
           "name": "football",
           "type": "scatter",
           "x": [
            36.5
           ],
           "y": [
            29.4200000762939
           ]
          }
         ],
         "name": "9"
        },
        {
         "data": [
          {
           "hoverinfo": "none",
           "mode": "text",
           "showlegend": false,
           "text": [
            "10",
            "20",
            "30",
            "40",
            "50",
            "40",
            "30",
            "20",
            "10"
           ],
           "textfont": {
            "color": "#ffffff",
            "family": "Courier New, monospace",
            "size": 30
           },
           "type": "scatter",
           "x": [
            20,
            30,
            40,
            50,
            60,
            70,
            80,
            90,
            100
           ],
           "y": [
            5,
            5,
            5,
            5,
            5,
            5,
            5,
            5,
            5
           ]
          },
          {
           "hoverinfo": "none",
           "mode": "text",
           "showlegend": false,
           "text": [
            "10",
            "20",
            "30",
            "40",
            "50",
            "40",
            "30",
            "20",
            "10"
           ],
           "textfont": {
            "color": "#ffffff",
            "family": "Courier New, monospace",
            "size": 30
           },
           "type": "scatter",
           "x": [
            20,
            30,
            40,
            50,
            60,
            70,
            80,
            90,
            100
           ],
           "y": [
            48.5,
            48.5,
            48.5,
            48.5,
            48.5,
            48.5,
            48.5,
            48.5,
            48.5
           ]
          },
          {
           "hoverinfo": "none",
           "line": {
            "color": "blue",
            "dash": "dash"
           },
           "showlegend": false,
           "type": "scatter",
           "x": [
            35,
            35
           ],
           "y": [
            0,
            53.5
           ]
          },
          {
           "hoverinfo": "none",
           "line": {
            "color": "yellow",
            "dash": "dash"
           },
           "showlegend": false,
           "type": "scatter",
           "x": [
            25,
            25
           ],
           "y": [
            0,
            53.5
           ]
          },
          {
           "hoverinfo": "text",
           "hovertext": [
            "nflId:34452.0<br>displayName:Matthew Stafford",
            "nflId:41290.0<br>displayName:Allen Robinson",
            "nflId:42400.0<br>displayName:Rob Havenstein",
            "nflId:43399.0<br>displayName:Tyler Higbee",
            "nflId:44881.0<br>displayName:Cooper Kupp",
            "nflId:46158.0<br>displayName:Joseph Noteboom",
            "nflId:46180.0<br>displayName:Brian Allen",
            "nflId:46376.0<br>displayName:Coleman Shelton",
            "nflId:47853.0<br>displayName:Darrell Henderson",
            "nflId:47952.0<br>displayName:David Edwards",
            "nflId:53678.0<br>displayName:Ben Skowronek"
           ],
           "marker": {
            "color": "#D50A0A"
           },
           "mode": "markers",
           "name": "LA",
           "type": "scatter",
           "x": [
            36.9,
            35.51,
            35.93,
            35.91,
            36.67,
            36.12,
            35.25,
            35.96,
            42.35,
            36.23,
            36.63
           ],
           "y": [
            29.36,
            36.99,
            32.05,
            24.94,
            34.05,
            25.71,
            28.83,
            30.31,
            29.31,
            27.19,
            19.87
           ]
          },
          {
           "hoverinfo": "text",
           "hovertext": [
            "nflId:37075.0<br>displayName:Von Miller",
            "nflId:40107.0<br>displayName:Micah Hyde",
            "nflId:40166.0<br>displayName:Jordan Poyer",
            "nflId:41341.0<br>displayName:DaQuan Jones",
            "nflId:44976.0<br>displayName:Matt Milano",
            "nflId:46085.0<br>displayName:Tremaine Edmunds",
            "nflId:46190.0<br>displayName:Taron Johnson",
            "nflId:46232.0<br>displayName:Tim Settle",
            "nflId:52647.0<br>displayName:Dane Jackson",
            "nflId:53459.0<br>displayName:Gregory Rousseau",
            "nflId:54488.0<br>displayName:Kaiir Elam"
           ],
           "marker": {
            "color": "#003594"
           },
           "mode": "markers",
           "name": "BUF",
           "type": "scatter",
           "x": [
            34.76,
            22.23,
            22.32,
            35.15,
            30.06,
            29.77,
            31.74,
            34.77,
            34.13,
            34.57,
            34.79
           ],
           "y": [
            33.58,
            34.88,
            22.83,
            27.15,
            26.04,
            30.07,
            34.3,
            30.21,
            37.45,
            25.04,
            19.58
           ]
          },
          {
           "hoverinfo": "none",
           "marker": {
            "color": "#CBB67C"
           },
           "mode": "markers",
           "name": "football",
           "type": "scatter",
           "x": [
            36.8300018310547
           ],
           "y": [
            29.3199996948242
           ]
          }
         ],
         "name": "10"
        },
        {
         "data": [
          {
           "hoverinfo": "none",
           "mode": "text",
           "showlegend": false,
           "text": [
            "10",
            "20",
            "30",
            "40",
            "50",
            "40",
            "30",
            "20",
            "10"
           ],
           "textfont": {
            "color": "#ffffff",
            "family": "Courier New, monospace",
            "size": 30
           },
           "type": "scatter",
           "x": [
            20,
            30,
            40,
            50,
            60,
            70,
            80,
            90,
            100
           ],
           "y": [
            5,
            5,
            5,
            5,
            5,
            5,
            5,
            5,
            5
           ]
          },
          {
           "hoverinfo": "none",
           "mode": "text",
           "showlegend": false,
           "text": [
            "10",
            "20",
            "30",
            "40",
            "50",
            "40",
            "30",
            "20",
            "10"
           ],
           "textfont": {
            "color": "#ffffff",
            "family": "Courier New, monospace",
            "size": 30
           },
           "type": "scatter",
           "x": [
            20,
            30,
            40,
            50,
            60,
            70,
            80,
            90,
            100
           ],
           "y": [
            48.5,
            48.5,
            48.5,
            48.5,
            48.5,
            48.5,
            48.5,
            48.5,
            48.5
           ]
          },
          {
           "hoverinfo": "none",
           "line": {
            "color": "blue",
            "dash": "dash"
           },
           "showlegend": false,
           "type": "scatter",
           "x": [
            35,
            35
           ],
           "y": [
            0,
            53.5
           ]
          },
          {
           "hoverinfo": "none",
           "line": {
            "color": "yellow",
            "dash": "dash"
           },
           "showlegend": false,
           "type": "scatter",
           "x": [
            25,
            25
           ],
           "y": [
            0,
            53.5
           ]
          },
          {
           "hoverinfo": "text",
           "hovertext": [
            "nflId:34452.0<br>displayName:Matthew Stafford",
            "nflId:41290.0<br>displayName:Allen Robinson",
            "nflId:42400.0<br>displayName:Rob Havenstein",
            "nflId:43399.0<br>displayName:Tyler Higbee",
            "nflId:44881.0<br>displayName:Cooper Kupp",
            "nflId:46158.0<br>displayName:Joseph Noteboom",
            "nflId:46180.0<br>displayName:Brian Allen",
            "nflId:46376.0<br>displayName:Coleman Shelton",
            "nflId:47853.0<br>displayName:Darrell Henderson",
            "nflId:47952.0<br>displayName:David Edwards",
            "nflId:53678.0<br>displayName:Ben Skowronek"
           ],
           "marker": {
            "color": "#D50A0A"
           },
           "mode": "markers",
           "name": "LA",
           "type": "scatter",
           "x": [
            37.07,
            35.45,
            35.82,
            35.84,
            36.68,
            36.11,
            35.14,
            35.85,
            42.32,
            36.3,
            36.5
           ],
           "y": [
            29.27,
            36.97,
            31.91,
            24.76,
            33.83,
            25.47,
            28.56,
            30.03,
            29.11,
            27.01,
            19.82
           ]
          },
          {
           "hoverinfo": "text",
           "hovertext": [
            "nflId:37075.0<br>displayName:Von Miller",
            "nflId:40107.0<br>displayName:Micah Hyde",
            "nflId:40166.0<br>displayName:Jordan Poyer",
            "nflId:41341.0<br>displayName:DaQuan Jones",
            "nflId:44976.0<br>displayName:Matt Milano",
            "nflId:46085.0<br>displayName:Tremaine Edmunds",
            "nflId:46190.0<br>displayName:Taron Johnson",
            "nflId:46232.0<br>displayName:Tim Settle",
            "nflId:52647.0<br>displayName:Dane Jackson",
            "nflId:53459.0<br>displayName:Gregory Rousseau",
            "nflId:54488.0<br>displayName:Kaiir Elam"
           ],
           "marker": {
            "color": "#003594"
           },
           "mode": "markers",
           "name": "BUF",
           "type": "scatter",
           "x": [
            34.9,
            22.19,
            22.29,
            35.36,
            30.11,
            29.82,
            31.75,
            34.88,
            34.11,
            34.65,
            34.77
           ],
           "y": [
            33.43,
            34.86,
            22.82,
            27.13,
            25.93,
            29.91,
            34.28,
            30.04,
            37.5,
            24.98,
            19.54
           ]
          },
          {
           "hoverinfo": "none",
           "marker": {
            "color": "#CBB67C"
           },
           "mode": "markers",
           "name": "football",
           "type": "scatter",
           "x": [
            37.25
           ],
           "y": [
            29.1200008392334
           ]
          }
         ],
         "name": "11"
        },
        {
         "data": [
          {
           "hoverinfo": "none",
           "mode": "text",
           "showlegend": false,
           "text": [
            "10",
            "20",
            "30",
            "40",
            "50",
            "40",
            "30",
            "20",
            "10"
           ],
           "textfont": {
            "color": "#ffffff",
            "family": "Courier New, monospace",
            "size": 30
           },
           "type": "scatter",
           "x": [
            20,
            30,
            40,
            50,
            60,
            70,
            80,
            90,
            100
           ],
           "y": [
            5,
            5,
            5,
            5,
            5,
            5,
            5,
            5,
            5
           ]
          },
          {
           "hoverinfo": "none",
           "mode": "text",
           "showlegend": false,
           "text": [
            "10",
            "20",
            "30",
            "40",
            "50",
            "40",
            "30",
            "20",
            "10"
           ],
           "textfont": {
            "color": "#ffffff",
            "family": "Courier New, monospace",
            "size": 30
           },
           "type": "scatter",
           "x": [
            20,
            30,
            40,
            50,
            60,
            70,
            80,
            90,
            100
           ],
           "y": [
            48.5,
            48.5,
            48.5,
            48.5,
            48.5,
            48.5,
            48.5,
            48.5,
            48.5
           ]
          },
          {
           "hoverinfo": "none",
           "line": {
            "color": "blue",
            "dash": "dash"
           },
           "showlegend": false,
           "type": "scatter",
           "x": [
            35,
            35
           ],
           "y": [
            0,
            53.5
           ]
          },
          {
           "hoverinfo": "none",
           "line": {
            "color": "yellow",
            "dash": "dash"
           },
           "showlegend": false,
           "type": "scatter",
           "x": [
            25,
            25
           ],
           "y": [
            0,
            53.5
           ]
          },
          {
           "hoverinfo": "text",
           "hovertext": [
            "nflId:34452.0<br>displayName:Matthew Stafford",
            "nflId:41290.0<br>displayName:Allen Robinson",
            "nflId:42400.0<br>displayName:Rob Havenstein",
            "nflId:43399.0<br>displayName:Tyler Higbee",
            "nflId:44881.0<br>displayName:Cooper Kupp",
            "nflId:46158.0<br>displayName:Joseph Noteboom",
            "nflId:46180.0<br>displayName:Brian Allen",
            "nflId:46376.0<br>displayName:Coleman Shelton",
            "nflId:47853.0<br>displayName:Darrell Henderson",
            "nflId:47952.0<br>displayName:David Edwards",
            "nflId:53678.0<br>displayName:Ben Skowronek"
           ],
           "marker": {
            "color": "#D50A0A"
           },
           "mode": "markers",
           "name": "LA",
           "type": "scatter",
           "x": [
            37.27,
            35.38,
            35.71,
            35.76,
            36.69,
            36.1,
            35.02,
            35.76,
            42.27,
            36.4,
            36.32
           ],
           "y": [
            29.17,
            36.94,
            31.75,
            24.54,
            33.54,
            25.18,
            28.26,
            29.69,
            28.87,
            26.83,
            19.73
           ]
          },
          {
           "hoverinfo": "text",
           "hovertext": [
            "nflId:37075.0<br>displayName:Von Miller",
            "nflId:40107.0<br>displayName:Micah Hyde",
            "nflId:40166.0<br>displayName:Jordan Poyer",
            "nflId:41341.0<br>displayName:DaQuan Jones",
            "nflId:44976.0<br>displayName:Matt Milano",
            "nflId:46085.0<br>displayName:Tremaine Edmunds",
            "nflId:46190.0<br>displayName:Taron Johnson",
            "nflId:46232.0<br>displayName:Tim Settle",
            "nflId:52647.0<br>displayName:Dane Jackson",
            "nflId:53459.0<br>displayName:Gregory Rousseau",
            "nflId:54488.0<br>displayName:Kaiir Elam"
           ],
           "marker": {
            "color": "#003594"
           },
           "mode": "markers",
           "name": "BUF",
           "type": "scatter",
           "x": [
            35.06,
            22.13,
            22.25,
            35.6,
            30.17,
            29.88,
            31.76,
            35.02,
            34.09,
            34.77,
            34.74
           ],
           "y": [
            33.26,
            34.84,
            22.79,
            27.09,
            25.75,
            29.72,
            34.24,
            29.83,
            37.56,
            24.9,
            19.47
           ]
          },
          {
           "hoverinfo": "none",
           "marker": {
            "color": "#CBB67C"
           },
           "mode": "markers",
           "name": "football",
           "type": "scatter",
           "x": [
            37.7299995422363
           ],
           "y": [
            28.8500003814697
           ]
          }
         ],
         "name": "12"
        },
        {
         "data": [
          {
           "hoverinfo": "none",
           "mode": "text",
           "showlegend": false,
           "text": [
            "10",
            "20",
            "30",
            "40",
            "50",
            "40",
            "30",
            "20",
            "10"
           ],
           "textfont": {
            "color": "#ffffff",
            "family": "Courier New, monospace",
            "size": 30
           },
           "type": "scatter",
           "x": [
            20,
            30,
            40,
            50,
            60,
            70,
            80,
            90,
            100
           ],
           "y": [
            5,
            5,
            5,
            5,
            5,
            5,
            5,
            5,
            5
           ]
          },
          {
           "hoverinfo": "none",
           "mode": "text",
           "showlegend": false,
           "text": [
            "10",
            "20",
            "30",
            "40",
            "50",
            "40",
            "30",
            "20",
            "10"
           ],
           "textfont": {
            "color": "#ffffff",
            "family": "Courier New, monospace",
            "size": 30
           },
           "type": "scatter",
           "x": [
            20,
            30,
            40,
            50,
            60,
            70,
            80,
            90,
            100
           ],
           "y": [
            48.5,
            48.5,
            48.5,
            48.5,
            48.5,
            48.5,
            48.5,
            48.5,
            48.5
           ]
          },
          {
           "hoverinfo": "none",
           "line": {
            "color": "blue",
            "dash": "dash"
           },
           "showlegend": false,
           "type": "scatter",
           "x": [
            35,
            35
           ],
           "y": [
            0,
            53.5
           ]
          },
          {
           "hoverinfo": "none",
           "line": {
            "color": "yellow",
            "dash": "dash"
           },
           "showlegend": false,
           "type": "scatter",
           "x": [
            25,
            25
           ],
           "y": [
            0,
            53.5
           ]
          },
          {
           "hoverinfo": "text",
           "hovertext": [
            "nflId:34452.0<br>displayName:Matthew Stafford",
            "nflId:41290.0<br>displayName:Allen Robinson",
            "nflId:42400.0<br>displayName:Rob Havenstein",
            "nflId:43399.0<br>displayName:Tyler Higbee",
            "nflId:44881.0<br>displayName:Cooper Kupp",
            "nflId:46158.0<br>displayName:Joseph Noteboom",
            "nflId:46180.0<br>displayName:Brian Allen",
            "nflId:46376.0<br>displayName:Coleman Shelton",
            "nflId:47853.0<br>displayName:Darrell Henderson",
            "nflId:47952.0<br>displayName:David Edwards",
            "nflId:53678.0<br>displayName:Ben Skowronek"
           ],
           "marker": {
            "color": "#D50A0A"
           },
           "mode": "markers",
           "name": "LA",
           "type": "scatter",
           "x": [
            37.53,
            35.29,
            35.57,
            35.66,
            36.7,
            36.08,
            34.87,
            35.66,
            42.23,
            36.52,
            36.12
           ],
           "y": [
            29.07,
            36.9,
            31.54,
            24.29,
            33.22,
            24.88,
            27.91,
            29.35,
            28.55,
            26.65,
            19.63
           ]
          },
          {
           "hoverinfo": "text",
           "hovertext": [
            "nflId:37075.0<br>displayName:Von Miller",
            "nflId:40107.0<br>displayName:Micah Hyde",
            "nflId:40166.0<br>displayName:Jordan Poyer",
            "nflId:41341.0<br>displayName:DaQuan Jones",
            "nflId:44976.0<br>displayName:Matt Milano",
            "nflId:46085.0<br>displayName:Tremaine Edmunds",
            "nflId:46190.0<br>displayName:Taron Johnson",
            "nflId:46232.0<br>displayName:Tim Settle",
            "nflId:52647.0<br>displayName:Dane Jackson",
            "nflId:53459.0<br>displayName:Gregory Rousseau",
            "nflId:54488.0<br>displayName:Kaiir Elam"
           ],
           "marker": {
            "color": "#003594"
           },
           "mode": "markers",
           "name": "BUF",
           "type": "scatter",
           "x": [
            35.26,
            22.04,
            22.19,
            35.88,
            30.26,
            29.96,
            31.79,
            35.16,
            34.06,
            34.9,
            34.68
           ],
           "y": [
            33.07,
            34.81,
            22.74,
            27.04,
            25.51,
            29.5,
            34.18,
            29.6,
            37.62,
            24.81,
            19.36
           ]
          },
          {
           "hoverinfo": "none",
           "marker": {
            "color": "#CBB67C"
           },
           "mode": "markers",
           "name": "football",
           "type": "scatter",
           "x": [
            38.2599983215332
           ],
           "y": [
            28.4899997711182
           ]
          }
         ],
         "name": "13"
        },
        {
         "data": [
          {
           "hoverinfo": "none",
           "mode": "text",
           "showlegend": false,
           "text": [
            "10",
            "20",
            "30",
            "40",
            "50",
            "40",
            "30",
            "20",
            "10"
           ],
           "textfont": {
            "color": "#ffffff",
            "family": "Courier New, monospace",
            "size": 30
           },
           "type": "scatter",
           "x": [
            20,
            30,
            40,
            50,
            60,
            70,
            80,
            90,
            100
           ],
           "y": [
            5,
            5,
            5,
            5,
            5,
            5,
            5,
            5,
            5
           ]
          },
          {
           "hoverinfo": "none",
           "mode": "text",
           "showlegend": false,
           "text": [
            "10",
            "20",
            "30",
            "40",
            "50",
            "40",
            "30",
            "20",
            "10"
           ],
           "textfont": {
            "color": "#ffffff",
            "family": "Courier New, monospace",
            "size": 30
           },
           "type": "scatter",
           "x": [
            20,
            30,
            40,
            50,
            60,
            70,
            80,
            90,
            100
           ],
           "y": [
            48.5,
            48.5,
            48.5,
            48.5,
            48.5,
            48.5,
            48.5,
            48.5,
            48.5
           ]
          },
          {
           "hoverinfo": "none",
           "line": {
            "color": "blue",
            "dash": "dash"
           },
           "showlegend": false,
           "type": "scatter",
           "x": [
            35,
            35
           ],
           "y": [
            0,
            53.5
           ]
          },
          {
           "hoverinfo": "none",
           "line": {
            "color": "yellow",
            "dash": "dash"
           },
           "showlegend": false,
           "type": "scatter",
           "x": [
            25,
            25
           ],
           "y": [
            0,
            53.5
           ]
          },
          {
           "hoverinfo": "text",
           "hovertext": [
            "nflId:34452.0<br>displayName:Matthew Stafford",
            "nflId:41290.0<br>displayName:Allen Robinson",
            "nflId:42400.0<br>displayName:Rob Havenstein",
            "nflId:43399.0<br>displayName:Tyler Higbee",
            "nflId:44881.0<br>displayName:Cooper Kupp",
            "nflId:46158.0<br>displayName:Joseph Noteboom",
            "nflId:46180.0<br>displayName:Brian Allen",
            "nflId:46376.0<br>displayName:Coleman Shelton",
            "nflId:47853.0<br>displayName:Darrell Henderson",
            "nflId:47952.0<br>displayName:David Edwards",
            "nflId:53678.0<br>displayName:Ben Skowronek"
           ],
           "marker": {
            "color": "#D50A0A"
           },
           "mode": "markers",
           "name": "LA",
           "type": "scatter",
           "x": [
            37.81,
            35.18,
            35.41,
            35.54,
            36.7,
            36.07,
            34.72,
            35.55,
            42.18,
            36.64,
            35.88
           ],
           "y": [
            28.96,
            36.86,
            31.32,
            24.02,
            32.84,
            24.57,
            27.56,
            28.98,
            28.18,
            26.47,
            19.5
           ]
          },
          {
           "hoverinfo": "text",
           "hovertext": [
            "nflId:37075.0<br>displayName:Von Miller",
            "nflId:40107.0<br>displayName:Micah Hyde",
            "nflId:40166.0<br>displayName:Jordan Poyer",
            "nflId:41341.0<br>displayName:DaQuan Jones",
            "nflId:44976.0<br>displayName:Matt Milano",
            "nflId:46085.0<br>displayName:Tremaine Edmunds",
            "nflId:46190.0<br>displayName:Taron Johnson",
            "nflId:46232.0<br>displayName:Tim Settle",
            "nflId:52647.0<br>displayName:Dane Jackson",
            "nflId:53459.0<br>displayName:Gregory Rousseau",
            "nflId:54488.0<br>displayName:Kaiir Elam"
           ],
           "marker": {
            "color": "#003594"
           },
           "mode": "markers",
           "name": "BUF",
           "type": "scatter",
           "x": [
            35.49,
            21.94,
            22.13,
            36.17,
            30.38,
            30.07,
            31.82,
            35.32,
            34.02,
            35.05,
            34.62
           ],
           "y": [
            32.88,
            34.77,
            22.65,
            26.98,
            25.21,
            29.16,
            34.09,
            29.32,
            37.67,
            24.69,
            19.22
           ]
          },
          {
           "hoverinfo": "none",
           "marker": {
            "color": "#CBB67C"
           },
           "mode": "markers",
           "name": "football",
           "type": "scatter",
           "x": [
            38.8199996948242
           ],
           "y": [
            28.0599994659424
           ]
          }
         ],
         "name": "14"
        },
        {
         "data": [
          {
           "hoverinfo": "none",
           "mode": "text",
           "showlegend": false,
           "text": [
            "10",
            "20",
            "30",
            "40",
            "50",
            "40",
            "30",
            "20",
            "10"
           ],
           "textfont": {
            "color": "#ffffff",
            "family": "Courier New, monospace",
            "size": 30
           },
           "type": "scatter",
           "x": [
            20,
            30,
            40,
            50,
            60,
            70,
            80,
            90,
            100
           ],
           "y": [
            5,
            5,
            5,
            5,
            5,
            5,
            5,
            5,
            5
           ]
          },
          {
           "hoverinfo": "none",
           "mode": "text",
           "showlegend": false,
           "text": [
            "10",
            "20",
            "30",
            "40",
            "50",
            "40",
            "30",
            "20",
            "10"
           ],
           "textfont": {
            "color": "#ffffff",
            "family": "Courier New, monospace",
            "size": 30
           },
           "type": "scatter",
           "x": [
            20,
            30,
            40,
            50,
            60,
            70,
            80,
            90,
            100
           ],
           "y": [
            48.5,
            48.5,
            48.5,
            48.5,
            48.5,
            48.5,
            48.5,
            48.5,
            48.5
           ]
          },
          {
           "hoverinfo": "none",
           "line": {
            "color": "blue",
            "dash": "dash"
           },
           "showlegend": false,
           "type": "scatter",
           "x": [
            35,
            35
           ],
           "y": [
            0,
            53.5
           ]
          },
          {
           "hoverinfo": "none",
           "line": {
            "color": "yellow",
            "dash": "dash"
           },
           "showlegend": false,
           "type": "scatter",
           "x": [
            25,
            25
           ],
           "y": [
            0,
            53.5
           ]
          },
          {
           "hoverinfo": "text",
           "hovertext": [
            "nflId:34452.0<br>displayName:Matthew Stafford",
            "nflId:41290.0<br>displayName:Allen Robinson",
            "nflId:42400.0<br>displayName:Rob Havenstein",
            "nflId:43399.0<br>displayName:Tyler Higbee",
            "nflId:44881.0<br>displayName:Cooper Kupp",
            "nflId:46158.0<br>displayName:Joseph Noteboom",
            "nflId:46180.0<br>displayName:Brian Allen",
            "nflId:46376.0<br>displayName:Coleman Shelton",
            "nflId:47853.0<br>displayName:Darrell Henderson",
            "nflId:47952.0<br>displayName:David Edwards",
            "nflId:53678.0<br>displayName:Ben Skowronek"
           ],
           "marker": {
            "color": "#D50A0A"
           },
           "mode": "markers",
           "name": "LA",
           "type": "scatter",
           "x": [
            38.13,
            35.05,
            35.24,
            35.39,
            36.69,
            36.06,
            34.54,
            35.46,
            42.13,
            36.8,
            35.62
           ],
           "y": [
            28.86,
            36.78,
            31.08,
            23.71,
            32.42,
            24.25,
            27.18,
            28.6,
            27.73,
            26.32,
            19.35
           ]
          },
          {
           "hoverinfo": "text",
           "hovertext": [
            "nflId:37075.0<br>displayName:Von Miller",
            "nflId:40107.0<br>displayName:Micah Hyde",
            "nflId:40166.0<br>displayName:Jordan Poyer",
            "nflId:41341.0<br>displayName:DaQuan Jones",
            "nflId:44976.0<br>displayName:Matt Milano",
            "nflId:46085.0<br>displayName:Tremaine Edmunds",
            "nflId:46190.0<br>displayName:Taron Johnson",
            "nflId:46232.0<br>displayName:Tim Settle",
            "nflId:52647.0<br>displayName:Dane Jackson",
            "nflId:53459.0<br>displayName:Gregory Rousseau",
            "nflId:54488.0<br>displayName:Kaiir Elam"
           ],
           "marker": {
            "color": "#003594"
           },
           "mode": "markers",
           "name": "BUF",
           "type": "scatter",
           "x": [
            35.77,
            21.82,
            22.08,
            36.48,
            30.54,
            30.18,
            31.87,
            35.46,
            33.97,
            35.22,
            34.53
           ],
           "y": [
            32.68,
            34.71,
            22.49,
            26.9,
            24.83,
            28.78,
            33.95,
            29.02,
            37.71,
            24.55,
            19.04
           ]
          },
          {
           "hoverinfo": "none",
           "marker": {
            "color": "#CBB67C"
           },
           "mode": "markers",
           "name": "football",
           "type": "scatter",
           "x": [
            39.4000015258789
           ],
           "y": [
            27.5499992370605
           ]
          }
         ],
         "name": "15"
        },
        {
         "data": [
          {
           "hoverinfo": "none",
           "mode": "text",
           "showlegend": false,
           "text": [
            "10",
            "20",
            "30",
            "40",
            "50",
            "40",
            "30",
            "20",
            "10"
           ],
           "textfont": {
            "color": "#ffffff",
            "family": "Courier New, monospace",
            "size": 30
           },
           "type": "scatter",
           "x": [
            20,
            30,
            40,
            50,
            60,
            70,
            80,
            90,
            100
           ],
           "y": [
            5,
            5,
            5,
            5,
            5,
            5,
            5,
            5,
            5
           ]
          },
          {
           "hoverinfo": "none",
           "mode": "text",
           "showlegend": false,
           "text": [
            "10",
            "20",
            "30",
            "40",
            "50",
            "40",
            "30",
            "20",
            "10"
           ],
           "textfont": {
            "color": "#ffffff",
            "family": "Courier New, monospace",
            "size": 30
           },
           "type": "scatter",
           "x": [
            20,
            30,
            40,
            50,
            60,
            70,
            80,
            90,
            100
           ],
           "y": [
            48.5,
            48.5,
            48.5,
            48.5,
            48.5,
            48.5,
            48.5,
            48.5,
            48.5
           ]
          },
          {
           "hoverinfo": "none",
           "line": {
            "color": "blue",
            "dash": "dash"
           },
           "showlegend": false,
           "type": "scatter",
           "x": [
            35,
            35
           ],
           "y": [
            0,
            53.5
           ]
          },
          {
           "hoverinfo": "none",
           "line": {
            "color": "yellow",
            "dash": "dash"
           },
           "showlegend": false,
           "type": "scatter",
           "x": [
            25,
            25
           ],
           "y": [
            0,
            53.5
           ]
          },
          {
           "hoverinfo": "text",
           "hovertext": [
            "nflId:34452.0<br>displayName:Matthew Stafford",
            "nflId:41290.0<br>displayName:Allen Robinson",
            "nflId:42400.0<br>displayName:Rob Havenstein",
            "nflId:43399.0<br>displayName:Tyler Higbee",
            "nflId:44881.0<br>displayName:Cooper Kupp",
            "nflId:46158.0<br>displayName:Joseph Noteboom",
            "nflId:46180.0<br>displayName:Brian Allen",
            "nflId:46376.0<br>displayName:Coleman Shelton",
            "nflId:47853.0<br>displayName:Darrell Henderson",
            "nflId:47952.0<br>displayName:David Edwards",
            "nflId:53678.0<br>displayName:Ben Skowronek"
           ],
           "marker": {
            "color": "#D50A0A"
           },
           "mode": "markers",
           "name": "LA",
           "type": "scatter",
           "x": [
            38.47,
            34.91,
            35.08,
            35.23,
            36.67,
            36.07,
            34.34,
            35.38,
            42.07,
            36.96,
            35.35
           ],
           "y": [
            28.76,
            36.68,
            30.82,
            23.37,
            31.96,
            23.93,
            26.78,
            28.21,
            27.24,
            26.18,
            19.18
           ]
          },
          {
           "hoverinfo": "text",
           "hovertext": [
            "nflId:37075.0<br>displayName:Von Miller",
            "nflId:40107.0<br>displayName:Micah Hyde",
            "nflId:40166.0<br>displayName:Jordan Poyer",
            "nflId:41341.0<br>displayName:DaQuan Jones",
            "nflId:44976.0<br>displayName:Matt Milano",
            "nflId:46085.0<br>displayName:Tremaine Edmunds",
            "nflId:46190.0<br>displayName:Taron Johnson",
            "nflId:46232.0<br>displayName:Tim Settle",
            "nflId:52647.0<br>displayName:Dane Jackson",
            "nflId:53459.0<br>displayName:Gregory Rousseau",
            "nflId:54488.0<br>displayName:Kaiir Elam"
           ],
           "marker": {
            "color": "#003594"
           },
           "mode": "markers",
           "name": "BUF",
           "type": "scatter",
           "x": [
            36.06,
            21.68,
            22.03,
            36.79,
            30.71,
            30.3,
            31.92,
            35.6,
            33.9,
            35.4,
            34.44
           ],
           "y": [
            32.49,
            34.63,
            22.31,
            26.8,
            24.4,
            28.35,
            33.75,
            28.69,
            37.72,
            24.38,
            18.83
           ]
          },
          {
           "hoverinfo": "none",
           "marker": {
            "color": "#CBB67C"
           },
           "mode": "markers",
           "name": "football",
           "type": "scatter",
           "x": [
            39.9199981689453
           ],
           "y": [
            27.0200004577637
           ]
          }
         ],
         "name": "16"
        },
        {
         "data": [
          {
           "hoverinfo": "none",
           "mode": "text",
           "showlegend": false,
           "text": [
            "10",
            "20",
            "30",
            "40",
            "50",
            "40",
            "30",
            "20",
            "10"
           ],
           "textfont": {
            "color": "#ffffff",
            "family": "Courier New, monospace",
            "size": 30
           },
           "type": "scatter",
           "x": [
            20,
            30,
            40,
            50,
            60,
            70,
            80,
            90,
            100
           ],
           "y": [
            5,
            5,
            5,
            5,
            5,
            5,
            5,
            5,
            5
           ]
          },
          {
           "hoverinfo": "none",
           "mode": "text",
           "showlegend": false,
           "text": [
            "10",
            "20",
            "30",
            "40",
            "50",
            "40",
            "30",
            "20",
            "10"
           ],
           "textfont": {
            "color": "#ffffff",
            "family": "Courier New, monospace",
            "size": 30
           },
           "type": "scatter",
           "x": [
            20,
            30,
            40,
            50,
            60,
            70,
            80,
            90,
            100
           ],
           "y": [
            48.5,
            48.5,
            48.5,
            48.5,
            48.5,
            48.5,
            48.5,
            48.5,
            48.5
           ]
          },
          {
           "hoverinfo": "none",
           "line": {
            "color": "blue",
            "dash": "dash"
           },
           "showlegend": false,
           "type": "scatter",
           "x": [
            35,
            35
           ],
           "y": [
            0,
            53.5
           ]
          },
          {
           "hoverinfo": "none",
           "line": {
            "color": "yellow",
            "dash": "dash"
           },
           "showlegend": false,
           "type": "scatter",
           "x": [
            25,
            25
           ],
           "y": [
            0,
            53.5
           ]
          },
          {
           "hoverinfo": "text",
           "hovertext": [
            "nflId:34452.0<br>displayName:Matthew Stafford",
            "nflId:41290.0<br>displayName:Allen Robinson",
            "nflId:42400.0<br>displayName:Rob Havenstein",
            "nflId:43399.0<br>displayName:Tyler Higbee",
            "nflId:44881.0<br>displayName:Cooper Kupp",
            "nflId:46158.0<br>displayName:Joseph Noteboom",
            "nflId:46180.0<br>displayName:Brian Allen",
            "nflId:46376.0<br>displayName:Coleman Shelton",
            "nflId:47853.0<br>displayName:Darrell Henderson",
            "nflId:47952.0<br>displayName:David Edwards",
            "nflId:53678.0<br>displayName:Ben Skowronek"
           ],
           "marker": {
            "color": "#D50A0A"
           },
           "mode": "markers",
           "name": "LA",
           "type": "scatter",
           "x": [
            38.83,
            34.76,
            34.89,
            35.05,
            36.65,
            36.11,
            34.13,
            35.32,
            42.02,
            37.13,
            35.09
           ],
           "y": [
            28.69,
            36.56,
            30.53,
            23.03,
            31.49,
            23.62,
            26.37,
            27.82,
            26.69,
            26.06,
            18.97
           ]
          },
          {
           "hoverinfo": "text",
           "hovertext": [
            "nflId:37075.0<br>displayName:Von Miller",
            "nflId:40107.0<br>displayName:Micah Hyde",
            "nflId:40166.0<br>displayName:Jordan Poyer",
            "nflId:41341.0<br>displayName:DaQuan Jones",
            "nflId:44976.0<br>displayName:Matt Milano",
            "nflId:46085.0<br>displayName:Tremaine Edmunds",
            "nflId:46190.0<br>displayName:Taron Johnson",
            "nflId:46232.0<br>displayName:Tim Settle",
            "nflId:52647.0<br>displayName:Dane Jackson",
            "nflId:53459.0<br>displayName:Gregory Rousseau",
            "nflId:54488.0<br>displayName:Kaiir Elam"
           ],
           "marker": {
            "color": "#003594"
           },
           "mode": "markers",
           "name": "BUF",
           "type": "scatter",
           "x": [
            36.38,
            21.55,
            22,
            37.11,
            30.91,
            30.4,
            31.98,
            35.75,
            33.82,
            35.59,
            34.34
           ],
           "y": [
            32.28,
            34.52,
            22.08,
            26.69,
            23.93,
            27.86,
            33.5,
            28.34,
            37.7,
            24.19,
            18.57
           ]
          },
          {
           "hoverinfo": "none",
           "marker": {
            "color": "#CBB67C"
           },
           "mode": "markers",
           "name": "football",
           "type": "scatter",
           "x": [
            40.3800010681152
           ],
           "y": [
            26.4500007629395
           ]
          }
         ],
         "name": "17"
        },
        {
         "data": [
          {
           "hoverinfo": "none",
           "mode": "text",
           "showlegend": false,
           "text": [
            "10",
            "20",
            "30",
            "40",
            "50",
            "40",
            "30",
            "20",
            "10"
           ],
           "textfont": {
            "color": "#ffffff",
            "family": "Courier New, monospace",
            "size": 30
           },
           "type": "scatter",
           "x": [
            20,
            30,
            40,
            50,
            60,
            70,
            80,
            90,
            100
           ],
           "y": [
            5,
            5,
            5,
            5,
            5,
            5,
            5,
            5,
            5
           ]
          },
          {
           "hoverinfo": "none",
           "mode": "text",
           "showlegend": false,
           "text": [
            "10",
            "20",
            "30",
            "40",
            "50",
            "40",
            "30",
            "20",
            "10"
           ],
           "textfont": {
            "color": "#ffffff",
            "family": "Courier New, monospace",
            "size": 30
           },
           "type": "scatter",
           "x": [
            20,
            30,
            40,
            50,
            60,
            70,
            80,
            90,
            100
           ],
           "y": [
            48.5,
            48.5,
            48.5,
            48.5,
            48.5,
            48.5,
            48.5,
            48.5,
            48.5
           ]
          },
          {
           "hoverinfo": "none",
           "line": {
            "color": "blue",
            "dash": "dash"
           },
           "showlegend": false,
           "type": "scatter",
           "x": [
            35,
            35
           ],
           "y": [
            0,
            53.5
           ]
          },
          {
           "hoverinfo": "none",
           "line": {
            "color": "yellow",
            "dash": "dash"
           },
           "showlegend": false,
           "type": "scatter",
           "x": [
            25,
            25
           ],
           "y": [
            0,
            53.5
           ]
          },
          {
           "hoverinfo": "text",
           "hovertext": [
            "nflId:34452.0<br>displayName:Matthew Stafford",
            "nflId:41290.0<br>displayName:Allen Robinson",
            "nflId:42400.0<br>displayName:Rob Havenstein",
            "nflId:43399.0<br>displayName:Tyler Higbee",
            "nflId:44881.0<br>displayName:Cooper Kupp",
            "nflId:46158.0<br>displayName:Joseph Noteboom",
            "nflId:46180.0<br>displayName:Brian Allen",
            "nflId:46376.0<br>displayName:Coleman Shelton",
            "nflId:47853.0<br>displayName:Darrell Henderson",
            "nflId:47952.0<br>displayName:David Edwards",
            "nflId:53678.0<br>displayName:Ben Skowronek"
           ],
           "marker": {
            "color": "#D50A0A"
           },
           "mode": "markers",
           "name": "LA",
           "type": "scatter",
           "x": [
            39.21,
            34.59,
            34.7,
            34.88,
            36.63,
            36.15,
            33.9,
            35.28,
            41.97,
            37.31,
            34.83
           ],
           "y": [
            28.64,
            36.41,
            30.23,
            22.63,
            31,
            23.31,
            25.94,
            27.44,
            26.11,
            25.94,
            18.75
           ]
          },
          {
           "hoverinfo": "text",
           "hovertext": [
            "nflId:37075.0<br>displayName:Von Miller",
            "nflId:40107.0<br>displayName:Micah Hyde",
            "nflId:40166.0<br>displayName:Jordan Poyer",
            "nflId:41341.0<br>displayName:DaQuan Jones",
            "nflId:44976.0<br>displayName:Matt Milano",
            "nflId:46085.0<br>displayName:Tremaine Edmunds",
            "nflId:46190.0<br>displayName:Taron Johnson",
            "nflId:46232.0<br>displayName:Tim Settle",
            "nflId:52647.0<br>displayName:Dane Jackson",
            "nflId:53459.0<br>displayName:Gregory Rousseau",
            "nflId:54488.0<br>displayName:Kaiir Elam"
           ],
           "marker": {
            "color": "#003594"
           },
           "mode": "markers",
           "name": "BUF",
           "type": "scatter",
           "x": [
            36.71,
            21.41,
            21.98,
            37.45,
            31.12,
            30.5,
            32.06,
            35.9,
            33.72,
            35.79,
            34.24
           ],
           "y": [
            32.05,
            34.39,
            21.81,
            26.58,
            23.42,
            27.32,
            33.2,
            27.94,
            37.65,
            23.99,
            18.29
           ]
          },
          {
           "hoverinfo": "none",
           "marker": {
            "color": "#CBB67C"
           },
           "mode": "markers",
           "name": "football",
           "type": "scatter",
           "x": [
            40.8300018310547
           ],
           "y": [
            25.8500003814697
           ]
          }
         ],
         "name": "18"
        },
        {
         "data": [
          {
           "hoverinfo": "none",
           "mode": "text",
           "showlegend": false,
           "text": [
            "10",
            "20",
            "30",
            "40",
            "50",
            "40",
            "30",
            "20",
            "10"
           ],
           "textfont": {
            "color": "#ffffff",
            "family": "Courier New, monospace",
            "size": 30
           },
           "type": "scatter",
           "x": [
            20,
            30,
            40,
            50,
            60,
            70,
            80,
            90,
            100
           ],
           "y": [
            5,
            5,
            5,
            5,
            5,
            5,
            5,
            5,
            5
           ]
          },
          {
           "hoverinfo": "none",
           "mode": "text",
           "showlegend": false,
           "text": [
            "10",
            "20",
            "30",
            "40",
            "50",
            "40",
            "30",
            "20",
            "10"
           ],
           "textfont": {
            "color": "#ffffff",
            "family": "Courier New, monospace",
            "size": 30
           },
           "type": "scatter",
           "x": [
            20,
            30,
            40,
            50,
            60,
            70,
            80,
            90,
            100
           ],
           "y": [
            48.5,
            48.5,
            48.5,
            48.5,
            48.5,
            48.5,
            48.5,
            48.5,
            48.5
           ]
          },
          {
           "hoverinfo": "none",
           "line": {
            "color": "blue",
            "dash": "dash"
           },
           "showlegend": false,
           "type": "scatter",
           "x": [
            35,
            35
           ],
           "y": [
            0,
            53.5
           ]
          },
          {
           "hoverinfo": "none",
           "line": {
            "color": "yellow",
            "dash": "dash"
           },
           "showlegend": false,
           "type": "scatter",
           "x": [
            25,
            25
           ],
           "y": [
            0,
            53.5
           ]
          },
          {
           "hoverinfo": "text",
           "hovertext": [
            "nflId:34452.0<br>displayName:Matthew Stafford",
            "nflId:41290.0<br>displayName:Allen Robinson",
            "nflId:42400.0<br>displayName:Rob Havenstein",
            "nflId:43399.0<br>displayName:Tyler Higbee",
            "nflId:44881.0<br>displayName:Cooper Kupp",
            "nflId:46158.0<br>displayName:Joseph Noteboom",
            "nflId:46180.0<br>displayName:Brian Allen",
            "nflId:46376.0<br>displayName:Coleman Shelton",
            "nflId:47853.0<br>displayName:Darrell Henderson",
            "nflId:47952.0<br>displayName:David Edwards",
            "nflId:53678.0<br>displayName:Ben Skowronek"
           ],
           "marker": {
            "color": "#D50A0A"
           },
           "mode": "markers",
           "name": "LA",
           "type": "scatter",
           "x": [
            39.59,
            34.41,
            34.51,
            34.69,
            36.62,
            36.21,
            33.66,
            35.28,
            41.93,
            37.49,
            34.6
           ],
           "y": [
            28.63,
            36.23,
            29.93,
            22.23,
            30.51,
            23.02,
            25.49,
            27.03,
            25.5,
            25.84,
            18.49
           ]
          },
          {
           "hoverinfo": "text",
           "hovertext": [
            "nflId:37075.0<br>displayName:Von Miller",
            "nflId:40107.0<br>displayName:Micah Hyde",
            "nflId:40166.0<br>displayName:Jordan Poyer",
            "nflId:41341.0<br>displayName:DaQuan Jones",
            "nflId:44976.0<br>displayName:Matt Milano",
            "nflId:46085.0<br>displayName:Tremaine Edmunds",
            "nflId:46190.0<br>displayName:Taron Johnson",
            "nflId:46232.0<br>displayName:Tim Settle",
            "nflId:52647.0<br>displayName:Dane Jackson",
            "nflId:53459.0<br>displayName:Gregory Rousseau",
            "nflId:54488.0<br>displayName:Kaiir Elam"
           ],
           "marker": {
            "color": "#003594"
           },
           "mode": "markers",
           "name": "BUF",
           "type": "scatter",
           "x": [
            37.03,
            21.28,
            21.98,
            37.77,
            31.35,
            30.6,
            32.14,
            36.04,
            33.6,
            36.02,
            34.14
           ],
           "y": [
            31.79,
            34.22,
            21.5,
            26.47,
            22.88,
            26.76,
            32.86,
            27.53,
            37.54,
            23.74,
            17.97
           ]
          },
          {
           "hoverinfo": "none",
           "marker": {
            "color": "#CBB67C"
           },
           "mode": "markers",
           "name": "football",
           "type": "scatter",
           "x": [
            41.1800003051758
           ],
           "y": [
            25.2199993133545
           ]
          }
         ],
         "name": "19"
        },
        {
         "data": [
          {
           "hoverinfo": "none",
           "mode": "text",
           "showlegend": false,
           "text": [
            "10",
            "20",
            "30",
            "40",
            "50",
            "40",
            "30",
            "20",
            "10"
           ],
           "textfont": {
            "color": "#ffffff",
            "family": "Courier New, monospace",
            "size": 30
           },
           "type": "scatter",
           "x": [
            20,
            30,
            40,
            50,
            60,
            70,
            80,
            90,
            100
           ],
           "y": [
            5,
            5,
            5,
            5,
            5,
            5,
            5,
            5,
            5
           ]
          },
          {
           "hoverinfo": "none",
           "mode": "text",
           "showlegend": false,
           "text": [
            "10",
            "20",
            "30",
            "40",
            "50",
            "40",
            "30",
            "20",
            "10"
           ],
           "textfont": {
            "color": "#ffffff",
            "family": "Courier New, monospace",
            "size": 30
           },
           "type": "scatter",
           "x": [
            20,
            30,
            40,
            50,
            60,
            70,
            80,
            90,
            100
           ],
           "y": [
            48.5,
            48.5,
            48.5,
            48.5,
            48.5,
            48.5,
            48.5,
            48.5,
            48.5
           ]
          },
          {
           "hoverinfo": "none",
           "line": {
            "color": "blue",
            "dash": "dash"
           },
           "showlegend": false,
           "type": "scatter",
           "x": [
            35,
            35
           ],
           "y": [
            0,
            53.5
           ]
          },
          {
           "hoverinfo": "none",
           "line": {
            "color": "yellow",
            "dash": "dash"
           },
           "showlegend": false,
           "type": "scatter",
           "x": [
            25,
            25
           ],
           "y": [
            0,
            53.5
           ]
          },
          {
           "hoverinfo": "text",
           "hovertext": [
            "nflId:34452.0<br>displayName:Matthew Stafford",
            "nflId:41290.0<br>displayName:Allen Robinson",
            "nflId:42400.0<br>displayName:Rob Havenstein",
            "nflId:43399.0<br>displayName:Tyler Higbee",
            "nflId:44881.0<br>displayName:Cooper Kupp",
            "nflId:46158.0<br>displayName:Joseph Noteboom",
            "nflId:46180.0<br>displayName:Brian Allen",
            "nflId:46376.0<br>displayName:Coleman Shelton",
            "nflId:47853.0<br>displayName:Darrell Henderson",
            "nflId:47952.0<br>displayName:David Edwards",
            "nflId:53678.0<br>displayName:Ben Skowronek"
           ],
           "marker": {
            "color": "#D50A0A"
           },
           "mode": "markers",
           "name": "LA",
           "type": "scatter",
           "x": [
            39.97,
            34.21,
            34.32,
            34.5,
            36.62,
            36.3,
            33.41,
            35.29,
            41.88,
            37.7,
            34.4
           ],
           "y": [
            28.66,
            36.04,
            29.63,
            21.82,
            30.03,
            22.73,
            25.02,
            26.61,
            24.86,
            25.73,
            18.21
           ]
          },
          {
           "hoverinfo": "text",
           "hovertext": [
            "nflId:37075.0<br>displayName:Von Miller",
            "nflId:40107.0<br>displayName:Micah Hyde",
            "nflId:40166.0<br>displayName:Jordan Poyer",
            "nflId:41341.0<br>displayName:DaQuan Jones",
            "nflId:44976.0<br>displayName:Matt Milano",
            "nflId:46085.0<br>displayName:Tremaine Edmunds",
            "nflId:46190.0<br>displayName:Taron Johnson",
            "nflId:46232.0<br>displayName:Tim Settle",
            "nflId:52647.0<br>displayName:Dane Jackson",
            "nflId:53459.0<br>displayName:Gregory Rousseau",
            "nflId:54488.0<br>displayName:Kaiir Elam"
           ],
           "marker": {
            "color": "#003594"
           },
           "mode": "markers",
           "name": "BUF",
           "type": "scatter",
           "x": [
            37.33,
            21.18,
            22.01,
            38.08,
            31.58,
            30.67,
            32.22,
            36.16,
            33.45,
            36.26,
            34.04
           ],
           "y": [
            31.51,
            34.02,
            21.14,
            26.36,
            22.31,
            26.17,
            32.48,
            27.1,
            37.39,
            23.46,
            17.61
           ]
          },
          {
           "hoverinfo": "none",
           "marker": {
            "color": "#CBB67C"
           },
           "mode": "markers",
           "name": "football",
           "type": "scatter",
           "x": [
            41.4300003051758
           ],
           "y": [
            24.5699996948242
           ]
          }
         ],
         "name": "20"
        },
        {
         "data": [
          {
           "hoverinfo": "none",
           "mode": "text",
           "showlegend": false,
           "text": [
            "10",
            "20",
            "30",
            "40",
            "50",
            "40",
            "30",
            "20",
            "10"
           ],
           "textfont": {
            "color": "#ffffff",
            "family": "Courier New, monospace",
            "size": 30
           },
           "type": "scatter",
           "x": [
            20,
            30,
            40,
            50,
            60,
            70,
            80,
            90,
            100
           ],
           "y": [
            5,
            5,
            5,
            5,
            5,
            5,
            5,
            5,
            5
           ]
          },
          {
           "hoverinfo": "none",
           "mode": "text",
           "showlegend": false,
           "text": [
            "10",
            "20",
            "30",
            "40",
            "50",
            "40",
            "30",
            "20",
            "10"
           ],
           "textfont": {
            "color": "#ffffff",
            "family": "Courier New, monospace",
            "size": 30
           },
           "type": "scatter",
           "x": [
            20,
            30,
            40,
            50,
            60,
            70,
            80,
            90,
            100
           ],
           "y": [
            48.5,
            48.5,
            48.5,
            48.5,
            48.5,
            48.5,
            48.5,
            48.5,
            48.5
           ]
          },
          {
           "hoverinfo": "none",
           "line": {
            "color": "blue",
            "dash": "dash"
           },
           "showlegend": false,
           "type": "scatter",
           "x": [
            35,
            35
           ],
           "y": [
            0,
            53.5
           ]
          },
          {
           "hoverinfo": "none",
           "line": {
            "color": "yellow",
            "dash": "dash"
           },
           "showlegend": false,
           "type": "scatter",
           "x": [
            25,
            25
           ],
           "y": [
            0,
            53.5
           ]
          },
          {
           "hoverinfo": "text",
           "hovertext": [
            "nflId:34452.0<br>displayName:Matthew Stafford",
            "nflId:41290.0<br>displayName:Allen Robinson",
            "nflId:42400.0<br>displayName:Rob Havenstein",
            "nflId:43399.0<br>displayName:Tyler Higbee",
            "nflId:44881.0<br>displayName:Cooper Kupp",
            "nflId:46158.0<br>displayName:Joseph Noteboom",
            "nflId:46180.0<br>displayName:Brian Allen",
            "nflId:46376.0<br>displayName:Coleman Shelton",
            "nflId:47853.0<br>displayName:Darrell Henderson",
            "nflId:47952.0<br>displayName:David Edwards",
            "nflId:53678.0<br>displayName:Ben Skowronek"
           ],
           "marker": {
            "color": "#D50A0A"
           },
           "mode": "markers",
           "name": "LA",
           "type": "scatter",
           "x": [
            40.35,
            34.01,
            34.11,
            34.32,
            36.63,
            36.42,
            33.16,
            35.35,
            41.81,
            37.9,
            34.24
           ],
           "y": [
            28.74,
            35.84,
            29.3,
            21.39,
            29.56,
            22.45,
            24.55,
            26.17,
            24.2,
            25.63,
            17.91
           ]
          },
          {
           "hoverinfo": "text",
           "hovertext": [
            "nflId:37075.0<br>displayName:Von Miller",
            "nflId:40107.0<br>displayName:Micah Hyde",
            "nflId:40166.0<br>displayName:Jordan Poyer",
            "nflId:41341.0<br>displayName:DaQuan Jones",
            "nflId:44976.0<br>displayName:Matt Milano",
            "nflId:46085.0<br>displayName:Tremaine Edmunds",
            "nflId:46190.0<br>displayName:Taron Johnson",
            "nflId:46232.0<br>displayName:Tim Settle",
            "nflId:52647.0<br>displayName:Dane Jackson",
            "nflId:53459.0<br>displayName:Gregory Rousseau",
            "nflId:54488.0<br>displayName:Kaiir Elam"
           ],
           "marker": {
            "color": "#003594"
           },
           "mode": "markers",
           "name": "BUF",
           "type": "scatter",
           "x": [
            37.62,
            21.08,
            22.08,
            38.39,
            31.83,
            30.74,
            32.3,
            36.28,
            33.28,
            36.53,
            33.95
           ],
           "y": [
            31.19,
            33.79,
            20.74,
            26.22,
            21.72,
            25.55,
            32.09,
            26.62,
            37.19,
            23.18,
            17.23
           ]
          },
          {
           "hoverinfo": "none",
           "marker": {
            "color": "#CBB67C"
           },
           "mode": "markers",
           "name": "football",
           "type": "scatter",
           "x": [
            41.6300010681152
           ],
           "y": [
            23.9200000762939
           ]
          }
         ],
         "name": "21"
        },
        {
         "data": [
          {
           "hoverinfo": "none",
           "mode": "text",
           "showlegend": false,
           "text": [
            "10",
            "20",
            "30",
            "40",
            "50",
            "40",
            "30",
            "20",
            "10"
           ],
           "textfont": {
            "color": "#ffffff",
            "family": "Courier New, monospace",
            "size": 30
           },
           "type": "scatter",
           "x": [
            20,
            30,
            40,
            50,
            60,
            70,
            80,
            90,
            100
           ],
           "y": [
            5,
            5,
            5,
            5,
            5,
            5,
            5,
            5,
            5
           ]
          },
          {
           "hoverinfo": "none",
           "mode": "text",
           "showlegend": false,
           "text": [
            "10",
            "20",
            "30",
            "40",
            "50",
            "40",
            "30",
            "20",
            "10"
           ],
           "textfont": {
            "color": "#ffffff",
            "family": "Courier New, monospace",
            "size": 30
           },
           "type": "scatter",
           "x": [
            20,
            30,
            40,
            50,
            60,
            70,
            80,
            90,
            100
           ],
           "y": [
            48.5,
            48.5,
            48.5,
            48.5,
            48.5,
            48.5,
            48.5,
            48.5,
            48.5
           ]
          },
          {
           "hoverinfo": "none",
           "line": {
            "color": "blue",
            "dash": "dash"
           },
           "showlegend": false,
           "type": "scatter",
           "x": [
            35,
            35
           ],
           "y": [
            0,
            53.5
           ]
          },
          {
           "hoverinfo": "none",
           "line": {
            "color": "yellow",
            "dash": "dash"
           },
           "showlegend": false,
           "type": "scatter",
           "x": [
            25,
            25
           ],
           "y": [
            0,
            53.5
           ]
          },
          {
           "hoverinfo": "text",
           "hovertext": [
            "nflId:34452.0<br>displayName:Matthew Stafford",
            "nflId:41290.0<br>displayName:Allen Robinson",
            "nflId:42400.0<br>displayName:Rob Havenstein",
            "nflId:43399.0<br>displayName:Tyler Higbee",
            "nflId:44881.0<br>displayName:Cooper Kupp",
            "nflId:46158.0<br>displayName:Joseph Noteboom",
            "nflId:46180.0<br>displayName:Brian Allen",
            "nflId:46376.0<br>displayName:Coleman Shelton",
            "nflId:47853.0<br>displayName:Darrell Henderson",
            "nflId:47952.0<br>displayName:David Edwards",
            "nflId:53678.0<br>displayName:Ben Skowronek"
           ],
           "marker": {
            "color": "#D50A0A"
           },
           "mode": "markers",
           "name": "LA",
           "type": "scatter",
           "x": [
            40.71,
            33.8,
            33.91,
            34.16,
            36.67,
            36.54,
            32.9,
            35.41,
            41.73,
            38.1,
            34.1
           ],
           "y": [
            28.86,
            35.61,
            28.99,
            20.94,
            29.11,
            22.18,
            24.03,
            25.75,
            23.54,
            25.53,
            17.59
           ]
          },
          {
           "hoverinfo": "text",
           "hovertext": [
            "nflId:37075.0<br>displayName:Von Miller",
            "nflId:40107.0<br>displayName:Micah Hyde",
            "nflId:40166.0<br>displayName:Jordan Poyer",
            "nflId:41341.0<br>displayName:DaQuan Jones",
            "nflId:44976.0<br>displayName:Matt Milano",
            "nflId:46085.0<br>displayName:Tremaine Edmunds",
            "nflId:46190.0<br>displayName:Taron Johnson",
            "nflId:46232.0<br>displayName:Tim Settle",
            "nflId:52647.0<br>displayName:Dane Jackson",
            "nflId:53459.0<br>displayName:Gregory Rousseau",
            "nflId:54488.0<br>displayName:Kaiir Elam"
           ],
           "marker": {
            "color": "#003594"
           },
           "mode": "markers",
           "name": "BUF",
           "type": "scatter",
           "x": [
            37.87,
            21.01,
            22.19,
            38.7,
            32.09,
            30.81,
            32.38,
            36.4,
            33.1,
            36.79,
            33.88
           ],
           "y": [
            30.86,
            33.53,
            20.31,
            26.08,
            21.13,
            24.93,
            31.67,
            26.12,
            36.96,
            22.88,
            16.83
           ]
          },
          {
           "hoverinfo": "none",
           "marker": {
            "color": "#CBB67C"
           },
           "mode": "markers",
           "name": "football",
           "type": "scatter",
           "x": [
            41.7299995422363
           ],
           "y": [
            23.25
           ]
          }
         ],
         "name": "22"
        },
        {
         "data": [
          {
           "hoverinfo": "none",
           "mode": "text",
           "showlegend": false,
           "text": [
            "10",
            "20",
            "30",
            "40",
            "50",
            "40",
            "30",
            "20",
            "10"
           ],
           "textfont": {
            "color": "#ffffff",
            "family": "Courier New, monospace",
            "size": 30
           },
           "type": "scatter",
           "x": [
            20,
            30,
            40,
            50,
            60,
            70,
            80,
            90,
            100
           ],
           "y": [
            5,
            5,
            5,
            5,
            5,
            5,
            5,
            5,
            5
           ]
          },
          {
           "hoverinfo": "none",
           "mode": "text",
           "showlegend": false,
           "text": [
            "10",
            "20",
            "30",
            "40",
            "50",
            "40",
            "30",
            "20",
            "10"
           ],
           "textfont": {
            "color": "#ffffff",
            "family": "Courier New, monospace",
            "size": 30
           },
           "type": "scatter",
           "x": [
            20,
            30,
            40,
            50,
            60,
            70,
            80,
            90,
            100
           ],
           "y": [
            48.5,
            48.5,
            48.5,
            48.5,
            48.5,
            48.5,
            48.5,
            48.5,
            48.5
           ]
          },
          {
           "hoverinfo": "none",
           "line": {
            "color": "blue",
            "dash": "dash"
           },
           "showlegend": false,
           "type": "scatter",
           "x": [
            35,
            35
           ],
           "y": [
            0,
            53.5
           ]
          },
          {
           "hoverinfo": "none",
           "line": {
            "color": "yellow",
            "dash": "dash"
           },
           "showlegend": false,
           "type": "scatter",
           "x": [
            25,
            25
           ],
           "y": [
            0,
            53.5
           ]
          },
          {
           "hoverinfo": "text",
           "hovertext": [
            "nflId:34452.0<br>displayName:Matthew Stafford",
            "nflId:41290.0<br>displayName:Allen Robinson",
            "nflId:42400.0<br>displayName:Rob Havenstein",
            "nflId:43399.0<br>displayName:Tyler Higbee",
            "nflId:44881.0<br>displayName:Cooper Kupp",
            "nflId:46158.0<br>displayName:Joseph Noteboom",
            "nflId:46180.0<br>displayName:Brian Allen",
            "nflId:46376.0<br>displayName:Coleman Shelton",
            "nflId:47853.0<br>displayName:Darrell Henderson",
            "nflId:47952.0<br>displayName:David Edwards",
            "nflId:53678.0<br>displayName:Ben Skowronek"
           ],
           "marker": {
            "color": "#D50A0A"
           },
           "mode": "markers",
           "name": "LA",
           "type": "scatter",
           "x": [
            41.04,
            33.58,
            33.71,
            34.03,
            36.72,
            36.69,
            32.66,
            35.49,
            41.63,
            38.32,
            33.99
           ],
           "y": [
            29.03,
            35.37,
            28.67,
            20.48,
            28.69,
            21.92,
            23.54,
            25.3,
            22.85,
            25.42,
            17.24
           ]
          },
          {
           "hoverinfo": "text",
           "hovertext": [
            "nflId:37075.0<br>displayName:Von Miller",
            "nflId:40107.0<br>displayName:Micah Hyde",
            "nflId:40166.0<br>displayName:Jordan Poyer",
            "nflId:41341.0<br>displayName:DaQuan Jones",
            "nflId:44976.0<br>displayName:Matt Milano",
            "nflId:46085.0<br>displayName:Tremaine Edmunds",
            "nflId:46190.0<br>displayName:Taron Johnson",
            "nflId:46232.0<br>displayName:Tim Settle",
            "nflId:52647.0<br>displayName:Dane Jackson",
            "nflId:53459.0<br>displayName:Gregory Rousseau",
            "nflId:54488.0<br>displayName:Kaiir Elam"
           ],
           "marker": {
            "color": "#003594"
           },
           "mode": "markers",
           "name": "BUF",
           "type": "scatter",
           "x": [
            38.1,
            20.95,
            22.34,
            39.04,
            32.35,
            30.88,
            32.45,
            36.51,
            32.89,
            37.08,
            33.82
           ],
           "y": [
            30.5,
            33.23,
            19.86,
            25.9,
            20.53,
            24.32,
            31.23,
            25.61,
            36.7,
            22.56,
            16.42
           ]
          },
          {
           "hoverinfo": "none",
           "marker": {
            "color": "#CBB67C"
           },
           "mode": "markers",
           "name": "football",
           "type": "scatter",
           "x": [
            41.7400016784668
           ],
           "y": [
            22.5799999237061
           ]
          }
         ],
         "name": "23"
        },
        {
         "data": [
          {
           "hoverinfo": "none",
           "mode": "text",
           "showlegend": false,
           "text": [
            "10",
            "20",
            "30",
            "40",
            "50",
            "40",
            "30",
            "20",
            "10"
           ],
           "textfont": {
            "color": "#ffffff",
            "family": "Courier New, monospace",
            "size": 30
           },
           "type": "scatter",
           "x": [
            20,
            30,
            40,
            50,
            60,
            70,
            80,
            90,
            100
           ],
           "y": [
            5,
            5,
            5,
            5,
            5,
            5,
            5,
            5,
            5
           ]
          },
          {
           "hoverinfo": "none",
           "mode": "text",
           "showlegend": false,
           "text": [
            "10",
            "20",
            "30",
            "40",
            "50",
            "40",
            "30",
            "20",
            "10"
           ],
           "textfont": {
            "color": "#ffffff",
            "family": "Courier New, monospace",
            "size": 30
           },
           "type": "scatter",
           "x": [
            20,
            30,
            40,
            50,
            60,
            70,
            80,
            90,
            100
           ],
           "y": [
            48.5,
            48.5,
            48.5,
            48.5,
            48.5,
            48.5,
            48.5,
            48.5,
            48.5
           ]
          },
          {
           "hoverinfo": "none",
           "line": {
            "color": "blue",
            "dash": "dash"
           },
           "showlegend": false,
           "type": "scatter",
           "x": [
            35,
            35
           ],
           "y": [
            0,
            53.5
           ]
          },
          {
           "hoverinfo": "none",
           "line": {
            "color": "yellow",
            "dash": "dash"
           },
           "showlegend": false,
           "type": "scatter",
           "x": [
            25,
            25
           ],
           "y": [
            0,
            53.5
           ]
          },
          {
           "hoverinfo": "text",
           "hovertext": [
            "nflId:34452.0<br>displayName:Matthew Stafford",
            "nflId:41290.0<br>displayName:Allen Robinson",
            "nflId:42400.0<br>displayName:Rob Havenstein",
            "nflId:43399.0<br>displayName:Tyler Higbee",
            "nflId:44881.0<br>displayName:Cooper Kupp",
            "nflId:46158.0<br>displayName:Joseph Noteboom",
            "nflId:46180.0<br>displayName:Brian Allen",
            "nflId:46376.0<br>displayName:Coleman Shelton",
            "nflId:47853.0<br>displayName:Darrell Henderson",
            "nflId:47952.0<br>displayName:David Edwards",
            "nflId:53678.0<br>displayName:Ben Skowronek"
           ],
           "marker": {
            "color": "#D50A0A"
           },
           "mode": "markers",
           "name": "LA",
           "type": "scatter",
           "x": [
            41.35,
            33.36,
            33.52,
            33.95,
            36.79,
            36.87,
            32.43,
            35.58,
            41.49,
            38.55,
            33.92
           ],
           "y": [
            29.24,
            35.09,
            28.36,
            20,
            28.28,
            21.66,
            23.02,
            24.85,
            22.15,
            25.3,
            16.87
           ]
          },
          {
           "hoverinfo": "text",
           "hovertext": [
            "nflId:37075.0<br>displayName:Von Miller",
            "nflId:40107.0<br>displayName:Micah Hyde",
            "nflId:40166.0<br>displayName:Jordan Poyer",
            "nflId:41341.0<br>displayName:DaQuan Jones",
            "nflId:44976.0<br>displayName:Matt Milano",
            "nflId:46085.0<br>displayName:Tremaine Edmunds",
            "nflId:46190.0<br>displayName:Taron Johnson",
            "nflId:46232.0<br>displayName:Tim Settle",
            "nflId:52647.0<br>displayName:Dane Jackson",
            "nflId:53459.0<br>displayName:Gregory Rousseau",
            "nflId:54488.0<br>displayName:Kaiir Elam"
           ],
           "marker": {
            "color": "#003594"
           },
           "mode": "markers",
           "name": "BUF",
           "type": "scatter",
           "x": [
            38.27,
            20.91,
            22.52,
            39.35,
            32.63,
            30.93,
            32.5,
            36.59,
            32.64,
            37.38,
            33.79
           ],
           "y": [
            30.13,
            32.89,
            19.4,
            25.71,
            19.92,
            23.71,
            30.78,
            25.06,
            36.4,
            22.22,
            16
           ]
          },
          {
           "hoverinfo": "none",
           "marker": {
            "color": "#CBB67C"
           },
           "mode": "markers",
           "name": "football",
           "type": "scatter",
           "x": [
            41.6800003051758
           ],
           "y": [
            21.9099998474121
           ]
          }
         ],
         "name": "24"
        },
        {
         "data": [
          {
           "hoverinfo": "none",
           "mode": "text",
           "showlegend": false,
           "text": [
            "10",
            "20",
            "30",
            "40",
            "50",
            "40",
            "30",
            "20",
            "10"
           ],
           "textfont": {
            "color": "#ffffff",
            "family": "Courier New, monospace",
            "size": 30
           },
           "type": "scatter",
           "x": [
            20,
            30,
            40,
            50,
            60,
            70,
            80,
            90,
            100
           ],
           "y": [
            5,
            5,
            5,
            5,
            5,
            5,
            5,
            5,
            5
           ]
          },
          {
           "hoverinfo": "none",
           "mode": "text",
           "showlegend": false,
           "text": [
            "10",
            "20",
            "30",
            "40",
            "50",
            "40",
            "30",
            "20",
            "10"
           ],
           "textfont": {
            "color": "#ffffff",
            "family": "Courier New, monospace",
            "size": 30
           },
           "type": "scatter",
           "x": [
            20,
            30,
            40,
            50,
            60,
            70,
            80,
            90,
            100
           ],
           "y": [
            48.5,
            48.5,
            48.5,
            48.5,
            48.5,
            48.5,
            48.5,
            48.5,
            48.5
           ]
          },
          {
           "hoverinfo": "none",
           "line": {
            "color": "blue",
            "dash": "dash"
           },
           "showlegend": false,
           "type": "scatter",
           "x": [
            35,
            35
           ],
           "y": [
            0,
            53.5
           ]
          },
          {
           "hoverinfo": "none",
           "line": {
            "color": "yellow",
            "dash": "dash"
           },
           "showlegend": false,
           "type": "scatter",
           "x": [
            25,
            25
           ],
           "y": [
            0,
            53.5
           ]
          },
          {
           "hoverinfo": "text",
           "hovertext": [
            "nflId:34452.0<br>displayName:Matthew Stafford",
            "nflId:41290.0<br>displayName:Allen Robinson",
            "nflId:42400.0<br>displayName:Rob Havenstein",
            "nflId:43399.0<br>displayName:Tyler Higbee",
            "nflId:44881.0<br>displayName:Cooper Kupp",
            "nflId:46158.0<br>displayName:Joseph Noteboom",
            "nflId:46180.0<br>displayName:Brian Allen",
            "nflId:46376.0<br>displayName:Coleman Shelton",
            "nflId:47853.0<br>displayName:Darrell Henderson",
            "nflId:47952.0<br>displayName:David Edwards",
            "nflId:53678.0<br>displayName:Ben Skowronek"
           ],
           "marker": {
            "color": "#D50A0A"
           },
           "mode": "markers",
           "name": "LA",
           "type": "scatter",
           "x": [
            41.62,
            33.12,
            33.36,
            33.95,
            36.88,
            37.07,
            32.22,
            35.68,
            41.31,
            38.78,
            33.89
           ],
           "y": [
            29.47,
            34.8,
            28.05,
            19.51,
            27.91,
            21.4,
            22.5,
            24.38,
            21.45,
            25.18,
            16.48
           ]
          },
          {
           "hoverinfo": "text",
           "hovertext": [
            "nflId:37075.0<br>displayName:Von Miller",
            "nflId:40107.0<br>displayName:Micah Hyde",
            "nflId:40166.0<br>displayName:Jordan Poyer",
            "nflId:41341.0<br>displayName:DaQuan Jones",
            "nflId:44976.0<br>displayName:Matt Milano",
            "nflId:46085.0<br>displayName:Tremaine Edmunds",
            "nflId:46190.0<br>displayName:Taron Johnson",
            "nflId:46232.0<br>displayName:Tim Settle",
            "nflId:52647.0<br>displayName:Dane Jackson",
            "nflId:53459.0<br>displayName:Gregory Rousseau",
            "nflId:54488.0<br>displayName:Kaiir Elam"
           ],
           "marker": {
            "color": "#003594"
           },
           "mode": "markers",
           "name": "BUF",
           "type": "scatter",
           "x": [
            38.4,
            20.88,
            22.75,
            39.65,
            32.92,
            30.97,
            32.54,
            36.66,
            32.37,
            37.71,
            33.78
           ],
           "y": [
            29.72,
            32.52,
            18.91,
            25.53,
            19.3,
            23.1,
            30.32,
            24.49,
            36.07,
            21.84,
            15.58
           ]
          },
          {
           "hoverinfo": "none",
           "marker": {
            "color": "#CBB67C"
           },
           "mode": "markers",
           "name": "football",
           "type": "scatter",
           "x": [
            41.5400009155273
           ],
           "y": [
            21.25
           ]
          }
         ],
         "name": "25"
        },
        {
         "data": [
          {
           "hoverinfo": "none",
           "mode": "text",
           "showlegend": false,
           "text": [
            "10",
            "20",
            "30",
            "40",
            "50",
            "40",
            "30",
            "20",
            "10"
           ],
           "textfont": {
            "color": "#ffffff",
            "family": "Courier New, monospace",
            "size": 30
           },
           "type": "scatter",
           "x": [
            20,
            30,
            40,
            50,
            60,
            70,
            80,
            90,
            100
           ],
           "y": [
            5,
            5,
            5,
            5,
            5,
            5,
            5,
            5,
            5
           ]
          },
          {
           "hoverinfo": "none",
           "mode": "text",
           "showlegend": false,
           "text": [
            "10",
            "20",
            "30",
            "40",
            "50",
            "40",
            "30",
            "20",
            "10"
           ],
           "textfont": {
            "color": "#ffffff",
            "family": "Courier New, monospace",
            "size": 30
           },
           "type": "scatter",
           "x": [
            20,
            30,
            40,
            50,
            60,
            70,
            80,
            90,
            100
           ],
           "y": [
            48.5,
            48.5,
            48.5,
            48.5,
            48.5,
            48.5,
            48.5,
            48.5,
            48.5
           ]
          },
          {
           "hoverinfo": "none",
           "line": {
            "color": "blue",
            "dash": "dash"
           },
           "showlegend": false,
           "type": "scatter",
           "x": [
            35,
            35
           ],
           "y": [
            0,
            53.5
           ]
          },
          {
           "hoverinfo": "none",
           "line": {
            "color": "yellow",
            "dash": "dash"
           },
           "showlegend": false,
           "type": "scatter",
           "x": [
            25,
            25
           ],
           "y": [
            0,
            53.5
           ]
          },
          {
           "hoverinfo": "text",
           "hovertext": [
            "nflId:34452.0<br>displayName:Matthew Stafford",
            "nflId:41290.0<br>displayName:Allen Robinson",
            "nflId:42400.0<br>displayName:Rob Havenstein",
            "nflId:43399.0<br>displayName:Tyler Higbee",
            "nflId:44881.0<br>displayName:Cooper Kupp",
            "nflId:46158.0<br>displayName:Joseph Noteboom",
            "nflId:46180.0<br>displayName:Brian Allen",
            "nflId:46376.0<br>displayName:Coleman Shelton",
            "nflId:47853.0<br>displayName:Darrell Henderson",
            "nflId:47952.0<br>displayName:David Edwards",
            "nflId:53678.0<br>displayName:Ben Skowronek"
           ],
           "marker": {
            "color": "#D50A0A"
           },
           "mode": "markers",
           "name": "LA",
           "type": "scatter",
           "x": [
            41.86,
            32.89,
            33.2,
            33.98,
            36.97,
            37.29,
            32.02,
            35.78,
            41.11,
            39.02,
            33.88
           ],
           "y": [
            29.74,
            34.48,
            27.75,
            19.03,
            27.56,
            21.13,
            21.98,
            23.88,
            20.76,
            25.02,
            16.07
           ]
          },
          {
           "hoverinfo": "text",
           "hovertext": [
            "nflId:37075.0<br>displayName:Von Miller",
            "nflId:40107.0<br>displayName:Micah Hyde",
            "nflId:40166.0<br>displayName:Jordan Poyer",
            "nflId:41341.0<br>displayName:DaQuan Jones",
            "nflId:44976.0<br>displayName:Matt Milano",
            "nflId:46085.0<br>displayName:Tremaine Edmunds",
            "nflId:46190.0<br>displayName:Taron Johnson",
            "nflId:46232.0<br>displayName:Tim Settle",
            "nflId:52647.0<br>displayName:Dane Jackson",
            "nflId:53459.0<br>displayName:Gregory Rousseau",
            "nflId:54488.0<br>displayName:Kaiir Elam"
           ],
           "marker": {
            "color": "#003594"
           },
           "mode": "markers",
           "name": "BUF",
           "type": "scatter",
           "x": [
            38.48,
            20.86,
            23.03,
            39.94,
            33.21,
            30.99,
            32.56,
            36.72,
            32.09,
            38.04,
            33.79
           ],
           "y": [
            29.3,
            32.1,
            18.42,
            25.28,
            18.69,
            22.5,
            29.85,
            23.91,
            35.71,
            21.45,
            15.15
           ]
          },
          {
           "hoverinfo": "none",
           "marker": {
            "color": "#CBB67C"
           },
           "mode": "markers",
           "name": "football",
           "type": "scatter",
           "x": [
            41.3400001525879
           ],
           "y": [
            20.5900001525879
           ]
          }
         ],
         "name": "26"
        },
        {
         "data": [
          {
           "hoverinfo": "none",
           "mode": "text",
           "showlegend": false,
           "text": [
            "10",
            "20",
            "30",
            "40",
            "50",
            "40",
            "30",
            "20",
            "10"
           ],
           "textfont": {
            "color": "#ffffff",
            "family": "Courier New, monospace",
            "size": 30
           },
           "type": "scatter",
           "x": [
            20,
            30,
            40,
            50,
            60,
            70,
            80,
            90,
            100
           ],
           "y": [
            5,
            5,
            5,
            5,
            5,
            5,
            5,
            5,
            5
           ]
          },
          {
           "hoverinfo": "none",
           "mode": "text",
           "showlegend": false,
           "text": [
            "10",
            "20",
            "30",
            "40",
            "50",
            "40",
            "30",
            "20",
            "10"
           ],
           "textfont": {
            "color": "#ffffff",
            "family": "Courier New, monospace",
            "size": 30
           },
           "type": "scatter",
           "x": [
            20,
            30,
            40,
            50,
            60,
            70,
            80,
            90,
            100
           ],
           "y": [
            48.5,
            48.5,
            48.5,
            48.5,
            48.5,
            48.5,
            48.5,
            48.5,
            48.5
           ]
          },
          {
           "hoverinfo": "none",
           "line": {
            "color": "blue",
            "dash": "dash"
           },
           "showlegend": false,
           "type": "scatter",
           "x": [
            35,
            35
           ],
           "y": [
            0,
            53.5
           ]
          },
          {
           "hoverinfo": "none",
           "line": {
            "color": "yellow",
            "dash": "dash"
           },
           "showlegend": false,
           "type": "scatter",
           "x": [
            25,
            25
           ],
           "y": [
            0,
            53.5
           ]
          },
          {
           "hoverinfo": "text",
           "hovertext": [
            "nflId:34452.0<br>displayName:Matthew Stafford",
            "nflId:41290.0<br>displayName:Allen Robinson",
            "nflId:42400.0<br>displayName:Rob Havenstein",
            "nflId:43399.0<br>displayName:Tyler Higbee",
            "nflId:44881.0<br>displayName:Cooper Kupp",
            "nflId:46158.0<br>displayName:Joseph Noteboom",
            "nflId:46180.0<br>displayName:Brian Allen",
            "nflId:46376.0<br>displayName:Coleman Shelton",
            "nflId:47853.0<br>displayName:Darrell Henderson",
            "nflId:47952.0<br>displayName:David Edwards",
            "nflId:53678.0<br>displayName:Ben Skowronek"
           ],
           "marker": {
            "color": "#D50A0A"
           },
           "mode": "markers",
           "name": "LA",
           "type": "scatter",
           "x": [
            42.07,
            32.65,
            33.05,
            34.05,
            37.07,
            37.53,
            31.84,
            35.87,
            40.88,
            39.26,
            33.9
           ],
           "y": [
            30.02,
            34.14,
            27.45,
            18.54,
            27.24,
            20.87,
            21.45,
            23.39,
            20.08,
            24.84,
            15.64
           ]
          },
          {
           "hoverinfo": "text",
           "hovertext": [
            "nflId:37075.0<br>displayName:Von Miller",
            "nflId:40107.0<br>displayName:Micah Hyde",
            "nflId:40166.0<br>displayName:Jordan Poyer",
            "nflId:41341.0<br>displayName:DaQuan Jones",
            "nflId:44976.0<br>displayName:Matt Milano",
            "nflId:46085.0<br>displayName:Tremaine Edmunds",
            "nflId:46190.0<br>displayName:Taron Johnson",
            "nflId:46232.0<br>displayName:Tim Settle",
            "nflId:52647.0<br>displayName:Dane Jackson",
            "nflId:53459.0<br>displayName:Gregory Rousseau",
            "nflId:54488.0<br>displayName:Kaiir Elam"
           ],
           "marker": {
            "color": "#003594"
           },
           "mode": "markers",
           "name": "BUF",
           "type": "scatter",
           "x": [
            38.52,
            20.84,
            23.35,
            40.22,
            33.51,
            30.99,
            32.56,
            36.76,
            31.79,
            38.39,
            33.83
           ],
           "y": [
            28.87,
            31.63,
            17.92,
            24.97,
            18.07,
            21.89,
            29.39,
            23.32,
            35.33,
            21.03,
            14.71
           ]
          },
          {
           "hoverinfo": "none",
           "marker": {
            "color": "#CBB67C"
           },
           "mode": "markers",
           "name": "football",
           "type": "scatter",
           "x": [
            41.060001373291
           ],
           "y": [
            19.9300003051758
           ]
          }
         ],
         "name": "27"
        },
        {
         "data": [
          {
           "hoverinfo": "none",
           "mode": "text",
           "showlegend": false,
           "text": [
            "10",
            "20",
            "30",
            "40",
            "50",
            "40",
            "30",
            "20",
            "10"
           ],
           "textfont": {
            "color": "#ffffff",
            "family": "Courier New, monospace",
            "size": 30
           },
           "type": "scatter",
           "x": [
            20,
            30,
            40,
            50,
            60,
            70,
            80,
            90,
            100
           ],
           "y": [
            5,
            5,
            5,
            5,
            5,
            5,
            5,
            5,
            5
           ]
          },
          {
           "hoverinfo": "none",
           "mode": "text",
           "showlegend": false,
           "text": [
            "10",
            "20",
            "30",
            "40",
            "50",
            "40",
            "30",
            "20",
            "10"
           ],
           "textfont": {
            "color": "#ffffff",
            "family": "Courier New, monospace",
            "size": 30
           },
           "type": "scatter",
           "x": [
            20,
            30,
            40,
            50,
            60,
            70,
            80,
            90,
            100
           ],
           "y": [
            48.5,
            48.5,
            48.5,
            48.5,
            48.5,
            48.5,
            48.5,
            48.5,
            48.5
           ]
          },
          {
           "hoverinfo": "none",
           "line": {
            "color": "blue",
            "dash": "dash"
           },
           "showlegend": false,
           "type": "scatter",
           "x": [
            35,
            35
           ],
           "y": [
            0,
            53.5
           ]
          },
          {
           "hoverinfo": "none",
           "line": {
            "color": "yellow",
            "dash": "dash"
           },
           "showlegend": false,
           "type": "scatter",
           "x": [
            25,
            25
           ],
           "y": [
            0,
            53.5
           ]
          },
          {
           "hoverinfo": "text",
           "hovertext": [
            "nflId:34452.0<br>displayName:Matthew Stafford",
            "nflId:41290.0<br>displayName:Allen Robinson",
            "nflId:42400.0<br>displayName:Rob Havenstein",
            "nflId:43399.0<br>displayName:Tyler Higbee",
            "nflId:44881.0<br>displayName:Cooper Kupp",
            "nflId:46158.0<br>displayName:Joseph Noteboom",
            "nflId:46180.0<br>displayName:Brian Allen",
            "nflId:46376.0<br>displayName:Coleman Shelton",
            "nflId:47853.0<br>displayName:Darrell Henderson",
            "nflId:47952.0<br>displayName:David Edwards",
            "nflId:53678.0<br>displayName:Ben Skowronek"
           ],
           "marker": {
            "color": "#D50A0A"
           },
           "mode": "markers",
           "name": "LA",
           "type": "scatter",
           "x": [
            42.25,
            32.4,
            32.9,
            34.16,
            37.17,
            37.8,
            31.71,
            35.95,
            40.61,
            39.48,
            33.94
           ],
           "y": [
            30.32,
            33.79,
            27.16,
            18.05,
            26.94,
            20.61,
            20.91,
            22.9,
            19.4,
            24.63,
            15.21
           ]
          },
          {
           "hoverinfo": "text",
           "hovertext": [
            "nflId:37075.0<br>displayName:Von Miller",
            "nflId:40107.0<br>displayName:Micah Hyde",
            "nflId:40166.0<br>displayName:Jordan Poyer",
            "nflId:41341.0<br>displayName:DaQuan Jones",
            "nflId:44976.0<br>displayName:Matt Milano",
            "nflId:46085.0<br>displayName:Tremaine Edmunds",
            "nflId:46190.0<br>displayName:Taron Johnson",
            "nflId:46232.0<br>displayName:Tim Settle",
            "nflId:52647.0<br>displayName:Dane Jackson",
            "nflId:53459.0<br>displayName:Gregory Rousseau",
            "nflId:54488.0<br>displayName:Kaiir Elam"
           ],
           "marker": {
            "color": "#003594"
           },
           "mode": "markers",
           "name": "BUF",
           "type": "scatter",
           "x": [
            38.51,
            20.83,
            23.7,
            40.48,
            33.8,
            30.98,
            32.52,
            36.76,
            31.47,
            38.74,
            33.88
           ],
           "y": [
            28.43,
            31.14,
            17.42,
            24.65,
            17.46,
            21.31,
            28.94,
            22.7,
            34.93,
            20.59,
            14.27
           ]
          },
          {
           "hoverinfo": "none",
           "marker": {
            "color": "#CBB67C"
           },
           "mode": "markers",
           "name": "football",
           "type": "scatter",
           "x": [
            40.7299995422363
           ],
           "y": [
            19.2800006866455
           ]
          }
         ],
         "name": "28"
        },
        {
         "data": [
          {
           "hoverinfo": "none",
           "mode": "text",
           "showlegend": false,
           "text": [
            "10",
            "20",
            "30",
            "40",
            "50",
            "40",
            "30",
            "20",
            "10"
           ],
           "textfont": {
            "color": "#ffffff",
            "family": "Courier New, monospace",
            "size": 30
           },
           "type": "scatter",
           "x": [
            20,
            30,
            40,
            50,
            60,
            70,
            80,
            90,
            100
           ],
           "y": [
            5,
            5,
            5,
            5,
            5,
            5,
            5,
            5,
            5
           ]
          },
          {
           "hoverinfo": "none",
           "mode": "text",
           "showlegend": false,
           "text": [
            "10",
            "20",
            "30",
            "40",
            "50",
            "40",
            "30",
            "20",
            "10"
           ],
           "textfont": {
            "color": "#ffffff",
            "family": "Courier New, monospace",
            "size": 30
           },
           "type": "scatter",
           "x": [
            20,
            30,
            40,
            50,
            60,
            70,
            80,
            90,
            100
           ],
           "y": [
            48.5,
            48.5,
            48.5,
            48.5,
            48.5,
            48.5,
            48.5,
            48.5,
            48.5
           ]
          },
          {
           "hoverinfo": "none",
           "line": {
            "color": "blue",
            "dash": "dash"
           },
           "showlegend": false,
           "type": "scatter",
           "x": [
            35,
            35
           ],
           "y": [
            0,
            53.5
           ]
          },
          {
           "hoverinfo": "none",
           "line": {
            "color": "yellow",
            "dash": "dash"
           },
           "showlegend": false,
           "type": "scatter",
           "x": [
            25,
            25
           ],
           "y": [
            0,
            53.5
           ]
          },
          {
           "hoverinfo": "text",
           "hovertext": [
            "nflId:34452.0<br>displayName:Matthew Stafford",
            "nflId:41290.0<br>displayName:Allen Robinson",
            "nflId:42400.0<br>displayName:Rob Havenstein",
            "nflId:43399.0<br>displayName:Tyler Higbee",
            "nflId:44881.0<br>displayName:Cooper Kupp",
            "nflId:46158.0<br>displayName:Joseph Noteboom",
            "nflId:46180.0<br>displayName:Brian Allen",
            "nflId:46376.0<br>displayName:Coleman Shelton",
            "nflId:47853.0<br>displayName:Darrell Henderson",
            "nflId:47952.0<br>displayName:David Edwards",
            "nflId:53678.0<br>displayName:Ben Skowronek"
           ],
           "marker": {
            "color": "#D50A0A"
           },
           "mode": "markers",
           "name": "LA",
           "type": "scatter",
           "x": [
            42.4,
            32.15,
            32.75,
            34.31,
            37.27,
            38.08,
            31.58,
            36.01,
            40.29,
            39.69,
            33.98
           ],
           "y": [
            30.62,
            33.41,
            26.88,
            17.55,
            26.66,
            20.36,
            20.36,
            22.37,
            18.75,
            24.41,
            14.77
           ]
          },
          {
           "hoverinfo": "text",
           "hovertext": [
            "nflId:37075.0<br>displayName:Von Miller",
            "nflId:40107.0<br>displayName:Micah Hyde",
            "nflId:40166.0<br>displayName:Jordan Poyer",
            "nflId:41341.0<br>displayName:DaQuan Jones",
            "nflId:44976.0<br>displayName:Matt Milano",
            "nflId:46085.0<br>displayName:Tremaine Edmunds",
            "nflId:46190.0<br>displayName:Taron Johnson",
            "nflId:46232.0<br>displayName:Tim Settle",
            "nflId:52647.0<br>displayName:Dane Jackson",
            "nflId:53459.0<br>displayName:Gregory Rousseau",
            "nflId:54488.0<br>displayName:Kaiir Elam"
           ],
           "marker": {
            "color": "#003594"
           },
           "mode": "markers",
           "name": "BUF",
           "type": "scatter",
           "x": [
            38.46,
            20.81,
            24.07,
            40.72,
            34.1,
            30.96,
            32.46,
            36.76,
            31.13,
            39.07,
            33.94
           ],
           "y": [
            28,
            30.61,
            16.93,
            24.32,
            16.86,
            20.73,
            28.49,
            22.07,
            34.51,
            20.13,
            13.83
           ]
          },
          {
           "hoverinfo": "none",
           "marker": {
            "color": "#CBB67C"
           },
           "mode": "markers",
           "name": "football",
           "type": "scatter",
           "x": [
            40.3600006103516
           ],
           "y": [
            18.6399993896484
           ]
          }
         ],
         "name": "29"
        },
        {
         "data": [
          {
           "hoverinfo": "none",
           "mode": "text",
           "showlegend": false,
           "text": [
            "10",
            "20",
            "30",
            "40",
            "50",
            "40",
            "30",
            "20",
            "10"
           ],
           "textfont": {
            "color": "#ffffff",
            "family": "Courier New, monospace",
            "size": 30
           },
           "type": "scatter",
           "x": [
            20,
            30,
            40,
            50,
            60,
            70,
            80,
            90,
            100
           ],
           "y": [
            5,
            5,
            5,
            5,
            5,
            5,
            5,
            5,
            5
           ]
          },
          {
           "hoverinfo": "none",
           "mode": "text",
           "showlegend": false,
           "text": [
            "10",
            "20",
            "30",
            "40",
            "50",
            "40",
            "30",
            "20",
            "10"
           ],
           "textfont": {
            "color": "#ffffff",
            "family": "Courier New, monospace",
            "size": 30
           },
           "type": "scatter",
           "x": [
            20,
            30,
            40,
            50,
            60,
            70,
            80,
            90,
            100
           ],
           "y": [
            48.5,
            48.5,
            48.5,
            48.5,
            48.5,
            48.5,
            48.5,
            48.5,
            48.5
           ]
          },
          {
           "hoverinfo": "none",
           "line": {
            "color": "blue",
            "dash": "dash"
           },
           "showlegend": false,
           "type": "scatter",
           "x": [
            35,
            35
           ],
           "y": [
            0,
            53.5
           ]
          },
          {
           "hoverinfo": "none",
           "line": {
            "color": "yellow",
            "dash": "dash"
           },
           "showlegend": false,
           "type": "scatter",
           "x": [
            25,
            25
           ],
           "y": [
            0,
            53.5
           ]
          },
          {
           "hoverinfo": "text",
           "hovertext": [
            "nflId:34452.0<br>displayName:Matthew Stafford",
            "nflId:41290.0<br>displayName:Allen Robinson",
            "nflId:42400.0<br>displayName:Rob Havenstein",
            "nflId:43399.0<br>displayName:Tyler Higbee",
            "nflId:44881.0<br>displayName:Cooper Kupp",
            "nflId:46158.0<br>displayName:Joseph Noteboom",
            "nflId:46180.0<br>displayName:Brian Allen",
            "nflId:46376.0<br>displayName:Coleman Shelton",
            "nflId:47853.0<br>displayName:Darrell Henderson",
            "nflId:47952.0<br>displayName:David Edwards",
            "nflId:53678.0<br>displayName:Ben Skowronek"
           ],
           "marker": {
            "color": "#D50A0A"
           },
           "mode": "markers",
           "name": "LA",
           "type": "scatter",
           "x": [
            42.51,
            31.91,
            32.58,
            34.48,
            37.35,
            38.37,
            31.45,
            36.04,
            39.92,
            39.9,
            34.04
           ],
           "y": [
            30.9,
            33.03,
            26.61,
            17.05,
            26.4,
            20.1,
            19.8,
            21.83,
            18.12,
            24.17,
            14.31
           ]
          },
          {
           "hoverinfo": "text",
           "hovertext": [
            "nflId:37075.0<br>displayName:Von Miller",
            "nflId:40107.0<br>displayName:Micah Hyde",
            "nflId:40166.0<br>displayName:Jordan Poyer",
            "nflId:41341.0<br>displayName:DaQuan Jones",
            "nflId:44976.0<br>displayName:Matt Milano",
            "nflId:46085.0<br>displayName:Tremaine Edmunds",
            "nflId:46190.0<br>displayName:Taron Johnson",
            "nflId:46232.0<br>displayName:Tim Settle",
            "nflId:52647.0<br>displayName:Dane Jackson",
            "nflId:53459.0<br>displayName:Gregory Rousseau",
            "nflId:54488.0<br>displayName:Kaiir Elam"
           ],
           "marker": {
            "color": "#003594"
           },
           "mode": "markers",
           "name": "BUF",
           "type": "scatter",
           "x": [
            38.37,
            20.81,
            24.47,
            40.93,
            34.39,
            30.91,
            32.37,
            36.72,
            30.8,
            39.39,
            34.01
           ],
           "y": [
            27.58,
            30.06,
            16.44,
            23.95,
            16.27,
            20.15,
            28.07,
            21.43,
            34.08,
            19.66,
            13.36
           ]
          },
          {
           "hoverinfo": "none",
           "marker": {
            "color": "#CBB67C"
           },
           "mode": "markers",
           "name": "football",
           "type": "scatter",
           "x": [
            39.9199981689453
           ],
           "y": [
            18.0400009155273
           ]
          }
         ],
         "name": "30"
        },
        {
         "data": [
          {
           "hoverinfo": "none",
           "mode": "text",
           "showlegend": false,
           "text": [
            "10",
            "20",
            "30",
            "40",
            "50",
            "40",
            "30",
            "20",
            "10"
           ],
           "textfont": {
            "color": "#ffffff",
            "family": "Courier New, monospace",
            "size": 30
           },
           "type": "scatter",
           "x": [
            20,
            30,
            40,
            50,
            60,
            70,
            80,
            90,
            100
           ],
           "y": [
            5,
            5,
            5,
            5,
            5,
            5,
            5,
            5,
            5
           ]
          },
          {
           "hoverinfo": "none",
           "mode": "text",
           "showlegend": false,
           "text": [
            "10",
            "20",
            "30",
            "40",
            "50",
            "40",
            "30",
            "20",
            "10"
           ],
           "textfont": {
            "color": "#ffffff",
            "family": "Courier New, monospace",
            "size": 30
           },
           "type": "scatter",
           "x": [
            20,
            30,
            40,
            50,
            60,
            70,
            80,
            90,
            100
           ],
           "y": [
            48.5,
            48.5,
            48.5,
            48.5,
            48.5,
            48.5,
            48.5,
            48.5,
            48.5
           ]
          },
          {
           "hoverinfo": "none",
           "line": {
            "color": "blue",
            "dash": "dash"
           },
           "showlegend": false,
           "type": "scatter",
           "x": [
            35,
            35
           ],
           "y": [
            0,
            53.5
           ]
          },
          {
           "hoverinfo": "none",
           "line": {
            "color": "yellow",
            "dash": "dash"
           },
           "showlegend": false,
           "type": "scatter",
           "x": [
            25,
            25
           ],
           "y": [
            0,
            53.5
           ]
          },
          {
           "hoverinfo": "text",
           "hovertext": [
            "nflId:34452.0<br>displayName:Matthew Stafford",
            "nflId:41290.0<br>displayName:Allen Robinson",
            "nflId:42400.0<br>displayName:Rob Havenstein",
            "nflId:43399.0<br>displayName:Tyler Higbee",
            "nflId:44881.0<br>displayName:Cooper Kupp",
            "nflId:46158.0<br>displayName:Joseph Noteboom",
            "nflId:46180.0<br>displayName:Brian Allen",
            "nflId:46376.0<br>displayName:Coleman Shelton",
            "nflId:47853.0<br>displayName:Darrell Henderson",
            "nflId:47952.0<br>displayName:David Edwards",
            "nflId:53678.0<br>displayName:Ben Skowronek"
           ],
           "marker": {
            "color": "#D50A0A"
           },
           "mode": "markers",
           "name": "LA",
           "type": "scatter",
           "x": [
            42.58,
            31.66,
            32.39,
            34.67,
            37.41,
            38.67,
            31.34,
            36.08,
            39.49,
            40.08,
            34.11
           ],
           "y": [
            31.17,
            32.63,
            26.36,
            16.53,
            26.14,
            19.83,
            19.28,
            21.29,
            17.52,
            23.91,
            13.83
           ]
          },
          {
           "hoverinfo": "text",
           "hovertext": [
            "nflId:37075.0<br>displayName:Von Miller",
            "nflId:40107.0<br>displayName:Micah Hyde",
            "nflId:40166.0<br>displayName:Jordan Poyer",
            "nflId:41341.0<br>displayName:DaQuan Jones",
            "nflId:44976.0<br>displayName:Matt Milano",
            "nflId:46085.0<br>displayName:Tremaine Edmunds",
            "nflId:46190.0<br>displayName:Taron Johnson",
            "nflId:46232.0<br>displayName:Tim Settle",
            "nflId:52647.0<br>displayName:Dane Jackson",
            "nflId:53459.0<br>displayName:Gregory Rousseau",
            "nflId:54488.0<br>displayName:Kaiir Elam"
           ],
           "marker": {
            "color": "#003594"
           },
           "mode": "markers",
           "name": "BUF",
           "type": "scatter",
           "x": [
            38.24,
            20.82,
            24.88,
            41.09,
            34.66,
            30.81,
            32.23,
            36.65,
            30.45,
            39.69,
            34.09
           ],
           "y": [
            27.18,
            29.49,
            15.96,
            23.51,
            15.69,
            19.57,
            27.68,
            20.77,
            33.63,
            19.16,
            12.89
           ]
          },
          {
           "hoverinfo": "none",
           "marker": {
            "color": "#CBB67C"
           },
           "mode": "markers",
           "name": "football",
           "type": "scatter",
           "x": [
            39.4500007629395
           ],
           "y": [
            17.4599990844727
           ]
          }
         ],
         "name": "31"
        },
        {
         "data": [
          {
           "hoverinfo": "none",
           "mode": "text",
           "showlegend": false,
           "text": [
            "10",
            "20",
            "30",
            "40",
            "50",
            "40",
            "30",
            "20",
            "10"
           ],
           "textfont": {
            "color": "#ffffff",
            "family": "Courier New, monospace",
            "size": 30
           },
           "type": "scatter",
           "x": [
            20,
            30,
            40,
            50,
            60,
            70,
            80,
            90,
            100
           ],
           "y": [
            5,
            5,
            5,
            5,
            5,
            5,
            5,
            5,
            5
           ]
          },
          {
           "hoverinfo": "none",
           "mode": "text",
           "showlegend": false,
           "text": [
            "10",
            "20",
            "30",
            "40",
            "50",
            "40",
            "30",
            "20",
            "10"
           ],
           "textfont": {
            "color": "#ffffff",
            "family": "Courier New, monospace",
            "size": 30
           },
           "type": "scatter",
           "x": [
            20,
            30,
            40,
            50,
            60,
            70,
            80,
            90,
            100
           ],
           "y": [
            48.5,
            48.5,
            48.5,
            48.5,
            48.5,
            48.5,
            48.5,
            48.5,
            48.5
           ]
          },
          {
           "hoverinfo": "none",
           "line": {
            "color": "blue",
            "dash": "dash"
           },
           "showlegend": false,
           "type": "scatter",
           "x": [
            35,
            35
           ],
           "y": [
            0,
            53.5
           ]
          },
          {
           "hoverinfo": "none",
           "line": {
            "color": "yellow",
            "dash": "dash"
           },
           "showlegend": false,
           "type": "scatter",
           "x": [
            25,
            25
           ],
           "y": [
            0,
            53.5
           ]
          },
          {
           "hoverinfo": "text",
           "hovertext": [
            "nflId:34452.0<br>displayName:Matthew Stafford",
            "nflId:41290.0<br>displayName:Allen Robinson",
            "nflId:42400.0<br>displayName:Rob Havenstein",
            "nflId:43399.0<br>displayName:Tyler Higbee",
            "nflId:44881.0<br>displayName:Cooper Kupp",
            "nflId:46158.0<br>displayName:Joseph Noteboom",
            "nflId:46180.0<br>displayName:Brian Allen",
            "nflId:46376.0<br>displayName:Coleman Shelton",
            "nflId:47853.0<br>displayName:Darrell Henderson",
            "nflId:47952.0<br>displayName:David Edwards",
            "nflId:53678.0<br>displayName:Ben Skowronek"
           ],
           "marker": {
            "color": "#D50A0A"
           },
           "mode": "markers",
           "name": "LA",
           "type": "scatter",
           "x": [
            42.62,
            31.42,
            32.19,
            34.86,
            37.45,
            38.97,
            31.23,
            36.09,
            38.98,
            40.24,
            34.18
           ],
           "y": [
            31.42,
            32.21,
            26.12,
            16,
            25.89,
            19.57,
            18.77,
            20.78,
            16.97,
            23.64,
            13.35
           ]
          },
          {
           "hoverinfo": "text",
           "hovertext": [
            "nflId:37075.0<br>displayName:Von Miller",
            "nflId:40107.0<br>displayName:Micah Hyde",
            "nflId:40166.0<br>displayName:Jordan Poyer",
            "nflId:41341.0<br>displayName:DaQuan Jones",
            "nflId:44976.0<br>displayName:Matt Milano",
            "nflId:46085.0<br>displayName:Tremaine Edmunds",
            "nflId:46190.0<br>displayName:Taron Johnson",
            "nflId:46232.0<br>displayName:Tim Settle",
            "nflId:52647.0<br>displayName:Dane Jackson",
            "nflId:53459.0<br>displayName:Gregory Rousseau",
            "nflId:54488.0<br>displayName:Kaiir Elam"
           ],
           "marker": {
            "color": "#003594"
           },
           "mode": "markers",
           "name": "BUF",
           "type": "scatter",
           "x": [
            38.08,
            20.84,
            25.31,
            41.22,
            34.92,
            30.72,
            32.06,
            36.55,
            30.1,
            39.96,
            34.15
           ],
           "y": [
            26.81,
            28.9,
            15.5,
            23.05,
            15.13,
            19.05,
            27.33,
            20.08,
            33.16,
            18.65,
            12.41
           ]
          },
          {
           "hoverinfo": "none",
           "marker": {
            "color": "#CBB67C"
           },
           "mode": "markers",
           "name": "football",
           "type": "scatter",
           "x": [
            38.9300003051758
           ],
           "y": [
            16.9400005340576
           ]
          }
         ],
         "name": "32"
        },
        {
         "data": [
          {
           "hoverinfo": "none",
           "mode": "text",
           "showlegend": false,
           "text": [
            "10",
            "20",
            "30",
            "40",
            "50",
            "40",
            "30",
            "20",
            "10"
           ],
           "textfont": {
            "color": "#ffffff",
            "family": "Courier New, monospace",
            "size": 30
           },
           "type": "scatter",
           "x": [
            20,
            30,
            40,
            50,
            60,
            70,
            80,
            90,
            100
           ],
           "y": [
            5,
            5,
            5,
            5,
            5,
            5,
            5,
            5,
            5
           ]
          },
          {
           "hoverinfo": "none",
           "mode": "text",
           "showlegend": false,
           "text": [
            "10",
            "20",
            "30",
            "40",
            "50",
            "40",
            "30",
            "20",
            "10"
           ],
           "textfont": {
            "color": "#ffffff",
            "family": "Courier New, monospace",
            "size": 30
           },
           "type": "scatter",
           "x": [
            20,
            30,
            40,
            50,
            60,
            70,
            80,
            90,
            100
           ],
           "y": [
            48.5,
            48.5,
            48.5,
            48.5,
            48.5,
            48.5,
            48.5,
            48.5,
            48.5
           ]
          },
          {
           "hoverinfo": "none",
           "line": {
            "color": "blue",
            "dash": "dash"
           },
           "showlegend": false,
           "type": "scatter",
           "x": [
            35,
            35
           ],
           "y": [
            0,
            53.5
           ]
          },
          {
           "hoverinfo": "none",
           "line": {
            "color": "yellow",
            "dash": "dash"
           },
           "showlegend": false,
           "type": "scatter",
           "x": [
            25,
            25
           ],
           "y": [
            0,
            53.5
           ]
          },
          {
           "hoverinfo": "text",
           "hovertext": [
            "nflId:34452.0<br>displayName:Matthew Stafford",
            "nflId:41290.0<br>displayName:Allen Robinson",
            "nflId:42400.0<br>displayName:Rob Havenstein",
            "nflId:43399.0<br>displayName:Tyler Higbee",
            "nflId:44881.0<br>displayName:Cooper Kupp",
            "nflId:46158.0<br>displayName:Joseph Noteboom",
            "nflId:46180.0<br>displayName:Brian Allen",
            "nflId:46376.0<br>displayName:Coleman Shelton",
            "nflId:47853.0<br>displayName:Darrell Henderson",
            "nflId:47952.0<br>displayName:David Edwards",
            "nflId:53678.0<br>displayName:Ben Skowronek"
           ],
           "marker": {
            "color": "#D50A0A"
           },
           "mode": "markers",
           "name": "LA",
           "type": "scatter",
           "x": [
            42.64,
            31.17,
            31.97,
            35.06,
            37.46,
            39.28,
            31.13,
            36.1,
            38.43,
            40.38,
            34.24
           ],
           "y": [
            31.66,
            31.78,
            25.87,
            15.46,
            25.65,
            19.31,
            18.28,
            20.24,
            16.47,
            23.35,
            12.84
           ]
          },
          {
           "hoverinfo": "text",
           "hovertext": [
            "nflId:37075.0<br>displayName:Von Miller",
            "nflId:40107.0<br>displayName:Micah Hyde",
            "nflId:40166.0<br>displayName:Jordan Poyer",
            "nflId:41341.0<br>displayName:DaQuan Jones",
            "nflId:44976.0<br>displayName:Matt Milano",
            "nflId:46085.0<br>displayName:Tremaine Edmunds",
            "nflId:46190.0<br>displayName:Taron Johnson",
            "nflId:46232.0<br>displayName:Tim Settle",
            "nflId:52647.0<br>displayName:Dane Jackson",
            "nflId:53459.0<br>displayName:Gregory Rousseau",
            "nflId:54488.0<br>displayName:Kaiir Elam"
           ],
           "marker": {
            "color": "#003594"
           },
           "mode": "markers",
           "name": "BUF",
           "type": "scatter",
           "x": [
            37.89,
            20.87,
            25.73,
            41.31,
            35.16,
            30.64,
            31.86,
            36.41,
            29.75,
            40.19,
            34.2
           ],
           "y": [
            26.47,
            28.3,
            15.06,
            22.57,
            14.58,
            18.51,
            26.97,
            19.39,
            32.69,
            18.13,
            11.94
           ]
          },
          {
           "hoverinfo": "none",
           "marker": {
            "color": "#CBB67C"
           },
           "mode": "markers",
           "name": "football",
           "type": "scatter",
           "x": [
            38.3800010681152
           ],
           "y": [
            16.4599990844727
           ]
          }
         ],
         "name": "33"
        },
        {
         "data": [
          {
           "hoverinfo": "none",
           "mode": "text",
           "showlegend": false,
           "text": [
            "10",
            "20",
            "30",
            "40",
            "50",
            "40",
            "30",
            "20",
            "10"
           ],
           "textfont": {
            "color": "#ffffff",
            "family": "Courier New, monospace",
            "size": 30
           },
           "type": "scatter",
           "x": [
            20,
            30,
            40,
            50,
            60,
            70,
            80,
            90,
            100
           ],
           "y": [
            5,
            5,
            5,
            5,
            5,
            5,
            5,
            5,
            5
           ]
          },
          {
           "hoverinfo": "none",
           "mode": "text",
           "showlegend": false,
           "text": [
            "10",
            "20",
            "30",
            "40",
            "50",
            "40",
            "30",
            "20",
            "10"
           ],
           "textfont": {
            "color": "#ffffff",
            "family": "Courier New, monospace",
            "size": 30
           },
           "type": "scatter",
           "x": [
            20,
            30,
            40,
            50,
            60,
            70,
            80,
            90,
            100
           ],
           "y": [
            48.5,
            48.5,
            48.5,
            48.5,
            48.5,
            48.5,
            48.5,
            48.5,
            48.5
           ]
          },
          {
           "hoverinfo": "none",
           "line": {
            "color": "blue",
            "dash": "dash"
           },
           "showlegend": false,
           "type": "scatter",
           "x": [
            35,
            35
           ],
           "y": [
            0,
            53.5
           ]
          },
          {
           "hoverinfo": "none",
           "line": {
            "color": "yellow",
            "dash": "dash"
           },
           "showlegend": false,
           "type": "scatter",
           "x": [
            25,
            25
           ],
           "y": [
            0,
            53.5
           ]
          },
          {
           "hoverinfo": "text",
           "hovertext": [
            "nflId:34452.0<br>displayName:Matthew Stafford",
            "nflId:41290.0<br>displayName:Allen Robinson",
            "nflId:42400.0<br>displayName:Rob Havenstein",
            "nflId:43399.0<br>displayName:Tyler Higbee",
            "nflId:44881.0<br>displayName:Cooper Kupp",
            "nflId:46158.0<br>displayName:Joseph Noteboom",
            "nflId:46180.0<br>displayName:Brian Allen",
            "nflId:46376.0<br>displayName:Coleman Shelton",
            "nflId:47853.0<br>displayName:Darrell Henderson",
            "nflId:47952.0<br>displayName:David Edwards",
            "nflId:53678.0<br>displayName:Ben Skowronek"
           ],
           "marker": {
            "color": "#D50A0A"
           },
           "mode": "markers",
           "name": "LA",
           "type": "scatter",
           "x": [
            42.63,
            30.93,
            31.74,
            35.24,
            37.45,
            39.57,
            31,
            36.09,
            37.83,
            40.5,
            34.28
           ],
           "y": [
            31.86,
            31.34,
            25.63,
            14.9,
            25.42,
            19.03,
            17.78,
            19.67,
            16.02,
            23.05,
            12.32
           ]
          },
          {
           "hoverinfo": "text",
           "hovertext": [
            "nflId:37075.0<br>displayName:Von Miller",
            "nflId:40107.0<br>displayName:Micah Hyde",
            "nflId:40166.0<br>displayName:Jordan Poyer",
            "nflId:41341.0<br>displayName:DaQuan Jones",
            "nflId:44976.0<br>displayName:Matt Milano",
            "nflId:46085.0<br>displayName:Tremaine Edmunds",
            "nflId:46190.0<br>displayName:Taron Johnson",
            "nflId:46232.0<br>displayName:Tim Settle",
            "nflId:52647.0<br>displayName:Dane Jackson",
            "nflId:53459.0<br>displayName:Gregory Rousseau",
            "nflId:54488.0<br>displayName:Kaiir Elam"
           ],
           "marker": {
            "color": "#003594"
           },
           "mode": "markers",
           "name": "BUF",
           "type": "scatter",
           "x": [
            37.68,
            20.91,
            26.15,
            41.35,
            35.37,
            30.52,
            31.62,
            36.26,
            29.4,
            40.36,
            34.25
           ],
           "y": [
            26.14,
            27.69,
            14.64,
            22.06,
            14.05,
            17.99,
            26.6,
            18.7,
            32.2,
            17.58,
            11.46
           ]
          },
          {
           "hoverinfo": "none",
           "marker": {
            "color": "#CBB67C"
           },
           "mode": "markers",
           "name": "football",
           "type": "scatter",
           "x": [
            37.7999992370605
           ],
           "y": [
            16
           ]
          }
         ],
         "name": "34"
        },
        {
         "data": [
          {
           "hoverinfo": "none",
           "mode": "text",
           "showlegend": false,
           "text": [
            "10",
            "20",
            "30",
            "40",
            "50",
            "40",
            "30",
            "20",
            "10"
           ],
           "textfont": {
            "color": "#ffffff",
            "family": "Courier New, monospace",
            "size": 30
           },
           "type": "scatter",
           "x": [
            20,
            30,
            40,
            50,
            60,
            70,
            80,
            90,
            100
           ],
           "y": [
            5,
            5,
            5,
            5,
            5,
            5,
            5,
            5,
            5
           ]
          },
          {
           "hoverinfo": "none",
           "mode": "text",
           "showlegend": false,
           "text": [
            "10",
            "20",
            "30",
            "40",
            "50",
            "40",
            "30",
            "20",
            "10"
           ],
           "textfont": {
            "color": "#ffffff",
            "family": "Courier New, monospace",
            "size": 30
           },
           "type": "scatter",
           "x": [
            20,
            30,
            40,
            50,
            60,
            70,
            80,
            90,
            100
           ],
           "y": [
            48.5,
            48.5,
            48.5,
            48.5,
            48.5,
            48.5,
            48.5,
            48.5,
            48.5
           ]
          },
          {
           "hoverinfo": "none",
           "line": {
            "color": "blue",
            "dash": "dash"
           },
           "showlegend": false,
           "type": "scatter",
           "x": [
            35,
            35
           ],
           "y": [
            0,
            53.5
           ]
          },
          {
           "hoverinfo": "none",
           "line": {
            "color": "yellow",
            "dash": "dash"
           },
           "showlegend": false,
           "type": "scatter",
           "x": [
            25,
            25
           ],
           "y": [
            0,
            53.5
           ]
          },
          {
           "hoverinfo": "text",
           "hovertext": [
            "nflId:34452.0<br>displayName:Matthew Stafford",
            "nflId:41290.0<br>displayName:Allen Robinson",
            "nflId:42400.0<br>displayName:Rob Havenstein",
            "nflId:43399.0<br>displayName:Tyler Higbee",
            "nflId:44881.0<br>displayName:Cooper Kupp",
            "nflId:46158.0<br>displayName:Joseph Noteboom",
            "nflId:46180.0<br>displayName:Brian Allen",
            "nflId:46376.0<br>displayName:Coleman Shelton",
            "nflId:47853.0<br>displayName:Darrell Henderson",
            "nflId:47952.0<br>displayName:David Edwards",
            "nflId:53678.0<br>displayName:Ben Skowronek"
           ],
           "marker": {
            "color": "#D50A0A"
           },
           "mode": "markers",
           "name": "LA",
           "type": "scatter",
           "x": [
            42.61,
            30.69,
            31.49,
            35.41,
            37.41,
            39.87,
            30.87,
            36.07,
            37.2,
            40.6,
            34.3
           ],
           "y": [
            32.05,
            30.89,
            25.38,
            14.34,
            25.18,
            18.73,
            17.29,
            19.13,
            15.61,
            22.76,
            11.8
           ]
          },
          {
           "hoverinfo": "text",
           "hovertext": [
            "nflId:37075.0<br>displayName:Von Miller",
            "nflId:40107.0<br>displayName:Micah Hyde",
            "nflId:40166.0<br>displayName:Jordan Poyer",
            "nflId:41341.0<br>displayName:DaQuan Jones",
            "nflId:44976.0<br>displayName:Matt Milano",
            "nflId:46085.0<br>displayName:Tremaine Edmunds",
            "nflId:46190.0<br>displayName:Taron Johnson",
            "nflId:46232.0<br>displayName:Tim Settle",
            "nflId:52647.0<br>displayName:Dane Jackson",
            "nflId:53459.0<br>displayName:Gregory Rousseau",
            "nflId:54488.0<br>displayName:Kaiir Elam"
           ],
           "marker": {
            "color": "#003594"
           },
           "mode": "markers",
           "name": "BUF",
           "type": "scatter",
           "x": [
            37.45,
            20.96,
            26.55,
            41.34,
            35.53,
            30.37,
            31.38,
            36.08,
            29.06,
            40.49,
            34.23
           ],
           "y": [
            25.85,
            27.07,
            14.24,
            21.53,
            13.53,
            17.48,
            26.25,
            18.01,
            31.7,
            17.04,
            11.03
           ]
          },
          {
           "hoverinfo": "none",
           "marker": {
            "color": "#CBB67C"
           },
           "mode": "markers",
           "name": "football",
           "type": "scatter",
           "x": [
            37.2000007629395
           ],
           "y": [
            15.5900001525879
           ]
          }
         ],
         "name": "35"
        },
        {
         "data": [
          {
           "hoverinfo": "none",
           "mode": "text",
           "showlegend": false,
           "text": [
            "10",
            "20",
            "30",
            "40",
            "50",
            "40",
            "30",
            "20",
            "10"
           ],
           "textfont": {
            "color": "#ffffff",
            "family": "Courier New, monospace",
            "size": 30
           },
           "type": "scatter",
           "x": [
            20,
            30,
            40,
            50,
            60,
            70,
            80,
            90,
            100
           ],
           "y": [
            5,
            5,
            5,
            5,
            5,
            5,
            5,
            5,
            5
           ]
          },
          {
           "hoverinfo": "none",
           "mode": "text",
           "showlegend": false,
           "text": [
            "10",
            "20",
            "30",
            "40",
            "50",
            "40",
            "30",
            "20",
            "10"
           ],
           "textfont": {
            "color": "#ffffff",
            "family": "Courier New, monospace",
            "size": 30
           },
           "type": "scatter",
           "x": [
            20,
            30,
            40,
            50,
            60,
            70,
            80,
            90,
            100
           ],
           "y": [
            48.5,
            48.5,
            48.5,
            48.5,
            48.5,
            48.5,
            48.5,
            48.5,
            48.5
           ]
          },
          {
           "hoverinfo": "none",
           "line": {
            "color": "blue",
            "dash": "dash"
           },
           "showlegend": false,
           "type": "scatter",
           "x": [
            35,
            35
           ],
           "y": [
            0,
            53.5
           ]
          },
          {
           "hoverinfo": "none",
           "line": {
            "color": "yellow",
            "dash": "dash"
           },
           "showlegend": false,
           "type": "scatter",
           "x": [
            25,
            25
           ],
           "y": [
            0,
            53.5
           ]
          },
          {
           "hoverinfo": "text",
           "hovertext": [
            "nflId:34452.0<br>displayName:Matthew Stafford",
            "nflId:41290.0<br>displayName:Allen Robinson",
            "nflId:42400.0<br>displayName:Rob Havenstein",
            "nflId:43399.0<br>displayName:Tyler Higbee",
            "nflId:44881.0<br>displayName:Cooper Kupp",
            "nflId:46158.0<br>displayName:Joseph Noteboom",
            "nflId:46180.0<br>displayName:Brian Allen",
            "nflId:46376.0<br>displayName:Coleman Shelton",
            "nflId:47853.0<br>displayName:Darrell Henderson",
            "nflId:47952.0<br>displayName:David Edwards",
            "nflId:53678.0<br>displayName:Ben Skowronek"
           ],
           "marker": {
            "color": "#D50A0A"
           },
           "mode": "markers",
           "name": "LA",
           "type": "scatter",
           "x": [
            42.57,
            30.45,
            31.24,
            35.56,
            37.34,
            40.15,
            30.71,
            36.04,
            36.54,
            40.69,
            34.27
           ],
           "y": [
            32.21,
            30.43,
            25.14,
            13.77,
            24.95,
            18.43,
            16.83,
            18.59,
            15.24,
            22.47,
            11.28
           ]
          },
          {
           "hoverinfo": "text",
           "hovertext": [
            "nflId:37075.0<br>displayName:Von Miller",
            "nflId:40107.0<br>displayName:Micah Hyde",
            "nflId:40166.0<br>displayName:Jordan Poyer",
            "nflId:41341.0<br>displayName:DaQuan Jones",
            "nflId:44976.0<br>displayName:Matt Milano",
            "nflId:46085.0<br>displayName:Tremaine Edmunds",
            "nflId:46190.0<br>displayName:Taron Johnson",
            "nflId:46232.0<br>displayName:Tim Settle",
            "nflId:52647.0<br>displayName:Dane Jackson",
            "nflId:53459.0<br>displayName:Gregory Rousseau",
            "nflId:54488.0<br>displayName:Kaiir Elam"
           ],
           "marker": {
            "color": "#003594"
           },
           "mode": "markers",
           "name": "BUF",
           "type": "scatter",
           "x": [
            37.2,
            21.03,
            26.92,
            41.27,
            35.63,
            30.21,
            31.09,
            35.83,
            28.72,
            40.54,
            34.19
           ],
           "y": [
            25.57,
            26.45,
            13.87,
            21,
            12.96,
            16.99,
            25.85,
            17.31,
            31.18,
            16.49,
            10.62
           ]
          },
          {
           "hoverinfo": "none",
           "marker": {
            "color": "#CBB67C"
           },
           "mode": "markers",
           "name": "football",
           "type": "scatter",
           "x": [
            36.5400009155273
           ],
           "y": [
            15.1999998092651
           ]
          }
         ],
         "name": "36"
        },
        {
         "data": [
          {
           "hoverinfo": "none",
           "mode": "text",
           "showlegend": false,
           "text": [
            "10",
            "20",
            "30",
            "40",
            "50",
            "40",
            "30",
            "20",
            "10"
           ],
           "textfont": {
            "color": "#ffffff",
            "family": "Courier New, monospace",
            "size": 30
           },
           "type": "scatter",
           "x": [
            20,
            30,
            40,
            50,
            60,
            70,
            80,
            90,
            100
           ],
           "y": [
            5,
            5,
            5,
            5,
            5,
            5,
            5,
            5,
            5
           ]
          },
          {
           "hoverinfo": "none",
           "mode": "text",
           "showlegend": false,
           "text": [
            "10",
            "20",
            "30",
            "40",
            "50",
            "40",
            "30",
            "20",
            "10"
           ],
           "textfont": {
            "color": "#ffffff",
            "family": "Courier New, monospace",
            "size": 30
           },
           "type": "scatter",
           "x": [
            20,
            30,
            40,
            50,
            60,
            70,
            80,
            90,
            100
           ],
           "y": [
            48.5,
            48.5,
            48.5,
            48.5,
            48.5,
            48.5,
            48.5,
            48.5,
            48.5
           ]
          },
          {
           "hoverinfo": "none",
           "line": {
            "color": "blue",
            "dash": "dash"
           },
           "showlegend": false,
           "type": "scatter",
           "x": [
            35,
            35
           ],
           "y": [
            0,
            53.5
           ]
          },
          {
           "hoverinfo": "none",
           "line": {
            "color": "yellow",
            "dash": "dash"
           },
           "showlegend": false,
           "type": "scatter",
           "x": [
            25,
            25
           ],
           "y": [
            0,
            53.5
           ]
          },
          {
           "hoverinfo": "text",
           "hovertext": [
            "nflId:34452.0<br>displayName:Matthew Stafford",
            "nflId:41290.0<br>displayName:Allen Robinson",
            "nflId:42400.0<br>displayName:Rob Havenstein",
            "nflId:43399.0<br>displayName:Tyler Higbee",
            "nflId:44881.0<br>displayName:Cooper Kupp",
            "nflId:46158.0<br>displayName:Joseph Noteboom",
            "nflId:46180.0<br>displayName:Brian Allen",
            "nflId:46376.0<br>displayName:Coleman Shelton",
            "nflId:47853.0<br>displayName:Darrell Henderson",
            "nflId:47952.0<br>displayName:David Edwards",
            "nflId:53678.0<br>displayName:Ben Skowronek"
           ],
           "marker": {
            "color": "#D50A0A"
           },
           "mode": "markers",
           "name": "LA",
           "type": "scatter",
           "x": [
            42.51,
            30.21,
            30.97,
            35.7,
            37.25,
            40.42,
            30.52,
            35.99,
            35.84,
            40.76,
            34.22
           ],
           "y": [
            32.33,
            29.97,
            24.89,
            13.2,
            24.72,
            18.12,
            16.39,
            18.07,
            14.93,
            22.16,
            10.75
           ]
          },
          {
           "hoverinfo": "text",
           "hovertext": [
            "nflId:37075.0<br>displayName:Von Miller",
            "nflId:40107.0<br>displayName:Micah Hyde",
            "nflId:40166.0<br>displayName:Jordan Poyer",
            "nflId:41341.0<br>displayName:DaQuan Jones",
            "nflId:44976.0<br>displayName:Matt Milano",
            "nflId:46085.0<br>displayName:Tremaine Edmunds",
            "nflId:46190.0<br>displayName:Taron Johnson",
            "nflId:46232.0<br>displayName:Tim Settle",
            "nflId:52647.0<br>displayName:Dane Jackson",
            "nflId:53459.0<br>displayName:Gregory Rousseau",
            "nflId:54488.0<br>displayName:Kaiir Elam"
           ],
           "marker": {
            "color": "#003594"
           },
           "mode": "markers",
           "name": "BUF",
           "type": "scatter",
           "x": [
            36.92,
            21.12,
            27.27,
            41.17,
            35.69,
            30.02,
            30.79,
            35.55,
            28.41,
            40.53,
            34.12
           ],
           "y": [
            25.32,
            25.82,
            13.54,
            20.48,
            12.42,
            16.51,
            25.48,
            16.66,
            30.66,
            15.95,
            10.23
           ]
          },
          {
           "hoverinfo": "none",
           "marker": {
            "color": "#CBB67C"
           },
           "mode": "markers",
           "name": "football",
           "type": "scatter",
           "x": [
            35.8499984741211
           ],
           "y": [
            14.8599996566772
           ]
          }
         ],
         "name": "37"
        },
        {
         "data": [
          {
           "hoverinfo": "none",
           "mode": "text",
           "showlegend": false,
           "text": [
            "10",
            "20",
            "30",
            "40",
            "50",
            "40",
            "30",
            "20",
            "10"
           ],
           "textfont": {
            "color": "#ffffff",
            "family": "Courier New, monospace",
            "size": 30
           },
           "type": "scatter",
           "x": [
            20,
            30,
            40,
            50,
            60,
            70,
            80,
            90,
            100
           ],
           "y": [
            5,
            5,
            5,
            5,
            5,
            5,
            5,
            5,
            5
           ]
          },
          {
           "hoverinfo": "none",
           "mode": "text",
           "showlegend": false,
           "text": [
            "10",
            "20",
            "30",
            "40",
            "50",
            "40",
            "30",
            "20",
            "10"
           ],
           "textfont": {
            "color": "#ffffff",
            "family": "Courier New, monospace",
            "size": 30
           },
           "type": "scatter",
           "x": [
            20,
            30,
            40,
            50,
            60,
            70,
            80,
            90,
            100
           ],
           "y": [
            48.5,
            48.5,
            48.5,
            48.5,
            48.5,
            48.5,
            48.5,
            48.5,
            48.5
           ]
          },
          {
           "hoverinfo": "none",
           "line": {
            "color": "blue",
            "dash": "dash"
           },
           "showlegend": false,
           "type": "scatter",
           "x": [
            35,
            35
           ],
           "y": [
            0,
            53.5
           ]
          },
          {
           "hoverinfo": "none",
           "line": {
            "color": "yellow",
            "dash": "dash"
           },
           "showlegend": false,
           "type": "scatter",
           "x": [
            25,
            25
           ],
           "y": [
            0,
            53.5
           ]
          },
          {
           "hoverinfo": "text",
           "hovertext": [
            "nflId:34452.0<br>displayName:Matthew Stafford",
            "nflId:41290.0<br>displayName:Allen Robinson",
            "nflId:42400.0<br>displayName:Rob Havenstein",
            "nflId:43399.0<br>displayName:Tyler Higbee",
            "nflId:44881.0<br>displayName:Cooper Kupp",
            "nflId:46158.0<br>displayName:Joseph Noteboom",
            "nflId:46180.0<br>displayName:Brian Allen",
            "nflId:46376.0<br>displayName:Coleman Shelton",
            "nflId:47853.0<br>displayName:Darrell Henderson",
            "nflId:47952.0<br>displayName:David Edwards",
            "nflId:53678.0<br>displayName:Ben Skowronek"
           ],
           "marker": {
            "color": "#D50A0A"
           },
           "mode": "markers",
           "name": "LA",
           "type": "scatter",
           "x": [
            42.43,
            29.98,
            30.71,
            35.82,
            37.14,
            40.66,
            30.29,
            35.91,
            35.12,
            40.8,
            34.16
           ],
           "y": [
            32.43,
            29.5,
            24.63,
            12.64,
            24.49,
            17.82,
            15.96,
            17.53,
            14.68,
            21.88,
            10.23
           ]
          },
          {
           "hoverinfo": "text",
           "hovertext": [
            "nflId:37075.0<br>displayName:Von Miller",
            "nflId:40107.0<br>displayName:Micah Hyde",
            "nflId:40166.0<br>displayName:Jordan Poyer",
            "nflId:41341.0<br>displayName:DaQuan Jones",
            "nflId:44976.0<br>displayName:Matt Milano",
            "nflId:46085.0<br>displayName:Tremaine Edmunds",
            "nflId:46190.0<br>displayName:Taron Johnson",
            "nflId:46232.0<br>displayName:Tim Settle",
            "nflId:52647.0<br>displayName:Dane Jackson",
            "nflId:53459.0<br>displayName:Gregory Rousseau",
            "nflId:54488.0<br>displayName:Kaiir Elam"
           ],
           "marker": {
            "color": "#003594"
           },
           "mode": "markers",
           "name": "BUF",
           "type": "scatter",
           "x": [
            36.62,
            21.22,
            27.59,
            41.02,
            35.7,
            29.79,
            30.49,
            35.25,
            28.1,
            40.46,
            33.99
           ],
           "y": [
            25.09,
            25.19,
            13.24,
            19.98,
            11.89,
            16.05,
            25.11,
            16.02,
            30.11,
            15.43,
            9.86
           ]
          },
          {
           "hoverinfo": "none",
           "marker": {
            "color": "#CBB67C"
           },
           "mode": "markers",
           "name": "football",
           "type": "scatter",
           "x": [
            35.1300010681152
           ],
           "y": [
            14.5799999237061
           ]
          }
         ],
         "name": "38"
        },
        {
         "data": [
          {
           "hoverinfo": "none",
           "mode": "text",
           "showlegend": false,
           "text": [
            "10",
            "20",
            "30",
            "40",
            "50",
            "40",
            "30",
            "20",
            "10"
           ],
           "textfont": {
            "color": "#ffffff",
            "family": "Courier New, monospace",
            "size": 30
           },
           "type": "scatter",
           "x": [
            20,
            30,
            40,
            50,
            60,
            70,
            80,
            90,
            100
           ],
           "y": [
            5,
            5,
            5,
            5,
            5,
            5,
            5,
            5,
            5
           ]
          },
          {
           "hoverinfo": "none",
           "mode": "text",
           "showlegend": false,
           "text": [
            "10",
            "20",
            "30",
            "40",
            "50",
            "40",
            "30",
            "20",
            "10"
           ],
           "textfont": {
            "color": "#ffffff",
            "family": "Courier New, monospace",
            "size": 30
           },
           "type": "scatter",
           "x": [
            20,
            30,
            40,
            50,
            60,
            70,
            80,
            90,
            100
           ],
           "y": [
            48.5,
            48.5,
            48.5,
            48.5,
            48.5,
            48.5,
            48.5,
            48.5,
            48.5
           ]
          },
          {
           "hoverinfo": "none",
           "line": {
            "color": "blue",
            "dash": "dash"
           },
           "showlegend": false,
           "type": "scatter",
           "x": [
            35,
            35
           ],
           "y": [
            0,
            53.5
           ]
          },
          {
           "hoverinfo": "none",
           "line": {
            "color": "yellow",
            "dash": "dash"
           },
           "showlegend": false,
           "type": "scatter",
           "x": [
            25,
            25
           ],
           "y": [
            0,
            53.5
           ]
          },
          {
           "hoverinfo": "text",
           "hovertext": [
            "nflId:34452.0<br>displayName:Matthew Stafford",
            "nflId:41290.0<br>displayName:Allen Robinson",
            "nflId:42400.0<br>displayName:Rob Havenstein",
            "nflId:43399.0<br>displayName:Tyler Higbee",
            "nflId:44881.0<br>displayName:Cooper Kupp",
            "nflId:46158.0<br>displayName:Joseph Noteboom",
            "nflId:46180.0<br>displayName:Brian Allen",
            "nflId:46376.0<br>displayName:Coleman Shelton",
            "nflId:47853.0<br>displayName:Darrell Henderson",
            "nflId:47952.0<br>displayName:David Edwards",
            "nflId:53678.0<br>displayName:Ben Skowronek"
           ],
           "marker": {
            "color": "#D50A0A"
           },
           "mode": "markers",
           "name": "LA",
           "type": "scatter",
           "x": [
            42.35,
            29.74,
            30.45,
            35.91,
            36.99,
            40.88,
            30.04,
            35.83,
            34.38,
            40.84,
            34.07
           ],
           "y": [
            32.51,
            29.02,
            24.35,
            12.1,
            24.27,
            17.49,
            15.53,
            17.01,
            14.47,
            21.6,
            9.71
           ]
          },
          {
           "hoverinfo": "text",
           "hovertext": [
            "nflId:37075.0<br>displayName:Von Miller",
            "nflId:40107.0<br>displayName:Micah Hyde",
            "nflId:40166.0<br>displayName:Jordan Poyer",
            "nflId:41341.0<br>displayName:DaQuan Jones",
            "nflId:44976.0<br>displayName:Matt Milano",
            "nflId:46085.0<br>displayName:Tremaine Edmunds",
            "nflId:46190.0<br>displayName:Taron Johnson",
            "nflId:46232.0<br>displayName:Tim Settle",
            "nflId:52647.0<br>displayName:Dane Jackson",
            "nflId:53459.0<br>displayName:Gregory Rousseau",
            "nflId:54488.0<br>displayName:Kaiir Elam"
           ],
           "marker": {
            "color": "#003594"
           },
           "mode": "markers",
           "name": "BUF",
           "type": "scatter",
           "x": [
            36.31,
            21.33,
            27.88,
            40.84,
            35.65,
            29.54,
            30.17,
            34.95,
            27.8,
            40.33,
            33.79
           ],
           "y": [
            24.86,
            24.55,
            12.99,
            19.49,
            11.38,
            15.62,
            24.74,
            15.4,
            29.55,
            14.94,
            9.52
           ]
          },
          {
           "hoverinfo": "none",
           "marker": {
            "color": "#CBB67C"
           },
           "mode": "markers",
           "name": "football",
           "type": "scatter",
           "x": [
            34.3899993896484
           ],
           "y": [
            14.3599996566772
           ]
          }
         ],
         "name": "39"
        },
        {
         "data": [
          {
           "hoverinfo": "none",
           "mode": "text",
           "showlegend": false,
           "text": [
            "10",
            "20",
            "30",
            "40",
            "50",
            "40",
            "30",
            "20",
            "10"
           ],
           "textfont": {
            "color": "#ffffff",
            "family": "Courier New, monospace",
            "size": 30
           },
           "type": "scatter",
           "x": [
            20,
            30,
            40,
            50,
            60,
            70,
            80,
            90,
            100
           ],
           "y": [
            5,
            5,
            5,
            5,
            5,
            5,
            5,
            5,
            5
           ]
          },
          {
           "hoverinfo": "none",
           "mode": "text",
           "showlegend": false,
           "text": [
            "10",
            "20",
            "30",
            "40",
            "50",
            "40",
            "30",
            "20",
            "10"
           ],
           "textfont": {
            "color": "#ffffff",
            "family": "Courier New, monospace",
            "size": 30
           },
           "type": "scatter",
           "x": [
            20,
            30,
            40,
            50,
            60,
            70,
            80,
            90,
            100
           ],
           "y": [
            48.5,
            48.5,
            48.5,
            48.5,
            48.5,
            48.5,
            48.5,
            48.5,
            48.5
           ]
          },
          {
           "hoverinfo": "none",
           "line": {
            "color": "blue",
            "dash": "dash"
           },
           "showlegend": false,
           "type": "scatter",
           "x": [
            35,
            35
           ],
           "y": [
            0,
            53.5
           ]
          },
          {
           "hoverinfo": "none",
           "line": {
            "color": "yellow",
            "dash": "dash"
           },
           "showlegend": false,
           "type": "scatter",
           "x": [
            25,
            25
           ],
           "y": [
            0,
            53.5
           ]
          },
          {
           "hoverinfo": "text",
           "hovertext": [
            "nflId:34452.0<br>displayName:Matthew Stafford",
            "nflId:41290.0<br>displayName:Allen Robinson",
            "nflId:42400.0<br>displayName:Rob Havenstein",
            "nflId:43399.0<br>displayName:Tyler Higbee",
            "nflId:44881.0<br>displayName:Cooper Kupp",
            "nflId:46158.0<br>displayName:Joseph Noteboom",
            "nflId:46180.0<br>displayName:Brian Allen",
            "nflId:46376.0<br>displayName:Coleman Shelton",
            "nflId:47853.0<br>displayName:Darrell Henderson",
            "nflId:47952.0<br>displayName:David Edwards",
            "nflId:53678.0<br>displayName:Ben Skowronek"
           ],
           "marker": {
            "color": "#D50A0A"
           },
           "mode": "markers",
           "name": "LA",
           "type": "scatter",
           "x": [
            42.26,
            29.51,
            30.19,
            35.96,
            36.84,
            41.08,
            29.78,
            35.74,
            33.62,
            40.87,
            33.95
           ],
           "y": [
            32.56,
            28.54,
            24.06,
            11.58,
            24.05,
            17.17,
            15.13,
            16.51,
            14.32,
            21.33,
            9.2
           ]
          },
          {
           "hoverinfo": "text",
           "hovertext": [
            "nflId:37075.0<br>displayName:Von Miller",
            "nflId:40107.0<br>displayName:Micah Hyde",
            "nflId:40166.0<br>displayName:Jordan Poyer",
            "nflId:41341.0<br>displayName:DaQuan Jones",
            "nflId:44976.0<br>displayName:Matt Milano",
            "nflId:46085.0<br>displayName:Tremaine Edmunds",
            "nflId:46190.0<br>displayName:Taron Johnson",
            "nflId:46232.0<br>displayName:Tim Settle",
            "nflId:52647.0<br>displayName:Dane Jackson",
            "nflId:53459.0<br>displayName:Gregory Rousseau",
            "nflId:54488.0<br>displayName:Kaiir Elam"
           ],
           "marker": {
            "color": "#003594"
           },
           "mode": "markers",
           "name": "BUF",
           "type": "scatter",
           "x": [
            35.97,
            21.45,
            28.13,
            40.61,
            35.55,
            29.28,
            29.86,
            34.66,
            27.5,
            40.14,
            33.59
           ],
           "y": [
            24.64,
            23.91,
            12.78,
            19.02,
            10.87,
            15.21,
            24.34,
            14.82,
            28.97,
            14.47,
            9.2
           ]
          },
          {
           "hoverinfo": "none",
           "marker": {
            "color": "#CBB67C"
           },
           "mode": "markers",
           "name": "football",
           "type": "scatter",
           "x": [
            33.6500015258789
           ],
           "y": [
            14.2200002670288
           ]
          }
         ],
         "name": "40"
        },
        {
         "data": [
          {
           "hoverinfo": "none",
           "mode": "text",
           "showlegend": false,
           "text": [
            "10",
            "20",
            "30",
            "40",
            "50",
            "40",
            "30",
            "20",
            "10"
           ],
           "textfont": {
            "color": "#ffffff",
            "family": "Courier New, monospace",
            "size": 30
           },
           "type": "scatter",
           "x": [
            20,
            30,
            40,
            50,
            60,
            70,
            80,
            90,
            100
           ],
           "y": [
            5,
            5,
            5,
            5,
            5,
            5,
            5,
            5,
            5
           ]
          },
          {
           "hoverinfo": "none",
           "mode": "text",
           "showlegend": false,
           "text": [
            "10",
            "20",
            "30",
            "40",
            "50",
            "40",
            "30",
            "20",
            "10"
           ],
           "textfont": {
            "color": "#ffffff",
            "family": "Courier New, monospace",
            "size": 30
           },
           "type": "scatter",
           "x": [
            20,
            30,
            40,
            50,
            60,
            70,
            80,
            90,
            100
           ],
           "y": [
            48.5,
            48.5,
            48.5,
            48.5,
            48.5,
            48.5,
            48.5,
            48.5,
            48.5
           ]
          },
          {
           "hoverinfo": "none",
           "line": {
            "color": "blue",
            "dash": "dash"
           },
           "showlegend": false,
           "type": "scatter",
           "x": [
            35,
            35
           ],
           "y": [
            0,
            53.5
           ]
          },
          {
           "hoverinfo": "none",
           "line": {
            "color": "yellow",
            "dash": "dash"
           },
           "showlegend": false,
           "type": "scatter",
           "x": [
            25,
            25
           ],
           "y": [
            0,
            53.5
           ]
          },
          {
           "hoverinfo": "text",
           "hovertext": [
            "nflId:34452.0<br>displayName:Matthew Stafford",
            "nflId:41290.0<br>displayName:Allen Robinson",
            "nflId:42400.0<br>displayName:Rob Havenstein",
            "nflId:43399.0<br>displayName:Tyler Higbee",
            "nflId:44881.0<br>displayName:Cooper Kupp",
            "nflId:46158.0<br>displayName:Joseph Noteboom",
            "nflId:46180.0<br>displayName:Brian Allen",
            "nflId:46376.0<br>displayName:Coleman Shelton",
            "nflId:47853.0<br>displayName:Darrell Henderson",
            "nflId:47952.0<br>displayName:David Edwards",
            "nflId:53678.0<br>displayName:Ben Skowronek"
           ],
           "marker": {
            "color": "#D50A0A"
           },
           "mode": "markers",
           "name": "LA",
           "type": "scatter",
           "x": [
            42.16,
            29.28,
            29.95,
            35.96,
            36.66,
            41.25,
            29.5,
            35.62,
            32.86,
            40.87,
            33.81
           ],
           "y": [
            32.59,
            28.05,
            23.76,
            11.08,
            23.83,
            16.83,
            14.77,
            16.02,
            14.23,
            21.07,
            8.69
           ]
          },
          {
           "hoverinfo": "text",
           "hovertext": [
            "nflId:37075.0<br>displayName:Von Miller",
            "nflId:40107.0<br>displayName:Micah Hyde",
            "nflId:40166.0<br>displayName:Jordan Poyer",
            "nflId:41341.0<br>displayName:DaQuan Jones",
            "nflId:44976.0<br>displayName:Matt Milano",
            "nflId:46085.0<br>displayName:Tremaine Edmunds",
            "nflId:46190.0<br>displayName:Taron Johnson",
            "nflId:46232.0<br>displayName:Tim Settle",
            "nflId:52647.0<br>displayName:Dane Jackson",
            "nflId:53459.0<br>displayName:Gregory Rousseau",
            "nflId:54488.0<br>displayName:Kaiir Elam"
           ],
           "marker": {
            "color": "#003594"
           },
           "mode": "markers",
           "name": "BUF",
           "type": "scatter",
           "x": [
            35.63,
            21.57,
            28.33,
            40.34,
            35.41,
            28.99,
            29.55,
            34.4,
            27.21,
            39.9,
            33.34
           ],
           "y": [
            24.42,
            23.27,
            12.64,
            18.56,
            10.37,
            14.81,
            23.95,
            14.29,
            28.37,
            14.02,
            8.89
           ]
          },
          {
           "hoverinfo": "none",
           "marker": {
            "color": "#CBB67C"
           },
           "mode": "markers",
           "name": "football",
           "type": "scatter",
           "x": [
            32.9000015258789
           ],
           "y": [
            14.1300001144409
           ]
          }
         ],
         "name": "41"
        },
        {
         "data": [
          {
           "hoverinfo": "none",
           "mode": "text",
           "showlegend": false,
           "text": [
            "10",
            "20",
            "30",
            "40",
            "50",
            "40",
            "30",
            "20",
            "10"
           ],
           "textfont": {
            "color": "#ffffff",
            "family": "Courier New, monospace",
            "size": 30
           },
           "type": "scatter",
           "x": [
            20,
            30,
            40,
            50,
            60,
            70,
            80,
            90,
            100
           ],
           "y": [
            5,
            5,
            5,
            5,
            5,
            5,
            5,
            5,
            5
           ]
          },
          {
           "hoverinfo": "none",
           "mode": "text",
           "showlegend": false,
           "text": [
            "10",
            "20",
            "30",
            "40",
            "50",
            "40",
            "30",
            "20",
            "10"
           ],
           "textfont": {
            "color": "#ffffff",
            "family": "Courier New, monospace",
            "size": 30
           },
           "type": "scatter",
           "x": [
            20,
            30,
            40,
            50,
            60,
            70,
            80,
            90,
            100
           ],
           "y": [
            48.5,
            48.5,
            48.5,
            48.5,
            48.5,
            48.5,
            48.5,
            48.5,
            48.5
           ]
          },
          {
           "hoverinfo": "none",
           "line": {
            "color": "blue",
            "dash": "dash"
           },
           "showlegend": false,
           "type": "scatter",
           "x": [
            35,
            35
           ],
           "y": [
            0,
            53.5
           ]
          },
          {
           "hoverinfo": "none",
           "line": {
            "color": "yellow",
            "dash": "dash"
           },
           "showlegend": false,
           "type": "scatter",
           "x": [
            25,
            25
           ],
           "y": [
            0,
            53.5
           ]
          },
          {
           "hoverinfo": "text",
           "hovertext": [
            "nflId:34452.0<br>displayName:Matthew Stafford",
            "nflId:41290.0<br>displayName:Allen Robinson",
            "nflId:42400.0<br>displayName:Rob Havenstein",
            "nflId:43399.0<br>displayName:Tyler Higbee",
            "nflId:44881.0<br>displayName:Cooper Kupp",
            "nflId:46158.0<br>displayName:Joseph Noteboom",
            "nflId:46180.0<br>displayName:Brian Allen",
            "nflId:46376.0<br>displayName:Coleman Shelton",
            "nflId:47853.0<br>displayName:Darrell Henderson",
            "nflId:47952.0<br>displayName:David Edwards",
            "nflId:53678.0<br>displayName:Ben Skowronek"
           ],
           "marker": {
            "color": "#D50A0A"
           },
           "mode": "markers",
           "name": "LA",
           "type": "scatter",
           "x": [
            42.06,
            29.05,
            29.72,
            35.92,
            36.47,
            41.39,
            29.2,
            35.46,
            32.1,
            40.88,
            33.65
           ],
           "y": [
            32.59,
            27.55,
            23.45,
            10.6,
            23.61,
            16.5,
            14.43,
            15.55,
            14.2,
            20.83,
            8.18
           ]
          },
          {
           "hoverinfo": "text",
           "hovertext": [
            "nflId:37075.0<br>displayName:Von Miller",
            "nflId:40107.0<br>displayName:Micah Hyde",
            "nflId:40166.0<br>displayName:Jordan Poyer",
            "nflId:41341.0<br>displayName:DaQuan Jones",
            "nflId:44976.0<br>displayName:Matt Milano",
            "nflId:46085.0<br>displayName:Tremaine Edmunds",
            "nflId:46190.0<br>displayName:Taron Johnson",
            "nflId:46232.0<br>displayName:Tim Settle",
            "nflId:52647.0<br>displayName:Dane Jackson",
            "nflId:53459.0<br>displayName:Gregory Rousseau",
            "nflId:54488.0<br>displayName:Kaiir Elam"
           ],
           "marker": {
            "color": "#003594"
           },
           "mode": "markers",
           "name": "BUF",
           "type": "scatter",
           "x": [
            35.25,
            21.7,
            28.44,
            40.01,
            35.22,
            28.7,
            29.26,
            34.13,
            26.93,
            39.58,
            33.07
           ],
           "y": [
            24.21,
            22.63,
            12.59,
            18.13,
            9.89,
            14.42,
            23.54,
            13.79,
            27.78,
            13.62,
            8.61
           ]
          },
          {
           "hoverinfo": "none",
           "marker": {
            "color": "#CBB67C"
           },
           "mode": "markers",
           "name": "football",
           "type": "scatter",
           "x": [
            32.1599998474121
           ],
           "y": [
            14.1199998855591
           ]
          }
         ],
         "name": "42"
        },
        {
         "data": [
          {
           "hoverinfo": "none",
           "mode": "text",
           "showlegend": false,
           "text": [
            "10",
            "20",
            "30",
            "40",
            "50",
            "40",
            "30",
            "20",
            "10"
           ],
           "textfont": {
            "color": "#ffffff",
            "family": "Courier New, monospace",
            "size": 30
           },
           "type": "scatter",
           "x": [
            20,
            30,
            40,
            50,
            60,
            70,
            80,
            90,
            100
           ],
           "y": [
            5,
            5,
            5,
            5,
            5,
            5,
            5,
            5,
            5
           ]
          },
          {
           "hoverinfo": "none",
           "mode": "text",
           "showlegend": false,
           "text": [
            "10",
            "20",
            "30",
            "40",
            "50",
            "40",
            "30",
            "20",
            "10"
           ],
           "textfont": {
            "color": "#ffffff",
            "family": "Courier New, monospace",
            "size": 30
           },
           "type": "scatter",
           "x": [
            20,
            30,
            40,
            50,
            60,
            70,
            80,
            90,
            100
           ],
           "y": [
            48.5,
            48.5,
            48.5,
            48.5,
            48.5,
            48.5,
            48.5,
            48.5,
            48.5
           ]
          },
          {
           "hoverinfo": "none",
           "line": {
            "color": "blue",
            "dash": "dash"
           },
           "showlegend": false,
           "type": "scatter",
           "x": [
            35,
            35
           ],
           "y": [
            0,
            53.5
           ]
          },
          {
           "hoverinfo": "none",
           "line": {
            "color": "yellow",
            "dash": "dash"
           },
           "showlegend": false,
           "type": "scatter",
           "x": [
            25,
            25
           ],
           "y": [
            0,
            53.5
           ]
          },
          {
           "hoverinfo": "text",
           "hovertext": [
            "nflId:34452.0<br>displayName:Matthew Stafford",
            "nflId:41290.0<br>displayName:Allen Robinson",
            "nflId:42400.0<br>displayName:Rob Havenstein",
            "nflId:43399.0<br>displayName:Tyler Higbee",
            "nflId:44881.0<br>displayName:Cooper Kupp",
            "nflId:46158.0<br>displayName:Joseph Noteboom",
            "nflId:46180.0<br>displayName:Brian Allen",
            "nflId:46376.0<br>displayName:Coleman Shelton",
            "nflId:47853.0<br>displayName:Darrell Henderson",
            "nflId:47952.0<br>displayName:David Edwards",
            "nflId:53678.0<br>displayName:Ben Skowronek"
           ],
           "marker": {
            "color": "#D50A0A"
           },
           "mode": "markers",
           "name": "LA",
           "type": "scatter",
           "x": [
            41.96,
            28.82,
            29.51,
            35.83,
            36.26,
            41.5,
            28.89,
            35.29,
            31.33,
            40.86,
            33.45
           ],
           "y": [
            32.58,
            27.06,
            23.13,
            10.14,
            23.41,
            16.15,
            14.13,
            15.11,
            14.22,
            20.61,
            7.68
           ]
          },
          {
           "hoverinfo": "text",
           "hovertext": [
            "nflId:37075.0<br>displayName:Von Miller",
            "nflId:40107.0<br>displayName:Micah Hyde",
            "nflId:40166.0<br>displayName:Jordan Poyer",
            "nflId:41341.0<br>displayName:DaQuan Jones",
            "nflId:44976.0<br>displayName:Matt Milano",
            "nflId:46085.0<br>displayName:Tremaine Edmunds",
            "nflId:46190.0<br>displayName:Taron Johnson",
            "nflId:46232.0<br>displayName:Tim Settle",
            "nflId:52647.0<br>displayName:Dane Jackson",
            "nflId:53459.0<br>displayName:Gregory Rousseau",
            "nflId:54488.0<br>displayName:Kaiir Elam"
           ],
           "marker": {
            "color": "#003594"
           },
           "mode": "markers",
           "name": "BUF",
           "type": "scatter",
           "x": [
            34.87,
            21.84,
            28.49,
            39.66,
            35.01,
            28.4,
            29.02,
            33.88,
            26.65,
            39.24,
            32.74
           ],
           "y": [
            23.99,
            22,
            12.58,
            17.72,
            9.45,
            14.06,
            23.1,
            13.33,
            27.16,
            13.25,
            8.33
           ]
          },
          {
           "hoverinfo": "none",
           "marker": {
            "color": "#CBB67C"
           },
           "mode": "markers",
           "name": "football",
           "type": "scatter",
           "x": [
            31.4200000762939
           ],
           "y": [
            14.1400003433228
           ]
          }
         ],
         "name": "43"
        },
        {
         "data": [
          {
           "hoverinfo": "none",
           "mode": "text",
           "showlegend": false,
           "text": [
            "10",
            "20",
            "30",
            "40",
            "50",
            "40",
            "30",
            "20",
            "10"
           ],
           "textfont": {
            "color": "#ffffff",
            "family": "Courier New, monospace",
            "size": 30
           },
           "type": "scatter",
           "x": [
            20,
            30,
            40,
            50,
            60,
            70,
            80,
            90,
            100
           ],
           "y": [
            5,
            5,
            5,
            5,
            5,
            5,
            5,
            5,
            5
           ]
          },
          {
           "hoverinfo": "none",
           "mode": "text",
           "showlegend": false,
           "text": [
            "10",
            "20",
            "30",
            "40",
            "50",
            "40",
            "30",
            "20",
            "10"
           ],
           "textfont": {
            "color": "#ffffff",
            "family": "Courier New, monospace",
            "size": 30
           },
           "type": "scatter",
           "x": [
            20,
            30,
            40,
            50,
            60,
            70,
            80,
            90,
            100
           ],
           "y": [
            48.5,
            48.5,
            48.5,
            48.5,
            48.5,
            48.5,
            48.5,
            48.5,
            48.5
           ]
          },
          {
           "hoverinfo": "none",
           "line": {
            "color": "blue",
            "dash": "dash"
           },
           "showlegend": false,
           "type": "scatter",
           "x": [
            35,
            35
           ],
           "y": [
            0,
            53.5
           ]
          },
          {
           "hoverinfo": "none",
           "line": {
            "color": "yellow",
            "dash": "dash"
           },
           "showlegend": false,
           "type": "scatter",
           "x": [
            25,
            25
           ],
           "y": [
            0,
            53.5
           ]
          },
          {
           "hoverinfo": "text",
           "hovertext": [
            "nflId:34452.0<br>displayName:Matthew Stafford",
            "nflId:41290.0<br>displayName:Allen Robinson",
            "nflId:42400.0<br>displayName:Rob Havenstein",
            "nflId:43399.0<br>displayName:Tyler Higbee",
            "nflId:44881.0<br>displayName:Cooper Kupp",
            "nflId:46158.0<br>displayName:Joseph Noteboom",
            "nflId:46180.0<br>displayName:Brian Allen",
            "nflId:46376.0<br>displayName:Coleman Shelton",
            "nflId:47853.0<br>displayName:Darrell Henderson",
            "nflId:47952.0<br>displayName:David Edwards",
            "nflId:53678.0<br>displayName:Ben Skowronek"
           ],
           "marker": {
            "color": "#D50A0A"
           },
           "mode": "markers",
           "name": "LA",
           "type": "scatter",
           "x": [
            41.86,
            28.58,
            29.31,
            35.71,
            36.04,
            41.55,
            28.56,
            35.09,
            30.56,
            40.84,
            33.23
           ],
           "y": [
            32.55,
            26.55,
            22.82,
            9.7,
            23.2,
            15.8,
            13.87,
            14.7,
            14.29,
            20.39,
            7.19
           ]
          },
          {
           "hoverinfo": "text",
           "hovertext": [
            "nflId:37075.0<br>displayName:Von Miller",
            "nflId:40107.0<br>displayName:Micah Hyde",
            "nflId:40166.0<br>displayName:Jordan Poyer",
            "nflId:41341.0<br>displayName:DaQuan Jones",
            "nflId:44976.0<br>displayName:Matt Milano",
            "nflId:46085.0<br>displayName:Tremaine Edmunds",
            "nflId:46190.0<br>displayName:Taron Johnson",
            "nflId:46232.0<br>displayName:Tim Settle",
            "nflId:52647.0<br>displayName:Dane Jackson",
            "nflId:53459.0<br>displayName:Gregory Rousseau",
            "nflId:54488.0<br>displayName:Kaiir Elam"
           ],
           "marker": {
            "color": "#003594"
           },
           "mode": "markers",
           "name": "BUF",
           "type": "scatter",
           "x": [
            34.48,
            21.96,
            28.47,
            39.26,
            34.77,
            28.06,
            28.82,
            33.64,
            26.37,
            38.85,
            32.4
           ],
           "y": [
            23.78,
            21.38,
            12.63,
            17.35,
            9.02,
            13.72,
            22.65,
            12.92,
            26.55,
            12.93,
            8.08
           ]
          },
          {
           "hoverinfo": "none",
           "marker": {
            "color": "#CBB67C"
           },
           "mode": "markers",
           "name": "football",
           "type": "scatter",
           "x": [
            30.6599998474121
           ],
           "y": [
            14.2299995422363
           ]
          }
         ],
         "name": "44"
        },
        {
         "data": [
          {
           "hoverinfo": "none",
           "mode": "text",
           "showlegend": false,
           "text": [
            "10",
            "20",
            "30",
            "40",
            "50",
            "40",
            "30",
            "20",
            "10"
           ],
           "textfont": {
            "color": "#ffffff",
            "family": "Courier New, monospace",
            "size": 30
           },
           "type": "scatter",
           "x": [
            20,
            30,
            40,
            50,
            60,
            70,
            80,
            90,
            100
           ],
           "y": [
            5,
            5,
            5,
            5,
            5,
            5,
            5,
            5,
            5
           ]
          },
          {
           "hoverinfo": "none",
           "mode": "text",
           "showlegend": false,
           "text": [
            "10",
            "20",
            "30",
            "40",
            "50",
            "40",
            "30",
            "20",
            "10"
           ],
           "textfont": {
            "color": "#ffffff",
            "family": "Courier New, monospace",
            "size": 30
           },
           "type": "scatter",
           "x": [
            20,
            30,
            40,
            50,
            60,
            70,
            80,
            90,
            100
           ],
           "y": [
            48.5,
            48.5,
            48.5,
            48.5,
            48.5,
            48.5,
            48.5,
            48.5,
            48.5
           ]
          },
          {
           "hoverinfo": "none",
           "line": {
            "color": "blue",
            "dash": "dash"
           },
           "showlegend": false,
           "type": "scatter",
           "x": [
            35,
            35
           ],
           "y": [
            0,
            53.5
           ]
          },
          {
           "hoverinfo": "none",
           "line": {
            "color": "yellow",
            "dash": "dash"
           },
           "showlegend": false,
           "type": "scatter",
           "x": [
            25,
            25
           ],
           "y": [
            0,
            53.5
           ]
          },
          {
           "hoverinfo": "text",
           "hovertext": [
            "nflId:34452.0<br>displayName:Matthew Stafford",
            "nflId:41290.0<br>displayName:Allen Robinson",
            "nflId:42400.0<br>displayName:Rob Havenstein",
            "nflId:43399.0<br>displayName:Tyler Higbee",
            "nflId:44881.0<br>displayName:Cooper Kupp",
            "nflId:46158.0<br>displayName:Joseph Noteboom",
            "nflId:46180.0<br>displayName:Brian Allen",
            "nflId:46376.0<br>displayName:Coleman Shelton",
            "nflId:47853.0<br>displayName:Darrell Henderson",
            "nflId:47952.0<br>displayName:David Edwards",
            "nflId:53678.0<br>displayName:Ben Skowronek"
           ],
           "marker": {
            "color": "#D50A0A"
           },
           "mode": "markers",
           "name": "LA",
           "type": "scatter",
           "x": [
            41.75,
            28.32,
            29.12,
            35.55,
            35.81,
            41.57,
            28.22,
            34.87,
            29.8,
            40.81,
            33
           ],
           "y": [
            32.51,
            26.04,
            22.52,
            9.29,
            22.99,
            15.45,
            13.65,
            14.33,
            14.41,
            20.17,
            6.71
           ]
          },
          {
           "hoverinfo": "text",
           "hovertext": [
            "nflId:37075.0<br>displayName:Von Miller",
            "nflId:40107.0<br>displayName:Micah Hyde",
            "nflId:40166.0<br>displayName:Jordan Poyer",
            "nflId:41341.0<br>displayName:DaQuan Jones",
            "nflId:44976.0<br>displayName:Matt Milano",
            "nflId:46085.0<br>displayName:Tremaine Edmunds",
            "nflId:46190.0<br>displayName:Taron Johnson",
            "nflId:46232.0<br>displayName:Tim Settle",
            "nflId:52647.0<br>displayName:Dane Jackson",
            "nflId:53459.0<br>displayName:Gregory Rousseau",
            "nflId:54488.0<br>displayName:Kaiir Elam"
           ],
           "marker": {
            "color": "#003594"
           },
           "mode": "markers",
           "name": "BUF",
           "type": "scatter",
           "x": [
            34.07,
            22.07,
            28.41,
            38.86,
            34.51,
            27.7,
            28.66,
            33.43,
            26.07,
            38.44,
            32.02
           ],
           "y": [
            23.58,
            20.78,
            12.7,
            17.01,
            8.63,
            13.44,
            22.18,
            12.55,
            25.93,
            12.67,
            7.88
           ]
          },
          {
           "hoverinfo": "none",
           "marker": {
            "color": "#CBB67C"
           },
           "mode": "markers",
           "name": "football",
           "type": "scatter",
           "x": [
            29.9099998474121
           ],
           "y": [
            14.3599996566772
           ]
          }
         ],
         "name": "45"
        },
        {
         "data": [
          {
           "hoverinfo": "none",
           "mode": "text",
           "showlegend": false,
           "text": [
            "10",
            "20",
            "30",
            "40",
            "50",
            "40",
            "30",
            "20",
            "10"
           ],
           "textfont": {
            "color": "#ffffff",
            "family": "Courier New, monospace",
            "size": 30
           },
           "type": "scatter",
           "x": [
            20,
            30,
            40,
            50,
            60,
            70,
            80,
            90,
            100
           ],
           "y": [
            5,
            5,
            5,
            5,
            5,
            5,
            5,
            5,
            5
           ]
          },
          {
           "hoverinfo": "none",
           "mode": "text",
           "showlegend": false,
           "text": [
            "10",
            "20",
            "30",
            "40",
            "50",
            "40",
            "30",
            "20",
            "10"
           ],
           "textfont": {
            "color": "#ffffff",
            "family": "Courier New, monospace",
            "size": 30
           },
           "type": "scatter",
           "x": [
            20,
            30,
            40,
            50,
            60,
            70,
            80,
            90,
            100
           ],
           "y": [
            48.5,
            48.5,
            48.5,
            48.5,
            48.5,
            48.5,
            48.5,
            48.5,
            48.5
           ]
          },
          {
           "hoverinfo": "none",
           "line": {
            "color": "blue",
            "dash": "dash"
           },
           "showlegend": false,
           "type": "scatter",
           "x": [
            35,
            35
           ],
           "y": [
            0,
            53.5
           ]
          },
          {
           "hoverinfo": "none",
           "line": {
            "color": "yellow",
            "dash": "dash"
           },
           "showlegend": false,
           "type": "scatter",
           "x": [
            25,
            25
           ],
           "y": [
            0,
            53.5
           ]
          },
          {
           "hoverinfo": "text",
           "hovertext": [
            "nflId:34452.0<br>displayName:Matthew Stafford",
            "nflId:41290.0<br>displayName:Allen Robinson",
            "nflId:42400.0<br>displayName:Rob Havenstein",
            "nflId:43399.0<br>displayName:Tyler Higbee",
            "nflId:44881.0<br>displayName:Cooper Kupp",
            "nflId:46158.0<br>displayName:Joseph Noteboom",
            "nflId:46180.0<br>displayName:Brian Allen",
            "nflId:46376.0<br>displayName:Coleman Shelton",
            "nflId:47853.0<br>displayName:Darrell Henderson",
            "nflId:47952.0<br>displayName:David Edwards",
            "nflId:53678.0<br>displayName:Ben Skowronek"
           ],
           "marker": {
            "color": "#D50A0A"
           },
           "mode": "markers",
           "name": "LA",
           "type": "scatter",
           "x": [
            41.65,
            28.04,
            28.94,
            35.33,
            35.58,
            41.55,
            27.88,
            34.61,
            29.05,
            40.77,
            32.75
           ],
           "y": [
            32.45,
            25.53,
            22.23,
            8.92,
            22.79,
            15.11,
            13.46,
            14.01,
            14.56,
            19.98,
            6.25
           ]
          },
          {
           "hoverinfo": "text",
           "hovertext": [
            "nflId:37075.0<br>displayName:Von Miller",
            "nflId:40107.0<br>displayName:Micah Hyde",
            "nflId:40166.0<br>displayName:Jordan Poyer",
            "nflId:41341.0<br>displayName:DaQuan Jones",
            "nflId:44976.0<br>displayName:Matt Milano",
            "nflId:46085.0<br>displayName:Tremaine Edmunds",
            "nflId:46190.0<br>displayName:Taron Johnson",
            "nflId:46232.0<br>displayName:Tim Settle",
            "nflId:52647.0<br>displayName:Dane Jackson",
            "nflId:53459.0<br>displayName:Gregory Rousseau",
            "nflId:54488.0<br>displayName:Kaiir Elam"
           ],
           "marker": {
            "color": "#003594"
           },
           "mode": "markers",
           "name": "BUF",
           "type": "scatter",
           "x": [
            33.64,
            22.17,
            28.29,
            38.44,
            34.25,
            27.3,
            28.55,
            33.24,
            25.77,
            37.99,
            31.61
           ],
           "y": [
            23.38,
            20.19,
            12.82,
            16.69,
            8.25,
            13.2,
            21.7,
            12.23,
            25.31,
            12.46,
            7.72
           ]
          },
          {
           "hoverinfo": "none",
           "marker": {
            "color": "#CBB67C"
           },
           "mode": "markers",
           "name": "football",
           "type": "scatter",
           "x": [
            29.1700000762939
           ],
           "y": [
            14.5200004577637
           ]
          }
         ],
         "name": "46"
        },
        {
         "data": [
          {
           "hoverinfo": "none",
           "mode": "text",
           "showlegend": false,
           "text": [
            "10",
            "20",
            "30",
            "40",
            "50",
            "40",
            "30",
            "20",
            "10"
           ],
           "textfont": {
            "color": "#ffffff",
            "family": "Courier New, monospace",
            "size": 30
           },
           "type": "scatter",
           "x": [
            20,
            30,
            40,
            50,
            60,
            70,
            80,
            90,
            100
           ],
           "y": [
            5,
            5,
            5,
            5,
            5,
            5,
            5,
            5,
            5
           ]
          },
          {
           "hoverinfo": "none",
           "mode": "text",
           "showlegend": false,
           "text": [
            "10",
            "20",
            "30",
            "40",
            "50",
            "40",
            "30",
            "20",
            "10"
           ],
           "textfont": {
            "color": "#ffffff",
            "family": "Courier New, monospace",
            "size": 30
           },
           "type": "scatter",
           "x": [
            20,
            30,
            40,
            50,
            60,
            70,
            80,
            90,
            100
           ],
           "y": [
            48.5,
            48.5,
            48.5,
            48.5,
            48.5,
            48.5,
            48.5,
            48.5,
            48.5
           ]
          },
          {
           "hoverinfo": "none",
           "line": {
            "color": "blue",
            "dash": "dash"
           },
           "showlegend": false,
           "type": "scatter",
           "x": [
            35,
            35
           ],
           "y": [
            0,
            53.5
           ]
          },
          {
           "hoverinfo": "none",
           "line": {
            "color": "yellow",
            "dash": "dash"
           },
           "showlegend": false,
           "type": "scatter",
           "x": [
            25,
            25
           ],
           "y": [
            0,
            53.5
           ]
          },
          {
           "hoverinfo": "text",
           "hovertext": [
            "nflId:34452.0<br>displayName:Matthew Stafford",
            "nflId:41290.0<br>displayName:Allen Robinson",
            "nflId:42400.0<br>displayName:Rob Havenstein",
            "nflId:43399.0<br>displayName:Tyler Higbee",
            "nflId:44881.0<br>displayName:Cooper Kupp",
            "nflId:46158.0<br>displayName:Joseph Noteboom",
            "nflId:46180.0<br>displayName:Brian Allen",
            "nflId:46376.0<br>displayName:Coleman Shelton",
            "nflId:47853.0<br>displayName:Darrell Henderson",
            "nflId:47952.0<br>displayName:David Edwards",
            "nflId:53678.0<br>displayName:Ben Skowronek"
           ],
           "marker": {
            "color": "#D50A0A"
           },
           "mode": "markers",
           "name": "LA",
           "type": "scatter",
           "x": [
            41.54,
            27.76,
            28.77,
            35.08,
            35.33,
            41.47,
            27.54,
            34.34,
            28.31,
            40.72,
            32.49
           ],
           "y": [
            32.39,
            25.01,
            21.94,
            8.58,
            22.59,
            14.79,
            13.31,
            13.73,
            14.75,
            19.81,
            5.81
           ]
          },
          {
           "hoverinfo": "text",
           "hovertext": [
            "nflId:37075.0<br>displayName:Von Miller",
            "nflId:40107.0<br>displayName:Micah Hyde",
            "nflId:40166.0<br>displayName:Jordan Poyer",
            "nflId:41341.0<br>displayName:DaQuan Jones",
            "nflId:44976.0<br>displayName:Matt Milano",
            "nflId:46085.0<br>displayName:Tremaine Edmunds",
            "nflId:46190.0<br>displayName:Taron Johnson",
            "nflId:46232.0<br>displayName:Tim Settle",
            "nflId:52647.0<br>displayName:Dane Jackson",
            "nflId:53459.0<br>displayName:Gregory Rousseau",
            "nflId:54488.0<br>displayName:Kaiir Elam"
           ],
           "marker": {
            "color": "#003594"
           },
           "mode": "markers",
           "name": "BUF",
           "type": "scatter",
           "x": [
            33.21,
            22.26,
            28.13,
            37.98,
            33.98,
            26.88,
            28.47,
            33.08,
            25.44,
            37.5,
            31.18
           ],
           "y": [
            23.19,
            19.62,
            12.96,
            16.4,
            7.91,
            13,
            21.2,
            11.96,
            24.69,
            12.31,
            7.59
           ]
          },
          {
           "hoverinfo": "none",
           "marker": {
            "color": "#CBB67C"
           },
           "mode": "markers",
           "name": "football",
           "type": "scatter",
           "x": [
            28.4200000762939
           ],
           "y": [
            14.710000038147
           ]
          }
         ],
         "name": "47"
        },
        {
         "data": [
          {
           "hoverinfo": "none",
           "mode": "text",
           "showlegend": false,
           "text": [
            "10",
            "20",
            "30",
            "40",
            "50",
            "40",
            "30",
            "20",
            "10"
           ],
           "textfont": {
            "color": "#ffffff",
            "family": "Courier New, monospace",
            "size": 30
           },
           "type": "scatter",
           "x": [
            20,
            30,
            40,
            50,
            60,
            70,
            80,
            90,
            100
           ],
           "y": [
            5,
            5,
            5,
            5,
            5,
            5,
            5,
            5,
            5
           ]
          },
          {
           "hoverinfo": "none",
           "mode": "text",
           "showlegend": false,
           "text": [
            "10",
            "20",
            "30",
            "40",
            "50",
            "40",
            "30",
            "20",
            "10"
           ],
           "textfont": {
            "color": "#ffffff",
            "family": "Courier New, monospace",
            "size": 30
           },
           "type": "scatter",
           "x": [
            20,
            30,
            40,
            50,
            60,
            70,
            80,
            90,
            100
           ],
           "y": [
            48.5,
            48.5,
            48.5,
            48.5,
            48.5,
            48.5,
            48.5,
            48.5,
            48.5
           ]
          },
          {
           "hoverinfo": "none",
           "line": {
            "color": "blue",
            "dash": "dash"
           },
           "showlegend": false,
           "type": "scatter",
           "x": [
            35,
            35
           ],
           "y": [
            0,
            53.5
           ]
          },
          {
           "hoverinfo": "none",
           "line": {
            "color": "yellow",
            "dash": "dash"
           },
           "showlegend": false,
           "type": "scatter",
           "x": [
            25,
            25
           ],
           "y": [
            0,
            53.5
           ]
          },
          {
           "hoverinfo": "text",
           "hovertext": [
            "nflId:34452.0<br>displayName:Matthew Stafford",
            "nflId:41290.0<br>displayName:Allen Robinson",
            "nflId:42400.0<br>displayName:Rob Havenstein",
            "nflId:43399.0<br>displayName:Tyler Higbee",
            "nflId:44881.0<br>displayName:Cooper Kupp",
            "nflId:46158.0<br>displayName:Joseph Noteboom",
            "nflId:46180.0<br>displayName:Brian Allen",
            "nflId:46376.0<br>displayName:Coleman Shelton",
            "nflId:47853.0<br>displayName:Darrell Henderson",
            "nflId:47952.0<br>displayName:David Edwards",
            "nflId:53678.0<br>displayName:Ben Skowronek"
           ],
           "marker": {
            "color": "#D50A0A"
           },
           "mode": "markers",
           "name": "LA",
           "type": "scatter",
           "x": [
            41.43,
            27.45,
            28.61,
            34.78,
            35.08,
            41.37,
            27.21,
            34.05,
            27.56,
            40.66,
            32.23
           ],
           "y": [
            32.31,
            24.51,
            21.66,
            8.29,
            22.39,
            14.48,
            13.2,
            13.49,
            14.95,
            19.64,
            5.38
           ]
          },
          {
           "hoverinfo": "text",
           "hovertext": [
            "nflId:37075.0<br>displayName:Von Miller",
            "nflId:40107.0<br>displayName:Micah Hyde",
            "nflId:40166.0<br>displayName:Jordan Poyer",
            "nflId:41341.0<br>displayName:DaQuan Jones",
            "nflId:44976.0<br>displayName:Matt Milano",
            "nflId:46085.0<br>displayName:Tremaine Edmunds",
            "nflId:46190.0<br>displayName:Taron Johnson",
            "nflId:46232.0<br>displayName:Tim Settle",
            "nflId:52647.0<br>displayName:Dane Jackson",
            "nflId:53459.0<br>displayName:Gregory Rousseau",
            "nflId:54488.0<br>displayName:Kaiir Elam"
           ],
           "marker": {
            "color": "#003594"
           },
           "mode": "markers",
           "name": "BUF",
           "type": "scatter",
           "x": [
            32.76,
            22.33,
            27.92,
            37.51,
            33.69,
            26.46,
            28.41,
            32.96,
            25.11,
            37.02,
            30.72
           ],
           "y": [
            23.01,
            19.1,
            13.12,
            16.15,
            7.6,
            12.83,
            20.68,
            11.76,
            24.09,
            12.21,
            7.5
           ]
          },
          {
           "hoverinfo": "none",
           "marker": {
            "color": "#CBB67C"
           },
           "mode": "markers",
           "name": "football",
           "type": "scatter",
           "x": [
            27.6800003051758
           ],
           "y": [
            14.9099998474121
           ]
          }
         ],
         "name": "48"
        },
        {
         "data": [
          {
           "hoverinfo": "none",
           "mode": "text",
           "showlegend": false,
           "text": [
            "10",
            "20",
            "30",
            "40",
            "50",
            "40",
            "30",
            "20",
            "10"
           ],
           "textfont": {
            "color": "#ffffff",
            "family": "Courier New, monospace",
            "size": 30
           },
           "type": "scatter",
           "x": [
            20,
            30,
            40,
            50,
            60,
            70,
            80,
            90,
            100
           ],
           "y": [
            5,
            5,
            5,
            5,
            5,
            5,
            5,
            5,
            5
           ]
          },
          {
           "hoverinfo": "none",
           "mode": "text",
           "showlegend": false,
           "text": [
            "10",
            "20",
            "30",
            "40",
            "50",
            "40",
            "30",
            "20",
            "10"
           ],
           "textfont": {
            "color": "#ffffff",
            "family": "Courier New, monospace",
            "size": 30
           },
           "type": "scatter",
           "x": [
            20,
            30,
            40,
            50,
            60,
            70,
            80,
            90,
            100
           ],
           "y": [
            48.5,
            48.5,
            48.5,
            48.5,
            48.5,
            48.5,
            48.5,
            48.5,
            48.5
           ]
          },
          {
           "hoverinfo": "none",
           "line": {
            "color": "blue",
            "dash": "dash"
           },
           "showlegend": false,
           "type": "scatter",
           "x": [
            35,
            35
           ],
           "y": [
            0,
            53.5
           ]
          },
          {
           "hoverinfo": "none",
           "line": {
            "color": "yellow",
            "dash": "dash"
           },
           "showlegend": false,
           "type": "scatter",
           "x": [
            25,
            25
           ],
           "y": [
            0,
            53.5
           ]
          },
          {
           "hoverinfo": "text",
           "hovertext": [
            "nflId:34452.0<br>displayName:Matthew Stafford",
            "nflId:41290.0<br>displayName:Allen Robinson",
            "nflId:42400.0<br>displayName:Rob Havenstein",
            "nflId:43399.0<br>displayName:Tyler Higbee",
            "nflId:44881.0<br>displayName:Cooper Kupp",
            "nflId:46158.0<br>displayName:Joseph Noteboom",
            "nflId:46180.0<br>displayName:Brian Allen",
            "nflId:46376.0<br>displayName:Coleman Shelton",
            "nflId:47853.0<br>displayName:Darrell Henderson",
            "nflId:47952.0<br>displayName:David Edwards",
            "nflId:53678.0<br>displayName:Ben Skowronek"
           ],
           "marker": {
            "color": "#D50A0A"
           },
           "mode": "markers",
           "name": "LA",
           "type": "scatter",
           "x": [
            41.33,
            27.11,
            28.45,
            34.46,
            34.81,
            41.24,
            26.88,
            33.75,
            26.82,
            40.58,
            31.97
           ],
           "y": [
            32.22,
            24.01,
            21.4,
            8.02,
            22.21,
            14.18,
            13.11,
            13.3,
            15.17,
            19.49,
            4.96
           ]
          },
          {
           "hoverinfo": "text",
           "hovertext": [
            "nflId:37075.0<br>displayName:Von Miller",
            "nflId:40107.0<br>displayName:Micah Hyde",
            "nflId:40166.0<br>displayName:Jordan Poyer",
            "nflId:41341.0<br>displayName:DaQuan Jones",
            "nflId:44976.0<br>displayName:Matt Milano",
            "nflId:46085.0<br>displayName:Tremaine Edmunds",
            "nflId:46190.0<br>displayName:Taron Johnson",
            "nflId:46232.0<br>displayName:Tim Settle",
            "nflId:52647.0<br>displayName:Dane Jackson",
            "nflId:53459.0<br>displayName:Gregory Rousseau",
            "nflId:54488.0<br>displayName:Kaiir Elam"
           ],
           "marker": {
            "color": "#003594"
           },
           "mode": "markers",
           "name": "BUF",
           "type": "scatter",
           "x": [
            32.31,
            22.38,
            27.66,
            37.02,
            33.4,
            26.01,
            28.36,
            32.85,
            24.76,
            36.52,
            30.24
           ],
           "y": [
            22.83,
            18.6,
            13.29,
            15.93,
            7.32,
            12.71,
            20.15,
            11.59,
            23.48,
            12.17,
            7.47
           ]
          },
          {
           "hoverinfo": "none",
           "marker": {
            "color": "#CBB67C"
           },
           "mode": "markers",
           "name": "football",
           "type": "scatter",
           "x": [
            26.9400005340576
           ],
           "y": [
            15.1400003433228
           ]
          }
         ],
         "name": "49"
        },
        {
         "data": [
          {
           "hoverinfo": "none",
           "mode": "text",
           "showlegend": false,
           "text": [
            "10",
            "20",
            "30",
            "40",
            "50",
            "40",
            "30",
            "20",
            "10"
           ],
           "textfont": {
            "color": "#ffffff",
            "family": "Courier New, monospace",
            "size": 30
           },
           "type": "scatter",
           "x": [
            20,
            30,
            40,
            50,
            60,
            70,
            80,
            90,
            100
           ],
           "y": [
            5,
            5,
            5,
            5,
            5,
            5,
            5,
            5,
            5
           ]
          },
          {
           "hoverinfo": "none",
           "mode": "text",
           "showlegend": false,
           "text": [
            "10",
            "20",
            "30",
            "40",
            "50",
            "40",
            "30",
            "20",
            "10"
           ],
           "textfont": {
            "color": "#ffffff",
            "family": "Courier New, monospace",
            "size": 30
           },
           "type": "scatter",
           "x": [
            20,
            30,
            40,
            50,
            60,
            70,
            80,
            90,
            100
           ],
           "y": [
            48.5,
            48.5,
            48.5,
            48.5,
            48.5,
            48.5,
            48.5,
            48.5,
            48.5
           ]
          },
          {
           "hoverinfo": "none",
           "line": {
            "color": "blue",
            "dash": "dash"
           },
           "showlegend": false,
           "type": "scatter",
           "x": [
            35,
            35
           ],
           "y": [
            0,
            53.5
           ]
          },
          {
           "hoverinfo": "none",
           "line": {
            "color": "yellow",
            "dash": "dash"
           },
           "showlegend": false,
           "type": "scatter",
           "x": [
            25,
            25
           ],
           "y": [
            0,
            53.5
           ]
          },
          {
           "hoverinfo": "text",
           "hovertext": [
            "nflId:34452.0<br>displayName:Matthew Stafford",
            "nflId:41290.0<br>displayName:Allen Robinson",
            "nflId:42400.0<br>displayName:Rob Havenstein",
            "nflId:43399.0<br>displayName:Tyler Higbee",
            "nflId:44881.0<br>displayName:Cooper Kupp",
            "nflId:46158.0<br>displayName:Joseph Noteboom",
            "nflId:46180.0<br>displayName:Brian Allen",
            "nflId:46376.0<br>displayName:Coleman Shelton",
            "nflId:47853.0<br>displayName:Darrell Henderson",
            "nflId:47952.0<br>displayName:David Edwards",
            "nflId:53678.0<br>displayName:Ben Skowronek"
           ],
           "marker": {
            "color": "#D50A0A"
           },
           "mode": "markers",
           "name": "LA",
           "type": "scatter",
           "x": [
            41.22,
            26.73,
            28.28,
            34.1,
            34.53,
            41.06,
            26.55,
            33.43,
            26.08,
            40.51,
            31.71
           ],
           "y": [
            32.12,
            23.52,
            21.14,
            7.8,
            22.03,
            13.9,
            13.04,
            13.14,
            15.4,
            19.35,
            4.55
           ]
          },
          {
           "hoverinfo": "text",
           "hovertext": [
            "nflId:37075.0<br>displayName:Von Miller",
            "nflId:40107.0<br>displayName:Micah Hyde",
            "nflId:40166.0<br>displayName:Jordan Poyer",
            "nflId:41341.0<br>displayName:DaQuan Jones",
            "nflId:44976.0<br>displayName:Matt Milano",
            "nflId:46085.0<br>displayName:Tremaine Edmunds",
            "nflId:46190.0<br>displayName:Taron Johnson",
            "nflId:46232.0<br>displayName:Tim Settle",
            "nflId:52647.0<br>displayName:Dane Jackson",
            "nflId:53459.0<br>displayName:Gregory Rousseau",
            "nflId:54488.0<br>displayName:Kaiir Elam"
           ],
           "marker": {
            "color": "#003594"
           },
           "mode": "markers",
           "name": "BUF",
           "type": "scatter",
           "x": [
            31.85,
            22.41,
            27.28,
            36.51,
            33.11,
            25.55,
            28.3,
            32.73,
            24.39,
            36.01,
            29.74
           ],
           "y": [
            22.67,
            18.13,
            13.41,
            15.74,
            7.08,
            12.64,
            19.63,
            11.44,
            22.9,
            12.19,
            7.48
           ]
          },
          {
           "hoverinfo": "none",
           "marker": {
            "color": "#CBB67C"
           },
           "mode": "markers",
           "name": "football",
           "type": "scatter",
           "x": [
            26.2000007629395
           ],
           "y": [
            15.3699998855591
           ]
          }
         ],
         "name": "50"
        },
        {
         "data": [
          {
           "hoverinfo": "none",
           "mode": "text",
           "showlegend": false,
           "text": [
            "10",
            "20",
            "30",
            "40",
            "50",
            "40",
            "30",
            "20",
            "10"
           ],
           "textfont": {
            "color": "#ffffff",
            "family": "Courier New, monospace",
            "size": 30
           },
           "type": "scatter",
           "x": [
            20,
            30,
            40,
            50,
            60,
            70,
            80,
            90,
            100
           ],
           "y": [
            5,
            5,
            5,
            5,
            5,
            5,
            5,
            5,
            5
           ]
          },
          {
           "hoverinfo": "none",
           "mode": "text",
           "showlegend": false,
           "text": [
            "10",
            "20",
            "30",
            "40",
            "50",
            "40",
            "30",
            "20",
            "10"
           ],
           "textfont": {
            "color": "#ffffff",
            "family": "Courier New, monospace",
            "size": 30
           },
           "type": "scatter",
           "x": [
            20,
            30,
            40,
            50,
            60,
            70,
            80,
            90,
            100
           ],
           "y": [
            48.5,
            48.5,
            48.5,
            48.5,
            48.5,
            48.5,
            48.5,
            48.5,
            48.5
           ]
          },
          {
           "hoverinfo": "none",
           "line": {
            "color": "blue",
            "dash": "dash"
           },
           "showlegend": false,
           "type": "scatter",
           "x": [
            35,
            35
           ],
           "y": [
            0,
            53.5
           ]
          },
          {
           "hoverinfo": "none",
           "line": {
            "color": "yellow",
            "dash": "dash"
           },
           "showlegend": false,
           "type": "scatter",
           "x": [
            25,
            25
           ],
           "y": [
            0,
            53.5
           ]
          },
          {
           "hoverinfo": "text",
           "hovertext": [
            "nflId:34452.0<br>displayName:Matthew Stafford",
            "nflId:41290.0<br>displayName:Allen Robinson",
            "nflId:42400.0<br>displayName:Rob Havenstein",
            "nflId:43399.0<br>displayName:Tyler Higbee",
            "nflId:44881.0<br>displayName:Cooper Kupp",
            "nflId:46158.0<br>displayName:Joseph Noteboom",
            "nflId:46180.0<br>displayName:Brian Allen",
            "nflId:46376.0<br>displayName:Coleman Shelton",
            "nflId:47853.0<br>displayName:Darrell Henderson",
            "nflId:47952.0<br>displayName:David Edwards",
            "nflId:53678.0<br>displayName:Ben Skowronek"
           ],
           "marker": {
            "color": "#D50A0A"
           },
           "mode": "markers",
           "name": "LA",
           "type": "scatter",
           "x": [
            41.11,
            26.32,
            28.1,
            33.71,
            34.24,
            40.86,
            26.23,
            33.09,
            25.37,
            40.43,
            31.45
           ],
           "y": [
            32.02,
            23.04,
            20.88,
            7.6,
            21.87,
            13.63,
            12.98,
            13.04,
            15.61,
            19.2,
            4.16
           ]
          },
          {
           "hoverinfo": "text",
           "hovertext": [
            "nflId:37075.0<br>displayName:Von Miller",
            "nflId:40107.0<br>displayName:Micah Hyde",
            "nflId:40166.0<br>displayName:Jordan Poyer",
            "nflId:41341.0<br>displayName:DaQuan Jones",
            "nflId:44976.0<br>displayName:Matt Milano",
            "nflId:46085.0<br>displayName:Tremaine Edmunds",
            "nflId:46190.0<br>displayName:Taron Johnson",
            "nflId:46232.0<br>displayName:Tim Settle",
            "nflId:52647.0<br>displayName:Dane Jackson",
            "nflId:53459.0<br>displayName:Gregory Rousseau",
            "nflId:54488.0<br>displayName:Kaiir Elam"
           ],
           "marker": {
            "color": "#003594"
           },
           "mode": "markers",
           "name": "BUF",
           "type": "scatter",
           "x": [
            31.38,
            22.39,
            26.9,
            36,
            32.83,
            25.07,
            28.24,
            32.63,
            23.98,
            35.51,
            29.22
           ],
           "y": [
            22.53,
            17.75,
            13.53,
            15.59,
            6.86,
            12.61,
            19.12,
            11.34,
            22.33,
            12.26,
            7.53
           ]
          },
          {
           "hoverinfo": "none",
           "marker": {
            "color": "#CBB67C"
           },
           "mode": "markers",
           "name": "football",
           "type": "scatter",
           "x": [
            25.4699993133545
           ],
           "y": [
            15.5900001525879
           ]
          }
         ],
         "name": "51"
        },
        {
         "data": [
          {
           "hoverinfo": "none",
           "mode": "text",
           "showlegend": false,
           "text": [
            "10",
            "20",
            "30",
            "40",
            "50",
            "40",
            "30",
            "20",
            "10"
           ],
           "textfont": {
            "color": "#ffffff",
            "family": "Courier New, monospace",
            "size": 30
           },
           "type": "scatter",
           "x": [
            20,
            30,
            40,
            50,
            60,
            70,
            80,
            90,
            100
           ],
           "y": [
            5,
            5,
            5,
            5,
            5,
            5,
            5,
            5,
            5
           ]
          },
          {
           "hoverinfo": "none",
           "mode": "text",
           "showlegend": false,
           "text": [
            "10",
            "20",
            "30",
            "40",
            "50",
            "40",
            "30",
            "20",
            "10"
           ],
           "textfont": {
            "color": "#ffffff",
            "family": "Courier New, monospace",
            "size": 30
           },
           "type": "scatter",
           "x": [
            20,
            30,
            40,
            50,
            60,
            70,
            80,
            90,
            100
           ],
           "y": [
            48.5,
            48.5,
            48.5,
            48.5,
            48.5,
            48.5,
            48.5,
            48.5,
            48.5
           ]
          },
          {
           "hoverinfo": "none",
           "line": {
            "color": "blue",
            "dash": "dash"
           },
           "showlegend": false,
           "type": "scatter",
           "x": [
            35,
            35
           ],
           "y": [
            0,
            53.5
           ]
          },
          {
           "hoverinfo": "none",
           "line": {
            "color": "yellow",
            "dash": "dash"
           },
           "showlegend": false,
           "type": "scatter",
           "x": [
            25,
            25
           ],
           "y": [
            0,
            53.5
           ]
          },
          {
           "hoverinfo": "text",
           "hovertext": [
            "nflId:34452.0<br>displayName:Matthew Stafford",
            "nflId:41290.0<br>displayName:Allen Robinson",
            "nflId:42400.0<br>displayName:Rob Havenstein",
            "nflId:43399.0<br>displayName:Tyler Higbee",
            "nflId:44881.0<br>displayName:Cooper Kupp",
            "nflId:46158.0<br>displayName:Joseph Noteboom",
            "nflId:46180.0<br>displayName:Brian Allen",
            "nflId:46376.0<br>displayName:Coleman Shelton",
            "nflId:47853.0<br>displayName:Darrell Henderson",
            "nflId:47952.0<br>displayName:David Edwards",
            "nflId:53678.0<br>displayName:Ben Skowronek"
           ],
           "marker": {
            "color": "#D50A0A"
           },
           "mode": "markers",
           "name": "LA",
           "type": "scatter",
           "x": [
            41.01,
            25.87,
            27.91,
            33.31,
            33.94,
            40.63,
            25.93,
            32.76,
            24.7,
            40.35,
            31.19
           ],
           "y": [
            31.91,
            22.59,
            20.64,
            7.46,
            21.72,
            13.38,
            12.92,
            12.96,
            15.8,
            19.08,
            3.78
           ]
          },
          {
           "hoverinfo": "text",
           "hovertext": [
            "nflId:37075.0<br>displayName:Von Miller",
            "nflId:40107.0<br>displayName:Micah Hyde",
            "nflId:40166.0<br>displayName:Jordan Poyer",
            "nflId:41341.0<br>displayName:DaQuan Jones",
            "nflId:44976.0<br>displayName:Matt Milano",
            "nflId:46085.0<br>displayName:Tremaine Edmunds",
            "nflId:46190.0<br>displayName:Taron Johnson",
            "nflId:46232.0<br>displayName:Tim Settle",
            "nflId:52647.0<br>displayName:Dane Jackson",
            "nflId:53459.0<br>displayName:Gregory Rousseau",
            "nflId:54488.0<br>displayName:Kaiir Elam"
           ],
           "marker": {
            "color": "#003594"
           },
           "mode": "markers",
           "name": "BUF",
           "type": "scatter",
           "x": [
            30.91,
            22.32,
            26.52,
            35.46,
            32.54,
            24.59,
            28.17,
            32.54,
            23.56,
            35,
            28.68
           ],
           "y": [
            22.4,
            17.39,
            13.64,
            15.46,
            6.68,
            12.62,
            18.63,
            11.28,
            21.78,
            12.37,
            7.6
           ]
          },
          {
           "hoverinfo": "none",
           "marker": {
            "color": "#CBB67C"
           },
           "mode": "markers",
           "name": "football",
           "type": "scatter",
           "x": [
            24.7900009155273
           ],
           "y": [
            15.789999961853
           ]
          }
         ],
         "name": "52"
        },
        {
         "data": [
          {
           "hoverinfo": "none",
           "mode": "text",
           "showlegend": false,
           "text": [
            "10",
            "20",
            "30",
            "40",
            "50",
            "40",
            "30",
            "20",
            "10"
           ],
           "textfont": {
            "color": "#ffffff",
            "family": "Courier New, monospace",
            "size": 30
           },
           "type": "scatter",
           "x": [
            20,
            30,
            40,
            50,
            60,
            70,
            80,
            90,
            100
           ],
           "y": [
            5,
            5,
            5,
            5,
            5,
            5,
            5,
            5,
            5
           ]
          },
          {
           "hoverinfo": "none",
           "mode": "text",
           "showlegend": false,
           "text": [
            "10",
            "20",
            "30",
            "40",
            "50",
            "40",
            "30",
            "20",
            "10"
           ],
           "textfont": {
            "color": "#ffffff",
            "family": "Courier New, monospace",
            "size": 30
           },
           "type": "scatter",
           "x": [
            20,
            30,
            40,
            50,
            60,
            70,
            80,
            90,
            100
           ],
           "y": [
            48.5,
            48.5,
            48.5,
            48.5,
            48.5,
            48.5,
            48.5,
            48.5,
            48.5
           ]
          },
          {
           "hoverinfo": "none",
           "line": {
            "color": "blue",
            "dash": "dash"
           },
           "showlegend": false,
           "type": "scatter",
           "x": [
            35,
            35
           ],
           "y": [
            0,
            53.5
           ]
          },
          {
           "hoverinfo": "none",
           "line": {
            "color": "yellow",
            "dash": "dash"
           },
           "showlegend": false,
           "type": "scatter",
           "x": [
            25,
            25
           ],
           "y": [
            0,
            53.5
           ]
          },
          {
           "hoverinfo": "text",
           "hovertext": [
            "nflId:34452.0<br>displayName:Matthew Stafford",
            "nflId:41290.0<br>displayName:Allen Robinson",
            "nflId:42400.0<br>displayName:Rob Havenstein",
            "nflId:43399.0<br>displayName:Tyler Higbee",
            "nflId:44881.0<br>displayName:Cooper Kupp",
            "nflId:46158.0<br>displayName:Joseph Noteboom",
            "nflId:46180.0<br>displayName:Brian Allen",
            "nflId:46376.0<br>displayName:Coleman Shelton",
            "nflId:47853.0<br>displayName:Darrell Henderson",
            "nflId:47952.0<br>displayName:David Edwards",
            "nflId:53678.0<br>displayName:Ben Skowronek"
           ],
           "marker": {
            "color": "#D50A0A"
           },
           "mode": "markers",
           "name": "LA",
           "type": "scatter",
           "x": [
            40.9,
            25.38,
            27.71,
            32.89,
            33.63,
            40.38,
            25.67,
            32.39,
            24.05,
            40.27,
            30.93
           ],
           "y": [
            31.79,
            22.15,
            20.41,
            7.36,
            21.59,
            13.17,
            12.87,
            12.91,
            15.99,
            18.91,
            3.41
           ]
          },
          {
           "hoverinfo": "text",
           "hovertext": [
            "nflId:37075.0<br>displayName:Von Miller",
            "nflId:40107.0<br>displayName:Micah Hyde",
            "nflId:40166.0<br>displayName:Jordan Poyer",
            "nflId:41341.0<br>displayName:DaQuan Jones",
            "nflId:44976.0<br>displayName:Matt Milano",
            "nflId:46085.0<br>displayName:Tremaine Edmunds",
            "nflId:46190.0<br>displayName:Taron Johnson",
            "nflId:46232.0<br>displayName:Tim Settle",
            "nflId:52647.0<br>displayName:Dane Jackson",
            "nflId:53459.0<br>displayName:Gregory Rousseau",
            "nflId:54488.0<br>displayName:Kaiir Elam"
           ],
           "marker": {
            "color": "#003594"
           },
           "mode": "markers",
           "name": "BUF",
           "type": "scatter",
           "x": [
            30.45,
            22.21,
            26.12,
            34.93,
            32.26,
            24.12,
            28.05,
            32.46,
            23.14,
            34.5,
            28.12
           ],
           "y": [
            22.3,
            17.07,
            13.73,
            15.36,
            6.54,
            12.67,
            18.18,
            11.24,
            21.26,
            12.53,
            7.71
           ]
          },
          {
           "hoverinfo": "none",
           "marker": {
            "color": "#CBB67C"
           },
           "mode": "markers",
           "name": "football",
           "type": "scatter",
           "x": [
            24.1499996185303
           ],
           "y": [
            15.9700002670288
           ]
          }
         ],
         "name": "53"
        },
        {
         "data": [
          {
           "hoverinfo": "none",
           "mode": "text",
           "showlegend": false,
           "text": [
            "10",
            "20",
            "30",
            "40",
            "50",
            "40",
            "30",
            "20",
            "10"
           ],
           "textfont": {
            "color": "#ffffff",
            "family": "Courier New, monospace",
            "size": 30
           },
           "type": "scatter",
           "x": [
            20,
            30,
            40,
            50,
            60,
            70,
            80,
            90,
            100
           ],
           "y": [
            5,
            5,
            5,
            5,
            5,
            5,
            5,
            5,
            5
           ]
          },
          {
           "hoverinfo": "none",
           "mode": "text",
           "showlegend": false,
           "text": [
            "10",
            "20",
            "30",
            "40",
            "50",
            "40",
            "30",
            "20",
            "10"
           ],
           "textfont": {
            "color": "#ffffff",
            "family": "Courier New, monospace",
            "size": 30
           },
           "type": "scatter",
           "x": [
            20,
            30,
            40,
            50,
            60,
            70,
            80,
            90,
            100
           ],
           "y": [
            48.5,
            48.5,
            48.5,
            48.5,
            48.5,
            48.5,
            48.5,
            48.5,
            48.5
           ]
          },
          {
           "hoverinfo": "none",
           "line": {
            "color": "blue",
            "dash": "dash"
           },
           "showlegend": false,
           "type": "scatter",
           "x": [
            35,
            35
           ],
           "y": [
            0,
            53.5
           ]
          },
          {
           "hoverinfo": "none",
           "line": {
            "color": "yellow",
            "dash": "dash"
           },
           "showlegend": false,
           "type": "scatter",
           "x": [
            25,
            25
           ],
           "y": [
            0,
            53.5
           ]
          },
          {
           "hoverinfo": "text",
           "hovertext": [
            "nflId:34452.0<br>displayName:Matthew Stafford",
            "nflId:41290.0<br>displayName:Allen Robinson",
            "nflId:42400.0<br>displayName:Rob Havenstein",
            "nflId:43399.0<br>displayName:Tyler Higbee",
            "nflId:44881.0<br>displayName:Cooper Kupp",
            "nflId:46158.0<br>displayName:Joseph Noteboom",
            "nflId:46180.0<br>displayName:Brian Allen",
            "nflId:46376.0<br>displayName:Coleman Shelton",
            "nflId:47853.0<br>displayName:Darrell Henderson",
            "nflId:47952.0<br>displayName:David Edwards",
            "nflId:53678.0<br>displayName:Ben Skowronek"
           ],
           "marker": {
            "color": "#D50A0A"
           },
           "mode": "markers",
           "name": "LA",
           "type": "scatter",
           "x": [
            40.79,
            24.86,
            27.48,
            32.45,
            33.32,
            40.09,
            25.41,
            32.03,
            23.42,
            40.17,
            30.67
           ],
           "y": [
            31.68,
            21.75,
            20.2,
            7.3,
            21.47,
            12.97,
            12.84,
            12.88,
            16.17,
            18.78,
            3.06
           ]
          },
          {
           "hoverinfo": "text",
           "hovertext": [
            "nflId:37075.0<br>displayName:Von Miller",
            "nflId:40107.0<br>displayName:Micah Hyde",
            "nflId:40166.0<br>displayName:Jordan Poyer",
            "nflId:41341.0<br>displayName:DaQuan Jones",
            "nflId:44976.0<br>displayName:Matt Milano",
            "nflId:46085.0<br>displayName:Tremaine Edmunds",
            "nflId:46190.0<br>displayName:Taron Johnson",
            "nflId:46232.0<br>displayName:Tim Settle",
            "nflId:52647.0<br>displayName:Dane Jackson",
            "nflId:53459.0<br>displayName:Gregory Rousseau",
            "nflId:54488.0<br>displayName:Kaiir Elam"
           ],
           "marker": {
            "color": "#003594"
           },
           "mode": "markers",
           "name": "BUF",
           "type": "scatter",
           "x": [
            29.98,
            22.06,
            25.69,
            34.4,
            31.99,
            23.62,
            27.91,
            32.37,
            22.73,
            34,
            27.56
           ],
           "y": [
            22.22,
            16.78,
            13.8,
            15.29,
            6.42,
            12.76,
            17.77,
            11.25,
            20.76,
            12.73,
            7.84
           ]
          },
          {
           "hoverinfo": "none",
           "marker": {
            "color": "#CBB67C"
           },
           "mode": "markers",
           "name": "football",
           "type": "scatter",
           "x": [
            23.5200004577637
           ],
           "y": [
            16.1399993896484
           ]
          }
         ],
         "name": "54"
        },
        {
         "data": [
          {
           "hoverinfo": "none",
           "mode": "text",
           "showlegend": false,
           "text": [
            "10",
            "20",
            "30",
            "40",
            "50",
            "40",
            "30",
            "20",
            "10"
           ],
           "textfont": {
            "color": "#ffffff",
            "family": "Courier New, monospace",
            "size": 30
           },
           "type": "scatter",
           "x": [
            20,
            30,
            40,
            50,
            60,
            70,
            80,
            90,
            100
           ],
           "y": [
            5,
            5,
            5,
            5,
            5,
            5,
            5,
            5,
            5
           ]
          },
          {
           "hoverinfo": "none",
           "mode": "text",
           "showlegend": false,
           "text": [
            "10",
            "20",
            "30",
            "40",
            "50",
            "40",
            "30",
            "20",
            "10"
           ],
           "textfont": {
            "color": "#ffffff",
            "family": "Courier New, monospace",
            "size": 30
           },
           "type": "scatter",
           "x": [
            20,
            30,
            40,
            50,
            60,
            70,
            80,
            90,
            100
           ],
           "y": [
            48.5,
            48.5,
            48.5,
            48.5,
            48.5,
            48.5,
            48.5,
            48.5,
            48.5
           ]
          },
          {
           "hoverinfo": "none",
           "line": {
            "color": "blue",
            "dash": "dash"
           },
           "showlegend": false,
           "type": "scatter",
           "x": [
            35,
            35
           ],
           "y": [
            0,
            53.5
           ]
          },
          {
           "hoverinfo": "none",
           "line": {
            "color": "yellow",
            "dash": "dash"
           },
           "showlegend": false,
           "type": "scatter",
           "x": [
            25,
            25
           ],
           "y": [
            0,
            53.5
           ]
          },
          {
           "hoverinfo": "text",
           "hovertext": [
            "nflId:34452.0<br>displayName:Matthew Stafford",
            "nflId:41290.0<br>displayName:Allen Robinson",
            "nflId:42400.0<br>displayName:Rob Havenstein",
            "nflId:43399.0<br>displayName:Tyler Higbee",
            "nflId:44881.0<br>displayName:Cooper Kupp",
            "nflId:46158.0<br>displayName:Joseph Noteboom",
            "nflId:46180.0<br>displayName:Brian Allen",
            "nflId:46376.0<br>displayName:Coleman Shelton",
            "nflId:47853.0<br>displayName:Darrell Henderson",
            "nflId:47952.0<br>displayName:David Edwards",
            "nflId:53678.0<br>displayName:Ben Skowronek"
           ],
           "marker": {
            "color": "#D50A0A"
           },
           "mode": "markers",
           "name": "LA",
           "type": "scatter",
           "x": [
            40.68,
            24.31,
            27.24,
            32.01,
            33,
            39.82,
            25.19,
            31.67,
            22.88,
            40.07,
            30.43
           ],
           "y": [
            31.56,
            21.38,
            19.98,
            7.26,
            21.35,
            12.78,
            12.87,
            12.87,
            16.33,
            18.65,
            2.72
           ]
          },
          {
           "hoverinfo": "text",
           "hovertext": [
            "nflId:37075.0<br>displayName:Von Miller",
            "nflId:40107.0<br>displayName:Micah Hyde",
            "nflId:40166.0<br>displayName:Jordan Poyer",
            "nflId:41341.0<br>displayName:DaQuan Jones",
            "nflId:44976.0<br>displayName:Matt Milano",
            "nflId:46085.0<br>displayName:Tremaine Edmunds",
            "nflId:46190.0<br>displayName:Taron Johnson",
            "nflId:46232.0<br>displayName:Tim Settle",
            "nflId:52647.0<br>displayName:Dane Jackson",
            "nflId:53459.0<br>displayName:Gregory Rousseau",
            "nflId:54488.0<br>displayName:Kaiir Elam"
           ],
           "marker": {
            "color": "#003594"
           },
           "mode": "markers",
           "name": "BUF",
           "type": "scatter",
           "x": [
            29.52,
            21.85,
            25.27,
            33.86,
            31.73,
            23.11,
            27.73,
            32.27,
            22.31,
            33.52,
            26.98
           ],
           "y": [
            22.17,
            16.53,
            13.86,
            15.24,
            6.34,
            12.92,
            17.41,
            11.31,
            20.27,
            12.95,
            7.99
           ]
          },
          {
           "hoverinfo": "none",
           "marker": {
            "color": "#CBB67C"
           },
           "mode": "markers",
           "name": "football",
           "type": "scatter",
           "x": [
            22.9500007629395
           ],
           "y": [
            16.2999992370605
           ]
          }
         ],
         "name": "55"
        },
        {
         "data": [
          {
           "hoverinfo": "none",
           "mode": "text",
           "showlegend": false,
           "text": [
            "10",
            "20",
            "30",
            "40",
            "50",
            "40",
            "30",
            "20",
            "10"
           ],
           "textfont": {
            "color": "#ffffff",
            "family": "Courier New, monospace",
            "size": 30
           },
           "type": "scatter",
           "x": [
            20,
            30,
            40,
            50,
            60,
            70,
            80,
            90,
            100
           ],
           "y": [
            5,
            5,
            5,
            5,
            5,
            5,
            5,
            5,
            5
           ]
          },
          {
           "hoverinfo": "none",
           "mode": "text",
           "showlegend": false,
           "text": [
            "10",
            "20",
            "30",
            "40",
            "50",
            "40",
            "30",
            "20",
            "10"
           ],
           "textfont": {
            "color": "#ffffff",
            "family": "Courier New, monospace",
            "size": 30
           },
           "type": "scatter",
           "x": [
            20,
            30,
            40,
            50,
            60,
            70,
            80,
            90,
            100
           ],
           "y": [
            48.5,
            48.5,
            48.5,
            48.5,
            48.5,
            48.5,
            48.5,
            48.5,
            48.5
           ]
          },
          {
           "hoverinfo": "none",
           "line": {
            "color": "blue",
            "dash": "dash"
           },
           "showlegend": false,
           "type": "scatter",
           "x": [
            35,
            35
           ],
           "y": [
            0,
            53.5
           ]
          },
          {
           "hoverinfo": "none",
           "line": {
            "color": "yellow",
            "dash": "dash"
           },
           "showlegend": false,
           "type": "scatter",
           "x": [
            25,
            25
           ],
           "y": [
            0,
            53.5
           ]
          },
          {
           "hoverinfo": "text",
           "hovertext": [
            "nflId:34452.0<br>displayName:Matthew Stafford",
            "nflId:41290.0<br>displayName:Allen Robinson",
            "nflId:42400.0<br>displayName:Rob Havenstein",
            "nflId:43399.0<br>displayName:Tyler Higbee",
            "nflId:44881.0<br>displayName:Cooper Kupp",
            "nflId:46158.0<br>displayName:Joseph Noteboom",
            "nflId:46180.0<br>displayName:Brian Allen",
            "nflId:46376.0<br>displayName:Coleman Shelton",
            "nflId:47853.0<br>displayName:Darrell Henderson",
            "nflId:47952.0<br>displayName:David Edwards",
            "nflId:53678.0<br>displayName:Ben Skowronek"
           ],
           "marker": {
            "color": "#D50A0A"
           },
           "mode": "markers",
           "name": "LA",
           "type": "scatter",
           "x": [
            40.57,
            23.74,
            26.98,
            31.55,
            32.67,
            39.52,
            24.98,
            31.3,
            22.34,
            39.97,
            30.19
           ],
           "y": [
            31.44,
            21.03,
            19.78,
            7.27,
            21.26,
            12.61,
            12.88,
            12.89,
            16.49,
            18.52,
            2.41
           ]
          },
          {
           "hoverinfo": "text",
           "hovertext": [
            "nflId:37075.0<br>displayName:Von Miller",
            "nflId:40107.0<br>displayName:Micah Hyde",
            "nflId:40166.0<br>displayName:Jordan Poyer",
            "nflId:41341.0<br>displayName:DaQuan Jones",
            "nflId:44976.0<br>displayName:Matt Milano",
            "nflId:46085.0<br>displayName:Tremaine Edmunds",
            "nflId:46190.0<br>displayName:Taron Johnson",
            "nflId:46232.0<br>displayName:Tim Settle",
            "nflId:52647.0<br>displayName:Dane Jackson",
            "nflId:53459.0<br>displayName:Gregory Rousseau",
            "nflId:54488.0<br>displayName:Kaiir Elam"
           ],
           "marker": {
            "color": "#003594"
           },
           "mode": "markers",
           "name": "BUF",
           "type": "scatter",
           "x": [
            29.07,
            21.58,
            24.84,
            33.32,
            31.49,
            22.6,
            27.51,
            32.15,
            21.89,
            33.03,
            26.4
           ],
           "y": [
            22.14,
            16.32,
            13.89,
            15.2,
            6.29,
            13.11,
            17.11,
            11.39,
            19.81,
            13.18,
            8.17
           ]
          },
          {
           "hoverinfo": "none",
           "marker": {
            "color": "#CBB67C"
           },
           "mode": "markers",
           "name": "football",
           "type": "scatter",
           "x": [
            22.4099998474121
           ],
           "y": [
            16.4500007629395
           ]
          }
         ],
         "name": "56"
        },
        {
         "data": [
          {
           "hoverinfo": "none",
           "mode": "text",
           "showlegend": false,
           "text": [
            "10",
            "20",
            "30",
            "40",
            "50",
            "40",
            "30",
            "20",
            "10"
           ],
           "textfont": {
            "color": "#ffffff",
            "family": "Courier New, monospace",
            "size": 30
           },
           "type": "scatter",
           "x": [
            20,
            30,
            40,
            50,
            60,
            70,
            80,
            90,
            100
           ],
           "y": [
            5,
            5,
            5,
            5,
            5,
            5,
            5,
            5,
            5
           ]
          },
          {
           "hoverinfo": "none",
           "mode": "text",
           "showlegend": false,
           "text": [
            "10",
            "20",
            "30",
            "40",
            "50",
            "40",
            "30",
            "20",
            "10"
           ],
           "textfont": {
            "color": "#ffffff",
            "family": "Courier New, monospace",
            "size": 30
           },
           "type": "scatter",
           "x": [
            20,
            30,
            40,
            50,
            60,
            70,
            80,
            90,
            100
           ],
           "y": [
            48.5,
            48.5,
            48.5,
            48.5,
            48.5,
            48.5,
            48.5,
            48.5,
            48.5
           ]
          },
          {
           "hoverinfo": "none",
           "line": {
            "color": "blue",
            "dash": "dash"
           },
           "showlegend": false,
           "type": "scatter",
           "x": [
            35,
            35
           ],
           "y": [
            0,
            53.5
           ]
          },
          {
           "hoverinfo": "none",
           "line": {
            "color": "yellow",
            "dash": "dash"
           },
           "showlegend": false,
           "type": "scatter",
           "x": [
            25,
            25
           ],
           "y": [
            0,
            53.5
           ]
          },
          {
           "hoverinfo": "text",
           "hovertext": [
            "nflId:34452.0<br>displayName:Matthew Stafford",
            "nflId:41290.0<br>displayName:Allen Robinson",
            "nflId:42400.0<br>displayName:Rob Havenstein",
            "nflId:43399.0<br>displayName:Tyler Higbee",
            "nflId:44881.0<br>displayName:Cooper Kupp",
            "nflId:46158.0<br>displayName:Joseph Noteboom",
            "nflId:46180.0<br>displayName:Brian Allen",
            "nflId:46376.0<br>displayName:Coleman Shelton",
            "nflId:47853.0<br>displayName:Darrell Henderson",
            "nflId:47952.0<br>displayName:David Edwards",
            "nflId:53678.0<br>displayName:Ben Skowronek"
           ],
           "marker": {
            "color": "#D50A0A"
           },
           "mode": "markers",
           "name": "LA",
           "type": "scatter",
           "x": [
            40.47,
            23.16,
            26.68,
            31.09,
            32.33,
            39.2,
            24.81,
            30.91,
            21.83,
            39.87,
            29.95
           ],
           "y": [
            31.32,
            20.7,
            19.58,
            7.32,
            21.17,
            12.46,
            12.93,
            12.92,
            16.62,
            18.4,
            2.11
           ]
          },
          {
           "hoverinfo": "text",
           "hovertext": [
            "nflId:37075.0<br>displayName:Von Miller",
            "nflId:40107.0<br>displayName:Micah Hyde",
            "nflId:40166.0<br>displayName:Jordan Poyer",
            "nflId:41341.0<br>displayName:DaQuan Jones",
            "nflId:44976.0<br>displayName:Matt Milano",
            "nflId:46085.0<br>displayName:Tremaine Edmunds",
            "nflId:46190.0<br>displayName:Taron Johnson",
            "nflId:46232.0<br>displayName:Tim Settle",
            "nflId:52647.0<br>displayName:Dane Jackson",
            "nflId:53459.0<br>displayName:Gregory Rousseau",
            "nflId:54488.0<br>displayName:Kaiir Elam"
           ],
           "marker": {
            "color": "#003594"
           },
           "mode": "markers",
           "name": "BUF",
           "type": "scatter",
           "x": [
            28.62,
            21.26,
            24.41,
            32.77,
            31.26,
            22.09,
            27.26,
            32.02,
            21.49,
            32.55,
            25.82
           ],
           "y": [
            22.12,
            16.14,
            13.91,
            15.21,
            6.27,
            13.31,
            16.86,
            11.51,
            19.37,
            13.42,
            8.36
           ]
          },
          {
           "hoverinfo": "none",
           "marker": {
            "color": "#CBB67C"
           },
           "mode": "markers",
           "name": "football",
           "type": "scatter",
           "x": [
            21.8999996185303
           ],
           "y": [
            16.5799999237061
           ]
          }
         ],
         "name": "57"
        },
        {
         "data": [
          {
           "hoverinfo": "none",
           "mode": "text",
           "showlegend": false,
           "text": [
            "10",
            "20",
            "30",
            "40",
            "50",
            "40",
            "30",
            "20",
            "10"
           ],
           "textfont": {
            "color": "#ffffff",
            "family": "Courier New, monospace",
            "size": 30
           },
           "type": "scatter",
           "x": [
            20,
            30,
            40,
            50,
            60,
            70,
            80,
            90,
            100
           ],
           "y": [
            5,
            5,
            5,
            5,
            5,
            5,
            5,
            5,
            5
           ]
          },
          {
           "hoverinfo": "none",
           "mode": "text",
           "showlegend": false,
           "text": [
            "10",
            "20",
            "30",
            "40",
            "50",
            "40",
            "30",
            "20",
            "10"
           ],
           "textfont": {
            "color": "#ffffff",
            "family": "Courier New, monospace",
            "size": 30
           },
           "type": "scatter",
           "x": [
            20,
            30,
            40,
            50,
            60,
            70,
            80,
            90,
            100
           ],
           "y": [
            48.5,
            48.5,
            48.5,
            48.5,
            48.5,
            48.5,
            48.5,
            48.5,
            48.5
           ]
          },
          {
           "hoverinfo": "none",
           "line": {
            "color": "blue",
            "dash": "dash"
           },
           "showlegend": false,
           "type": "scatter",
           "x": [
            35,
            35
           ],
           "y": [
            0,
            53.5
           ]
          },
          {
           "hoverinfo": "none",
           "line": {
            "color": "yellow",
            "dash": "dash"
           },
           "showlegend": false,
           "type": "scatter",
           "x": [
            25,
            25
           ],
           "y": [
            0,
            53.5
           ]
          },
          {
           "hoverinfo": "text",
           "hovertext": [
            "nflId:34452.0<br>displayName:Matthew Stafford",
            "nflId:41290.0<br>displayName:Allen Robinson",
            "nflId:42400.0<br>displayName:Rob Havenstein",
            "nflId:43399.0<br>displayName:Tyler Higbee",
            "nflId:44881.0<br>displayName:Cooper Kupp",
            "nflId:46158.0<br>displayName:Joseph Noteboom",
            "nflId:46180.0<br>displayName:Brian Allen",
            "nflId:46376.0<br>displayName:Coleman Shelton",
            "nflId:47853.0<br>displayName:Darrell Henderson",
            "nflId:47952.0<br>displayName:David Edwards",
            "nflId:53678.0<br>displayName:Ben Skowronek"
           ],
           "marker": {
            "color": "#D50A0A"
           },
           "mode": "markers",
           "name": "LA",
           "type": "scatter",
           "x": [
            40.36,
            22.58,
            26.37,
            30.62,
            31.99,
            38.89,
            24.66,
            30.53,
            21.36,
            39.75,
            29.7
           ],
           "y": [
            31.19,
            20.39,
            19.39,
            7.44,
            21.08,
            12.33,
            13,
            12.97,
            16.73,
            18.3,
            1.84
           ]
          },
          {
           "hoverinfo": "text",
           "hovertext": [
            "nflId:37075.0<br>displayName:Von Miller",
            "nflId:40107.0<br>displayName:Micah Hyde",
            "nflId:40166.0<br>displayName:Jordan Poyer",
            "nflId:41341.0<br>displayName:DaQuan Jones",
            "nflId:44976.0<br>displayName:Matt Milano",
            "nflId:46085.0<br>displayName:Tremaine Edmunds",
            "nflId:46190.0<br>displayName:Taron Johnson",
            "nflId:46232.0<br>displayName:Tim Settle",
            "nflId:52647.0<br>displayName:Dane Jackson",
            "nflId:53459.0<br>displayName:Gregory Rousseau",
            "nflId:54488.0<br>displayName:Kaiir Elam"
           ],
           "marker": {
            "color": "#003594"
           },
           "mode": "markers",
           "name": "BUF",
           "type": "scatter",
           "x": [
            28.18,
            20.92,
            24.01,
            32.25,
            31.04,
            21.59,
            26.98,
            31.85,
            21.11,
            32.07,
            25.23
           ],
           "y": [
            22.12,
            16.04,
            13.92,
            15.24,
            6.28,
            13.55,
            16.67,
            11.66,
            18.96,
            13.67,
            8.58
           ]
          },
          {
           "hoverinfo": "none",
           "marker": {
            "color": "#CBB67C"
           },
           "mode": "markers",
           "name": "football",
           "type": "scatter",
           "x": [
            21.4200000762939
           ],
           "y": [
            16.6900005340576
           ]
          }
         ],
         "name": "58"
        },
        {
         "data": [
          {
           "hoverinfo": "none",
           "mode": "text",
           "showlegend": false,
           "text": [
            "10",
            "20",
            "30",
            "40",
            "50",
            "40",
            "30",
            "20",
            "10"
           ],
           "textfont": {
            "color": "#ffffff",
            "family": "Courier New, monospace",
            "size": 30
           },
           "type": "scatter",
           "x": [
            20,
            30,
            40,
            50,
            60,
            70,
            80,
            90,
            100
           ],
           "y": [
            5,
            5,
            5,
            5,
            5,
            5,
            5,
            5,
            5
           ]
          },
          {
           "hoverinfo": "none",
           "mode": "text",
           "showlegend": false,
           "text": [
            "10",
            "20",
            "30",
            "40",
            "50",
            "40",
            "30",
            "20",
            "10"
           ],
           "textfont": {
            "color": "#ffffff",
            "family": "Courier New, monospace",
            "size": 30
           },
           "type": "scatter",
           "x": [
            20,
            30,
            40,
            50,
            60,
            70,
            80,
            90,
            100
           ],
           "y": [
            48.5,
            48.5,
            48.5,
            48.5,
            48.5,
            48.5,
            48.5,
            48.5,
            48.5
           ]
          },
          {
           "hoverinfo": "none",
           "line": {
            "color": "blue",
            "dash": "dash"
           },
           "showlegend": false,
           "type": "scatter",
           "x": [
            35,
            35
           ],
           "y": [
            0,
            53.5
           ]
          },
          {
           "hoverinfo": "none",
           "line": {
            "color": "yellow",
            "dash": "dash"
           },
           "showlegend": false,
           "type": "scatter",
           "x": [
            25,
            25
           ],
           "y": [
            0,
            53.5
           ]
          },
          {
           "hoverinfo": "text",
           "hovertext": [
            "nflId:34452.0<br>displayName:Matthew Stafford",
            "nflId:41290.0<br>displayName:Allen Robinson",
            "nflId:42400.0<br>displayName:Rob Havenstein",
            "nflId:43399.0<br>displayName:Tyler Higbee",
            "nflId:44881.0<br>displayName:Cooper Kupp",
            "nflId:46158.0<br>displayName:Joseph Noteboom",
            "nflId:46180.0<br>displayName:Brian Allen",
            "nflId:46376.0<br>displayName:Coleman Shelton",
            "nflId:47853.0<br>displayName:Darrell Henderson",
            "nflId:47952.0<br>displayName:David Edwards",
            "nflId:53678.0<br>displayName:Ben Skowronek"
           ],
           "marker": {
            "color": "#D50A0A"
           },
           "mode": "markers",
           "name": "LA",
           "type": "scatter",
           "x": [
            40.26,
            22.01,
            26.06,
            30.18,
            31.64,
            38.57,
            24.51,
            30.16,
            20.91,
            39.62,
            29.44
           ],
           "y": [
            31.07,
            20.1,
            19.22,
            7.59,
            21.01,
            12.21,
            13.08,
            13.02,
            16.83,
            18.19,
            1.58
           ]
          },
          {
           "hoverinfo": "text",
           "hovertext": [
            "nflId:37075.0<br>displayName:Von Miller",
            "nflId:40107.0<br>displayName:Micah Hyde",
            "nflId:40166.0<br>displayName:Jordan Poyer",
            "nflId:41341.0<br>displayName:DaQuan Jones",
            "nflId:44976.0<br>displayName:Matt Milano",
            "nflId:46085.0<br>displayName:Tremaine Edmunds",
            "nflId:46190.0<br>displayName:Taron Johnson",
            "nflId:46232.0<br>displayName:Tim Settle",
            "nflId:52647.0<br>displayName:Dane Jackson",
            "nflId:53459.0<br>displayName:Gregory Rousseau",
            "nflId:54488.0<br>displayName:Kaiir Elam"
           ],
           "marker": {
            "color": "#003594"
           },
           "mode": "markers",
           "name": "BUF",
           "type": "scatter",
           "x": [
            27.76,
            20.57,
            23.63,
            31.72,
            30.85,
            21.1,
            26.68,
            31.68,
            20.75,
            31.6,
            24.66
           ],
           "y": [
            22.14,
            15.97,
            13.94,
            15.29,
            6.33,
            13.81,
            16.52,
            11.82,
            18.57,
            13.9,
            8.82
           ]
          },
          {
           "hoverinfo": "none",
           "marker": {
            "color": "#CBB67C"
           },
           "mode": "markers",
           "name": "football",
           "type": "scatter",
           "x": [
            20.9599990844727
           ],
           "y": [
            16.7900009155273
           ]
          }
         ],
         "name": "59"
        },
        {
         "data": [
          {
           "hoverinfo": "none",
           "mode": "text",
           "showlegend": false,
           "text": [
            "10",
            "20",
            "30",
            "40",
            "50",
            "40",
            "30",
            "20",
            "10"
           ],
           "textfont": {
            "color": "#ffffff",
            "family": "Courier New, monospace",
            "size": 30
           },
           "type": "scatter",
           "x": [
            20,
            30,
            40,
            50,
            60,
            70,
            80,
            90,
            100
           ],
           "y": [
            5,
            5,
            5,
            5,
            5,
            5,
            5,
            5,
            5
           ]
          },
          {
           "hoverinfo": "none",
           "mode": "text",
           "showlegend": false,
           "text": [
            "10",
            "20",
            "30",
            "40",
            "50",
            "40",
            "30",
            "20",
            "10"
           ],
           "textfont": {
            "color": "#ffffff",
            "family": "Courier New, monospace",
            "size": 30
           },
           "type": "scatter",
           "x": [
            20,
            30,
            40,
            50,
            60,
            70,
            80,
            90,
            100
           ],
           "y": [
            48.5,
            48.5,
            48.5,
            48.5,
            48.5,
            48.5,
            48.5,
            48.5,
            48.5
           ]
          },
          {
           "hoverinfo": "none",
           "line": {
            "color": "blue",
            "dash": "dash"
           },
           "showlegend": false,
           "type": "scatter",
           "x": [
            35,
            35
           ],
           "y": [
            0,
            53.5
           ]
          },
          {
           "hoverinfo": "none",
           "line": {
            "color": "yellow",
            "dash": "dash"
           },
           "showlegend": false,
           "type": "scatter",
           "x": [
            25,
            25
           ],
           "y": [
            0,
            53.5
           ]
          },
          {
           "hoverinfo": "text",
           "hovertext": [
            "nflId:34452.0<br>displayName:Matthew Stafford",
            "nflId:41290.0<br>displayName:Allen Robinson",
            "nflId:42400.0<br>displayName:Rob Havenstein",
            "nflId:43399.0<br>displayName:Tyler Higbee",
            "nflId:44881.0<br>displayName:Cooper Kupp",
            "nflId:46158.0<br>displayName:Joseph Noteboom",
            "nflId:46180.0<br>displayName:Brian Allen",
            "nflId:46376.0<br>displayName:Coleman Shelton",
            "nflId:47853.0<br>displayName:Darrell Henderson",
            "nflId:47952.0<br>displayName:David Edwards",
            "nflId:53678.0<br>displayName:Ben Skowronek"
           ],
           "marker": {
            "color": "#D50A0A"
           },
           "mode": "markers",
           "name": "LA",
           "type": "scatter",
           "x": [
            40.17,
            21.47,
            25.72,
            29.73,
            31.28,
            38.27,
            24.39,
            29.77,
            20.48,
            39.48,
            29.18
           ],
           "y": [
            30.93,
            19.83,
            19.05,
            7.79,
            20.95,
            12.1,
            13.15,
            13.1,
            16.9,
            18.06,
            1.35
           ]
          },
          {
           "hoverinfo": "text",
           "hovertext": [
            "nflId:37075.0<br>displayName:Von Miller",
            "nflId:40107.0<br>displayName:Micah Hyde",
            "nflId:40166.0<br>displayName:Jordan Poyer",
            "nflId:41341.0<br>displayName:DaQuan Jones",
            "nflId:44976.0<br>displayName:Matt Milano",
            "nflId:46085.0<br>displayName:Tremaine Edmunds",
            "nflId:46190.0<br>displayName:Taron Johnson",
            "nflId:46232.0<br>displayName:Tim Settle",
            "nflId:52647.0<br>displayName:Dane Jackson",
            "nflId:53459.0<br>displayName:Gregory Rousseau",
            "nflId:54488.0<br>displayName:Kaiir Elam"
           ],
           "marker": {
            "color": "#003594"
           },
           "mode": "markers",
           "name": "BUF",
           "type": "scatter",
           "x": [
            27.34,
            20.26,
            23.29,
            31.2,
            30.66,
            20.61,
            26.35,
            31.51,
            20.41,
            31.11,
            24.09
           ],
           "y": [
            22.18,
            15.9,
            13.95,
            15.35,
            6.39,
            14.11,
            16.41,
            12,
            18.2,
            14.13,
            9.09
           ]
          },
          {
           "hoverinfo": "none",
           "marker": {
            "color": "#CBB67C"
           },
           "mode": "markers",
           "name": "football",
           "type": "scatter",
           "x": [
            20.5200004577637
           ],
           "y": [
            16.8600006103516
           ]
          }
         ],
         "name": "60"
        },
        {
         "data": [
          {
           "hoverinfo": "none",
           "mode": "text",
           "showlegend": false,
           "text": [
            "10",
            "20",
            "30",
            "40",
            "50",
            "40",
            "30",
            "20",
            "10"
           ],
           "textfont": {
            "color": "#ffffff",
            "family": "Courier New, monospace",
            "size": 30
           },
           "type": "scatter",
           "x": [
            20,
            30,
            40,
            50,
            60,
            70,
            80,
            90,
            100
           ],
           "y": [
            5,
            5,
            5,
            5,
            5,
            5,
            5,
            5,
            5
           ]
          },
          {
           "hoverinfo": "none",
           "mode": "text",
           "showlegend": false,
           "text": [
            "10",
            "20",
            "30",
            "40",
            "50",
            "40",
            "30",
            "20",
            "10"
           ],
           "textfont": {
            "color": "#ffffff",
            "family": "Courier New, monospace",
            "size": 30
           },
           "type": "scatter",
           "x": [
            20,
            30,
            40,
            50,
            60,
            70,
            80,
            90,
            100
           ],
           "y": [
            48.5,
            48.5,
            48.5,
            48.5,
            48.5,
            48.5,
            48.5,
            48.5,
            48.5
           ]
          },
          {
           "hoverinfo": "none",
           "line": {
            "color": "blue",
            "dash": "dash"
           },
           "showlegend": false,
           "type": "scatter",
           "x": [
            35,
            35
           ],
           "y": [
            0,
            53.5
           ]
          },
          {
           "hoverinfo": "none",
           "line": {
            "color": "yellow",
            "dash": "dash"
           },
           "showlegend": false,
           "type": "scatter",
           "x": [
            25,
            25
           ],
           "y": [
            0,
            53.5
           ]
          },
          {
           "hoverinfo": "text",
           "hovertext": [
            "nflId:34452.0<br>displayName:Matthew Stafford",
            "nflId:41290.0<br>displayName:Allen Robinson",
            "nflId:42400.0<br>displayName:Rob Havenstein",
            "nflId:43399.0<br>displayName:Tyler Higbee",
            "nflId:44881.0<br>displayName:Cooper Kupp",
            "nflId:46158.0<br>displayName:Joseph Noteboom",
            "nflId:46180.0<br>displayName:Brian Allen",
            "nflId:46376.0<br>displayName:Coleman Shelton",
            "nflId:47853.0<br>displayName:Darrell Henderson",
            "nflId:47952.0<br>displayName:David Edwards",
            "nflId:53678.0<br>displayName:Ben Skowronek"
           ],
           "marker": {
            "color": "#D50A0A"
           },
           "mode": "markers",
           "name": "LA",
           "type": "scatter",
           "x": [
            40.08,
            20.94,
            25.36,
            29.29,
            30.91,
            37.94,
            24.28,
            29.38,
            20.06,
            39.34,
            28.93
           ],
           "y": [
            30.8,
            19.59,
            18.9,
            8.01,
            20.89,
            12.02,
            13.24,
            13.19,
            16.94,
            17.96,
            1.15
           ]
          },
          {
           "hoverinfo": "text",
           "hovertext": [
            "nflId:37075.0<br>displayName:Von Miller",
            "nflId:40107.0<br>displayName:Micah Hyde",
            "nflId:40166.0<br>displayName:Jordan Poyer",
            "nflId:41341.0<br>displayName:DaQuan Jones",
            "nflId:44976.0<br>displayName:Matt Milano",
            "nflId:46085.0<br>displayName:Tremaine Edmunds",
            "nflId:46190.0<br>displayName:Taron Johnson",
            "nflId:46232.0<br>displayName:Tim Settle",
            "nflId:52647.0<br>displayName:Dane Jackson",
            "nflId:53459.0<br>displayName:Gregory Rousseau",
            "nflId:54488.0<br>displayName:Kaiir Elam"
           ],
           "marker": {
            "color": "#003594"
           },
           "mode": "markers",
           "name": "BUF",
           "type": "scatter",
           "x": [
            26.94,
            19.94,
            22.98,
            30.68,
            30.48,
            20.13,
            25.99,
            31.33,
            20.07,
            30.64,
            23.53
           ],
           "y": [
            22.22,
            15.82,
            13.96,
            15.43,
            6.48,
            14.44,
            16.34,
            12.21,
            17.87,
            14.33,
            9.38
           ]
          },
          {
           "hoverinfo": "none",
           "marker": {
            "color": "#CBB67C"
           },
           "mode": "markers",
           "name": "football",
           "type": "scatter",
           "x": [
            20.0900001525879
           ],
           "y": [
            16.9099998474121
           ]
          }
         ],
         "name": "61"
        },
        {
         "data": [
          {
           "hoverinfo": "none",
           "mode": "text",
           "showlegend": false,
           "text": [
            "10",
            "20",
            "30",
            "40",
            "50",
            "40",
            "30",
            "20",
            "10"
           ],
           "textfont": {
            "color": "#ffffff",
            "family": "Courier New, monospace",
            "size": 30
           },
           "type": "scatter",
           "x": [
            20,
            30,
            40,
            50,
            60,
            70,
            80,
            90,
            100
           ],
           "y": [
            5,
            5,
            5,
            5,
            5,
            5,
            5,
            5,
            5
           ]
          },
          {
           "hoverinfo": "none",
           "mode": "text",
           "showlegend": false,
           "text": [
            "10",
            "20",
            "30",
            "40",
            "50",
            "40",
            "30",
            "20",
            "10"
           ],
           "textfont": {
            "color": "#ffffff",
            "family": "Courier New, monospace",
            "size": 30
           },
           "type": "scatter",
           "x": [
            20,
            30,
            40,
            50,
            60,
            70,
            80,
            90,
            100
           ],
           "y": [
            48.5,
            48.5,
            48.5,
            48.5,
            48.5,
            48.5,
            48.5,
            48.5,
            48.5
           ]
          },
          {
           "hoverinfo": "none",
           "line": {
            "color": "blue",
            "dash": "dash"
           },
           "showlegend": false,
           "type": "scatter",
           "x": [
            35,
            35
           ],
           "y": [
            0,
            53.5
           ]
          },
          {
           "hoverinfo": "none",
           "line": {
            "color": "yellow",
            "dash": "dash"
           },
           "showlegend": false,
           "type": "scatter",
           "x": [
            25,
            25
           ],
           "y": [
            0,
            53.5
           ]
          },
          {
           "hoverinfo": "text",
           "hovertext": [
            "nflId:34452.0<br>displayName:Matthew Stafford",
            "nflId:41290.0<br>displayName:Allen Robinson",
            "nflId:42400.0<br>displayName:Rob Havenstein",
            "nflId:43399.0<br>displayName:Tyler Higbee",
            "nflId:44881.0<br>displayName:Cooper Kupp",
            "nflId:46158.0<br>displayName:Joseph Noteboom",
            "nflId:46180.0<br>displayName:Brian Allen",
            "nflId:46376.0<br>displayName:Coleman Shelton",
            "nflId:47853.0<br>displayName:Darrell Henderson",
            "nflId:47952.0<br>displayName:David Edwards",
            "nflId:53678.0<br>displayName:Ben Skowronek"
           ],
           "marker": {
            "color": "#D50A0A"
           },
           "mode": "markers",
           "name": "LA",
           "type": "scatter",
           "x": [
            39.98,
            20.47,
            24.97,
            28.86,
            30.53,
            37.59,
            24.19,
            29,
            19.68,
            39.19,
            28.67
           ],
           "y": [
            30.66,
            19.36,
            18.75,
            8.27,
            20.85,
            11.95,
            13.34,
            13.29,
            16.97,
            17.86,
            0.97
           ]
          },
          {
           "hoverinfo": "text",
           "hovertext": [
            "nflId:37075.0<br>displayName:Von Miller",
            "nflId:40107.0<br>displayName:Micah Hyde",
            "nflId:40166.0<br>displayName:Jordan Poyer",
            "nflId:41341.0<br>displayName:DaQuan Jones",
            "nflId:44976.0<br>displayName:Matt Milano",
            "nflId:46085.0<br>displayName:Tremaine Edmunds",
            "nflId:46190.0<br>displayName:Taron Johnson",
            "nflId:46232.0<br>displayName:Tim Settle",
            "nflId:52647.0<br>displayName:Dane Jackson",
            "nflId:53459.0<br>displayName:Gregory Rousseau",
            "nflId:54488.0<br>displayName:Kaiir Elam"
           ],
           "marker": {
            "color": "#003594"
           },
           "mode": "markers",
           "name": "BUF",
           "type": "scatter",
           "x": [
            26.54,
            19.62,
            22.69,
            30.17,
            30.31,
            19.67,
            25.63,
            31.14,
            19.75,
            30.18,
            22.98
           ],
           "y": [
            22.27,
            15.76,
            13.97,
            15.54,
            6.58,
            14.78,
            16.31,
            12.41,
            17.56,
            14.54,
            9.69
           ]
          },
          {
           "hoverinfo": "none",
           "marker": {
            "color": "#CBB67C"
           },
           "mode": "markers",
           "name": "football",
           "type": "scatter",
           "x": [
            19.7000007629395
           ],
           "y": [
            16.9500007629395
           ]
          }
         ],
         "name": "62"
        },
        {
         "data": [
          {
           "hoverinfo": "none",
           "mode": "text",
           "showlegend": false,
           "text": [
            "10",
            "20",
            "30",
            "40",
            "50",
            "40",
            "30",
            "20",
            "10"
           ],
           "textfont": {
            "color": "#ffffff",
            "family": "Courier New, monospace",
            "size": 30
           },
           "type": "scatter",
           "x": [
            20,
            30,
            40,
            50,
            60,
            70,
            80,
            90,
            100
           ],
           "y": [
            5,
            5,
            5,
            5,
            5,
            5,
            5,
            5,
            5
           ]
          },
          {
           "hoverinfo": "none",
           "mode": "text",
           "showlegend": false,
           "text": [
            "10",
            "20",
            "30",
            "40",
            "50",
            "40",
            "30",
            "20",
            "10"
           ],
           "textfont": {
            "color": "#ffffff",
            "family": "Courier New, monospace",
            "size": 30
           },
           "type": "scatter",
           "x": [
            20,
            30,
            40,
            50,
            60,
            70,
            80,
            90,
            100
           ],
           "y": [
            48.5,
            48.5,
            48.5,
            48.5,
            48.5,
            48.5,
            48.5,
            48.5,
            48.5
           ]
          },
          {
           "hoverinfo": "none",
           "line": {
            "color": "blue",
            "dash": "dash"
           },
           "showlegend": false,
           "type": "scatter",
           "x": [
            35,
            35
           ],
           "y": [
            0,
            53.5
           ]
          },
          {
           "hoverinfo": "none",
           "line": {
            "color": "yellow",
            "dash": "dash"
           },
           "showlegend": false,
           "type": "scatter",
           "x": [
            25,
            25
           ],
           "y": [
            0,
            53.5
           ]
          },
          {
           "hoverinfo": "text",
           "hovertext": [
            "nflId:34452.0<br>displayName:Matthew Stafford",
            "nflId:41290.0<br>displayName:Allen Robinson",
            "nflId:42400.0<br>displayName:Rob Havenstein",
            "nflId:43399.0<br>displayName:Tyler Higbee",
            "nflId:44881.0<br>displayName:Cooper Kupp",
            "nflId:46158.0<br>displayName:Joseph Noteboom",
            "nflId:46180.0<br>displayName:Brian Allen",
            "nflId:46376.0<br>displayName:Coleman Shelton",
            "nflId:47853.0<br>displayName:Darrell Henderson",
            "nflId:47952.0<br>displayName:David Edwards",
            "nflId:53678.0<br>displayName:Ben Skowronek"
           ],
           "marker": {
            "color": "#D50A0A"
           },
           "mode": "markers",
           "name": "LA",
           "type": "scatter",
           "x": [
            39.89,
            20.01,
            24.58,
            28.43,
            30.15,
            37.25,
            24.09,
            28.64,
            19.33,
            39.04,
            28.41
           ],
           "y": [
            30.52,
            19.14,
            18.62,
            8.56,
            20.81,
            11.88,
            13.46,
            13.39,
            16.99,
            17.77,
            0.81
           ]
          },
          {
           "hoverinfo": "text",
           "hovertext": [
            "nflId:37075.0<br>displayName:Von Miller",
            "nflId:40107.0<br>displayName:Micah Hyde",
            "nflId:40166.0<br>displayName:Jordan Poyer",
            "nflId:41341.0<br>displayName:DaQuan Jones",
            "nflId:44976.0<br>displayName:Matt Milano",
            "nflId:46085.0<br>displayName:Tremaine Edmunds",
            "nflId:46190.0<br>displayName:Taron Johnson",
            "nflId:46232.0<br>displayName:Tim Settle",
            "nflId:52647.0<br>displayName:Dane Jackson",
            "nflId:53459.0<br>displayName:Gregory Rousseau",
            "nflId:54488.0<br>displayName:Kaiir Elam"
           ],
           "marker": {
            "color": "#003594"
           },
           "mode": "markers",
           "name": "BUF",
           "type": "scatter",
           "x": [
            26.16,
            19.31,
            22.43,
            29.66,
            30.13,
            19.23,
            25.24,
            30.96,
            19.45,
            29.73,
            22.45
           ],
           "y": [
            22.31,
            15.72,
            13.98,
            15.66,
            6.7,
            15.13,
            16.29,
            12.62,
            17.29,
            14.72,
            10.02
           ]
          },
          {
           "hoverinfo": "none",
           "marker": {
            "color": "#CBB67C"
           },
           "mode": "markers",
           "name": "football",
           "type": "scatter",
           "x": [
            19.3500003814697
           ],
           "y": [
            16.9799995422363
           ]
          }
         ],
         "name": "63"
        },
        {
         "data": [
          {
           "hoverinfo": "none",
           "mode": "text",
           "showlegend": false,
           "text": [
            "10",
            "20",
            "30",
            "40",
            "50",
            "40",
            "30",
            "20",
            "10"
           ],
           "textfont": {
            "color": "#ffffff",
            "family": "Courier New, monospace",
            "size": 30
           },
           "type": "scatter",
           "x": [
            20,
            30,
            40,
            50,
            60,
            70,
            80,
            90,
            100
           ],
           "y": [
            5,
            5,
            5,
            5,
            5,
            5,
            5,
            5,
            5
           ]
          },
          {
           "hoverinfo": "none",
           "mode": "text",
           "showlegend": false,
           "text": [
            "10",
            "20",
            "30",
            "40",
            "50",
            "40",
            "30",
            "20",
            "10"
           ],
           "textfont": {
            "color": "#ffffff",
            "family": "Courier New, monospace",
            "size": 30
           },
           "type": "scatter",
           "x": [
            20,
            30,
            40,
            50,
            60,
            70,
            80,
            90,
            100
           ],
           "y": [
            48.5,
            48.5,
            48.5,
            48.5,
            48.5,
            48.5,
            48.5,
            48.5,
            48.5
           ]
          },
          {
           "hoverinfo": "none",
           "line": {
            "color": "blue",
            "dash": "dash"
           },
           "showlegend": false,
           "type": "scatter",
           "x": [
            35,
            35
           ],
           "y": [
            0,
            53.5
           ]
          },
          {
           "hoverinfo": "none",
           "line": {
            "color": "yellow",
            "dash": "dash"
           },
           "showlegend": false,
           "type": "scatter",
           "x": [
            25,
            25
           ],
           "y": [
            0,
            53.5
           ]
          },
          {
           "hoverinfo": "text",
           "hovertext": [
            "nflId:34452.0<br>displayName:Matthew Stafford",
            "nflId:41290.0<br>displayName:Allen Robinson",
            "nflId:42400.0<br>displayName:Rob Havenstein",
            "nflId:43399.0<br>displayName:Tyler Higbee",
            "nflId:44881.0<br>displayName:Cooper Kupp",
            "nflId:46158.0<br>displayName:Joseph Noteboom",
            "nflId:46180.0<br>displayName:Brian Allen",
            "nflId:46376.0<br>displayName:Coleman Shelton",
            "nflId:47853.0<br>displayName:Darrell Henderson",
            "nflId:47952.0<br>displayName:David Edwards",
            "nflId:53678.0<br>displayName:Ben Skowronek"
           ],
           "marker": {
            "color": "#D50A0A"
           },
           "mode": "markers",
           "name": "LA",
           "type": "scatter",
           "x": [
            39.8,
            19.6,
            24.16,
            28,
            29.76,
            36.91,
            24,
            28.23,
            19,
            38.87,
            28.15
           ],
           "y": [
            30.39,
            18.95,
            18.49,
            8.86,
            20.77,
            11.83,
            13.57,
            13.51,
            17,
            17.68,
            0.68
           ]
          },
          {
           "hoverinfo": "text",
           "hovertext": [
            "nflId:37075.0<br>displayName:Von Miller",
            "nflId:40107.0<br>displayName:Micah Hyde",
            "nflId:40166.0<br>displayName:Jordan Poyer",
            "nflId:41341.0<br>displayName:DaQuan Jones",
            "nflId:44976.0<br>displayName:Matt Milano",
            "nflId:46085.0<br>displayName:Tremaine Edmunds",
            "nflId:46190.0<br>displayName:Taron Johnson",
            "nflId:46232.0<br>displayName:Tim Settle",
            "nflId:52647.0<br>displayName:Dane Jackson",
            "nflId:53459.0<br>displayName:Gregory Rousseau",
            "nflId:54488.0<br>displayName:Kaiir Elam"
           ],
           "marker": {
            "color": "#003594"
           },
           "mode": "markers",
           "name": "BUF",
           "type": "scatter",
           "x": [
            25.8,
            19.06,
            22.18,
            29.14,
            29.96,
            18.83,
            24.85,
            30.77,
            19.14,
            29.27,
            21.93
           ],
           "y": [
            22.36,
            15.73,
            14,
            15.8,
            6.82,
            15.51,
            16.3,
            12.85,
            17.05,
            14.89,
            10.37
           ]
          },
          {
           "hoverinfo": "none",
           "marker": {
            "color": "#CBB67C"
           },
           "mode": "markers",
           "name": "football",
           "type": "scatter",
           "x": [
            19.0200004577637
           ],
           "y": [
            16.9899997711182
           ]
          }
         ],
         "name": "64"
        },
        {
         "data": [
          {
           "hoverinfo": "none",
           "mode": "text",
           "showlegend": false,
           "text": [
            "10",
            "20",
            "30",
            "40",
            "50",
            "40",
            "30",
            "20",
            "10"
           ],
           "textfont": {
            "color": "#ffffff",
            "family": "Courier New, monospace",
            "size": 30
           },
           "type": "scatter",
           "x": [
            20,
            30,
            40,
            50,
            60,
            70,
            80,
            90,
            100
           ],
           "y": [
            5,
            5,
            5,
            5,
            5,
            5,
            5,
            5,
            5
           ]
          },
          {
           "hoverinfo": "none",
           "mode": "text",
           "showlegend": false,
           "text": [
            "10",
            "20",
            "30",
            "40",
            "50",
            "40",
            "30",
            "20",
            "10"
           ],
           "textfont": {
            "color": "#ffffff",
            "family": "Courier New, monospace",
            "size": 30
           },
           "type": "scatter",
           "x": [
            20,
            30,
            40,
            50,
            60,
            70,
            80,
            90,
            100
           ],
           "y": [
            48.5,
            48.5,
            48.5,
            48.5,
            48.5,
            48.5,
            48.5,
            48.5,
            48.5
           ]
          },
          {
           "hoverinfo": "none",
           "line": {
            "color": "blue",
            "dash": "dash"
           },
           "showlegend": false,
           "type": "scatter",
           "x": [
            35,
            35
           ],
           "y": [
            0,
            53.5
           ]
          },
          {
           "hoverinfo": "none",
           "line": {
            "color": "yellow",
            "dash": "dash"
           },
           "showlegend": false,
           "type": "scatter",
           "x": [
            25,
            25
           ],
           "y": [
            0,
            53.5
           ]
          },
          {
           "hoverinfo": "text",
           "hovertext": [
            "nflId:34452.0<br>displayName:Matthew Stafford",
            "nflId:41290.0<br>displayName:Allen Robinson",
            "nflId:42400.0<br>displayName:Rob Havenstein",
            "nflId:43399.0<br>displayName:Tyler Higbee",
            "nflId:44881.0<br>displayName:Cooper Kupp",
            "nflId:46158.0<br>displayName:Joseph Noteboom",
            "nflId:46180.0<br>displayName:Brian Allen",
            "nflId:46376.0<br>displayName:Coleman Shelton",
            "nflId:47853.0<br>displayName:Darrell Henderson",
            "nflId:47952.0<br>displayName:David Edwards",
            "nflId:53678.0<br>displayName:Ben Skowronek"
           ],
           "marker": {
            "color": "#D50A0A"
           },
           "mode": "markers",
           "name": "LA",
           "type": "scatter",
           "x": [
            39.7,
            19.23,
            23.75,
            27.57,
            29.36,
            36.54,
            23.92,
            27.84,
            18.7,
            38.71,
            27.91
           ],
           "y": [
            30.23,
            18.78,
            18.39,
            9.17,
            20.73,
            11.81,
            13.68,
            13.68,
            17,
            17.6,
            0.58
           ]
          },
          {
           "hoverinfo": "text",
           "hovertext": [
            "nflId:37075.0<br>displayName:Von Miller",
            "nflId:40107.0<br>displayName:Micah Hyde",
            "nflId:40166.0<br>displayName:Jordan Poyer",
            "nflId:41341.0<br>displayName:DaQuan Jones",
            "nflId:44976.0<br>displayName:Matt Milano",
            "nflId:46085.0<br>displayName:Tremaine Edmunds",
            "nflId:46190.0<br>displayName:Taron Johnson",
            "nflId:46232.0<br>displayName:Tim Settle",
            "nflId:52647.0<br>displayName:Dane Jackson",
            "nflId:53459.0<br>displayName:Gregory Rousseau",
            "nflId:54488.0<br>displayName:Kaiir Elam"
           ],
           "marker": {
            "color": "#003594"
           },
           "mode": "markers",
           "name": "BUF",
           "type": "scatter",
           "x": [
            25.45,
            18.87,
            21.93,
            28.63,
            29.78,
            18.45,
            24.44,
            30.59,
            18.85,
            28.82,
            21.42
           ],
           "y": [
            22.41,
            15.78,
            14.03,
            15.96,
            6.96,
            15.88,
            16.32,
            13.07,
            16.84,
            15.04,
            10.72
           ]
          },
          {
           "hoverinfo": "none",
           "marker": {
            "color": "#CBB67C"
           },
           "mode": "markers",
           "name": "football",
           "type": "scatter",
           "x": [
            18.7000007629395
           ],
           "y": [
            16.9899997711182
           ]
          }
         ],
         "name": "65"
        },
        {
         "data": [
          {
           "hoverinfo": "none",
           "mode": "text",
           "showlegend": false,
           "text": [
            "10",
            "20",
            "30",
            "40",
            "50",
            "40",
            "30",
            "20",
            "10"
           ],
           "textfont": {
            "color": "#ffffff",
            "family": "Courier New, monospace",
            "size": 30
           },
           "type": "scatter",
           "x": [
            20,
            30,
            40,
            50,
            60,
            70,
            80,
            90,
            100
           ],
           "y": [
            5,
            5,
            5,
            5,
            5,
            5,
            5,
            5,
            5
           ]
          },
          {
           "hoverinfo": "none",
           "mode": "text",
           "showlegend": false,
           "text": [
            "10",
            "20",
            "30",
            "40",
            "50",
            "40",
            "30",
            "20",
            "10"
           ],
           "textfont": {
            "color": "#ffffff",
            "family": "Courier New, monospace",
            "size": 30
           },
           "type": "scatter",
           "x": [
            20,
            30,
            40,
            50,
            60,
            70,
            80,
            90,
            100
           ],
           "y": [
            48.5,
            48.5,
            48.5,
            48.5,
            48.5,
            48.5,
            48.5,
            48.5,
            48.5
           ]
          },
          {
           "hoverinfo": "none",
           "line": {
            "color": "blue",
            "dash": "dash"
           },
           "showlegend": false,
           "type": "scatter",
           "x": [
            35,
            35
           ],
           "y": [
            0,
            53.5
           ]
          },
          {
           "hoverinfo": "none",
           "line": {
            "color": "yellow",
            "dash": "dash"
           },
           "showlegend": false,
           "type": "scatter",
           "x": [
            25,
            25
           ],
           "y": [
            0,
            53.5
           ]
          },
          {
           "hoverinfo": "text",
           "hovertext": [
            "nflId:34452.0<br>displayName:Matthew Stafford",
            "nflId:41290.0<br>displayName:Allen Robinson",
            "nflId:42400.0<br>displayName:Rob Havenstein",
            "nflId:43399.0<br>displayName:Tyler Higbee",
            "nflId:44881.0<br>displayName:Cooper Kupp",
            "nflId:46158.0<br>displayName:Joseph Noteboom",
            "nflId:46180.0<br>displayName:Brian Allen",
            "nflId:46376.0<br>displayName:Coleman Shelton",
            "nflId:47853.0<br>displayName:Darrell Henderson",
            "nflId:47952.0<br>displayName:David Edwards",
            "nflId:53678.0<br>displayName:Ben Skowronek"
           ],
           "marker": {
            "color": "#D50A0A"
           },
           "mode": "markers",
           "name": "LA",
           "type": "scatter",
           "x": [
            39.6,
            18.89,
            23.33,
            27.15,
            28.95,
            36.19,
            23.84,
            27.45,
            18.4,
            38.53,
            27.68
           ],
           "y": [
            30.08,
            18.63,
            18.29,
            9.49,
            20.71,
            11.78,
            13.79,
            13.82,
            17,
            17.54,
            0.5
           ]
          },
          {
           "hoverinfo": "text",
           "hovertext": [
            "nflId:37075.0<br>displayName:Von Miller",
            "nflId:40107.0<br>displayName:Micah Hyde",
            "nflId:40166.0<br>displayName:Jordan Poyer",
            "nflId:41341.0<br>displayName:DaQuan Jones",
            "nflId:44976.0<br>displayName:Matt Milano",
            "nflId:46085.0<br>displayName:Tremaine Edmunds",
            "nflId:46190.0<br>displayName:Taron Johnson",
            "nflId:46232.0<br>displayName:Tim Settle",
            "nflId:52647.0<br>displayName:Dane Jackson",
            "nflId:53459.0<br>displayName:Gregory Rousseau",
            "nflId:54488.0<br>displayName:Kaiir Elam"
           ],
           "marker": {
            "color": "#003594"
           },
           "mode": "markers",
           "name": "BUF",
           "type": "scatter",
           "x": [
            25.11,
            18.67,
            21.69,
            28.13,
            29.6,
            18.13,
            24.03,
            30.42,
            18.57,
            28.36,
            20.92
           ],
           "y": [
            22.46,
            15.8,
            14.06,
            16.12,
            7.1,
            16.25,
            16.36,
            13.3,
            16.68,
            15.18,
            11.09
           ]
          },
          {
           "hoverinfo": "none",
           "marker": {
            "color": "#CBB67C"
           },
           "mode": "markers",
           "name": "football",
           "type": "scatter",
           "x": [
            18.4099998474121
           ],
           "y": [
            16.9899997711182
           ]
          }
         ],
         "name": "66"
        },
        {
         "data": [
          {
           "hoverinfo": "none",
           "mode": "text",
           "showlegend": false,
           "text": [
            "10",
            "20",
            "30",
            "40",
            "50",
            "40",
            "30",
            "20",
            "10"
           ],
           "textfont": {
            "color": "#ffffff",
            "family": "Courier New, monospace",
            "size": 30
           },
           "type": "scatter",
           "x": [
            20,
            30,
            40,
            50,
            60,
            70,
            80,
            90,
            100
           ],
           "y": [
            5,
            5,
            5,
            5,
            5,
            5,
            5,
            5,
            5
           ]
          },
          {
           "hoverinfo": "none",
           "mode": "text",
           "showlegend": false,
           "text": [
            "10",
            "20",
            "30",
            "40",
            "50",
            "40",
            "30",
            "20",
            "10"
           ],
           "textfont": {
            "color": "#ffffff",
            "family": "Courier New, monospace",
            "size": 30
           },
           "type": "scatter",
           "x": [
            20,
            30,
            40,
            50,
            60,
            70,
            80,
            90,
            100
           ],
           "y": [
            48.5,
            48.5,
            48.5,
            48.5,
            48.5,
            48.5,
            48.5,
            48.5,
            48.5
           ]
          },
          {
           "hoverinfo": "none",
           "line": {
            "color": "blue",
            "dash": "dash"
           },
           "showlegend": false,
           "type": "scatter",
           "x": [
            35,
            35
           ],
           "y": [
            0,
            53.5
           ]
          },
          {
           "hoverinfo": "none",
           "line": {
            "color": "yellow",
            "dash": "dash"
           },
           "showlegend": false,
           "type": "scatter",
           "x": [
            25,
            25
           ],
           "y": [
            0,
            53.5
           ]
          },
          {
           "hoverinfo": "text",
           "hovertext": [
            "nflId:34452.0<br>displayName:Matthew Stafford",
            "nflId:41290.0<br>displayName:Allen Robinson",
            "nflId:42400.0<br>displayName:Rob Havenstein",
            "nflId:43399.0<br>displayName:Tyler Higbee",
            "nflId:44881.0<br>displayName:Cooper Kupp",
            "nflId:46158.0<br>displayName:Joseph Noteboom",
            "nflId:46180.0<br>displayName:Brian Allen",
            "nflId:46376.0<br>displayName:Coleman Shelton",
            "nflId:47853.0<br>displayName:Darrell Henderson",
            "nflId:47952.0<br>displayName:David Edwards",
            "nflId:53678.0<br>displayName:Ben Skowronek"
           ],
           "marker": {
            "color": "#D50A0A"
           },
           "mode": "markers",
           "name": "LA",
           "type": "scatter",
           "x": [
            39.5,
            18.6,
            22.91,
            26.73,
            28.54,
            35.85,
            23.79,
            27.06,
            18.13,
            38.36,
            27.44
           ],
           "y": [
            29.93,
            18.5,
            18.2,
            9.81,
            20.69,
            11.77,
            13.9,
            13.98,
            17.01,
            17.49,
            0.45
           ]
          },
          {
           "hoverinfo": "text",
           "hovertext": [
            "nflId:37075.0<br>displayName:Von Miller",
            "nflId:40107.0<br>displayName:Micah Hyde",
            "nflId:40166.0<br>displayName:Jordan Poyer",
            "nflId:41341.0<br>displayName:DaQuan Jones",
            "nflId:44976.0<br>displayName:Matt Milano",
            "nflId:46085.0<br>displayName:Tremaine Edmunds",
            "nflId:46190.0<br>displayName:Taron Johnson",
            "nflId:46232.0<br>displayName:Tim Settle",
            "nflId:52647.0<br>displayName:Dane Jackson",
            "nflId:53459.0<br>displayName:Gregory Rousseau",
            "nflId:54488.0<br>displayName:Kaiir Elam"
           ],
           "marker": {
            "color": "#003594"
           },
           "mode": "markers",
           "name": "BUF",
           "type": "scatter",
           "x": [
            24.79,
            18.48,
            21.43,
            27.64,
            29.38,
            17.85,
            23.61,
            30.26,
            18.3,
            27.9,
            20.43
           ],
           "y": [
            22.51,
            15.83,
            14.09,
            16.29,
            7.26,
            16.59,
            16.4,
            13.53,
            16.55,
            15.3,
            11.45
           ]
          },
          {
           "hoverinfo": "none",
           "marker": {
            "color": "#CBB67C"
           },
           "mode": "markers",
           "name": "football",
           "type": "scatter",
           "x": [
            18.1499996185303
           ],
           "y": [
            16.9799995422363
           ]
          }
         ],
         "name": "67"
        },
        {
         "data": [
          {
           "hoverinfo": "none",
           "mode": "text",
           "showlegend": false,
           "text": [
            "10",
            "20",
            "30",
            "40",
            "50",
            "40",
            "30",
            "20",
            "10"
           ],
           "textfont": {
            "color": "#ffffff",
            "family": "Courier New, monospace",
            "size": 30
           },
           "type": "scatter",
           "x": [
            20,
            30,
            40,
            50,
            60,
            70,
            80,
            90,
            100
           ],
           "y": [
            5,
            5,
            5,
            5,
            5,
            5,
            5,
            5,
            5
           ]
          },
          {
           "hoverinfo": "none",
           "mode": "text",
           "showlegend": false,
           "text": [
            "10",
            "20",
            "30",
            "40",
            "50",
            "40",
            "30",
            "20",
            "10"
           ],
           "textfont": {
            "color": "#ffffff",
            "family": "Courier New, monospace",
            "size": 30
           },
           "type": "scatter",
           "x": [
            20,
            30,
            40,
            50,
            60,
            70,
            80,
            90,
            100
           ],
           "y": [
            48.5,
            48.5,
            48.5,
            48.5,
            48.5,
            48.5,
            48.5,
            48.5,
            48.5
           ]
          },
          {
           "hoverinfo": "none",
           "line": {
            "color": "blue",
            "dash": "dash"
           },
           "showlegend": false,
           "type": "scatter",
           "x": [
            35,
            35
           ],
           "y": [
            0,
            53.5
           ]
          },
          {
           "hoverinfo": "none",
           "line": {
            "color": "yellow",
            "dash": "dash"
           },
           "showlegend": false,
           "type": "scatter",
           "x": [
            25,
            25
           ],
           "y": [
            0,
            53.5
           ]
          },
          {
           "hoverinfo": "text",
           "hovertext": [
            "nflId:34452.0<br>displayName:Matthew Stafford",
            "nflId:41290.0<br>displayName:Allen Robinson",
            "nflId:42400.0<br>displayName:Rob Havenstein",
            "nflId:43399.0<br>displayName:Tyler Higbee",
            "nflId:44881.0<br>displayName:Cooper Kupp",
            "nflId:46158.0<br>displayName:Joseph Noteboom",
            "nflId:46180.0<br>displayName:Brian Allen",
            "nflId:46376.0<br>displayName:Coleman Shelton",
            "nflId:47853.0<br>displayName:Darrell Henderson",
            "nflId:47952.0<br>displayName:David Edwards",
            "nflId:53678.0<br>displayName:Ben Skowronek"
           ],
           "marker": {
            "color": "#D50A0A"
           },
           "mode": "markers",
           "name": "LA",
           "type": "scatter",
           "x": [
            39.4,
            18.35,
            22.46,
            26.32,
            28.11,
            35.49,
            23.75,
            26.65,
            17.88,
            38.18,
            27.19
           ],
           "y": [
            29.77,
            18.39,
            18.12,
            10.12,
            20.66,
            11.77,
            14,
            14.14,
            17.03,
            17.44,
            0.42
           ]
          },
          {
           "hoverinfo": "text",
           "hovertext": [
            "nflId:37075.0<br>displayName:Von Miller",
            "nflId:40107.0<br>displayName:Micah Hyde",
            "nflId:40166.0<br>displayName:Jordan Poyer",
            "nflId:41341.0<br>displayName:DaQuan Jones",
            "nflId:44976.0<br>displayName:Matt Milano",
            "nflId:46085.0<br>displayName:Tremaine Edmunds",
            "nflId:46190.0<br>displayName:Taron Johnson",
            "nflId:46232.0<br>displayName:Tim Settle",
            "nflId:52647.0<br>displayName:Dane Jackson",
            "nflId:53459.0<br>displayName:Gregory Rousseau",
            "nflId:54488.0<br>displayName:Kaiir Elam"
           ],
           "marker": {
            "color": "#003594"
           },
           "mode": "markers",
           "name": "BUF",
           "type": "scatter",
           "x": [
            24.5,
            18.32,
            21.16,
            27.16,
            29.14,
            17.62,
            23.18,
            30.1,
            18.02,
            27.46,
            19.96
           ],
           "y": [
            22.56,
            15.87,
            14.13,
            16.46,
            7.44,
            16.9,
            16.44,
            13.77,
            16.45,
            15.42,
            11.81
           ]
          },
          {
           "hoverinfo": "none",
           "marker": {
            "color": "#CBB67C"
           },
           "mode": "markers",
           "name": "football",
           "type": "scatter",
           "x": [
            17.9099998474121
           ],
           "y": [
            16.9699993133545
           ]
          }
         ],
         "name": "68"
        },
        {
         "data": [
          {
           "hoverinfo": "none",
           "mode": "text",
           "showlegend": false,
           "text": [
            "10",
            "20",
            "30",
            "40",
            "50",
            "40",
            "30",
            "20",
            "10"
           ],
           "textfont": {
            "color": "#ffffff",
            "family": "Courier New, monospace",
            "size": 30
           },
           "type": "scatter",
           "x": [
            20,
            30,
            40,
            50,
            60,
            70,
            80,
            90,
            100
           ],
           "y": [
            5,
            5,
            5,
            5,
            5,
            5,
            5,
            5,
            5
           ]
          },
          {
           "hoverinfo": "none",
           "mode": "text",
           "showlegend": false,
           "text": [
            "10",
            "20",
            "30",
            "40",
            "50",
            "40",
            "30",
            "20",
            "10"
           ],
           "textfont": {
            "color": "#ffffff",
            "family": "Courier New, monospace",
            "size": 30
           },
           "type": "scatter",
           "x": [
            20,
            30,
            40,
            50,
            60,
            70,
            80,
            90,
            100
           ],
           "y": [
            48.5,
            48.5,
            48.5,
            48.5,
            48.5,
            48.5,
            48.5,
            48.5,
            48.5
           ]
          },
          {
           "hoverinfo": "none",
           "line": {
            "color": "blue",
            "dash": "dash"
           },
           "showlegend": false,
           "type": "scatter",
           "x": [
            35,
            35
           ],
           "y": [
            0,
            53.5
           ]
          },
          {
           "hoverinfo": "none",
           "line": {
            "color": "yellow",
            "dash": "dash"
           },
           "showlegend": false,
           "type": "scatter",
           "x": [
            25,
            25
           ],
           "y": [
            0,
            53.5
           ]
          },
          {
           "hoverinfo": "text",
           "hovertext": [
            "nflId:34452.0<br>displayName:Matthew Stafford",
            "nflId:41290.0<br>displayName:Allen Robinson",
            "nflId:42400.0<br>displayName:Rob Havenstein",
            "nflId:43399.0<br>displayName:Tyler Higbee",
            "nflId:44881.0<br>displayName:Cooper Kupp",
            "nflId:46158.0<br>displayName:Joseph Noteboom",
            "nflId:46180.0<br>displayName:Brian Allen",
            "nflId:46376.0<br>displayName:Coleman Shelton",
            "nflId:47853.0<br>displayName:Darrell Henderson",
            "nflId:47952.0<br>displayName:David Edwards",
            "nflId:53678.0<br>displayName:Ben Skowronek"
           ],
           "marker": {
            "color": "#D50A0A"
           },
           "mode": "markers",
           "name": "LA",
           "type": "scatter",
           "x": [
            39.29,
            18.14,
            22.02,
            25.91,
            27.69,
            35.13,
            23.73,
            26.25,
            17.66,
            37.99,
            26.95
           ],
           "y": [
            29.63,
            18.3,
            18.06,
            10.45,
            20.65,
            11.78,
            14.11,
            14.32,
            17.06,
            17.4,
            0.4
           ]
          },
          {
           "hoverinfo": "text",
           "hovertext": [
            "nflId:37075.0<br>displayName:Von Miller",
            "nflId:40107.0<br>displayName:Micah Hyde",
            "nflId:40166.0<br>displayName:Jordan Poyer",
            "nflId:41341.0<br>displayName:DaQuan Jones",
            "nflId:44976.0<br>displayName:Matt Milano",
            "nflId:46085.0<br>displayName:Tremaine Edmunds",
            "nflId:46190.0<br>displayName:Taron Johnson",
            "nflId:46232.0<br>displayName:Tim Settle",
            "nflId:52647.0<br>displayName:Dane Jackson",
            "nflId:53459.0<br>displayName:Gregory Rousseau",
            "nflId:54488.0<br>displayName:Kaiir Elam"
           ],
           "marker": {
            "color": "#003594"
           },
           "mode": "markers",
           "name": "BUF",
           "type": "scatter",
           "x": [
            24.21,
            18.17,
            20.87,
            26.69,
            28.87,
            17.43,
            22.76,
            29.94,
            17.75,
            27.02,
            19.49
           ],
           "y": [
            22.61,
            15.92,
            14.18,
            16.64,
            7.62,
            17.18,
            16.48,
            14.03,
            16.37,
            15.52,
            12.16
           ]
          },
          {
           "hoverinfo": "none",
           "marker": {
            "color": "#CBB67C"
           },
           "mode": "markers",
           "name": "football",
           "type": "scatter",
           "x": [
            17.7000007629395
           ],
           "y": [
            17.0100002288818
           ]
          }
         ],
         "name": "69"
        },
        {
         "data": [
          {
           "hoverinfo": "none",
           "mode": "text",
           "showlegend": false,
           "text": [
            "10",
            "20",
            "30",
            "40",
            "50",
            "40",
            "30",
            "20",
            "10"
           ],
           "textfont": {
            "color": "#ffffff",
            "family": "Courier New, monospace",
            "size": 30
           },
           "type": "scatter",
           "x": [
            20,
            30,
            40,
            50,
            60,
            70,
            80,
            90,
            100
           ],
           "y": [
            5,
            5,
            5,
            5,
            5,
            5,
            5,
            5,
            5
           ]
          },
          {
           "hoverinfo": "none",
           "mode": "text",
           "showlegend": false,
           "text": [
            "10",
            "20",
            "30",
            "40",
            "50",
            "40",
            "30",
            "20",
            "10"
           ],
           "textfont": {
            "color": "#ffffff",
            "family": "Courier New, monospace",
            "size": 30
           },
           "type": "scatter",
           "x": [
            20,
            30,
            40,
            50,
            60,
            70,
            80,
            90,
            100
           ],
           "y": [
            48.5,
            48.5,
            48.5,
            48.5,
            48.5,
            48.5,
            48.5,
            48.5,
            48.5
           ]
          },
          {
           "hoverinfo": "none",
           "line": {
            "color": "blue",
            "dash": "dash"
           },
           "showlegend": false,
           "type": "scatter",
           "x": [
            35,
            35
           ],
           "y": [
            0,
            53.5
           ]
          },
          {
           "hoverinfo": "none",
           "line": {
            "color": "yellow",
            "dash": "dash"
           },
           "showlegend": false,
           "type": "scatter",
           "x": [
            25,
            25
           ],
           "y": [
            0,
            53.5
           ]
          },
          {
           "hoverinfo": "text",
           "hovertext": [
            "nflId:34452.0<br>displayName:Matthew Stafford",
            "nflId:41290.0<br>displayName:Allen Robinson",
            "nflId:42400.0<br>displayName:Rob Havenstein",
            "nflId:43399.0<br>displayName:Tyler Higbee",
            "nflId:44881.0<br>displayName:Cooper Kupp",
            "nflId:46158.0<br>displayName:Joseph Noteboom",
            "nflId:46180.0<br>displayName:Brian Allen",
            "nflId:46376.0<br>displayName:Coleman Shelton",
            "nflId:47853.0<br>displayName:Darrell Henderson",
            "nflId:47952.0<br>displayName:David Edwards",
            "nflId:53678.0<br>displayName:Ben Skowronek"
           ],
           "marker": {
            "color": "#D50A0A"
           },
           "mode": "markers",
           "name": "LA",
           "type": "scatter",
           "x": [
            39.18,
            17.97,
            21.6,
            25.5,
            27.25,
            34.76,
            23.72,
            25.85,
            17.46,
            37.81,
            26.7
           ],
           "y": [
            29.48,
            18.24,
            18.01,
            10.76,
            20.64,
            11.8,
            14.22,
            14.5,
            17.12,
            17.37,
            0.4
           ]
          },
          {
           "hoverinfo": "text",
           "hovertext": [
            "nflId:37075.0<br>displayName:Von Miller",
            "nflId:40107.0<br>displayName:Micah Hyde",
            "nflId:40166.0<br>displayName:Jordan Poyer",
            "nflId:41341.0<br>displayName:DaQuan Jones",
            "nflId:44976.0<br>displayName:Matt Milano",
            "nflId:46085.0<br>displayName:Tremaine Edmunds",
            "nflId:46190.0<br>displayName:Taron Johnson",
            "nflId:46232.0<br>displayName:Tim Settle",
            "nflId:52647.0<br>displayName:Dane Jackson",
            "nflId:53459.0<br>displayName:Gregory Rousseau",
            "nflId:54488.0<br>displayName:Kaiir Elam"
           ],
           "marker": {
            "color": "#003594"
           },
           "mode": "markers",
           "name": "BUF",
           "type": "scatter",
           "x": [
            23.94,
            18.05,
            20.56,
            26.23,
            28.59,
            17.3,
            22.36,
            29.78,
            17.48,
            26.58,
            19.03
           ],
           "y": [
            22.65,
            15.96,
            14.24,
            16.81,
            7.81,
            17.44,
            16.52,
            14.28,
            16.3,
            15.6,
            12.49
           ]
          },
          {
           "hoverinfo": "none",
           "marker": {
            "color": "#CBB67C"
           },
           "mode": "markers",
           "name": "football",
           "type": "scatter",
           "x": [
            17.5100002288818
           ],
           "y": [
            17.0499992370605
           ]
          }
         ],
         "name": "70"
        },
        {
         "data": [
          {
           "hoverinfo": "none",
           "mode": "text",
           "showlegend": false,
           "text": [
            "10",
            "20",
            "30",
            "40",
            "50",
            "40",
            "30",
            "20",
            "10"
           ],
           "textfont": {
            "color": "#ffffff",
            "family": "Courier New, monospace",
            "size": 30
           },
           "type": "scatter",
           "x": [
            20,
            30,
            40,
            50,
            60,
            70,
            80,
            90,
            100
           ],
           "y": [
            5,
            5,
            5,
            5,
            5,
            5,
            5,
            5,
            5
           ]
          },
          {
           "hoverinfo": "none",
           "mode": "text",
           "showlegend": false,
           "text": [
            "10",
            "20",
            "30",
            "40",
            "50",
            "40",
            "30",
            "20",
            "10"
           ],
           "textfont": {
            "color": "#ffffff",
            "family": "Courier New, monospace",
            "size": 30
           },
           "type": "scatter",
           "x": [
            20,
            30,
            40,
            50,
            60,
            70,
            80,
            90,
            100
           ],
           "y": [
            48.5,
            48.5,
            48.5,
            48.5,
            48.5,
            48.5,
            48.5,
            48.5,
            48.5
           ]
          },
          {
           "hoverinfo": "none",
           "line": {
            "color": "blue",
            "dash": "dash"
           },
           "showlegend": false,
           "type": "scatter",
           "x": [
            35,
            35
           ],
           "y": [
            0,
            53.5
           ]
          },
          {
           "hoverinfo": "none",
           "line": {
            "color": "yellow",
            "dash": "dash"
           },
           "showlegend": false,
           "type": "scatter",
           "x": [
            25,
            25
           ],
           "y": [
            0,
            53.5
           ]
          },
          {
           "hoverinfo": "text",
           "hovertext": [
            "nflId:34452.0<br>displayName:Matthew Stafford",
            "nflId:41290.0<br>displayName:Allen Robinson",
            "nflId:42400.0<br>displayName:Rob Havenstein",
            "nflId:43399.0<br>displayName:Tyler Higbee",
            "nflId:44881.0<br>displayName:Cooper Kupp",
            "nflId:46158.0<br>displayName:Joseph Noteboom",
            "nflId:46180.0<br>displayName:Brian Allen",
            "nflId:46376.0<br>displayName:Coleman Shelton",
            "nflId:47853.0<br>displayName:Darrell Henderson",
            "nflId:47952.0<br>displayName:David Edwards",
            "nflId:53678.0<br>displayName:Ben Skowronek"
           ],
           "marker": {
            "color": "#D50A0A"
           },
           "mode": "markers",
           "name": "LA",
           "type": "scatter",
           "x": [
            39.07,
            17.82,
            21.17,
            25.08,
            26.82,
            34.41,
            23.73,
            25.46,
            17.26,
            37.62,
            26.46
           ],
           "y": [
            29.34,
            18.19,
            17.95,
            11.07,
            20.62,
            11.82,
            14.32,
            14.68,
            17.19,
            17.35,
            0.42
           ]
          },
          {
           "hoverinfo": "text",
           "hovertext": [
            "nflId:37075.0<br>displayName:Von Miller",
            "nflId:40107.0<br>displayName:Micah Hyde",
            "nflId:40166.0<br>displayName:Jordan Poyer",
            "nflId:41341.0<br>displayName:DaQuan Jones",
            "nflId:44976.0<br>displayName:Matt Milano",
            "nflId:46085.0<br>displayName:Tremaine Edmunds",
            "nflId:46190.0<br>displayName:Taron Johnson",
            "nflId:46232.0<br>displayName:Tim Settle",
            "nflId:52647.0<br>displayName:Dane Jackson",
            "nflId:53459.0<br>displayName:Gregory Rousseau",
            "nflId:54488.0<br>displayName:Kaiir Elam"
           ],
           "marker": {
            "color": "#003594"
           },
           "mode": "markers",
           "name": "BUF",
           "type": "scatter",
           "x": [
            23.69,
            17.94,
            20.25,
            25.79,
            28.3,
            17.19,
            21.96,
            29.62,
            17.22,
            26.16,
            18.6
           ],
           "y": [
            22.7,
            16.01,
            14.31,
            16.98,
            8.01,
            17.67,
            16.56,
            14.54,
            16.25,
            15.68,
            12.81
           ]
          },
          {
           "hoverinfo": "none",
           "marker": {
            "color": "#CBB67C"
           },
           "mode": "markers",
           "name": "football",
           "type": "scatter",
           "x": [
            17.3600006103516
           ],
           "y": [
            17.0900001525879
           ]
          }
         ],
         "name": "71"
        },
        {
         "data": [
          {
           "hoverinfo": "none",
           "mode": "text",
           "showlegend": false,
           "text": [
            "10",
            "20",
            "30",
            "40",
            "50",
            "40",
            "30",
            "20",
            "10"
           ],
           "textfont": {
            "color": "#ffffff",
            "family": "Courier New, monospace",
            "size": 30
           },
           "type": "scatter",
           "x": [
            20,
            30,
            40,
            50,
            60,
            70,
            80,
            90,
            100
           ],
           "y": [
            5,
            5,
            5,
            5,
            5,
            5,
            5,
            5,
            5
           ]
          },
          {
           "hoverinfo": "none",
           "mode": "text",
           "showlegend": false,
           "text": [
            "10",
            "20",
            "30",
            "40",
            "50",
            "40",
            "30",
            "20",
            "10"
           ],
           "textfont": {
            "color": "#ffffff",
            "family": "Courier New, monospace",
            "size": 30
           },
           "type": "scatter",
           "x": [
            20,
            30,
            40,
            50,
            60,
            70,
            80,
            90,
            100
           ],
           "y": [
            48.5,
            48.5,
            48.5,
            48.5,
            48.5,
            48.5,
            48.5,
            48.5,
            48.5
           ]
          },
          {
           "hoverinfo": "none",
           "line": {
            "color": "blue",
            "dash": "dash"
           },
           "showlegend": false,
           "type": "scatter",
           "x": [
            35,
            35
           ],
           "y": [
            0,
            53.5
           ]
          },
          {
           "hoverinfo": "none",
           "line": {
            "color": "yellow",
            "dash": "dash"
           },
           "showlegend": false,
           "type": "scatter",
           "x": [
            25,
            25
           ],
           "y": [
            0,
            53.5
           ]
          },
          {
           "hoverinfo": "text",
           "hovertext": [
            "nflId:34452.0<br>displayName:Matthew Stafford",
            "nflId:41290.0<br>displayName:Allen Robinson",
            "nflId:42400.0<br>displayName:Rob Havenstein",
            "nflId:43399.0<br>displayName:Tyler Higbee",
            "nflId:44881.0<br>displayName:Cooper Kupp",
            "nflId:46158.0<br>displayName:Joseph Noteboom",
            "nflId:46180.0<br>displayName:Brian Allen",
            "nflId:46376.0<br>displayName:Coleman Shelton",
            "nflId:47853.0<br>displayName:Darrell Henderson",
            "nflId:47952.0<br>displayName:David Edwards",
            "nflId:53678.0<br>displayName:Ben Skowronek"
           ],
           "marker": {
            "color": "#D50A0A"
           },
           "mode": "markers",
           "name": "LA",
           "type": "scatter",
           "x": [
            38.96,
            17.71,
            20.75,
            24.67,
            26.39,
            34.06,
            23.75,
            25.03,
            17.06,
            37.45,
            26.22
           ],
           "y": [
            29.2,
            18.16,
            17.91,
            11.38,
            20.59,
            11.84,
            14.42,
            14.86,
            17.25,
            17.33,
            0.44
           ]
          },
          {
           "hoverinfo": "text",
           "hovertext": [
            "nflId:37075.0<br>displayName:Von Miller",
            "nflId:40107.0<br>displayName:Micah Hyde",
            "nflId:40166.0<br>displayName:Jordan Poyer",
            "nflId:41341.0<br>displayName:DaQuan Jones",
            "nflId:44976.0<br>displayName:Matt Milano",
            "nflId:46085.0<br>displayName:Tremaine Edmunds",
            "nflId:46190.0<br>displayName:Taron Johnson",
            "nflId:46232.0<br>displayName:Tim Settle",
            "nflId:52647.0<br>displayName:Dane Jackson",
            "nflId:53459.0<br>displayName:Gregory Rousseau",
            "nflId:54488.0<br>displayName:Kaiir Elam"
           ],
           "marker": {
            "color": "#003594"
           },
           "mode": "markers",
           "name": "BUF",
           "type": "scatter",
           "x": [
            23.44,
            17.84,
            19.92,
            25.35,
            27.98,
            17.13,
            21.58,
            29.45,
            16.96,
            25.76,
            18.18
           ],
           "y": [
            22.75,
            16.06,
            14.38,
            17.15,
            8.21,
            17.88,
            16.58,
            14.79,
            16.21,
            15.76,
            13.11
           ]
          },
          {
           "hoverinfo": "none",
           "marker": {
            "color": "#CBB67C"
           },
           "mode": "markers",
           "name": "football",
           "type": "scatter",
           "x": [
            17.2199993133545
           ],
           "y": [
            17.0799999237061
           ]
          }
         ],
         "name": "72"
        },
        {
         "data": [
          {
           "hoverinfo": "none",
           "mode": "text",
           "showlegend": false,
           "text": [
            "10",
            "20",
            "30",
            "40",
            "50",
            "40",
            "30",
            "20",
            "10"
           ],
           "textfont": {
            "color": "#ffffff",
            "family": "Courier New, monospace",
            "size": 30
           },
           "type": "scatter",
           "x": [
            20,
            30,
            40,
            50,
            60,
            70,
            80,
            90,
            100
           ],
           "y": [
            5,
            5,
            5,
            5,
            5,
            5,
            5,
            5,
            5
           ]
          },
          {
           "hoverinfo": "none",
           "mode": "text",
           "showlegend": false,
           "text": [
            "10",
            "20",
            "30",
            "40",
            "50",
            "40",
            "30",
            "20",
            "10"
           ],
           "textfont": {
            "color": "#ffffff",
            "family": "Courier New, monospace",
            "size": 30
           },
           "type": "scatter",
           "x": [
            20,
            30,
            40,
            50,
            60,
            70,
            80,
            90,
            100
           ],
           "y": [
            48.5,
            48.5,
            48.5,
            48.5,
            48.5,
            48.5,
            48.5,
            48.5,
            48.5
           ]
          },
          {
           "hoverinfo": "none",
           "line": {
            "color": "blue",
            "dash": "dash"
           },
           "showlegend": false,
           "type": "scatter",
           "x": [
            35,
            35
           ],
           "y": [
            0,
            53.5
           ]
          },
          {
           "hoverinfo": "none",
           "line": {
            "color": "yellow",
            "dash": "dash"
           },
           "showlegend": false,
           "type": "scatter",
           "x": [
            25,
            25
           ],
           "y": [
            0,
            53.5
           ]
          },
          {
           "hoverinfo": "text",
           "hovertext": [
            "nflId:34452.0<br>displayName:Matthew Stafford",
            "nflId:41290.0<br>displayName:Allen Robinson",
            "nflId:42400.0<br>displayName:Rob Havenstein",
            "nflId:43399.0<br>displayName:Tyler Higbee",
            "nflId:44881.0<br>displayName:Cooper Kupp",
            "nflId:46158.0<br>displayName:Joseph Noteboom",
            "nflId:46180.0<br>displayName:Brian Allen",
            "nflId:46376.0<br>displayName:Coleman Shelton",
            "nflId:47853.0<br>displayName:Darrell Henderson",
            "nflId:47952.0<br>displayName:David Edwards",
            "nflId:53678.0<br>displayName:Ben Skowronek"
           ],
           "marker": {
            "color": "#D50A0A"
           },
           "mode": "markers",
           "name": "LA",
           "type": "scatter",
           "x": [
            38.84,
            17.62,
            20.34,
            24.27,
            25.97,
            33.71,
            23.81,
            24.61,
            16.9,
            37.28,
            25.99
           ],
           "y": [
            29.06,
            18.14,
            17.88,
            11.69,
            20.57,
            11.87,
            14.51,
            15.03,
            17.3,
            17.3,
            0.48
           ]
          },
          {
           "hoverinfo": "text",
           "hovertext": [
            "nflId:37075.0<br>displayName:Von Miller",
            "nflId:40107.0<br>displayName:Micah Hyde",
            "nflId:40166.0<br>displayName:Jordan Poyer",
            "nflId:41341.0<br>displayName:DaQuan Jones",
            "nflId:44976.0<br>displayName:Matt Milano",
            "nflId:46085.0<br>displayName:Tremaine Edmunds",
            "nflId:46190.0<br>displayName:Taron Johnson",
            "nflId:46232.0<br>displayName:Tim Settle",
            "nflId:52647.0<br>displayName:Dane Jackson",
            "nflId:53459.0<br>displayName:Gregory Rousseau",
            "nflId:54488.0<br>displayName:Kaiir Elam"
           ],
           "marker": {
            "color": "#003594"
           },
           "mode": "markers",
           "name": "BUF",
           "type": "scatter",
           "x": [
            23.21,
            17.76,
            19.6,
            24.93,
            27.66,
            17.09,
            21.22,
            29.3,
            16.75,
            25.36,
            17.79
           ],
           "y": [
            22.79,
            16.13,
            14.46,
            17.31,
            8.41,
            18.06,
            16.6,
            15.05,
            16.17,
            15.83,
            13.4
           ]
          },
          {
           "hoverinfo": "none",
           "marker": {
            "color": "#CBB67C"
           },
           "mode": "markers",
           "name": "football",
           "type": "scatter",
           "x": [
            17.0900001525879
           ],
           "y": [
            17.0799999237061
           ]
          }
         ],
         "name": "73"
        },
        {
         "data": [
          {
           "hoverinfo": "none",
           "mode": "text",
           "showlegend": false,
           "text": [
            "10",
            "20",
            "30",
            "40",
            "50",
            "40",
            "30",
            "20",
            "10"
           ],
           "textfont": {
            "color": "#ffffff",
            "family": "Courier New, monospace",
            "size": 30
           },
           "type": "scatter",
           "x": [
            20,
            30,
            40,
            50,
            60,
            70,
            80,
            90,
            100
           ],
           "y": [
            5,
            5,
            5,
            5,
            5,
            5,
            5,
            5,
            5
           ]
          },
          {
           "hoverinfo": "none",
           "mode": "text",
           "showlegend": false,
           "text": [
            "10",
            "20",
            "30",
            "40",
            "50",
            "40",
            "30",
            "20",
            "10"
           ],
           "textfont": {
            "color": "#ffffff",
            "family": "Courier New, monospace",
            "size": 30
           },
           "type": "scatter",
           "x": [
            20,
            30,
            40,
            50,
            60,
            70,
            80,
            90,
            100
           ],
           "y": [
            48.5,
            48.5,
            48.5,
            48.5,
            48.5,
            48.5,
            48.5,
            48.5,
            48.5
           ]
          },
          {
           "hoverinfo": "none",
           "line": {
            "color": "blue",
            "dash": "dash"
           },
           "showlegend": false,
           "type": "scatter",
           "x": [
            35,
            35
           ],
           "y": [
            0,
            53.5
           ]
          },
          {
           "hoverinfo": "none",
           "line": {
            "color": "yellow",
            "dash": "dash"
           },
           "showlegend": false,
           "type": "scatter",
           "x": [
            25,
            25
           ],
           "y": [
            0,
            53.5
           ]
          },
          {
           "hoverinfo": "text",
           "hovertext": [
            "nflId:34452.0<br>displayName:Matthew Stafford",
            "nflId:41290.0<br>displayName:Allen Robinson",
            "nflId:42400.0<br>displayName:Rob Havenstein",
            "nflId:43399.0<br>displayName:Tyler Higbee",
            "nflId:44881.0<br>displayName:Cooper Kupp",
            "nflId:46158.0<br>displayName:Joseph Noteboom",
            "nflId:46180.0<br>displayName:Brian Allen",
            "nflId:46376.0<br>displayName:Coleman Shelton",
            "nflId:47853.0<br>displayName:Darrell Henderson",
            "nflId:47952.0<br>displayName:David Edwards",
            "nflId:53678.0<br>displayName:Ben Skowronek"
           ],
           "marker": {
            "color": "#D50A0A"
           },
           "mode": "markers",
           "name": "LA",
           "type": "scatter",
           "x": [
            38.72,
            17.55,
            19.95,
            23.88,
            25.54,
            33.36,
            23.87,
            24.2,
            16.74,
            37.11,
            25.76
           ],
           "y": [
            28.93,
            18.12,
            17.85,
            12,
            20.54,
            11.9,
            14.59,
            15.2,
            17.36,
            17.28,
            0.53
           ]
          },
          {
           "hoverinfo": "text",
           "hovertext": [
            "nflId:37075.0<br>displayName:Von Miller",
            "nflId:40107.0<br>displayName:Micah Hyde",
            "nflId:40166.0<br>displayName:Jordan Poyer",
            "nflId:41341.0<br>displayName:DaQuan Jones",
            "nflId:44976.0<br>displayName:Matt Milano",
            "nflId:46085.0<br>displayName:Tremaine Edmunds",
            "nflId:46190.0<br>displayName:Taron Johnson",
            "nflId:46232.0<br>displayName:Tim Settle",
            "nflId:52647.0<br>displayName:Dane Jackson",
            "nflId:53459.0<br>displayName:Gregory Rousseau",
            "nflId:54488.0<br>displayName:Kaiir Elam"
           ],
           "marker": {
            "color": "#003594"
           },
           "mode": "markers",
           "name": "BUF",
           "type": "scatter",
           "x": [
            22.98,
            17.7,
            19.27,
            24.53,
            27.33,
            17.07,
            20.89,
            29.16,
            16.52,
            24.98,
            17.43
           ],
           "y": [
            22.83,
            16.19,
            14.55,
            17.47,
            8.61,
            18.21,
            16.61,
            15.31,
            16.14,
            15.89,
            13.67
           ]
          },
          {
           "hoverinfo": "none",
           "marker": {
            "color": "#CBB67C"
           },
           "mode": "markers",
           "name": "football",
           "type": "scatter",
           "x": [
            17.0100002288818
           ],
           "y": [
            17.0799999237061
           ]
          }
         ],
         "name": "74"
        },
        {
         "data": [
          {
           "hoverinfo": "none",
           "mode": "text",
           "showlegend": false,
           "text": [
            "10",
            "20",
            "30",
            "40",
            "50",
            "40",
            "30",
            "20",
            "10"
           ],
           "textfont": {
            "color": "#ffffff",
            "family": "Courier New, monospace",
            "size": 30
           },
           "type": "scatter",
           "x": [
            20,
            30,
            40,
            50,
            60,
            70,
            80,
            90,
            100
           ],
           "y": [
            5,
            5,
            5,
            5,
            5,
            5,
            5,
            5,
            5
           ]
          },
          {
           "hoverinfo": "none",
           "mode": "text",
           "showlegend": false,
           "text": [
            "10",
            "20",
            "30",
            "40",
            "50",
            "40",
            "30",
            "20",
            "10"
           ],
           "textfont": {
            "color": "#ffffff",
            "family": "Courier New, monospace",
            "size": 30
           },
           "type": "scatter",
           "x": [
            20,
            30,
            40,
            50,
            60,
            70,
            80,
            90,
            100
           ],
           "y": [
            48.5,
            48.5,
            48.5,
            48.5,
            48.5,
            48.5,
            48.5,
            48.5,
            48.5
           ]
          },
          {
           "hoverinfo": "none",
           "line": {
            "color": "blue",
            "dash": "dash"
           },
           "showlegend": false,
           "type": "scatter",
           "x": [
            35,
            35
           ],
           "y": [
            0,
            53.5
           ]
          },
          {
           "hoverinfo": "none",
           "line": {
            "color": "yellow",
            "dash": "dash"
           },
           "showlegend": false,
           "type": "scatter",
           "x": [
            25,
            25
           ],
           "y": [
            0,
            53.5
           ]
          },
          {
           "hoverinfo": "text",
           "hovertext": [
            "nflId:34452.0<br>displayName:Matthew Stafford",
            "nflId:41290.0<br>displayName:Allen Robinson",
            "nflId:42400.0<br>displayName:Rob Havenstein",
            "nflId:43399.0<br>displayName:Tyler Higbee",
            "nflId:44881.0<br>displayName:Cooper Kupp",
            "nflId:46158.0<br>displayName:Joseph Noteboom",
            "nflId:46180.0<br>displayName:Brian Allen",
            "nflId:46376.0<br>displayName:Coleman Shelton",
            "nflId:47853.0<br>displayName:Darrell Henderson",
            "nflId:47952.0<br>displayName:David Edwards",
            "nflId:53678.0<br>displayName:Ben Skowronek"
           ],
           "marker": {
            "color": "#D50A0A"
           },
           "mode": "markers",
           "name": "LA",
           "type": "scatter",
           "x": [
            38.6,
            17.51,
            19.57,
            23.49,
            25.1,
            33.02,
            23.94,
            23.79,
            16.68,
            36.93,
            25.55
           ],
           "y": [
            28.8,
            18.11,
            17.81,
            12.31,
            20.5,
            11.92,
            14.68,
            15.36,
            17.37,
            17.28,
            0.6
           ]
          },
          {
           "hoverinfo": "text",
           "hovertext": [
            "nflId:37075.0<br>displayName:Von Miller",
            "nflId:40107.0<br>displayName:Micah Hyde",
            "nflId:40166.0<br>displayName:Jordan Poyer",
            "nflId:41341.0<br>displayName:DaQuan Jones",
            "nflId:44976.0<br>displayName:Matt Milano",
            "nflId:46085.0<br>displayName:Tremaine Edmunds",
            "nflId:46190.0<br>displayName:Taron Johnson",
            "nflId:46232.0<br>displayName:Tim Settle",
            "nflId:52647.0<br>displayName:Dane Jackson",
            "nflId:53459.0<br>displayName:Gregory Rousseau",
            "nflId:54488.0<br>displayName:Kaiir Elam"
           ],
           "marker": {
            "color": "#003594"
           },
           "mode": "markers",
           "name": "BUF",
           "type": "scatter",
           "x": [
            22.77,
            17.65,
            18.95,
            24.14,
            27,
            17.07,
            20.58,
            29.01,
            16.49,
            24.62,
            17.09
           ],
           "y": [
            22.86,
            16.25,
            14.64,
            17.62,
            8.8,
            18.35,
            16.62,
            15.58,
            16.14,
            15.96,
            13.91
           ]
          },
          {
           "hoverinfo": "none",
           "marker": {
            "color": "#CBB67C"
           },
           "mode": "markers",
           "name": "football",
           "type": "scatter",
           "x": [
            16.9300003051758
           ],
           "y": [
            17.0799999237061
           ]
          }
         ],
         "name": "75"
        },
        {
         "data": [
          {
           "hoverinfo": "none",
           "mode": "text",
           "showlegend": false,
           "text": [
            "10",
            "20",
            "30",
            "40",
            "50",
            "40",
            "30",
            "20",
            "10"
           ],
           "textfont": {
            "color": "#ffffff",
            "family": "Courier New, monospace",
            "size": 30
           },
           "type": "scatter",
           "x": [
            20,
            30,
            40,
            50,
            60,
            70,
            80,
            90,
            100
           ],
           "y": [
            5,
            5,
            5,
            5,
            5,
            5,
            5,
            5,
            5
           ]
          },
          {
           "hoverinfo": "none",
           "mode": "text",
           "showlegend": false,
           "text": [
            "10",
            "20",
            "30",
            "40",
            "50",
            "40",
            "30",
            "20",
            "10"
           ],
           "textfont": {
            "color": "#ffffff",
            "family": "Courier New, monospace",
            "size": 30
           },
           "type": "scatter",
           "x": [
            20,
            30,
            40,
            50,
            60,
            70,
            80,
            90,
            100
           ],
           "y": [
            48.5,
            48.5,
            48.5,
            48.5,
            48.5,
            48.5,
            48.5,
            48.5,
            48.5
           ]
          },
          {
           "hoverinfo": "none",
           "line": {
            "color": "blue",
            "dash": "dash"
           },
           "showlegend": false,
           "type": "scatter",
           "x": [
            35,
            35
           ],
           "y": [
            0,
            53.5
           ]
          },
          {
           "hoverinfo": "none",
           "line": {
            "color": "yellow",
            "dash": "dash"
           },
           "showlegend": false,
           "type": "scatter",
           "x": [
            25,
            25
           ],
           "y": [
            0,
            53.5
           ]
          },
          {
           "hoverinfo": "text",
           "hovertext": [
            "nflId:34452.0<br>displayName:Matthew Stafford",
            "nflId:41290.0<br>displayName:Allen Robinson",
            "nflId:42400.0<br>displayName:Rob Havenstein",
            "nflId:43399.0<br>displayName:Tyler Higbee",
            "nflId:44881.0<br>displayName:Cooper Kupp",
            "nflId:46158.0<br>displayName:Joseph Noteboom",
            "nflId:46180.0<br>displayName:Brian Allen",
            "nflId:46376.0<br>displayName:Coleman Shelton",
            "nflId:47853.0<br>displayName:Darrell Henderson",
            "nflId:47952.0<br>displayName:David Edwards",
            "nflId:53678.0<br>displayName:Ben Skowronek"
           ],
           "marker": {
            "color": "#D50A0A"
           },
           "mode": "markers",
           "name": "LA",
           "type": "scatter",
           "x": [
            38.47,
            17.47,
            19.23,
            23.12,
            24.67,
            32.68,
            24.03,
            23.4,
            16.61,
            36.77,
            25.35
           ],
           "y": [
            28.66,
            18.11,
            17.78,
            12.62,
            20.47,
            11.96,
            14.74,
            15.52,
            17.38,
            17.28,
            0.67
           ]
          },
          {
           "hoverinfo": "text",
           "hovertext": [
            "nflId:37075.0<br>displayName:Von Miller",
            "nflId:40107.0<br>displayName:Micah Hyde",
            "nflId:40166.0<br>displayName:Jordan Poyer",
            "nflId:41341.0<br>displayName:DaQuan Jones",
            "nflId:44976.0<br>displayName:Matt Milano",
            "nflId:46085.0<br>displayName:Tremaine Edmunds",
            "nflId:46190.0<br>displayName:Taron Johnson",
            "nflId:46232.0<br>displayName:Tim Settle",
            "nflId:52647.0<br>displayName:Dane Jackson",
            "nflId:53459.0<br>displayName:Gregory Rousseau",
            "nflId:54488.0<br>displayName:Kaiir Elam"
           ],
           "marker": {
            "color": "#003594"
           },
           "mode": "markers",
           "name": "BUF",
           "type": "scatter",
           "x": [
            22.56,
            17.62,
            18.65,
            23.77,
            26.67,
            17.06,
            20.3,
            28.87,
            16.42,
            24.27,
            16.79
           ],
           "y": [
            22.87,
            16.29,
            14.73,
            17.77,
            9,
            18.45,
            16.63,
            15.85,
            16.1,
            16.03,
            14.14
           ]
          },
          {
           "hoverinfo": "none",
           "marker": {
            "color": "#CBB67C"
           },
           "mode": "markers",
           "name": "football",
           "type": "scatter",
           "x": [
            16.8899993896484
           ],
           "y": [
            17.0799999237061
           ]
          }
         ],
         "name": "76"
        }
       ],
       "layout": {
        "annotations": [
         {
          "align": "center",
          "bgcolor": "#ff7f0e",
          "bordercolor": "black",
          "borderpad": 4,
          "borderwidth": 2,
          "font": {
           "color": "black",
           "family": "Courier New, monospace",
           "size": 16
          },
          "opacity": 1,
          "showarrow": false,
          "text": "1",
          "x": 25,
          "y": 0
         },
         {
          "align": "center",
          "bgcolor": "#ff7f0e",
          "bordercolor": "black",
          "borderpad": 4,
          "borderwidth": 2,
          "font": {
           "color": "black",
           "family": "Courier New, monospace",
           "size": 16
          },
          "opacity": 1,
          "showarrow": false,
          "text": "1",
          "x": 25,
          "y": 53
         }
        ],
        "autosize": false,
        "height": 600,
        "plot_bgcolor": "#00B140",
        "sliders": [
         {
          "active": 0,
          "currentvalue": {
           "font": {
            "size": 20
           },
           "prefix": "Frame:",
           "visible": true,
           "xanchor": "right"
          },
          "len": 0.9,
          "pad": {
           "b": 10,
           "t": 50
          },
          "steps": [
           {
            "args": [
             [
              1
             ],
             {
              "frame": {
               "duration": 100,
               "redraw": false
              },
              "mode": "immediate",
              "transition": {
               "duration": 0
              }
             }
            ],
            "label": "1",
            "method": "animate"
           },
           {
            "args": [
             [
              2
             ],
             {
              "frame": {
               "duration": 100,
               "redraw": false
              },
              "mode": "immediate",
              "transition": {
               "duration": 0
              }
             }
            ],
            "label": "2",
            "method": "animate"
           },
           {
            "args": [
             [
              3
             ],
             {
              "frame": {
               "duration": 100,
               "redraw": false
              },
              "mode": "immediate",
              "transition": {
               "duration": 0
              }
             }
            ],
            "label": "3",
            "method": "animate"
           },
           {
            "args": [
             [
              4
             ],
             {
              "frame": {
               "duration": 100,
               "redraw": false
              },
              "mode": "immediate",
              "transition": {
               "duration": 0
              }
             }
            ],
            "label": "4",
            "method": "animate"
           },
           {
            "args": [
             [
              5
             ],
             {
              "frame": {
               "duration": 100,
               "redraw": false
              },
              "mode": "immediate",
              "transition": {
               "duration": 0
              }
             }
            ],
            "label": "5",
            "method": "animate"
           },
           {
            "args": [
             [
              6
             ],
             {
              "frame": {
               "duration": 100,
               "redraw": false
              },
              "mode": "immediate",
              "transition": {
               "duration": 0
              }
             }
            ],
            "label": "6",
            "method": "animate"
           },
           {
            "args": [
             [
              7
             ],
             {
              "frame": {
               "duration": 100,
               "redraw": false
              },
              "mode": "immediate",
              "transition": {
               "duration": 0
              }
             }
            ],
            "label": "7",
            "method": "animate"
           },
           {
            "args": [
             [
              8
             ],
             {
              "frame": {
               "duration": 100,
               "redraw": false
              },
              "mode": "immediate",
              "transition": {
               "duration": 0
              }
             }
            ],
            "label": "8",
            "method": "animate"
           },
           {
            "args": [
             [
              9
             ],
             {
              "frame": {
               "duration": 100,
               "redraw": false
              },
              "mode": "immediate",
              "transition": {
               "duration": 0
              }
             }
            ],
            "label": "9",
            "method": "animate"
           },
           {
            "args": [
             [
              10
             ],
             {
              "frame": {
               "duration": 100,
               "redraw": false
              },
              "mode": "immediate",
              "transition": {
               "duration": 0
              }
             }
            ],
            "label": "10",
            "method": "animate"
           },
           {
            "args": [
             [
              11
             ],
             {
              "frame": {
               "duration": 100,
               "redraw": false
              },
              "mode": "immediate",
              "transition": {
               "duration": 0
              }
             }
            ],
            "label": "11",
            "method": "animate"
           },
           {
            "args": [
             [
              12
             ],
             {
              "frame": {
               "duration": 100,
               "redraw": false
              },
              "mode": "immediate",
              "transition": {
               "duration": 0
              }
             }
            ],
            "label": "12",
            "method": "animate"
           },
           {
            "args": [
             [
              13
             ],
             {
              "frame": {
               "duration": 100,
               "redraw": false
              },
              "mode": "immediate",
              "transition": {
               "duration": 0
              }
             }
            ],
            "label": "13",
            "method": "animate"
           },
           {
            "args": [
             [
              14
             ],
             {
              "frame": {
               "duration": 100,
               "redraw": false
              },
              "mode": "immediate",
              "transition": {
               "duration": 0
              }
             }
            ],
            "label": "14",
            "method": "animate"
           },
           {
            "args": [
             [
              15
             ],
             {
              "frame": {
               "duration": 100,
               "redraw": false
              },
              "mode": "immediate",
              "transition": {
               "duration": 0
              }
             }
            ],
            "label": "15",
            "method": "animate"
           },
           {
            "args": [
             [
              16
             ],
             {
              "frame": {
               "duration": 100,
               "redraw": false
              },
              "mode": "immediate",
              "transition": {
               "duration": 0
              }
             }
            ],
            "label": "16",
            "method": "animate"
           },
           {
            "args": [
             [
              17
             ],
             {
              "frame": {
               "duration": 100,
               "redraw": false
              },
              "mode": "immediate",
              "transition": {
               "duration": 0
              }
             }
            ],
            "label": "17",
            "method": "animate"
           },
           {
            "args": [
             [
              18
             ],
             {
              "frame": {
               "duration": 100,
               "redraw": false
              },
              "mode": "immediate",
              "transition": {
               "duration": 0
              }
             }
            ],
            "label": "18",
            "method": "animate"
           },
           {
            "args": [
             [
              19
             ],
             {
              "frame": {
               "duration": 100,
               "redraw": false
              },
              "mode": "immediate",
              "transition": {
               "duration": 0
              }
             }
            ],
            "label": "19",
            "method": "animate"
           },
           {
            "args": [
             [
              20
             ],
             {
              "frame": {
               "duration": 100,
               "redraw": false
              },
              "mode": "immediate",
              "transition": {
               "duration": 0
              }
             }
            ],
            "label": "20",
            "method": "animate"
           },
           {
            "args": [
             [
              21
             ],
             {
              "frame": {
               "duration": 100,
               "redraw": false
              },
              "mode": "immediate",
              "transition": {
               "duration": 0
              }
             }
            ],
            "label": "21",
            "method": "animate"
           },
           {
            "args": [
             [
              22
             ],
             {
              "frame": {
               "duration": 100,
               "redraw": false
              },
              "mode": "immediate",
              "transition": {
               "duration": 0
              }
             }
            ],
            "label": "22",
            "method": "animate"
           },
           {
            "args": [
             [
              23
             ],
             {
              "frame": {
               "duration": 100,
               "redraw": false
              },
              "mode": "immediate",
              "transition": {
               "duration": 0
              }
             }
            ],
            "label": "23",
            "method": "animate"
           },
           {
            "args": [
             [
              24
             ],
             {
              "frame": {
               "duration": 100,
               "redraw": false
              },
              "mode": "immediate",
              "transition": {
               "duration": 0
              }
             }
            ],
            "label": "24",
            "method": "animate"
           },
           {
            "args": [
             [
              25
             ],
             {
              "frame": {
               "duration": 100,
               "redraw": false
              },
              "mode": "immediate",
              "transition": {
               "duration": 0
              }
             }
            ],
            "label": "25",
            "method": "animate"
           },
           {
            "args": [
             [
              26
             ],
             {
              "frame": {
               "duration": 100,
               "redraw": false
              },
              "mode": "immediate",
              "transition": {
               "duration": 0
              }
             }
            ],
            "label": "26",
            "method": "animate"
           },
           {
            "args": [
             [
              27
             ],
             {
              "frame": {
               "duration": 100,
               "redraw": false
              },
              "mode": "immediate",
              "transition": {
               "duration": 0
              }
             }
            ],
            "label": "27",
            "method": "animate"
           },
           {
            "args": [
             [
              28
             ],
             {
              "frame": {
               "duration": 100,
               "redraw": false
              },
              "mode": "immediate",
              "transition": {
               "duration": 0
              }
             }
            ],
            "label": "28",
            "method": "animate"
           },
           {
            "args": [
             [
              29
             ],
             {
              "frame": {
               "duration": 100,
               "redraw": false
              },
              "mode": "immediate",
              "transition": {
               "duration": 0
              }
             }
            ],
            "label": "29",
            "method": "animate"
           },
           {
            "args": [
             [
              30
             ],
             {
              "frame": {
               "duration": 100,
               "redraw": false
              },
              "mode": "immediate",
              "transition": {
               "duration": 0
              }
             }
            ],
            "label": "30",
            "method": "animate"
           },
           {
            "args": [
             [
              31
             ],
             {
              "frame": {
               "duration": 100,
               "redraw": false
              },
              "mode": "immediate",
              "transition": {
               "duration": 0
              }
             }
            ],
            "label": "31",
            "method": "animate"
           },
           {
            "args": [
             [
              32
             ],
             {
              "frame": {
               "duration": 100,
               "redraw": false
              },
              "mode": "immediate",
              "transition": {
               "duration": 0
              }
             }
            ],
            "label": "32",
            "method": "animate"
           },
           {
            "args": [
             [
              33
             ],
             {
              "frame": {
               "duration": 100,
               "redraw": false
              },
              "mode": "immediate",
              "transition": {
               "duration": 0
              }
             }
            ],
            "label": "33",
            "method": "animate"
           },
           {
            "args": [
             [
              34
             ],
             {
              "frame": {
               "duration": 100,
               "redraw": false
              },
              "mode": "immediate",
              "transition": {
               "duration": 0
              }
             }
            ],
            "label": "34",
            "method": "animate"
           },
           {
            "args": [
             [
              35
             ],
             {
              "frame": {
               "duration": 100,
               "redraw": false
              },
              "mode": "immediate",
              "transition": {
               "duration": 0
              }
             }
            ],
            "label": "35",
            "method": "animate"
           },
           {
            "args": [
             [
              36
             ],
             {
              "frame": {
               "duration": 100,
               "redraw": false
              },
              "mode": "immediate",
              "transition": {
               "duration": 0
              }
             }
            ],
            "label": "36",
            "method": "animate"
           },
           {
            "args": [
             [
              37
             ],
             {
              "frame": {
               "duration": 100,
               "redraw": false
              },
              "mode": "immediate",
              "transition": {
               "duration": 0
              }
             }
            ],
            "label": "37",
            "method": "animate"
           },
           {
            "args": [
             [
              38
             ],
             {
              "frame": {
               "duration": 100,
               "redraw": false
              },
              "mode": "immediate",
              "transition": {
               "duration": 0
              }
             }
            ],
            "label": "38",
            "method": "animate"
           },
           {
            "args": [
             [
              39
             ],
             {
              "frame": {
               "duration": 100,
               "redraw": false
              },
              "mode": "immediate",
              "transition": {
               "duration": 0
              }
             }
            ],
            "label": "39",
            "method": "animate"
           },
           {
            "args": [
             [
              40
             ],
             {
              "frame": {
               "duration": 100,
               "redraw": false
              },
              "mode": "immediate",
              "transition": {
               "duration": 0
              }
             }
            ],
            "label": "40",
            "method": "animate"
           },
           {
            "args": [
             [
              41
             ],
             {
              "frame": {
               "duration": 100,
               "redraw": false
              },
              "mode": "immediate",
              "transition": {
               "duration": 0
              }
             }
            ],
            "label": "41",
            "method": "animate"
           },
           {
            "args": [
             [
              42
             ],
             {
              "frame": {
               "duration": 100,
               "redraw": false
              },
              "mode": "immediate",
              "transition": {
               "duration": 0
              }
             }
            ],
            "label": "42",
            "method": "animate"
           },
           {
            "args": [
             [
              43
             ],
             {
              "frame": {
               "duration": 100,
               "redraw": false
              },
              "mode": "immediate",
              "transition": {
               "duration": 0
              }
             }
            ],
            "label": "43",
            "method": "animate"
           },
           {
            "args": [
             [
              44
             ],
             {
              "frame": {
               "duration": 100,
               "redraw": false
              },
              "mode": "immediate",
              "transition": {
               "duration": 0
              }
             }
            ],
            "label": "44",
            "method": "animate"
           },
           {
            "args": [
             [
              45
             ],
             {
              "frame": {
               "duration": 100,
               "redraw": false
              },
              "mode": "immediate",
              "transition": {
               "duration": 0
              }
             }
            ],
            "label": "45",
            "method": "animate"
           },
           {
            "args": [
             [
              46
             ],
             {
              "frame": {
               "duration": 100,
               "redraw": false
              },
              "mode": "immediate",
              "transition": {
               "duration": 0
              }
             }
            ],
            "label": "46",
            "method": "animate"
           },
           {
            "args": [
             [
              47
             ],
             {
              "frame": {
               "duration": 100,
               "redraw": false
              },
              "mode": "immediate",
              "transition": {
               "duration": 0
              }
             }
            ],
            "label": "47",
            "method": "animate"
           },
           {
            "args": [
             [
              48
             ],
             {
              "frame": {
               "duration": 100,
               "redraw": false
              },
              "mode": "immediate",
              "transition": {
               "duration": 0
              }
             }
            ],
            "label": "48",
            "method": "animate"
           },
           {
            "args": [
             [
              49
             ],
             {
              "frame": {
               "duration": 100,
               "redraw": false
              },
              "mode": "immediate",
              "transition": {
               "duration": 0
              }
             }
            ],
            "label": "49",
            "method": "animate"
           },
           {
            "args": [
             [
              50
             ],
             {
              "frame": {
               "duration": 100,
               "redraw": false
              },
              "mode": "immediate",
              "transition": {
               "duration": 0
              }
             }
            ],
            "label": "50",
            "method": "animate"
           },
           {
            "args": [
             [
              51
             ],
             {
              "frame": {
               "duration": 100,
               "redraw": false
              },
              "mode": "immediate",
              "transition": {
               "duration": 0
              }
             }
            ],
            "label": "51",
            "method": "animate"
           },
           {
            "args": [
             [
              52
             ],
             {
              "frame": {
               "duration": 100,
               "redraw": false
              },
              "mode": "immediate",
              "transition": {
               "duration": 0
              }
             }
            ],
            "label": "52",
            "method": "animate"
           },
           {
            "args": [
             [
              53
             ],
             {
              "frame": {
               "duration": 100,
               "redraw": false
              },
              "mode": "immediate",
              "transition": {
               "duration": 0
              }
             }
            ],
            "label": "53",
            "method": "animate"
           },
           {
            "args": [
             [
              54
             ],
             {
              "frame": {
               "duration": 100,
               "redraw": false
              },
              "mode": "immediate",
              "transition": {
               "duration": 0
              }
             }
            ],
            "label": "54",
            "method": "animate"
           },
           {
            "args": [
             [
              55
             ],
             {
              "frame": {
               "duration": 100,
               "redraw": false
              },
              "mode": "immediate",
              "transition": {
               "duration": 0
              }
             }
            ],
            "label": "55",
            "method": "animate"
           },
           {
            "args": [
             [
              56
             ],
             {
              "frame": {
               "duration": 100,
               "redraw": false
              },
              "mode": "immediate",
              "transition": {
               "duration": 0
              }
             }
            ],
            "label": "56",
            "method": "animate"
           },
           {
            "args": [
             [
              57
             ],
             {
              "frame": {
               "duration": 100,
               "redraw": false
              },
              "mode": "immediate",
              "transition": {
               "duration": 0
              }
             }
            ],
            "label": "57",
            "method": "animate"
           },
           {
            "args": [
             [
              58
             ],
             {
              "frame": {
               "duration": 100,
               "redraw": false
              },
              "mode": "immediate",
              "transition": {
               "duration": 0
              }
             }
            ],
            "label": "58",
            "method": "animate"
           },
           {
            "args": [
             [
              59
             ],
             {
              "frame": {
               "duration": 100,
               "redraw": false
              },
              "mode": "immediate",
              "transition": {
               "duration": 0
              }
             }
            ],
            "label": "59",
            "method": "animate"
           },
           {
            "args": [
             [
              60
             ],
             {
              "frame": {
               "duration": 100,
               "redraw": false
              },
              "mode": "immediate",
              "transition": {
               "duration": 0
              }
             }
            ],
            "label": "60",
            "method": "animate"
           },
           {
            "args": [
             [
              61
             ],
             {
              "frame": {
               "duration": 100,
               "redraw": false
              },
              "mode": "immediate",
              "transition": {
               "duration": 0
              }
             }
            ],
            "label": "61",
            "method": "animate"
           },
           {
            "args": [
             [
              62
             ],
             {
              "frame": {
               "duration": 100,
               "redraw": false
              },
              "mode": "immediate",
              "transition": {
               "duration": 0
              }
             }
            ],
            "label": "62",
            "method": "animate"
           },
           {
            "args": [
             [
              63
             ],
             {
              "frame": {
               "duration": 100,
               "redraw": false
              },
              "mode": "immediate",
              "transition": {
               "duration": 0
              }
             }
            ],
            "label": "63",
            "method": "animate"
           },
           {
            "args": [
             [
              64
             ],
             {
              "frame": {
               "duration": 100,
               "redraw": false
              },
              "mode": "immediate",
              "transition": {
               "duration": 0
              }
             }
            ],
            "label": "64",
            "method": "animate"
           },
           {
            "args": [
             [
              65
             ],
             {
              "frame": {
               "duration": 100,
               "redraw": false
              },
              "mode": "immediate",
              "transition": {
               "duration": 0
              }
             }
            ],
            "label": "65",
            "method": "animate"
           },
           {
            "args": [
             [
              66
             ],
             {
              "frame": {
               "duration": 100,
               "redraw": false
              },
              "mode": "immediate",
              "transition": {
               "duration": 0
              }
             }
            ],
            "label": "66",
            "method": "animate"
           },
           {
            "args": [
             [
              67
             ],
             {
              "frame": {
               "duration": 100,
               "redraw": false
              },
              "mode": "immediate",
              "transition": {
               "duration": 0
              }
             }
            ],
            "label": "67",
            "method": "animate"
           },
           {
            "args": [
             [
              68
             ],
             {
              "frame": {
               "duration": 100,
               "redraw": false
              },
              "mode": "immediate",
              "transition": {
               "duration": 0
              }
             }
            ],
            "label": "68",
            "method": "animate"
           },
           {
            "args": [
             [
              69
             ],
             {
              "frame": {
               "duration": 100,
               "redraw": false
              },
              "mode": "immediate",
              "transition": {
               "duration": 0
              }
             }
            ],
            "label": "69",
            "method": "animate"
           },
           {
            "args": [
             [
              70
             ],
             {
              "frame": {
               "duration": 100,
               "redraw": false
              },
              "mode": "immediate",
              "transition": {
               "duration": 0
              }
             }
            ],
            "label": "70",
            "method": "animate"
           },
           {
            "args": [
             [
              71
             ],
             {
              "frame": {
               "duration": 100,
               "redraw": false
              },
              "mode": "immediate",
              "transition": {
               "duration": 0
              }
             }
            ],
            "label": "71",
            "method": "animate"
           },
           {
            "args": [
             [
              72
             ],
             {
              "frame": {
               "duration": 100,
               "redraw": false
              },
              "mode": "immediate",
              "transition": {
               "duration": 0
              }
             }
            ],
            "label": "72",
            "method": "animate"
           },
           {
            "args": [
             [
              73
             ],
             {
              "frame": {
               "duration": 100,
               "redraw": false
              },
              "mode": "immediate",
              "transition": {
               "duration": 0
              }
             }
            ],
            "label": "73",
            "method": "animate"
           },
           {
            "args": [
             [
              74
             ],
             {
              "frame": {
               "duration": 100,
               "redraw": false
              },
              "mode": "immediate",
              "transition": {
               "duration": 0
              }
             }
            ],
            "label": "74",
            "method": "animate"
           },
           {
            "args": [
             [
              75
             ],
             {
              "frame": {
               "duration": 100,
               "redraw": false
              },
              "mode": "immediate",
              "transition": {
               "duration": 0
              }
             }
            ],
            "label": "75",
            "method": "animate"
           },
           {
            "args": [
             [
              76
             ],
             {
              "frame": {
               "duration": 100,
               "redraw": false
              },
              "mode": "immediate",
              "transition": {
               "duration": 0
              }
             }
            ],
            "label": "76",
            "method": "animate"
           }
          ],
          "transition": {
           "duration": 300,
           "easing": "cubic-in-out"
          },
          "x": 0.1,
          "xanchor": "left",
          "y": 0,
          "yanchor": "top"
         }
        ],
        "template": {
         "data": {
          "bar": [
           {
            "error_x": {
             "color": "#2a3f5f"
            },
            "error_y": {
             "color": "#2a3f5f"
            },
            "marker": {
             "line": {
              "color": "#E5ECF6",
              "width": 0.5
             },
             "pattern": {
              "fillmode": "overlay",
              "size": 10,
              "solidity": 0.2
             }
            },
            "type": "bar"
           }
          ],
          "barpolar": [
           {
            "marker": {
             "line": {
              "color": "#E5ECF6",
              "width": 0.5
             },
             "pattern": {
              "fillmode": "overlay",
              "size": 10,
              "solidity": 0.2
             }
            },
            "type": "barpolar"
           }
          ],
          "carpet": [
           {
            "aaxis": {
             "endlinecolor": "#2a3f5f",
             "gridcolor": "white",
             "linecolor": "white",
             "minorgridcolor": "white",
             "startlinecolor": "#2a3f5f"
            },
            "baxis": {
             "endlinecolor": "#2a3f5f",
             "gridcolor": "white",
             "linecolor": "white",
             "minorgridcolor": "white",
             "startlinecolor": "#2a3f5f"
            },
            "type": "carpet"
           }
          ],
          "choropleth": [
           {
            "colorbar": {
             "outlinewidth": 0,
             "ticks": ""
            },
            "type": "choropleth"
           }
          ],
          "contour": [
           {
            "colorbar": {
             "outlinewidth": 0,
             "ticks": ""
            },
            "colorscale": [
             [
              0,
              "#0d0887"
             ],
             [
              0.1111111111111111,
              "#46039f"
             ],
             [
              0.2222222222222222,
              "#7201a8"
             ],
             [
              0.3333333333333333,
              "#9c179e"
             ],
             [
              0.4444444444444444,
              "#bd3786"
             ],
             [
              0.5555555555555556,
              "#d8576b"
             ],
             [
              0.6666666666666666,
              "#ed7953"
             ],
             [
              0.7777777777777778,
              "#fb9f3a"
             ],
             [
              0.8888888888888888,
              "#fdca26"
             ],
             [
              1,
              "#f0f921"
             ]
            ],
            "type": "contour"
           }
          ],
          "contourcarpet": [
           {
            "colorbar": {
             "outlinewidth": 0,
             "ticks": ""
            },
            "type": "contourcarpet"
           }
          ],
          "heatmap": [
           {
            "colorbar": {
             "outlinewidth": 0,
             "ticks": ""
            },
            "colorscale": [
             [
              0,
              "#0d0887"
             ],
             [
              0.1111111111111111,
              "#46039f"
             ],
             [
              0.2222222222222222,
              "#7201a8"
             ],
             [
              0.3333333333333333,
              "#9c179e"
             ],
             [
              0.4444444444444444,
              "#bd3786"
             ],
             [
              0.5555555555555556,
              "#d8576b"
             ],
             [
              0.6666666666666666,
              "#ed7953"
             ],
             [
              0.7777777777777778,
              "#fb9f3a"
             ],
             [
              0.8888888888888888,
              "#fdca26"
             ],
             [
              1,
              "#f0f921"
             ]
            ],
            "type": "heatmap"
           }
          ],
          "heatmapgl": [
           {
            "colorbar": {
             "outlinewidth": 0,
             "ticks": ""
            },
            "colorscale": [
             [
              0,
              "#0d0887"
             ],
             [
              0.1111111111111111,
              "#46039f"
             ],
             [
              0.2222222222222222,
              "#7201a8"
             ],
             [
              0.3333333333333333,
              "#9c179e"
             ],
             [
              0.4444444444444444,
              "#bd3786"
             ],
             [
              0.5555555555555556,
              "#d8576b"
             ],
             [
              0.6666666666666666,
              "#ed7953"
             ],
             [
              0.7777777777777778,
              "#fb9f3a"
             ],
             [
              0.8888888888888888,
              "#fdca26"
             ],
             [
              1,
              "#f0f921"
             ]
            ],
            "type": "heatmapgl"
           }
          ],
          "histogram": [
           {
            "marker": {
             "pattern": {
              "fillmode": "overlay",
              "size": 10,
              "solidity": 0.2
             }
            },
            "type": "histogram"
           }
          ],
          "histogram2d": [
           {
            "colorbar": {
             "outlinewidth": 0,
             "ticks": ""
            },
            "colorscale": [
             [
              0,
              "#0d0887"
             ],
             [
              0.1111111111111111,
              "#46039f"
             ],
             [
              0.2222222222222222,
              "#7201a8"
             ],
             [
              0.3333333333333333,
              "#9c179e"
             ],
             [
              0.4444444444444444,
              "#bd3786"
             ],
             [
              0.5555555555555556,
              "#d8576b"
             ],
             [
              0.6666666666666666,
              "#ed7953"
             ],
             [
              0.7777777777777778,
              "#fb9f3a"
             ],
             [
              0.8888888888888888,
              "#fdca26"
             ],
             [
              1,
              "#f0f921"
             ]
            ],
            "type": "histogram2d"
           }
          ],
          "histogram2dcontour": [
           {
            "colorbar": {
             "outlinewidth": 0,
             "ticks": ""
            },
            "colorscale": [
             [
              0,
              "#0d0887"
             ],
             [
              0.1111111111111111,
              "#46039f"
             ],
             [
              0.2222222222222222,
              "#7201a8"
             ],
             [
              0.3333333333333333,
              "#9c179e"
             ],
             [
              0.4444444444444444,
              "#bd3786"
             ],
             [
              0.5555555555555556,
              "#d8576b"
             ],
             [
              0.6666666666666666,
              "#ed7953"
             ],
             [
              0.7777777777777778,
              "#fb9f3a"
             ],
             [
              0.8888888888888888,
              "#fdca26"
             ],
             [
              1,
              "#f0f921"
             ]
            ],
            "type": "histogram2dcontour"
           }
          ],
          "mesh3d": [
           {
            "colorbar": {
             "outlinewidth": 0,
             "ticks": ""
            },
            "type": "mesh3d"
           }
          ],
          "parcoords": [
           {
            "line": {
             "colorbar": {
              "outlinewidth": 0,
              "ticks": ""
             }
            },
            "type": "parcoords"
           }
          ],
          "pie": [
           {
            "automargin": true,
            "type": "pie"
           }
          ],
          "scatter": [
           {
            "fillpattern": {
             "fillmode": "overlay",
             "size": 10,
             "solidity": 0.2
            },
            "type": "scatter"
           }
          ],
          "scatter3d": [
           {
            "line": {
             "colorbar": {
              "outlinewidth": 0,
              "ticks": ""
             }
            },
            "marker": {
             "colorbar": {
              "outlinewidth": 0,
              "ticks": ""
             }
            },
            "type": "scatter3d"
           }
          ],
          "scattercarpet": [
           {
            "marker": {
             "colorbar": {
              "outlinewidth": 0,
              "ticks": ""
             }
            },
            "type": "scattercarpet"
           }
          ],
          "scattergeo": [
           {
            "marker": {
             "colorbar": {
              "outlinewidth": 0,
              "ticks": ""
             }
            },
            "type": "scattergeo"
           }
          ],
          "scattergl": [
           {
            "marker": {
             "colorbar": {
              "outlinewidth": 0,
              "ticks": ""
             }
            },
            "type": "scattergl"
           }
          ],
          "scattermapbox": [
           {
            "marker": {
             "colorbar": {
              "outlinewidth": 0,
              "ticks": ""
             }
            },
            "type": "scattermapbox"
           }
          ],
          "scatterpolar": [
           {
            "marker": {
             "colorbar": {
              "outlinewidth": 0,
              "ticks": ""
             }
            },
            "type": "scatterpolar"
           }
          ],
          "scatterpolargl": [
           {
            "marker": {
             "colorbar": {
              "outlinewidth": 0,
              "ticks": ""
             }
            },
            "type": "scatterpolargl"
           }
          ],
          "scatterternary": [
           {
            "marker": {
             "colorbar": {
              "outlinewidth": 0,
              "ticks": ""
             }
            },
            "type": "scatterternary"
           }
          ],
          "surface": [
           {
            "colorbar": {
             "outlinewidth": 0,
             "ticks": ""
            },
            "colorscale": [
             [
              0,
              "#0d0887"
             ],
             [
              0.1111111111111111,
              "#46039f"
             ],
             [
              0.2222222222222222,
              "#7201a8"
             ],
             [
              0.3333333333333333,
              "#9c179e"
             ],
             [
              0.4444444444444444,
              "#bd3786"
             ],
             [
              0.5555555555555556,
              "#d8576b"
             ],
             [
              0.6666666666666666,
              "#ed7953"
             ],
             [
              0.7777777777777778,
              "#fb9f3a"
             ],
             [
              0.8888888888888888,
              "#fdca26"
             ],
             [
              1,
              "#f0f921"
             ]
            ],
            "type": "surface"
           }
          ],
          "table": [
           {
            "cells": {
             "fill": {
              "color": "#EBF0F8"
             },
             "line": {
              "color": "white"
             }
            },
            "header": {
             "fill": {
              "color": "#C8D4E3"
             },
             "line": {
              "color": "white"
             }
            },
            "type": "table"
           }
          ]
         },
         "layout": {
          "annotationdefaults": {
           "arrowcolor": "#2a3f5f",
           "arrowhead": 0,
           "arrowwidth": 1
          },
          "autotypenumbers": "strict",
          "coloraxis": {
           "colorbar": {
            "outlinewidth": 0,
            "ticks": ""
           }
          },
          "colorscale": {
           "diverging": [
            [
             0,
             "#8e0152"
            ],
            [
             0.1,
             "#c51b7d"
            ],
            [
             0.2,
             "#de77ae"
            ],
            [
             0.3,
             "#f1b6da"
            ],
            [
             0.4,
             "#fde0ef"
            ],
            [
             0.5,
             "#f7f7f7"
            ],
            [
             0.6,
             "#e6f5d0"
            ],
            [
             0.7,
             "#b8e186"
            ],
            [
             0.8,
             "#7fbc41"
            ],
            [
             0.9,
             "#4d9221"
            ],
            [
             1,
             "#276419"
            ]
           ],
           "sequential": [
            [
             0,
             "#0d0887"
            ],
            [
             0.1111111111111111,
             "#46039f"
            ],
            [
             0.2222222222222222,
             "#7201a8"
            ],
            [
             0.3333333333333333,
             "#9c179e"
            ],
            [
             0.4444444444444444,
             "#bd3786"
            ],
            [
             0.5555555555555556,
             "#d8576b"
            ],
            [
             0.6666666666666666,
             "#ed7953"
            ],
            [
             0.7777777777777778,
             "#fb9f3a"
            ],
            [
             0.8888888888888888,
             "#fdca26"
            ],
            [
             1,
             "#f0f921"
            ]
           ],
           "sequentialminus": [
            [
             0,
             "#0d0887"
            ],
            [
             0.1111111111111111,
             "#46039f"
            ],
            [
             0.2222222222222222,
             "#7201a8"
            ],
            [
             0.3333333333333333,
             "#9c179e"
            ],
            [
             0.4444444444444444,
             "#bd3786"
            ],
            [
             0.5555555555555556,
             "#d8576b"
            ],
            [
             0.6666666666666666,
             "#ed7953"
            ],
            [
             0.7777777777777778,
             "#fb9f3a"
            ],
            [
             0.8888888888888888,
             "#fdca26"
            ],
            [
             1,
             "#f0f921"
            ]
           ]
          },
          "colorway": [
           "#636efa",
           "#EF553B",
           "#00cc96",
           "#ab63fa",
           "#FFA15A",
           "#19d3f3",
           "#FF6692",
           "#B6E880",
           "#FF97FF",
           "#FECB52"
          ],
          "font": {
           "color": "#2a3f5f"
          },
          "geo": {
           "bgcolor": "white",
           "lakecolor": "white",
           "landcolor": "#E5ECF6",
           "showlakes": true,
           "showland": true,
           "subunitcolor": "white"
          },
          "hoverlabel": {
           "align": "left"
          },
          "hovermode": "closest",
          "mapbox": {
           "style": "light"
          },
          "paper_bgcolor": "white",
          "plot_bgcolor": "#E5ECF6",
          "polar": {
           "angularaxis": {
            "gridcolor": "white",
            "linecolor": "white",
            "ticks": ""
           },
           "bgcolor": "#E5ECF6",
           "radialaxis": {
            "gridcolor": "white",
            "linecolor": "white",
            "ticks": ""
           }
          },
          "scene": {
           "xaxis": {
            "backgroundcolor": "#E5ECF6",
            "gridcolor": "white",
            "gridwidth": 2,
            "linecolor": "white",
            "showbackground": true,
            "ticks": "",
            "zerolinecolor": "white"
           },
           "yaxis": {
            "backgroundcolor": "#E5ECF6",
            "gridcolor": "white",
            "gridwidth": 2,
            "linecolor": "white",
            "showbackground": true,
            "ticks": "",
            "zerolinecolor": "white"
           },
           "zaxis": {
            "backgroundcolor": "#E5ECF6",
            "gridcolor": "white",
            "gridwidth": 2,
            "linecolor": "white",
            "showbackground": true,
            "ticks": "",
            "zerolinecolor": "white"
           }
          },
          "shapedefaults": {
           "line": {
            "color": "#2a3f5f"
           }
          },
          "ternary": {
           "aaxis": {
            "gridcolor": "white",
            "linecolor": "white",
            "ticks": ""
           },
           "baxis": {
            "gridcolor": "white",
            "linecolor": "white",
            "ticks": ""
           },
           "bgcolor": "#E5ECF6",
           "caxis": {
            "gridcolor": "white",
            "linecolor": "white",
            "ticks": ""
           }
          },
          "title": {
           "x": 0.05
          },
          "xaxis": {
           "automargin": true,
           "gridcolor": "white",
           "linecolor": "white",
           "ticks": "",
           "title": {
            "standoff": 15
           },
           "zerolinecolor": "white",
           "zerolinewidth": 2
          },
          "yaxis": {
           "automargin": true,
           "gridcolor": "white",
           "linecolor": "white",
           "ticks": "",
           "title": {
            "standoff": 15
           },
           "zerolinecolor": "white",
           "zerolinewidth": 2
          }
         }
        },
        "title": {
         "text": "GameId: 2022090800, PlayId: 1385<br>4:14 2Q<br><br><br><br><br><br><br><br><br><br><br><br><br><br><br><br><br><br><br>(4:14) D.Henderson left end to BUF 7 for 18 yards (D.Jackson, T.Edmunds)."
        },
        "updatemenus": [
         {
          "buttons": [
           {
            "args": [
             null,
             {
              "frame": {
               "duration": 100,
               "redraw": false
              },
              "fromcurrent": true,
              "transition": {
               "duration": 0
              }
             }
            ],
            "label": "Play",
            "method": "animate"
           },
           {
            "args": [
             [
              null
             ],
             {
              "frame": {
               "duration": 0,
               "redraw": false
              },
              "mode": "immediate",
              "transition": {
               "duration": 0
              }
             }
            ],
            "label": "Pause",
            "method": "animate"
           }
          ],
          "direction": "left",
          "pad": {
           "r": 10,
           "t": 87
          },
          "showactive": false,
          "type": "buttons",
          "x": 0.1,
          "xanchor": "right",
          "y": 0,
          "yanchor": "top"
         }
        ],
        "width": 1200,
        "xaxis": {
         "autorange": false,
         "range": [
          0,
          120
         ],
         "showticklabels": false,
         "tickmode": "array",
         "tickvals": [
          10,
          15,
          20,
          25,
          30,
          35,
          40,
          45,
          50,
          55,
          60,
          65,
          70,
          75,
          80,
          85,
          90,
          95,
          100,
          105,
          110
         ]
        },
        "yaxis": {
         "autorange": false,
         "range": [
          0,
          53.3
         ],
         "showgrid": false,
         "showticklabels": false
        }
       }
      }
     },
     "metadata": {},
     "output_type": "display_data"
    }
   ],
   "source": [
    "animate_play(week1,plays,players,2022090800,1385).show()\n"
   ]
  }
 ],
 "metadata": {
  "kernelspec": {
   "display_name": "base",
   "language": "python",
   "name": "python3"
  },
  "language_info": {
   "codemirror_mode": {
    "name": "ipython",
    "version": 3
   },
   "file_extension": ".py",
   "mimetype": "text/x-python",
   "name": "python",
   "nbconvert_exporter": "python",
   "pygments_lexer": "ipython3",
   "version": "3.9.12"
  },
  "orig_nbformat": 4
 },
 "nbformat": 4,
 "nbformat_minor": 2
}
