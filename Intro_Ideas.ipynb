{
 "cells": [
  {
   "cell_type": "markdown",
   "id": "450910fe",
   "metadata": {},
   "source": [
    "## Proposed Ideas"
   ]
  },
  {
   "cell_type": "markdown",
   "id": "2aa8d719",
   "metadata": {},
   "source": [
    "1. Defensive player intimidation/dominance factor\n",
    "    + examine difference of intra-game offensive player performance before/after high-impact tackles\n",
    "    + possible multiplier considerations - do repeated such tackles on same offensive player have multiplicative impact on difference?\n",
    "\n",
    "<br>\n",
    "\n",
    "2. Denial of space measurement based upon field area that defensive player can cover\n",
    "    + would probably need to create/find metric or statistic to quantify area that player will cover (presumably $\\text{yrds}^{2}$)\n",
    "\n",
    "<br>\n",
    "    \n",
    "3. Something related to reinforcement learning\n",
    "\n",
    "<br>\n",
    "\n",
    "4. Defensive player presnap probability-of-making-tackle statistic\n",
    "    + use historical data to train/fit some predictive model to data\n",
    "    + the motivation behind the idea would be for the defense to incorporate this information into its alignment after the offensive players break their huddle and line up before the play.\n",
    "    + response variable = `tackle` in the `tackles.csv` file (binary: 1=player made tackle; 0=else)\n",
    "    + predictor variables = ???\n",
    "        * need to work this out further\n",
    "        * something like: (in-game timestamp, down/distance, line-of-scrimmage yard line, offensive formation, etc...)\n",
    "        "
   ]
  },
  {
   "cell_type": "markdown",
   "id": "505d9796",
   "metadata": {},
   "source": [
    "## References/Ideas"
   ]
  },
  {
   "cell_type": "markdown",
   "id": "ed88cf79",
   "metadata": {},
   "source": [
    "* For example, we might consider looking over the github repo for last years' winner, <a href=\"https://github.com/qntkhvn/strain\">STRAIN</a> (Sacks, Tackling, Rushing, Aggression INdex) to get ideas about what a good submission looks like.\n",
    "\n",
    "* <a href=\"https://www.kaggle.com/competitions/nfl-big-data-bowl-2024/discussion/446963\">Discussion post</a> on 2024 data bowl page that contains links to kaggle notebooks for 2021/2022 winners."
   ]
  },
  {
   "cell_type": "markdown",
   "id": "eb25a302",
   "metadata": {},
   "source": [
    "## Issues/Considerations"
   ]
  },
  {
   "cell_type": "markdown",
   "id": "347bcb40",
   "metadata": {},
   "source": [
    "1. Model selection / Feature Space Dimensionality Reduction\n",
    "* For example, `plays.csv` contains 35 columns. We won't need all of them. For a given model, what procedure will we use to identify the most informative feature variables to include?\n",
    "* For simp model, might do something like Principal Component Analysis or LASSO regression"
   ]
  },
  {
   "cell_type": "code",
   "execution_count": null,
   "id": "544ff9c9",
   "metadata": {},
   "outputs": [],
   "source": []
  }
 ],
 "metadata": {
  "kernelspec": {
   "display_name": "Python 3 (ipykernel)",
   "language": "python",
   "name": "python3"
  },
  "language_info": {
   "codemirror_mode": {
    "name": "ipython",
    "version": 3
   },
   "file_extension": ".py",
   "mimetype": "text/x-python",
   "name": "python",
   "nbconvert_exporter": "python",
   "pygments_lexer": "ipython3",
   "version": "3.10.12"
  }
 },
 "nbformat": 4,
 "nbformat_minor": 5
}
