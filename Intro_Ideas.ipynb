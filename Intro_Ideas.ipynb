{
 "cells": [
  {
   "cell_type": "markdown",
   "id": "52caabd9",
   "metadata": {},
   "source": [
    "## Problem Statement / Evaluation Criteria"
   ]
  },
  {
   "cell_type": "markdown",
   "id": "25d6aa84",
   "metadata": {},
   "source": [
    "This year's competition offers up a general goal — create metrics that assign value to elements of tackling.\n",
    "\n",
    "You can access the NFL’s Next Gen Stats data as in previous competitions. This year's player tracking includes data from Weeks 1-9 of the 2022 NFL season. Data will show the location, speed, and acceleration of all 22 players on the field, along with football location. Additional PFF scouting data and NFL advanced stats such as expected points and win probability are also included.\n",
    "\n",
    "Your challenge is generating actionable, practical, and novel insights from player tracking data corresponding to tackling.\n",
    "\n",
    "<b>Examples to Consider</b> <br>\n",
    "Examples include, but are not limited to:\n",
    "\n",
    "* Predictions of tackle time, probability, and/or location\n",
    "* Tackle range: angle of pursuit, speed and acceleration, closing speed\n",
    "* Player evaluation (e.g, yards saved, tackle value, missed tackles)\n",
    "* Credit assignment (e.g, one player makes a tackle because of another players, blocks shed, area of influence)\n",
    "* Tackle type (solo vs gang, open field vs in the trenches, etc)\n",
    "* Team and player roles and responsibilities (setting the edge, filling gaps, etc)\n",
    "\n",
    "\n",
    "<b>Evaluation</b> <br>\n",
    "Submission tracks\n",
    "Participants will select one of (two) tracks in which to submit.\n",
    "\n",
    "<p>1. Metric Track</p>\n",
    "<ul>\n",
    "    <li>Create a metric to assess performance and/or strategy.</li>\n",
    "    <li>You may focus on offensive or defensive players, teams, or individuals.</li>\n",
    "</ul>\n",
    "\n",
    "<p>2. Coaching Presentation Track.</p>\n",
    "<ul>\n",
    "    <li>This track aims to analyze and present data in a submission designed for coaches.</li>\n",
    "    <li>We encourage participants interested in this track to partner with a coach (or current/former player), though this isn’t required.</li>\n",
    "</ul>"
   ]
  },
  {
   "cell_type": "markdown",
   "id": "1d31050e",
   "metadata": {},
   "source": [
    "<hr>"
   ]
  },
  {
   "cell_type": "markdown",
   "id": "3855f268",
   "metadata": {},
   "source": [
    "## Proposed Ideas"
   ]
  },
  {
   "cell_type": "markdown",
   "id": "fb83633f",
   "metadata": {},
   "source": [
    "1. Defensive player intimidation/dominance factor\n",
    "    + examine difference of intra-game offensive player performance before/after high-impact tackles\n",
    "    + possible multiplier considerations - do repeated such tackles on same offensive player have multiplicative impact on difference?\n",
    "\n",
    "<br>\n",
    "\n",
    "2. Denial of space measurement based upon field area that defensive player can cover\n",
    "    + would probably need to create/find metric or statistic to quantify area that player will cover (presumably $\\text{yrds}^{2}$)\n",
    "\n",
    "<br>\n",
    "    \n",
    "3. Something related to reinforcement learning\n",
    "\n",
    "<br>\n",
    "\n",
    "4. Defensive player presnap probability-of-making-tackle statistic\n",
    "    + use historical data to train/fit some predictive model to data\n",
    "    + the motivation behind the idea would be for the defense to incorporate this information into its alignment after the offensive players break their huddle and line up before the play.\n",
    "    + response variable = `tackle` in the `tackles.csv` file (binary: 1=player made tackle; 0=else)\n",
    "    + predictor variables = ???\n",
    "        * need to work this out further\n",
    "        * something like: (in-game timestamp, down/distance, line-of-scrimmage yard line, offensive formation, etc...)\n",
    "        \n",
    "<br>\n",
    "\n",
    "5. Examine relationship between tackle type, missed tackles, and wins\n",
    "    + categorize tackle types into factor variable levels\n",
    "    + descriptive stats about tackle type levels\n",
    "    + compute prob(missed tackle | (tackle type, $\\theta$)), $\\theta = $ other params\n",
    "    + seek to understand whether a particular tackle type affects the prob of missed tackle\n",
    "    + establish relationship between prob(win) ~ count(missed tackles)\n",
    "    + investigate whether a certain tackle type/situation negatively affects the number of wins\n",
    "    + argue that this particular tackling scenario should be avoided\n",
    "        * check whether certain defensive alignments/formations are most likely to avoid these situations\n",
    "        * recommend these defensive alignments for more wins\n",
    "        \n",
    "        \n",
    "6. Entropy-based quantification of player tackling probability\n",
    "    + Compute entropy of each each player's tackles-per-game\n",
    "    $$ H\\left(p\\right) = - \\sum\\limits_{x \\in \\mathcal{X}} p\\left(x\\right) \\log\\left(p\\left(x\\right)\\right) = \\mathbb{E} \\left(-\\log p\\left$$"
   ]
  },
  {
   "cell_type": "markdown",
   "id": "13bedde5",
   "metadata": {},
   "source": [
    "## References/Ideas"
   ]
  },
  {
   "cell_type": "markdown",
   "id": "65df66ff",
   "metadata": {},
   "source": [
    "* For example, we might consider looking over the github repo for last years' winner, <a href=\"https://github.com/qntkhvn/strain\">STRAIN</a> (Sacks, Tackling, Rushing, Aggression INdex) to get ideas about what a good submission looks like.\n",
    "\n",
    "* <a href=\"https://www.kaggle.com/competitions/nfl-big-data-bowl-2024/discussion/446963\">Discussion post</a> on 2024 data bowl page that contains links to kaggle notebooks for 2021/2022 winners."
   ]
  },
  {
   "cell_type": "markdown",
   "id": "30fbefc7",
   "metadata": {},
   "source": [
    "## Issues/Considerations"
   ]
  },
  {
   "cell_type": "markdown",
   "id": "24602773",
   "metadata": {},
   "source": [
    "1. Model selection / Feature Space Dimensionality Reduction\n",
    "* For example, `plays.csv` contains 35 columns. We won't need all of them. For a given model, what procedure will we use to identify the most informative feature variables to include?\n",
    "* For simp model, might do something like Principal Component Analysis or LASSO regression"
   ]
  },
  {
   "cell_type": "code",
   "execution_count": null,
   "id": "0ad28dc2",
   "metadata": {},
   "outputs": [],
   "source": []
  }
 ],
 "metadata": {
  "kernelspec": {
   "display_name": "Python 3 (ipykernel)",
   "language": "python",
   "name": "python3"
  },
  "language_info": {
   "codemirror_mode": {
    "name": "ipython",
    "version": 3
   },
   "file_extension": ".py",
   "mimetype": "text/x-python",
   "name": "python",
   "nbconvert_exporter": "python",
   "pygments_lexer": "ipython3",
   "version": "3.10.12"
  }
 },
 "nbformat": 4,
 "nbformat_minor": 5
}
