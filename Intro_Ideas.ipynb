{
 "cells": [
  {
   "cell_type": "markdown",
   "id": "bfaf2f09",
   "metadata": {},
   "source": [
    "### Problem Statement / Evaluation Criteria"
   ]
  },
  {
   "cell_type": "markdown",
   "id": "9e7cf46f",
   "metadata": {},
   "source": [
    "This year's competition offers up a general goal — create metrics that assign value to elements of tackling. You can access the NFL’s Next Gen Stats data as in previous competitions. This year's player tracking includes data from Weeks 1-9 of the 2022 NFL season. Data will show the location, speed, and acceleration of all 22 players on the field, along with football location. Additional PFF scouting data and NFL advanced stats such as expected points and win probability are also included.\n",
    "\n",
    "Your challenge is generating actionable, practical, and novel insights from player tracking data corresponding to tackling.\n",
    "\n",
    "<b>Examples to Consider</b> <br>\n",
    "Examples include, but are not limited to:\n",
    "\n",
    "* Predictions of tackle time, probability, and/or location\n",
    "* Tackle range: angle of pursuit, speed and acceleration, closing speed\n",
    "* Player evaluation (e.g, yards saved, tackle value, missed tackles)\n",
    "* Credit assignment (e.g, one player makes a tackle because of another players, blocks shed, area of influence)\n",
    "* Tackle type (solo vs gang, open field vs in the trenches, etc)\n",
    "* Team and player roles and responsibilities (setting the edge, filling gaps, etc)\n",
    "\n",
    "\n",
    "<b>Evaluation</b> <br>\n",
    "Submission tracks\n",
    "Participants will select one of (two) tracks in which to submit.\n",
    "\n",
    "<p>1. Metric Track</p>\n",
    "<ul>\n",
    "    <li>Create a metric to assess performance and/or strategy.</li>\n",
    "    <li>You may focus on offensive or defensive players, teams, or individuals.</li>\n",
    "</ul>\n",
    "\n",
    "<p>2. Coaching Presentation Track.</p>\n",
    "<ul>\n",
    "    <li>This track aims to analyze and present data in a submission designed for coaches.</li>\n",
    "    <li>We encourage participants interested in this track to partner with a coach (or current/former player), though this isn’t required.</li>\n",
    "</ul>"
   ]
  },
  {
   "cell_type": "markdown",
   "id": "04b3d937",
   "metadata": {},
   "source": [
    "## Proposed Ideas"
   ]
  },
  {
   "cell_type": "markdown",
   "id": "b4f9b66a",
   "metadata": {},
   "source": [
    "1. Defensive player intimidation/dominance factor\n",
    "    + examine difference of intra-game offensive player performance before/after high-impact tackles\n",
    "    + possible multiplier considerations - do repeated such tackles on same offensive player have multiplicative impact on difference?\n",
    "\n",
    "<br>\n",
    "\n",
    "2. Denial of space measurement based upon field area that defensive player can cover\n",
    "    + would probably need to create/find metric or statistic to quantify area that player will cover (presumably $\\text{yrds}^{2}$)\n",
    "\n",
    "<br>\n",
    "    \n",
    "3. Something related to reinforcement learning\n",
    "\n",
    "<br>\n",
    "\n",
    "4. Defensive player presnap probability-of-making-tackle statistic\n",
    "    + use historical data to train/fit some predictive model to data\n",
    "    + the motivation behind the idea would be for the defense to incorporate this information into its alignment after the offensive players break their huddle and line up before the play.\n",
    "    + response variable = `tackle` in the `tackles.csv` file (binary: 1=player made tackle; 0=else)\n",
    "    + predictor variables = ???\n",
    "        * need to work this out further\n",
    "        * something like: (in-game timestamp, down/distance, line-of-scrimmage yard line, offensive formation, etc...)\n",
    "        "
   ]
  },
  {
   "cell_type": "markdown",
   "id": "294f15f2",
   "metadata": {},
   "source": [
    "## References/Ideas"
   ]
  },
  {
   "cell_type": "markdown",
   "id": "ee75e4a5",
   "metadata": {},
   "source": [
    "* For example, we might consider looking over the github repo for last years' winner, <a href=\"https://github.com/qntkhvn/strain\">STRAIN</a> (Sacks, Tackling, Rushing, Aggression INdex) to get ideas about what a good submission looks like.\n",
    "\n",
    "* <a href=\"https://www.kaggle.com/competitions/nfl-big-data-bowl-2024/discussion/446963\">Discussion post</a> on 2024 data bowl page that contains links to kaggle notebooks for 2021/2022 winners."
   ]
  },
  {
   "cell_type": "markdown",
   "id": "34b9069e",
   "metadata": {},
   "source": [
    "## Issues/Considerations"
   ]
  },
  {
   "cell_type": "markdown",
   "id": "987345b0",
   "metadata": {},
   "source": [
    "1. Model selection / Feature Space Dimensionality Reduction\n",
    "* For example, `plays.csv` contains 35 columns. We won't need all of them. For a given model, what procedure will we use to identify the most informative feature variables to include?\n",
    "* For simp model, might do something like Principal Component Analysis or LASSO regression"
   ]
  },
  {
   "cell_type": "code",
   "execution_count": null,
   "id": "b9c5b3ac",
   "metadata": {},
   "outputs": [],
   "source": []
  }
 ],
 "metadata": {
  "kernelspec": {
   "display_name": "Python 3 (ipykernel)",
   "language": "python",
   "name": "python3"
  },
  "language_info": {
   "codemirror_mode": {
    "name": "ipython",
    "version": 3
   },
   "file_extension": ".py",
   "mimetype": "text/x-python",
   "name": "python",
   "nbconvert_exporter": "python",
   "pygments_lexer": "ipython3",
   "version": "3.10.12"
  }
 },
 "nbformat": 4,
 "nbformat_minor": 5
}
